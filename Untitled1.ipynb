{
 "cells": [
  {
   "cell_type": "code",
   "execution_count": 24,
   "id": "f55e73fe",
   "metadata": {},
   "outputs": [],
   "source": [
    "import numpy as np\n",
    "import nibabel as nib\n",
    "import os\n",
    "import re"
   ]
  },
  {
   "cell_type": "code",
   "execution_count": 2,
   "id": "3652fed3",
   "metadata": {},
   "outputs": [],
   "source": [
    "def gather_set(data_path, phrase):\n",
    "    set_of = []\n",
    "    path = data_path + '\\\\'\n",
    "    for f in os.listdir(data_path):\n",
    "      if phrase in f:\n",
    "        set_of.append(f)\n",
    "      else:\n",
    "        continue\n",
    "    set_of = np.array(set_of)\n",
    "\n",
    "    indices = np.array(range(len(set_of))) # we will use this in the next step.\n",
    "\n",
    "    return set_of"
   ]
  },
  {
   "cell_type": "code",
   "execution_count": 4,
   "id": "ede50654",
   "metadata": {},
   "outputs": [],
   "source": [
    "data_path= r'C:\\Users\\UAB\\data\\UAB\\NII_2D'\n",
    "images = gather_set(data_path, '_K')"
   ]
  },
  {
   "cell_type": "code",
   "execution_count": 16,
   "id": "2a4b4f91",
   "metadata": {},
   "outputs": [],
   "source": [
    "id_list = []   \n",
    "unique_ids = []\n",
    "for i in range(len(images)):\n",
    "    image_name = images[i]\n",
    "    unique_id =  image_name[0:14]\n",
    "    id_list.append(unique_id)\n",
    "unique_ids = list(set(id_list))"
   ]
  },
  {
   "cell_type": "code",
   "execution_count": 18,
   "id": "1c25a599",
   "metadata": {},
   "outputs": [
    {
     "name": "stdout",
     "output_type": "stream",
     "text": [
      "52\n",
      "['419258_1_125_R', '479334_3_84_L_', '407132_3_75_R_', '479334_0_186_L', '464923_2_78_L_', '479334_2_84_L_', '456283_3_84_L_', '492327_1_125_R', '407132_1_69_R_', '479334_0_186_R', '456283_1_90_L_', '439240_0_100_R', '439240_3_95_L_', '456283_2_84_R_', '492327_2_140_L', '464923_1_78_L_', '439240_3_95_R_', '492327_0_110_L', '419258_0_108_R', '419258_3_129_R', '439240_2_95_R_', '456283_1_90_R_', '439240_0_100_L', '492327_3_140_R', '456283_2_84_L_', '492327_1_125_L', '419258_2_135_L', '407132_3_75_L_', '419258_2_135_R', '439240_2_95_L_', '456283_0_96_R_', '479334_3_84_R_', '492327_2_140_R', '464923_3_88_L_', '479334_1_93_R_', '456283_3_84_R_', '419258_0_108_L', '407132_0_95_R_', '419258_1_125_L', '479334_1_93_L_', '419258_3_129_L', '492327_3_140_L', '407132_2_95_R_', '456283_0_96_L_', '407132_1_69_L_', '492327_0_110_R', '407132_2_95_L_', '439240_1_105_R', '479334_2_84_R_', '464923_0_78_L_', '439240_1_105_L', '407132_0_95_L_']\n"
     ]
    }
   ],
   "source": [
    "print(len(unique_ids))\n",
    "print(unique_ids)"
   ]
  },
  {
   "cell_type": "code",
   "execution_count": 19,
   "id": "636fde63",
   "metadata": {},
   "outputs": [],
   "source": [
    "for i in range(len(unique_ids)):\n",
    "    name = unique_ids[i]\n",
    "    if not name.endswith('_'):\n",
    "        name = name+'_'\n",
    "        unique_ids[i]=name"
   ]
  },
  {
   "cell_type": "code",
   "execution_count": 20,
   "id": "16247a14",
   "metadata": {},
   "outputs": [
    {
     "name": "stdout",
     "output_type": "stream",
     "text": [
      "['419258_1_125_R_', '479334_3_84_L_', '407132_3_75_R_', '479334_0_186_L_', '464923_2_78_L_', '479334_2_84_L_', '456283_3_84_L_', '492327_1_125_R_', '407132_1_69_R_', '479334_0_186_R_', '456283_1_90_L_', '439240_0_100_R_', '439240_3_95_L_', '456283_2_84_R_', '492327_2_140_L_', '464923_1_78_L_', '439240_3_95_R_', '492327_0_110_L_', '419258_0_108_R_', '419258_3_129_R_', '439240_2_95_R_', '456283_1_90_R_', '439240_0_100_L_', '492327_3_140_R_', '456283_2_84_L_', '492327_1_125_L_', '419258_2_135_L_', '407132_3_75_L_', '419258_2_135_R_', '439240_2_95_L_', '456283_0_96_R_', '479334_3_84_R_', '492327_2_140_R_', '464923_3_88_L_', '479334_1_93_R_', '456283_3_84_R_', '419258_0_108_L_', '407132_0_95_R_', '419258_1_125_L_', '479334_1_93_L_', '419258_3_129_L_', '492327_3_140_L_', '407132_2_95_R_', '456283_0_96_L_', '407132_1_69_L_', '492327_0_110_R_', '407132_2_95_L_', '439240_1_105_R_', '479334_2_84_R_', '464923_0_78_L_', '439240_1_105_L_', '407132_0_95_L_']\n"
     ]
    }
   ],
   "source": [
    "print(unique_ids)"
   ]
  },
  {
   "cell_type": "code",
   "execution_count": 22,
   "id": "8ac9d594",
   "metadata": {},
   "outputs": [],
   "source": [
    "final_path = r'C:\\Users\\UAB\\data\\UAB\\NII_MissingK\\kidnies'"
   ]
  },
  {
   "cell_type": "code",
   "execution_count": 27,
   "id": "24645d03",
   "metadata": {},
   "outputs": [
    {
     "ename": "ValueError",
     "evalue": "setting an array element with a sequence.",
     "output_type": "error",
     "traceback": [
      "\u001b[1;31m---------------------------------------------------------------------------\u001b[0m",
      "\u001b[1;31mTypeError\u001b[0m                                 Traceback (most recent call last)",
      "\u001b[1;31mTypeError\u001b[0m: float() argument must be a string or a number, not 'Nifti1Image'",
      "\nThe above exception was the direct cause of the following exception:\n",
      "\u001b[1;31mValueError\u001b[0m                                Traceback (most recent call last)",
      "\u001b[1;32m<ipython-input-27-ff4ac3969bed>\u001b[0m in \u001b[0;36m<module>\u001b[1;34m\u001b[0m\n\u001b[0;32m      7\u001b[0m         \u001b[0mimage\u001b[0m \u001b[1;33m=\u001b[0m \u001b[0mnib\u001b[0m\u001b[1;33m.\u001b[0m\u001b[0mload\u001b[0m\u001b[1;33m(\u001b[0m\u001b[0mdata_path\u001b[0m \u001b[1;33m+\u001b[0m \u001b[1;34m'\\\\'\u001b[0m \u001b[1;33m+\u001b[0m \u001b[0mimg_name\u001b[0m\u001b[1;33m)\u001b[0m\u001b[1;33m\u001b[0m\u001b[1;33m\u001b[0m\u001b[0m\n\u001b[0;32m      8\u001b[0m         \u001b[0mimg_slice\u001b[0m \u001b[1;33m=\u001b[0m \u001b[0mimage\u001b[0m\u001b[1;33m\u001b[0m\u001b[1;33m\u001b[0m\u001b[0m\n\u001b[1;32m----> 9\u001b[1;33m         \u001b[0mtensor\u001b[0m\u001b[1;33m[\u001b[0m\u001b[1;33m:\u001b[0m\u001b[1;33m,\u001b[0m\u001b[1;33m:\u001b[0m\u001b[1;33m,\u001b[0m\u001b[0mx\u001b[0m\u001b[1;33m]\u001b[0m \u001b[1;33m=\u001b[0m \u001b[0mimg_slice\u001b[0m\u001b[1;33m\u001b[0m\u001b[1;33m\u001b[0m\u001b[0m\n\u001b[0m\u001b[0;32m     10\u001b[0m         \u001b[0mx\u001b[0m \u001b[1;33m=\u001b[0m \u001b[0mx\u001b[0m\u001b[1;33m+\u001b[0m\u001b[1;36m1\u001b[0m\u001b[1;33m\u001b[0m\u001b[1;33m\u001b[0m\u001b[0m\n\u001b[0;32m     11\u001b[0m     \u001b[0mnew_fname\u001b[0m \u001b[1;33m=\u001b[0m \u001b[0munique_ids\u001b[0m\u001b[1;33m[\u001b[0m\u001b[0mi\u001b[0m\u001b[1;33m]\u001b[0m\u001b[1;33m+\u001b[0m\u001b[1;34m'K.nii'\u001b[0m\u001b[1;33m\u001b[0m\u001b[1;33m\u001b[0m\u001b[0m\n",
      "\u001b[1;31mValueError\u001b[0m: setting an array element with a sequence."
     ]
    }
   ],
   "source": [
    "for i in range(len(unique_ids)):\n",
    "    pt_info = unique_ids[i]\n",
    "    pt_num, yr_num, num_slices = re.findall(r'\\d+', pt_info)\n",
    "    tensor = np.zeros((512,512,int(num_slices)))\n",
    "    for x in range(int(num_slices)):\n",
    "        img_name = unique_ids[i]+str(x)+'_K.nii'\n",
    "        image = nib.load(data_path + '\\\\' + img_name)\n",
    "        img_slice = image\n",
    "        tensor[:,:,x] = img_slice\n",
    "        x = x+1\n",
    "    new_fname = unique_ids[i]+'K.nii'\n",
    "    affine = np.eye(4)\n",
    "    nifti_file = nib.Nifti1Image(tensor, affine)\n",
    "    nib.save(nifti_file, os.path.join(final_path, \"%s\" %new_fname))"
   ]
  },
  {
   "cell_type": "code",
   "execution_count": null,
   "id": "928be6c5",
   "metadata": {},
   "outputs": [],
   "source": []
  }
 ],
 "metadata": {
  "kernelspec": {
   "display_name": "TF23",
   "language": "python",
   "name": "tf23"
  },
  "language_info": {
   "codemirror_mode": {
    "name": "ipython",
    "version": 3
   },
   "file_extension": ".py",
   "mimetype": "text/x-python",
   "name": "python",
   "nbconvert_exporter": "python",
   "pygments_lexer": "ipython3",
   "version": "3.8.5"
  }
 },
 "nbformat": 4,
 "nbformat_minor": 5
}
