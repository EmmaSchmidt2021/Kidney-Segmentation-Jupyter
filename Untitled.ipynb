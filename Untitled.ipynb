{
 "cells": [
  {
   "cell_type": "code",
   "execution_count": 8,
   "id": "ac68adfa",
   "metadata": {},
   "outputs": [],
   "source": [
    "import numpy as np\n",
    "import os"
   ]
  },
  {
   "cell_type": "code",
   "execution_count": 11,
   "id": "807ea683",
   "metadata": {},
   "outputs": [],
   "source": [
    "def gather_set(data_path, phrase):\n",
    "    set_of = []\n",
    "    path = data_path + '\\\\'\n",
    "    for f in os.listdir(data_path):\n",
    "      if phrase in f:\n",
    "        set_of.append(f)\n",
    "      else:\n",
    "        continue\n",
    "    #set_of = np.array(set_of)\n",
    "\n",
    "    indices = np.array(range(len(set_of))) # we will use this in the next step.\n",
    "\n",
    "    return set_of"
   ]
  },
  {
   "cell_type": "code",
   "execution_count": 15,
   "id": "1925a8ac",
   "metadata": {},
   "outputs": [],
   "source": [
    "path = r\"C:\\Users\\UAB\\data\\UAB\\data\"\n",
    "\n",
    "files = gather_set(path, '.npy')"
   ]
  },
  {
   "cell_type": "code",
   "execution_count": 16,
   "id": "5ea2b87f",
   "metadata": {},
   "outputs": [],
   "source": [
    "\n",
    "i = 0\n",
    "for filename in os.listdir(path):\n",
    "    os.rename(os.path.join(path,filename), os.path.join(path,'UB_'+files[i]))\n",
    "    i =i+1"
   ]
  },
  {
   "cell_type": "code",
   "execution_count": 6,
   "id": "15699bda",
   "metadata": {},
   "outputs": [
    {
     "name": "stdout",
     "output_type": "stream",
     "text": [
      "C:\\Users\\UAB\\data\\UAB\\data\\407132_0_95_L_0_K.npy UB_C:\\Users\\UAB\\data\\UAB\\data\\407132_0_95_L_0_K.npy\n"
     ]
    }
   ],
   "source": [
    "name = files[0]\n",
    "new_name = 'UB_' + name\n",
    "print(name, new_name)"
   ]
  },
  {
   "cell_type": "code",
   "execution_count": null,
   "id": "5bcd72fd",
   "metadata": {},
   "outputs": [],
   "source": [
    "for i in range(len(files)):\n",
    "    name = files[i]\n",
    "    new_name = 'UB_' + name\n",
    "    np.rename(name, )"
   ]
  }
 ],
 "metadata": {
  "kernelspec": {
   "display_name": "TF23",
   "language": "python",
   "name": "tf23"
  },
  "language_info": {
   "codemirror_mode": {
    "name": "ipython",
    "version": 3
   },
   "file_extension": ".py",
   "mimetype": "text/x-python",
   "name": "python",
   "nbconvert_exporter": "python",
   "pygments_lexer": "ipython3",
   "version": "3.8.5"
  }
 },
 "nbformat": 4,
 "nbformat_minor": 5
}
