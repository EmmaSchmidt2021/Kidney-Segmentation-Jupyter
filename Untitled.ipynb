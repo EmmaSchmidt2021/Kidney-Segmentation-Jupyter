{
 "cells": [
  {
   "cell_type": "code",
   "execution_count": 1,
   "id": "ac68adfa",
   "metadata": {},
   "outputs": [],
   "source": [
    "import numpy as np\n",
    "import os"
   ]
  },
  {
   "cell_type": "code",
   "execution_count": 2,
   "id": "807ea683",
   "metadata": {},
   "outputs": [],
   "source": [
    "def gather_set(data_path, phrase):\n",
    "    set_of = []\n",
    "    path = data_path + '\\\\'\n",
    "    for f in os.listdir(data_path):\n",
    "      if phrase in f:\n",
    "        set_of.append(f)\n",
    "      else:\n",
    "        continue\n",
    "    #set_of = np.array(set_of)\n",
    "\n",
    "    indices = np.array(range(len(set_of))) # we will use this in the next step.\n",
    "\n",
    "    return set_of"
   ]
  },
  {
   "cell_type": "code",
   "execution_count": 26,
   "id": "1925a8ac",
   "metadata": {},
   "outputs": [],
   "source": [
    "path = r\"C:\\Users\\UAB\\data\\KU\\re-do\"\n",
    "\n",
    "files = gather_set(path, '.npy')"
   ]
  },
  {
   "cell_type": "code",
   "execution_count": 27,
   "id": "a32119fa",
   "metadata": {},
   "outputs": [
    {
     "name": "stdout",
     "output_type": "stream",
     "text": [
      "388\n"
     ]
    }
   ],
   "source": [
    "print(len(files))"
   ]
  },
  {
   "cell_type": "code",
   "execution_count": 28,
   "id": "15699bda",
   "metadata": {},
   "outputs": [
    {
     "name": "stdout",
     "output_type": "stream",
     "text": [
      "101934_0_96_L_0_K.npy KU_101934_0_96_L_0_K.npy\n"
     ]
    }
   ],
   "source": [
    "name = files[0]\n",
    "new_name = 'KU_' + name\n",
    "print(name, new_name)"
   ]
  },
  {
   "cell_type": "code",
   "execution_count": 29,
   "id": "5bcd72fd",
   "metadata": {},
   "outputs": [],
   "source": [
    "for i in range(len(files)):\n",
    "    name = files[i]\n",
    "    if not name.startswith('KU_'): \n",
    "        new_name = 'KU_' + name\n",
    "        os.rename(os.path.join(path, name), os.path.join(path, new_name))"
   ]
  },
  {
   "cell_type": "code",
   "execution_count": null,
   "id": "aff260df",
   "metadata": {},
   "outputs": [],
   "source": []
  }
 ],
 "metadata": {
  "kernelspec": {
   "display_name": "TF23",
   "language": "python",
   "name": "tf23"
  },
  "language_info": {
   "codemirror_mode": {
    "name": "ipython",
    "version": 3
   },
   "file_extension": ".py",
   "mimetype": "text/x-python",
   "name": "python",
   "nbconvert_exporter": "python",
   "pygments_lexer": "ipython3",
   "version": "3.8.5"
  }
 },
 "nbformat": 4,
 "nbformat_minor": 5
}
