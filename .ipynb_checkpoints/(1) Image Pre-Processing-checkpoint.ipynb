{
 "cells": [
  {
   "cell_type": "markdown",
   "id": "d068d387",
   "metadata": {},
   "source": [
    "# This code is meant to take the ImageJ raw files and convert them to .nii files\n",
    "## It will walk you through opening the files, zero padding them, renaming, and saving\n"
   ]
  },
  {
   "cell_type": "markdown",
   "id": "c676108c",
   "metadata": {},
   "source": [
    "### First import libraries\n",
    " For those new to Jupyter Notebook, use shift + enter to run the cell or the play button in the toolbar above\n"
   ]
  },
  {
   "cell_type": "code",
   "execution_count": 1,
   "id": "ca701563",
   "metadata": {},
   "outputs": [
    {
     "name": "stdout",
     "output_type": "stream",
     "text": [
      "-----------------------------------------\n",
      "keras-unet init: TF version is >= 2.0.0 - using `tf.keras` instead of `Keras`\n",
      "-----------------------------------------\n"
     ]
    }
   ],
   "source": [
    "import os\n",
    "import numpy as np\n",
    "import nibabel as nib\n",
    "import tensorflow as tf\n",
    "import matplotlib.pyplot as plt\n",
    "from skimage import measure\n",
    "from skimage.transform import resize\n",
    "from keras_unet.metrics import dice_coef\n",
    "from keras_unet.models import custom_unet\n",
    "from keras_unet.losses import jaccard_distance\n",
    "from sklearn.model_selection import train_test_split\n",
    "from PIL import Image\n",
    "from PIL import ImageOps\n",
    "import fnmatch\n",
    "import nibabel as nib\n",
    "import shutil"
   ]
  },
  {
   "cell_type": "markdown",
   "id": "4e6959f6",
   "metadata": {},
   "source": [
    "Here we are pre-defining some functions to use later"
   ]
  },
  {
   "cell_type": "code",
   "execution_count": 2,
   "id": "6c332f4b",
   "metadata": {},
   "outputs": [],
   "source": [
    "# figure out difference that needs to be made up in rows/columns\n",
    "def padding(img, expected_size):\n",
    "    desired_size = expected_size\n",
    "    delta_width = desired_size - img.size[0]\n",
    "    delta_height = desired_size - img.size[1]\n",
    "    pad_width = delta_width // 2\n",
    "    pad_height = delta_height // 2\n",
    "    padding = (pad_width, pad_height, delta_width - pad_width, delta_height - pad_height)\n",
    "    return ImageOps.expand(img, padding)\n",
    "\n",
    "#after calculating the padding, add in the padding to rows and columns to meet new expected size\n",
    "def resize_with_padding(img, expected_size):\n",
    "    img.thumbnail((expected_size[0], expected_size[1]))\n",
    "    # print(img.size)\n",
    "    delta_width = expected_size[0] - img.size[0]\n",
    "    delta_height = expected_size[1] - img.size[1]\n",
    "    pad_width = delta_width // 2\n",
    "    pad_height = delta_height // 2\n",
    "    padding = (pad_width, pad_height, delta_width - pad_width, delta_height - pad_height)\n",
    "    return ImageOps.expand(img, padding)"
   ]
  },
  {
   "cell_type": "code",
   "execution_count": 3,
   "id": "950cef0c",
   "metadata": {},
   "outputs": [],
   "source": [
    "def gather_by_name(orignal_path, new_path, phrase):\n",
    "    n=0\n",
    "    file_list=[]\n",
    "    for root, dirs, files in os.walk(os.path.normpath(original_path), topdown=True):\n",
    "        for name in files:\n",
    "            if phrase in name:\n",
    "                file_list.append(os.path.join(root,name))                \n",
    "                \n",
    "    for j in range(len(file_list)):\n",
    "        filename = file_list[j]\n",
    "        shutil.copy(filename, new_path)\n",
    "\n",
    "   \n",
    "\n",
    "    print('copied and moved '+ str(len(file_list))+' files')"
   ]
  },
  {
   "cell_type": "code",
   "execution_count": 4,
   "id": "f6bc8eb3",
   "metadata": {},
   "outputs": [],
   "source": [
    "def gather_filenames(path):\n",
    "    raw_path = path\n",
    "    patient_folders = []\n",
    "    pt_fnames = []\n",
    "\n",
    "    import os\n",
    "    for root, dirs, files in os.walk(os.path.normpath(raw_path), topdown=True):\n",
    "        for name in files:\n",
    "            #print(os.path.join(root, name))\n",
    "            pt_fnames.append(os.path.join(root, name))\n",
    "    print('\\nPatient Folders have been identified\\n')\n",
    "    #sort through and get only the files with ROI in them\n",
    "    #this eliminates the tiff and 3D files \n",
    "    #%%\n",
    "    ROI_list = []\n",
    "    for j in range(len(pt_fnames)):\n",
    "        ROI_name = 'ROI'\n",
    "        filename = os.path.basename(pt_fnames[j])\n",
    "        if ROI_name in filename:\n",
    "            ROI_list.append(pt_fnames[j])\n",
    "    print('\\nFilenames have been found and added\\n')\n",
    "    print('copied and moved '+ str(len(ROI_list))+' files')\n",
    "    \n",
    "    return ROI_list"
   ]
  },
  {
   "cell_type": "code",
   "execution_count": 46,
   "id": "f3be0fa2",
   "metadata": {},
   "outputs": [],
   "source": [
    "def convert_NPY_NII(ROI_list):\n",
    "    #new_size= new_size\n",
    "    print('Converting', str(len(ROI_list)), 'files')\n",
    "    for i in range(len(ROI_list)): # loop through all the available files from the list that had our keyword\n",
    "        orig_fname = os.path.basename(ROI_list[i])# grab the ith filename in the list\n",
    "        print(orig_fname)\n",
    "        #extract information from the filename\n",
    "        num_slice = int(orig_fname[-2:])\n",
    "        #print(num_slice)\n",
    "        if num_slice < 15:\n",
    "            #print('over 99')\n",
    "            num_slice = int(orig_fname[-2:])\n",
    "            num_width = int((orig_fname[-6:-3]))\n",
    "            #print(num_width)\n",
    "            num_height = int((orig_fname[-10:-7]))\n",
    "            #print(num_height)\n",
    "        elif num_slice < 50:\n",
    "            #print('over 99')\n",
    "            num_slice = int(orig_fname[-3:])\n",
    "            num_width = int((orig_fname[-8:-4]))\n",
    "            #print(num_width)\n",
    "            num_height = int((orig_fname[-12:-8]))\n",
    "            #print(num_height)\n",
    "        else:\n",
    "            #print('less than 99')\n",
    "            num_width = int((orig_fname[-7:-3]))\n",
    "            #print(num_width)\n",
    "            num_height = int((orig_fname[-11:-7]))\n",
    "            #print(num_height)\n",
    "        pt_numb =(orig_fname[0:6])\n",
    "        yr_numb = (orig_fname[8])\n",
    "        if 'Cyst' in orig_fname:\n",
    "            img_type = 'C'\n",
    "        elif 'Kidney' in orig_fname:\n",
    "            img_type = 'M_K'\n",
    "        elif 'Image' in orig_fname:\n",
    "            img_type = 'M'\n",
    "        if 'Right' in orig_fname:\n",
    "            side = 'R'\n",
    "        elif 'Left' in orig_fname:\n",
    "            side = 'L'\n",
    "        call_file = str(ROI_list[i]) #define our filename with path to open (working_path+'/'+orig_fname)\n",
    "        resized = np.zeros((num_slice,new_size,new_size), dtype ='uint8')\n",
    "        transposed = np.zeros((new_size, new_size, num_slice), dtype='uint8')\n",
    "        with open(r'%s' %call_file, 'rb') as file: #read in raw uint8 and resize correctly\n",
    "             data = np.fromfile(file, dtype = 'uint8').reshape(num_slice,num_width,num_height)\n",
    "             for j in range(num_slice):\n",
    "                 orig_slice = data[j]\n",
    "                 re_slice = Image.fromarray(orig_slice)\n",
    "                 resized[j] = resize_with_padding(re_slice, (new_size, new_size))\n",
    "             for i in range(resized.shape[0]):\n",
    "                 old_slice = resized[i,:,:]\n",
    "                 transposed[:,:,i] = old_slice\n",
    "\n",
    "                 # now we need to rename this resized array and save it as a .npy\n",
    "        #new_fname = str('%s' %orig_fname + '_RESIZED_') #keep the original name for now \n",
    "        new_fname = str(pt_numb +'_'+ yr_numb +'_'+ str(num_slice) +'_'+ side + '_' +  img_type )\n",
    "        file_name = \"%s\" %new_fname # add our extension\n",
    "        np.save(os.path.join(new_path, file_name), transposed) # save in the new file folder\n",
    "        converted_array = np.array(transposed, dtype=np.float32)\n",
    "        affine = np.eye(4)\n",
    "        nifti_file = nib.Nifti1Image(converted_array, affine)\n",
    "        nib.save(nifti_file, os.path.join(final_path, \"%s\" %new_fname))\n",
    "\n",
    "\n",
    "    print(\"complete --- nice job\")"
   ]
  },
  {
   "cell_type": "markdown",
   "id": "40a8c7fd",
   "metadata": {},
   "source": [
    "## FilePath Input\n",
    "Fill in the filepaths for the raw data, the new path to store the npy files, and the final path for the images and annotations \n",
    "Make sure to fill out the new sizing as the complete size with zero padding"
   ]
  },
  {
   "cell_type": "code",
   "execution_count": 47,
   "id": "c6bfc69b",
   "metadata": {},
   "outputs": [],
   "source": [
    "raw_path = r'C:\\Users\\UAB\\data\\UAB'\n",
    "new_path = r'C:\\Users\\UAB\\data\\UAB\\AllNPY\\\\'\n",
    "final_path = r'C:\\Users\\UAB\\data\\UAB\\AllNIIimages'\n",
    "cyst_path = r'C:\\Users\\UAB\\data\\UAB\\CystNII'\n",
    "new_size = 512"
   ]
  },
  {
   "cell_type": "code",
   "execution_count": 48,
   "id": "d78f67ab",
   "metadata": {},
   "outputs": [],
   "source": [
    "#remove .tif files"
   ]
  },
  {
   "cell_type": "code",
   "execution_count": 49,
   "id": "91e0e233",
   "metadata": {},
   "outputs": [
    {
     "name": "stdout",
     "output_type": "stream",
     "text": [
      "\n",
      "Patient Folders have been identified\n",
      "\n",
      "\n",
      "Filenames have been found and added\n",
      "\n",
      "copied and moved 96 files\n"
     ]
    }
   ],
   "source": [
    "this_list = gather_filenames(raw_path)"
   ]
  },
  {
   "cell_type": "code",
   "execution_count": 50,
   "id": "87b8c414",
   "metadata": {},
   "outputs": [
    {
     "name": "stdout",
     "output_type": "stream",
     "text": [
      "200\n"
     ]
    }
   ],
   "source": [
    "orig_fname = this_list[2]\n",
    "num_slice = int(orig_fname[-2:])\n",
    "num_width = int((orig_fname[-6:-3]))\n",
    "            #print(num_width)\n",
    "num_height = int((orig_fname[-10:-7]))\n",
    "\n",
    "print(num_height)"
   ]
  },
  {
   "cell_type": "code",
   "execution_count": 51,
   "id": "a295cd97",
   "metadata": {
    "scrolled": true
   },
   "outputs": [
    {
     "name": "stdout",
     "output_type": "stream",
     "text": [
      "96\n"
     ]
    }
   ],
   "source": [
    "print(len(this_list))"
   ]
  },
  {
   "cell_type": "code",
   "execution_count": 52,
   "id": "1398627b",
   "metadata": {
    "scrolled": true
   },
   "outputs": [
    {
     "name": "stdout",
     "output_type": "stream",
     "text": [
      "Converting 96 files\n",
      "407132 y0 Cyst ROI Left 8bit 200 200 10\n",
      "407132 y0 Cyst ROI Right 8bit 200 200 10\n",
      "407132 y0 Image ROI Left 8bit 200 200 10\n",
      "407132 y0 Image ROI Right 8bit 200 200 10\n",
      "407132 y0 Kidney ROI Left 8bit 200 200 10\n",
      "407132 y0 Kidney ROI Right 8bit 200 200 10\n",
      "407132 y1 Cyst ROI Left 8bit  200 200 10\n",
      "407132 y1 Cyst ROI Right 8bit  200 200 10\n",
      "407132 y1 Image ROI Left 8bit  200 200 10\n",
      "407132 y1 Image ROI Right 8bit  200 200 10\n",
      "407132 y1 Kidney ROI Left 8bit  200 200 10\n",
      "407132 y1 Kidney ROI Right 8bit  200 200 10\n",
      "407132 y2 Cyst ROI Left 8bit  200 200 10\n",
      "407132 y2 Cyst ROI Right 8bit  200 200 10\n",
      "407132 y2 Image ROI Left 8bit  200 200 10\n",
      "407132 y2 Image ROI Right 8bit  200 200 10\n",
      "407132 y2 Kidney ROI Left 8bit  200 200 10\n",
      "407132 y2 Kidney ROI Right 8bit  200 200 10\n",
      "407132 y3 Cyst ROI Left 8bit  200 200 10\n",
      "407132 y3 Cyst ROI Right 8bit  200 200 10\n",
      "407132 y3 Image ROI Left 8bit  200 200 10\n",
      "407132 y3 Image ROI Right 8bit  200 200 10\n",
      "407132 y3 Kidney ROI Left 8bit  200 200 10\n",
      "407132 y3 Kidney ROI Right 8bit  200 200 10\n",
      "419258 y0 Cyst ROI Left 8bit 240 240 11\n",
      "419258 y0 Cyst ROI Right 8bit 250 250 10\n",
      "419258 y0 Image ROI Left 8bit 240 240 11\n",
      "419258 y0 Image ROI Right 8bit 250 250 10\n",
      "419258 y0 Kidney ROI Left 8bit 240 240 11\n",
      "419258 y0 Kidney ROI Right 8bit 250 250 10\n",
      "419258 y1 Cyst ROI Left 8bit 240 240 12\n",
      "419258 y1 Cyst ROI Right 8bit 250 250 12\n",
      "419258 y1 Image ROI Left 8bit 240 240 12\n",
      "419258 y1 Image ROI Right 8bit 250 250 12\n",
      "419258 y1 Kidney ROI Left 8bit 240 240 12\n",
      "419258 y1 Kidney ROI Right 8bit 250 250 12\n",
      "419258 y2 Cyst ROI Left 8bit 240 240 11\n",
      "419258 y2 Cyst ROI Right 8bit 250 250 11\n",
      "419258 y2 Image ROI Left 8bit 240 240 11\n",
      "419258 y2 Image ROI Right 8bit 250 250 11\n",
      "419258 y2 Kidney ROI Left 8bit 240 240 11\n",
      "419258 y2 Kidney ROI Right 8bit 250 250 11\n",
      "419258 y3 Cyst ROI Left 8bit 240 240 12\n",
      "419258 y3 Cyst ROI Right 8bit 250 250 13\n",
      "419258 y3 Image ROI Left 8bit 240 240 12\n",
      "419258 y3 Image ROI Right 8bit 250 250 13\n",
      "419258 y3 Kidney ROI Left 8bit 240 240 12\n",
      "419258 y3 Kidney ROI Right 8bit 250 250 13\n",
      "456283 y0 Cyst ROI Left 8bit 200 200 9\n"
     ]
    },
    {
     "ename": "ValueError",
     "evalue": "cannot reshape array of size 360000 into shape (9,20,20)",
     "output_type": "error",
     "traceback": [
      "\u001b[1;31m---------------------------------------------------------------------------\u001b[0m",
      "\u001b[1;31mValueError\u001b[0m                                Traceback (most recent call last)",
      "\u001b[1;32m<ipython-input-52-96dec67ee3d8>\u001b[0m in \u001b[0;36m<module>\u001b[1;34m\u001b[0m\n\u001b[1;32m----> 1\u001b[1;33m \u001b[0mconvert_NPY_NII\u001b[0m\u001b[1;33m(\u001b[0m\u001b[0mthis_list\u001b[0m\u001b[1;33m)\u001b[0m\u001b[1;33m\u001b[0m\u001b[1;33m\u001b[0m\u001b[0m\n\u001b[0m",
      "\u001b[1;32m<ipython-input-46-deac849b8bd4>\u001b[0m in \u001b[0;36mconvert_NPY_NII\u001b[1;34m(ROI_list)\u001b[0m\n\u001b[0;32m     44\u001b[0m         \u001b[0mtransposed\u001b[0m \u001b[1;33m=\u001b[0m \u001b[0mnp\u001b[0m\u001b[1;33m.\u001b[0m\u001b[0mzeros\u001b[0m\u001b[1;33m(\u001b[0m\u001b[1;33m(\u001b[0m\u001b[0mnew_size\u001b[0m\u001b[1;33m,\u001b[0m \u001b[0mnew_size\u001b[0m\u001b[1;33m,\u001b[0m \u001b[0mnum_slice\u001b[0m\u001b[1;33m)\u001b[0m\u001b[1;33m,\u001b[0m \u001b[0mdtype\u001b[0m\u001b[1;33m=\u001b[0m\u001b[1;34m'uint8'\u001b[0m\u001b[1;33m)\u001b[0m\u001b[1;33m\u001b[0m\u001b[1;33m\u001b[0m\u001b[0m\n\u001b[0;32m     45\u001b[0m         \u001b[1;32mwith\u001b[0m \u001b[0mopen\u001b[0m\u001b[1;33m(\u001b[0m\u001b[1;34mr'%s'\u001b[0m \u001b[1;33m%\u001b[0m\u001b[0mcall_file\u001b[0m\u001b[1;33m,\u001b[0m \u001b[1;34m'rb'\u001b[0m\u001b[1;33m)\u001b[0m \u001b[1;32mas\u001b[0m \u001b[0mfile\u001b[0m\u001b[1;33m:\u001b[0m \u001b[1;31m#read in raw uint8 and resize correctly\u001b[0m\u001b[1;33m\u001b[0m\u001b[1;33m\u001b[0m\u001b[0m\n\u001b[1;32m---> 46\u001b[1;33m              \u001b[0mdata\u001b[0m \u001b[1;33m=\u001b[0m \u001b[0mnp\u001b[0m\u001b[1;33m.\u001b[0m\u001b[0mfromfile\u001b[0m\u001b[1;33m(\u001b[0m\u001b[0mfile\u001b[0m\u001b[1;33m,\u001b[0m \u001b[0mdtype\u001b[0m \u001b[1;33m=\u001b[0m \u001b[1;34m'uint8'\u001b[0m\u001b[1;33m)\u001b[0m\u001b[1;33m.\u001b[0m\u001b[0mreshape\u001b[0m\u001b[1;33m(\u001b[0m\u001b[0mnum_slice\u001b[0m\u001b[1;33m,\u001b[0m\u001b[0mnum_width\u001b[0m\u001b[1;33m,\u001b[0m\u001b[0mnum_height\u001b[0m\u001b[1;33m)\u001b[0m\u001b[1;33m\u001b[0m\u001b[1;33m\u001b[0m\u001b[0m\n\u001b[0m\u001b[0;32m     47\u001b[0m              \u001b[1;32mfor\u001b[0m \u001b[0mj\u001b[0m \u001b[1;32min\u001b[0m \u001b[0mrange\u001b[0m\u001b[1;33m(\u001b[0m\u001b[0mnum_slice\u001b[0m\u001b[1;33m)\u001b[0m\u001b[1;33m:\u001b[0m\u001b[1;33m\u001b[0m\u001b[1;33m\u001b[0m\u001b[0m\n\u001b[0;32m     48\u001b[0m                  \u001b[0morig_slice\u001b[0m \u001b[1;33m=\u001b[0m \u001b[0mdata\u001b[0m\u001b[1;33m[\u001b[0m\u001b[0mj\u001b[0m\u001b[1;33m]\u001b[0m\u001b[1;33m\u001b[0m\u001b[1;33m\u001b[0m\u001b[0m\n",
      "\u001b[1;31mValueError\u001b[0m: cannot reshape array of size 360000 into shape (9,20,20)"
     ]
    }
   ],
   "source": [
    "convert_NPY_NII(this_list)"
   ]
  },
  {
   "cell_type": "markdown",
   "id": "6c9885a3",
   "metadata": {},
   "source": [
    "## There are two exceptions to the above code- Pt 136055 and Pt 170121\n",
    "Deal with these manually to utalize the full set\n"
   ]
  },
  {
   "cell_type": "code",
   "execution_count": 13,
   "id": "8aef3cba",
   "metadata": {},
   "outputs": [
    {
     "name": "stdout",
     "output_type": "stream",
     "text": [
      "\n",
      "Patient Folders have been identified \n",
      "\n",
      "\n",
      "Filenames have been found and added\n",
      "\n"
     ]
    }
   ],
   "source": [
    "Problem_path = r'C:\\Users\\UAB\\data\\Problems'\n",
    "pt_fnames=[]\n",
    "ROI_list = []\n",
    "import os\n",
    "for root, dirs, files in os.walk(os.path.normpath(Problem_path), topdown=True):\n",
    "    for name in files:\n",
    "        #print(os.path.join(root, name))\n",
    "        pt_fnames.append(os.path.join(root, name))\n",
    "print('\\nPatient Folders have been identified \\n')\n",
    "#sort through and get only the files with ROI in them\n",
    "#this eliminates the tiff and 3D files \n",
    "#%%\n",
    "ROI_list = []\n",
    "for j in range(len(pt_fnames)):\n",
    "    ROI_name = 'ROI'\n",
    "    filename = os.path.basename(pt_fnames[j])\n",
    "    if ROI_name in filename:\n",
    "        ROI_list.append(pt_fnames[j])\n",
    "print('\\nFilenames have been found and added\\n')"
   ]
  },
  {
   "cell_type": "code",
   "execution_count": 14,
   "id": "4090c8e3",
   "metadata": {},
   "outputs": [
    {
     "name": "stdout",
     "output_type": "stream",
     "text": [
      "Converting 3 files\n",
      "136055 y0 t3 Cyst ROI Left 8bit 97 151 126\n",
      "136055 y0 t3 Image ROI Left 8bit 97 151 126\n",
      "136055 y0 t3 Kidney ROI Left 8bit 97 151 126\n",
      "complete --- nice job\n"
     ]
    }
   ],
   "source": [
    "\n",
    "print('Converting', str(len(ROI_list)), 'files')\n",
    "for i in range(len(ROI_list)): # loop through all the available files from the list that had our keyword\n",
    "    orig_fname = os.path.basename(ROI_list[i])# grab the ith filename in the list\n",
    "    print(orig_fname)\n",
    "    num_slice = 126\n",
    "    num_width = 151\n",
    "    num_height = 97\n",
    "    pt_numb = 136055\n",
    "    yr_numb = 0\n",
    "    if 'Cyst' in orig_fname:\n",
    "        img_type = 'C'\n",
    "    elif 'Kidney' in orig_fname:\n",
    "        img_type = 'M_K'\n",
    "    elif 'Image' in orig_fname:\n",
    "        img_type = 'M'\n",
    "    if 'Right' in orig_fname:\n",
    "        side = 'R'\n",
    "    elif 'Left' in orig_fname:\n",
    "        side = 'L'\n",
    "    call_file = str(ROI_list[i]) #define our filename with path to open (working_path+'/'+orig_fname)\n",
    "    resized = np.zeros((num_slice,new_size,new_size), dtype ='uint8')\n",
    "    transposed = np.zeros((new_size, new_size, num_slice), dtype='uint8')\n",
    "    with open(r'%s' %call_file, 'rb') as file: #read in raw uint8 and resize correctly\n",
    "         data = np.fromfile(file, dtype = 'uint8').reshape(num_slice,num_width,num_height)\n",
    "         for j in range(num_slice):\n",
    "             orig_slice = data[j]\n",
    "             re_slice = Image.fromarray(orig_slice)\n",
    "             resized[j] = resize_with_padding(re_slice, (new_size, new_size))\n",
    "         for i in range(resized.shape[0]):\n",
    "             old_slice = resized[i,:,:]\n",
    "             transposed[:,:,i] = old_slice\n",
    "             \n",
    "             # now we need to rename this resized array and save it as a .npy\n",
    "    #new_fname = str('%s' %orig_fname + '_RESIZED_') #keep the original name for now \n",
    "    new_fname = str(str(pt_numb) +'_'+ str(yr_numb) +'_'+ str(num_slice) +'_'+ side + '_' +  img_type )\n",
    "    file_name = \"%s\" %new_fname # add our extension\n",
    "    np.save(os.path.join(new_path, file_name), transposed) # save in the new file folder\n",
    "    converted_array = np.array(transposed, dtype=np.float32)\n",
    "    affine = np.eye(4)\n",
    "    nifti_file = nib.Nifti1Image(converted_array, affine)\n",
    "    nib.save(nifti_file, os.path.join(final_path, \"%s\" %new_fname))\n",
    "\n",
    "\n",
    "print(\"complete --- nice job\")"
   ]
  },
  {
   "cell_type": "code",
   "execution_count": 21,
   "id": "039a98fe",
   "metadata": {},
   "outputs": [
    {
     "name": "stdout",
     "output_type": "stream",
     "text": [
      "\n",
      "Patient Folders have been identified \n",
      "\n",
      "\n",
      "Filenames have been found and added\n",
      "\n"
     ]
    }
   ],
   "source": [
    "Problem_path = r'C:\\Users\\UAB\\data\\Pt 170121\\dciacj'\n",
    "pt_fnames=[]\n",
    "ROI_list = []\n",
    "import os\n",
    "for root, dirs, files in os.walk(os.path.normpath(Problem_path), topdown=True):\n",
    "    for name in files:\n",
    "        #print(os.path.join(root, name))\n",
    "        pt_fnames.append(os.path.join(root, name))\n",
    "print('\\nPatient Folders have been identified \\n')\n",
    "#sort through and get only the files with ROI in them\n",
    "#this eliminates the tiff and 3D files \n",
    "#%%\n",
    "ROI_list = []\n",
    "for j in range(len(pt_fnames)):\n",
    "    ROI_name = 'ROI'\n",
    "    filename = os.path.basename(pt_fnames[j])\n",
    "    if ROI_name in filename:\n",
    "        ROI_list.append(pt_fnames[j])\n",
    "print('\\nFilenames have been found and added\\n')"
   ]
  },
  {
   "cell_type": "code",
   "execution_count": 23,
   "id": "7ddc3370",
   "metadata": {},
   "outputs": [
    {
     "name": "stdout",
     "output_type": "stream",
     "text": [
      "Converting 6 files\n",
      "170121 y3 t3 Cyst ROI Left 8bit 141 146 168\n",
      "170121 y3 t3 Cyst ROI Right 8bit 142 208 168\n",
      "170121 y3 t3 Image ROI Left 8bit 141 146 168\n",
      "170121 y3 t3 Image ROI Right 8bit 142 208 168\n",
      "170121 y3 t3 Kidney ROI Left 8bit 141 146 168\n",
      "170121 y3 t3 Kidney ROI Right 8bit 142 208 168\n",
      "complete --- nice job\n"
     ]
    }
   ],
   "source": [
    "    print('Converting', str(len(ROI_list)), 'files')\n",
    "    for i in range(len(ROI_list)): # loop through all the available files from the list that had our keyword\n",
    "        orig_fname = os.path.basename(ROI_list[i])# grab the ith filename in the list\n",
    "        print(orig_fname)\n",
    "        #extract information from the filename\n",
    "        num_slice = int(orig_fname[-2:])\n",
    "        #print(num_slice)\n",
    "        if num_slice < 70:\n",
    "            #print('over 99')\n",
    "            num_slice = int(orig_fname[-3:])\n",
    "            num_width = int((orig_fname[-8:-4]))\n",
    "            #print(num_width)\n",
    "            num_height = int((orig_fname[-12:-8]))\n",
    "            #print(num_height)\n",
    "        else:\n",
    "            #print('less than 99')\n",
    "            num_width = int((orig_fname[-7:-3]))\n",
    "            #print(num_width)\n",
    "            num_height = int((orig_fname[-11:-7]))\n",
    "            #print(num_height)\n",
    "        pt_numb =(orig_fname[0:6])\n",
    "        yr_numb = (orig_fname[8])\n",
    "        if 'Cyst' in orig_fname:\n",
    "            img_type = 'C'\n",
    "        elif 'Kidney' in orig_fname:\n",
    "            img_type = 'M_K'\n",
    "        elif 'Image' in orig_fname:\n",
    "            img_type = 'M'\n",
    "        if 'Right' in orig_fname:\n",
    "            side = 'R'\n",
    "        elif 'Left' in orig_fname:\n",
    "            side = 'L'\n",
    "        call_file = str(ROI_list[i]) #define our filename with path to open (working_path+'/'+orig_fname)\n",
    "        resized = np.zeros((num_slice,new_size,new_size), dtype ='uint8')\n",
    "        transposed = np.zeros((new_size, new_size, num_slice), dtype='uint8')\n",
    "        with open(r'%s' %call_file, 'rb') as file: #read in raw uint8 and resize correctly\n",
    "             data = np.fromfile(file, dtype = 'uint8').reshape(num_slice,num_width,num_height)\n",
    "             for j in range(num_slice):\n",
    "                 orig_slice = data[j]\n",
    "                 re_slice = Image.fromarray(orig_slice)\n",
    "                 resized[j] = resize_with_padding(re_slice, (new_size, new_size))\n",
    "             for i in range(resized.shape[0]):\n",
    "                 old_slice = resized[i,:,:]\n",
    "                 transposed[:,:,i] = old_slice\n",
    "\n",
    "                 # now we need to rename this resized array and save it as a .npy\n",
    "        #new_fname = str('%s' %orig_fname + '_RESIZED_') #keep the original name for now \n",
    "        new_fname = str(pt_numb +'_'+ yr_numb +'_'+ str(num_slice) +'_'+ side + '_' +  img_type )\n",
    "        file_name = \"%s\" %new_fname # add our extension\n",
    "        np.save(os.path.join(new_path, file_name), transposed) # save in the new file folder\n",
    "        converted_array = np.array(transposed, dtype=np.float32)\n",
    "        affine = np.eye(4)\n",
    "        nifti_file = nib.Nifti1Image(converted_array, affine)\n",
    "        nib.save(nifti_file, os.path.join(final_path, \"%s\" %new_fname))\n",
    "\n",
    "\n",
    "    print(\"complete --- nice job\")"
   ]
  },
  {
   "cell_type": "markdown",
   "id": "f781ee2f",
   "metadata": {},
   "source": [
    "## Re-assign Masks\n",
    "Move the masks to a new location in the file structure desired"
   ]
  },
  {
   "cell_type": "code",
   "execution_count": 62,
   "id": "500fea14",
   "metadata": {},
   "outputs": [],
   "source": [
    "path = final_path\n",
    "cyst_names=[]\n",
    "for root, dirs, files in os.walk(os.path.normpath(path), topdown=True):\n",
    "    for name in files:\n",
    "        #print(os.path.join(root, name))\n",
    "        cyst_names.append(os.path.join(root, name))\n",
    "\n",
    "C_list = []\n",
    "for j in range(len(cyst_names)):\n",
    "    C_name = '_C'\n",
    "    filename = os.path.basename(cyst_names[j])\n",
    "    if C_name in filename:\n",
    "        C_list.append(cyst_names[j])\n",
    "\n",
    "for i in range(len(C_list)):\n",
    "    shutil.move(C_list[i],cyst_path )"
   ]
  },
  {
   "cell_type": "markdown",
   "id": "f65d6500",
   "metadata": {},
   "source": [
    "## Binarize masks\n",
    "first gather the set based on the naming convention above, then binarize and save in a different location"
   ]
  },
  {
   "cell_type": "code",
   "execution_count": 63,
   "id": "f5b0cf05",
   "metadata": {},
   "outputs": [],
   "source": [
    "def gather_set(data_path, phrase):\n",
    "    set_of = []\n",
    "    path = data_path + '\\\\'\n",
    "    for f in os.listdir(data_path):\n",
    "      if phrase in f:\n",
    "        set_of.append(f)\n",
    "      else:\n",
    "        continue\n",
    "    set_of = np.array(set_of)\n",
    "\n",
    "    indices = np.array(range(len(set_of))) # we will use this in the next step.\n",
    "\n",
    "    return set_of\n",
    "\n"
   ]
  },
  {
   "cell_type": "code",
   "execution_count": null,
   "id": "3e28d459",
   "metadata": {},
   "outputs": [],
   "source": [
    "data_path = r'C:\\Users\\UAB\\data\\512_AllNII'\n",
    "final_path = r'C:\\Users\\UAB\\data\\NII_Binarized'\n",
    "kidney_non = gather_set(data_path, '_K')"
   ]
  },
  {
   "cell_type": "code",
   "execution_count": null,
   "id": "5cd55373",
   "metadata": {},
   "outputs": [],
   "source": [
    "seg_list=kidney_non\n",
    "\n",
    "for i in range(len(seg_list)):\n",
    "    segment = nib.load(data_path+\"\\\\\"+seg_list[i])\n",
    "    seg_data = segment.get_fdata()\n",
    "    binarized = np.where(seg_data>1,1,seg_data)\n",
    "    affine = np.eye(4)\n",
    "    nifti_file = nib.Nifti1Image(binarized, affine)\n",
    "    nib.save(nifti_file, os.path.join(final_path, \"%s\" %seg_list[i]))\n",
    "    "
   ]
  },
  {
   "cell_type": "markdown",
   "id": "121d1532",
   "metadata": {},
   "source": [
    "# Save as single slices\n"
   ]
  },
  {
   "cell_type": "code",
   "execution_count": 1,
   "id": "ac1ddb9b",
   "metadata": {},
   "outputs": [],
   "source": [
    "import numpy as np\n",
    "import os \n",
    "\n",
    "\n",
    "\n",
    "def gather_set(data_path, phrase):\n",
    "    set_of = []\n",
    "    path = data_path + '\\\\'\n",
    "    for f in os.listdir(data_path):\n",
    "      if phrase in f:\n",
    "        set_of.append(f)\n",
    "      else:\n",
    "        continue\n",
    "    #set_of = np.array(set_of)\n",
    "\n",
    "    indices = np.array(range(len(set_of))) # we will use this in the next step.\n",
    "\n",
    "    return set_of"
   ]
  },
  {
   "cell_type": "code",
   "execution_count": null,
   "id": "f8b804f5",
   "metadata": {},
   "outputs": [],
   "source": [
    "data_path = r\"C:\\Users\\UAB\\data\\512_AllNII\"\n",
    "\n",
    "images = gather_set(data_path, '_M.')\n",
    "labels = gather_set(data_path, '_K')\n"
   ]
  },
  {
   "cell_type": "code",
   "execution_count": null,
   "id": "aeb0d0c7",
   "metadata": {},
   "outputs": [],
   "source": [
    "import nibabel as nib\n",
    "new_path = r\"C:\\Users\\UAB\\Kidney-Segmentation-Jupyter\\data\\TwoDim\"\n",
    "for i in range(len(images)):\n",
    "    working_img = nib.load(data_path + '\\\\' + images[i])\n",
    "    working_img = working_img.get_fdata()\n",
    "    file_name = images[i][:-5]\n",
    "    for j in range(working_img.shape[-1]):\n",
    "        save_slice = working_img[:,:,j]\n",
    "        new_fname = str(file_name + str(j) +'_M')\n",
    "        np.save(os.path.join(new_path, new_fname), save_slice)"
   ]
  },
  {
   "cell_type": "code",
   "execution_count": null,
   "id": "2becc54a",
   "metadata": {},
   "outputs": [],
   "source": [
    "for i in range(len(labels)):\n",
    "    working_img = nib.load(data_path + '\\\\' + labels[i])\n",
    "    working_img = working_img.get_fdata()\n",
    "    file_name = labels[i][:-7]\n",
    "    for j in range(working_img.shape[-1]):\n",
    "        save_slice = working_img[:,:,j]\n",
    "        new_fname = str(file_name + str(j) +'_K')\n",
    "        np.save(os.path.join(new_path, new_fname), save_slice)"
   ]
  },
  {
   "cell_type": "markdown",
   "id": "348d4bb2",
   "metadata": {},
   "source": [
    "check sizes and range\n"
   ]
  },
  {
   "cell_type": "code",
   "execution_count": 8,
   "id": "9b64c744",
   "metadata": {},
   "outputs": [
    {
     "name": "stdout",
     "output_type": "stream",
     "text": [
      "141.0 (512, 512)\n",
      "1.0 (512, 512)\n"
     ]
    }
   ],
   "source": [
    "image_test = np.load(r\"C:\\Users\\UAB\\Kidney-Segmentation-Jupyter\\data\\TwoDim\\105005_0_84_L_0_M.npy\")\n",
    "print(image_test.max(), image_test.shape)\n",
    "label_test = np.load(r\"C:\\Users\\UAB\\Kidney-Segmentation-Jupyter\\data\\TwoDim\\150534_2_141_L_81_K.npy\")\n",
    "print(label_test.max(), label_test.shape)"
   ]
  },
  {
   "cell_type": "markdown",
   "id": "5674105c",
   "metadata": {},
   "source": [
    "binarize labels"
   ]
  },
  {
   "cell_type": "code",
   "execution_count": 6,
   "id": "873ac98b",
   "metadata": {},
   "outputs": [],
   "source": [
    "final_path = r\"C:\\Users\\UAB\\Kidney-Segmentation-Jupyter\\data\\TwoDim\"\n",
    "seg_list = gather_set(final_path, '_K')\n",
    "\n",
    "\n",
    "for i in range(len(seg_list)):\n",
    "    seg_data = np.load(final_path+\"\\\\\"+seg_list[i])\n",
    "    file_name = seg_list[i][:-4]\n",
    "    binarized = np.where(seg_data>1,1,seg_data)\n",
    "    np.save(os.path.join(final_path, file_name), binarized)"
   ]
  },
  {
   "cell_type": "code",
   "execution_count": 7,
   "id": "8409f785",
   "metadata": {},
   "outputs": [
    {
     "name": "stdout",
     "output_type": "stream",
     "text": [
      "1.0 (512, 512)\n"
     ]
    }
   ],
   "source": [
    "label_test = np.load(r\"C:\\Users\\UAB\\Kidney-Segmentation-Jupyter\\data\\TwoDim\\150534_2_141_L_81_K.npy\")\n",
    "print(label_test.max(), label_test.shape)"
   ]
  },
  {
   "cell_type": "markdown",
   "id": "9c94908c",
   "metadata": {},
   "source": [
    "## Break out into different sized training batches"
   ]
  },
  {
   "cell_type": "markdown",
   "id": "1fe439d5",
   "metadata": {},
   "source": [
    "Use this as a way to ensure we are pulling in the images correctly and ensure our naming convention can be navigated by the rest of the code\n"
   ]
  },
  {
   "cell_type": "code",
   "execution_count": 7,
   "id": "bdc69a62",
   "metadata": {},
   "outputs": [
    {
     "name": "stdout",
     "output_type": "stream",
     "text": [
      "101934_0_96_L_M.nii 101934_0_96_L_M_K.nii\n"
     ]
    }
   ],
   "source": [
    "data_path = final_path\n",
    "images = []\n",
    "segmentations = []\n",
    "for f in os.listdir(data_path):\n",
    "  if '_K' in f:\n",
    "    continue\n",
    "  else:\n",
    "    images.append(f)\n",
    "    segmentations.append(f.replace('.nii', '_K.nii'))\n",
    "\n",
    "print(images[0], segmentations[0])\n",
    "images = np.array(images)\n",
    "segmentations = np.array(segmentations)\n",
    "\n",
    "indices = np.array(range(len(images))) # we will use this in the next step."
   ]
  },
  {
   "cell_type": "code",
   "execution_count": 8,
   "id": "1deeaed9",
   "metadata": {},
   "outputs": [
    {
     "name": "stdout",
     "output_type": "stream",
     "text": [
      "there are a total of 257 images available\n"
     ]
    }
   ],
   "source": [
    "print('there are a total of ' + str(len(indices)) + ' images available')"
   ]
  },
  {
   "cell_type": "code",
   "execution_count": 9,
   "id": "80536083",
   "metadata": {},
   "outputs": [
    {
     "name": "stdout",
     "output_type": "stream",
     "text": [
      "(80,)\n",
      "101934_0_96_L_M.nii\n",
      "101934_0_96_L_M.nii\n"
     ]
    }
   ],
   "source": [
    "Batch_80 = images[0:80]\n",
    "print(Batch_80.shape)\n",
    "print(Batch_80[0])\n",
    "print(images[0])"
   ]
  },
  {
   "cell_type": "code",
   "execution_count": 8,
   "id": "83555e6a",
   "metadata": {},
   "outputs": [],
   "source": [
    "def read_nifti_file(path):\n",
    "    nifti_image = nib.load(path)\n",
    "    nib_data = nifti_image.get_fdata()\n",
    "    return nib_data"
   ]
  },
  {
   "cell_type": "code",
   "execution_count": 9,
   "id": "c586ac35",
   "metadata": {},
   "outputs": [],
   "source": [
    "def retrieve_images_and_segmentations(data_path, images, segmentations, size=(256,256)):\n",
    "  x = []\n",
    "  y = []\n",
    "  for i in range(len(images)):\n",
    "    seg = read_nifti_file(data_path+segmentations[i])\n",
    "    img = read_nifti_file(data_path+images[i])\n",
    "    assert img.shape == seg.shape\n",
    "    seg = resize(seg,(size[0], size[1], seg.shape[-1]))\n",
    "    img = resize(img,(size[0], size[1], img.shape[-1]))\n",
    "    for j in range(seg.shape[-1]):\n",
    "      # ignore slices that don't have a segmentation\n",
    "      if np.sum(seg[:,:,j]) == 0:\n",
    "        continue\n",
    "      x.append(img[:,:,j])\n",
    "      y.append(seg[:,:,j])\n",
    "  x = np.array(x)[:,:,:,np.newaxis]\n",
    "  y = np.array(y)[:,:,:,np.newaxis]\n",
    "\n",
    "  # randomly shuffle slices\n",
    "  m = x.shape[0]\n",
    "  order = np.random.permutation(m)\n",
    "\n",
    "  return x[order], y[order]"
   ]
  },
  {
   "cell_type": "code",
   "execution_count": 10,
   "id": "134e0868",
   "metadata": {},
   "outputs": [],
   "source": [
    "def visualise_data(x, y):\n",
    "  n=4\n",
    "  dim = int(np.ceil(np.sqrt(n)))\n",
    "  fig = plt.figure(figsize=(10,10))\n",
    "  for i in range(n):\n",
    "    ax = fig.add_subplot(dim, dim, i+1)\n",
    "    ax.imshow(x[50*i,:,:,0], cmap='gray')\n",
    "    contours = measure.find_contours(y[50*i,:,:,0], .99)\n",
    "    for contour in contours:\n",
    "      ax.plot(contour[:,1], contour[:,0], color='#FB3640', lw=4)\n",
    "    ax.axis('off')\n"
   ]
  },
  {
   "cell_type": "code",
   "execution_count": 25,
   "id": "307dd146",
   "metadata": {},
   "outputs": [],
   "source": [
    "def visualise_data_and_prediction(x, y, y_pred):\n",
    "  n=4\n",
    "  dim = int(np.ceil(np.sqrt(n)))\n",
    "  fig = plt.figure(figsize=(10,10))\n",
    "  for i in range(n):\n",
    "    ax = fig.add_subplot(dim, dim, i+1)\n",
    "    ax.imshow(x[50*i,:,:,0], cmap='gray')\n",
    "    contours = measure.find_contours(y[50*i,:,:,0], .99)\n",
    "    for j,contour in enumerate(contours):\n",
    "      ax.plot(contour[:,1], contour[:,0], color='#FB3640', lw=4)\n",
    "    contours = measure.find_contours(y_pred[50*i,:,:,0], .99)\n",
    "    for contour in contours:\n",
    "      ax.plot(contour[:,1], contour[:,0], color='#35A7FF', lw=4)\n",
    "    ax.axis('off')"
   ]
  },
  {
   "cell_type": "code",
   "execution_count": 61,
   "id": "63463c53",
   "metadata": {},
   "outputs": [
    {
     "name": "stdout",
     "output_type": "stream",
     "text": [
      "(512, 512, 10)\n"
     ]
    }
   ],
   "source": [
    "image = np.load(r\"C:\\Users\\UAB\\data\\UAB\\AllNPY\\407132_0_10_L_C.npy\")\n",
    "print(image.shape)"
   ]
  },
  {
   "cell_type": "code",
   "execution_count": 59,
   "id": "727e0f9b",
   "metadata": {},
   "outputs": [
    {
     "data": {
      "text/plain": [
       "<matplotlib.image.AxesImage at 0x1f382beb580>"
      ]
     },
     "execution_count": 59,
     "metadata": {},
     "output_type": "execute_result"
    },
    {
     "data": {
      "image/png": "[encoded data removed]",
      "text/plain": [
       "<Figure size 640x480 with 1 Axes>"
      ]
     },
     "metadata": {},
     "output_type": "display_data"
    }
   ],
   "source": [
    "img_slice = image[:,:,3]\n",
    "plt.imshow(img_slice, cmap='gray')\n"
   ]
  },
  {
   "cell_type": "code",
   "execution_count": null,
   "id": "81563495",
   "metadata": {},
   "outputs": [],
   "source": []
  }
 ],
 "metadata": {
  "kernelspec": {
   "display_name": "Python 3",
   "language": "python",
   "name": "python3"
  },
  "language_info": {
   "codemirror_mode": {
    "name": "ipython",
    "version": 3
   },
   "file_extension": ".py",
   "mimetype": "text/x-python",
   "name": "python",
   "nbconvert_exporter": "python",
   "pygments_lexer": "ipython3",
   "version": "3.8.5"
  }
 },
 "nbformat": 4,
 "nbformat_minor": 5
}
