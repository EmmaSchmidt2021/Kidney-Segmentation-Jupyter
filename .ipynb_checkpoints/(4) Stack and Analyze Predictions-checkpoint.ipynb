{
 "cells": [
  {
   "cell_type": "markdown",
   "id": "76a6e692",
   "metadata": {},
   "source": [
    "The purpose of this code is to gather the predicted images, load them into their original volume and calculate the dice\n"
   ]
  },
  {
   "cell_type": "code",
   "execution_count": 10,
   "id": "6064f73f",
   "metadata": {},
   "outputs": [],
   "source": [
    "from keras.models import Sequential, load_model\n",
    "import os\n",
    "import numpy as np\n",
    "import nibabel as nib\n",
    "import tensorflow as tf\n",
    "import matplotlib.pyplot as plt\n",
    "from skimage import measure\n",
    "from skimage.transform import resize\n",
    "from keras_unet.metrics import dice_coef\n",
    "from keras_unet.models import custom_unet\n",
    "from keras_unet.losses import jaccard_distance\n",
    "from sklearn.model_selection import train_test_split\n",
    "from PIL import Image\n",
    "from PIL import ImageOps\n",
    "import fnmatch\n",
    "import nibabel as nib\n",
    "import shutil\n",
    "%matplotlib inline"
   ]
  },
  {
   "cell_type": "code",
   "execution_count": 15,
   "id": "802c37ff",
   "metadata": {},
   "outputs": [],
   "source": [
    "import numpy as np\n",
    "from keras import backend as K\n",
    "smooth = 1\n",
    "\n",
    "def jaccard_distance_loss(y_true, y_pred, smooth=100): \n",
    "    y_true_f = K.flatten(y_true)\n",
    "    y_pred_f = K.flatten(y_pred)\n",
    "    intersection = K.sum(K.abs(y_true_f * y_pred_f)) \n",
    "    sum_ = K.sum(K.abs(y_true_f) + K.abs(y_pred_f)) \n",
    "    jac = (intersection + smooth) / (sum_ - intersection + smooth) \n",
    "    return (1 - jac) * smooth \n",
    "\n",
    "def mean_length_error(y_true, y_pred):\n",
    "    y_true_f = K.sum(K.round(K.flatten(y_true)))\n",
    "    y_pred_f = K.sum(K.round(K.flatten(y_pred)))\n",
    "    delta = (y_pred_f - y_true_f)\n",
    "    return K.mean(K.tanh(delta))\n",
    "\n",
    "def dice_coef(y_true, y_pred):\n",
    "    y_true_f = K.flatten(y_true)\n",
    "    y_pred_f = K.flatten(y_pred)\n",
    "    intersection = K.sum(y_true_f * y_pred_f)\n",
    "    return (2. * intersection + smooth) / (K.sum(y_true_f) + K.sum(y_pred_f) + smooth)\n",
    "\n",
    "def dice_coef_loss(y_true, y_pred):\n",
    "    return -dice_coef(y_true, y_pred)\n",
    "\n",
    "def np_dice_coef(y_true, y_pred):\n",
    "    tr = y_true.flatten()\n",
    "    pr = y_pred.flatten()\n",
    "    return (2. * np.sum(tr * pr) + smooth) / (np.sum(tr) + np.sum(pr) + smooth)"
   ]
  },
  {
   "cell_type": "code",
   "execution_count": 11,
   "id": "5cb67528",
   "metadata": {},
   "outputs": [],
   "source": [
    "def gather_set(data_path, phrase):\n",
    "    set_of = []\n",
    "    path = data_path + '\\\\'\n",
    "    for f in os.listdir(data_path):\n",
    "      if phrase in f:\n",
    "        set_of.append(f)\n",
    "      else:\n",
    "        continue\n",
    "    set_of = np.array(set_of)\n",
    "\n",
    "    indices = np.array(range(len(set_of))) # we will use this in the next step.\n",
    "\n",
    "    return set_of\n"
   ]
  },
  {
   "cell_type": "code",
   "execution_count": null,
   "id": "f0158d35",
   "metadata": {},
   "outputs": [],
   "source": [
    "filepath_predictions = r\"E:\\Kidney Unet\\Emory Cross 1 predictions\"\n",
    "filepath_tensors = \n",
    "images = gather_set(filepath, 'P')\n",
    "model_name = 'test1'"
   ]
  },
  {
   "cell_type": "code",
   "execution_count": null,
   "id": "cb1b4f47",
   "metadata": {},
   "outputs": [],
   "source": [
    "id_list = []   \n",
    "for i in range(len(images)):\n",
    "    image_name = images[i]\n",
    "    unique_id =  image_name[0:18]\n",
    "    id_list.append(unique_id)\n",
    "unique_ids = list(set(id_list))"
   ]
  },
  {
   "cell_type": "code",
   "execution_count": null,
   "id": "b5628fd0",
   "metadata": {},
   "outputs": [],
   "source": [
    "for i in range(len(unique_ids)):\n",
    "    pt_info = unique_ids[i]\n",
    "    pt_num, yr_num, num_slices = re.findall(r'\\d+', pt_info)\n",
    "    tensor = np.zeros((512,512,int(num_slices)))\n",
    "    for x in range(int(num_slices)):\n",
    "        img_name = unique_ids[i]+str(x)+'_P.npy'\n",
    "        image = np.load(filepath_predictions + '\\\\' + img_name)\n",
    "        img_slice = image[:,:,1]\n",
    "        tensor[:,:,x] = img_slice\n",
    "        x = x+1\n",
    "    new_fname = unique_ids[i]+ model_name +'_Prediction.npy'\n",
    "    np.save(os.path.join(filepath_tensors, new_fname), tensor)"
   ]
  },
  {
   "cell_type": "code",
   "execution_count": 8,
   "id": "6a7d7801",
   "metadata": {},
   "outputs": [],
   "source": [
    "import_path = r'E:\\Kidney Unet\\tensors'\n",
    "dice_test_true = np.load(r\"E:\\Kidney Unet\\tensors\\EM_200922_0_144_L_.npy\")\n",
    "dice_test_pred = np.load(r\"E:\\Kidney Unet\\tensors\\EM_200922_0_144_L_test1_Prediction.npy\")"
   ]
  },
  {
   "cell_type": "code",
   "execution_count": 16,
   "id": "217919fc",
   "metadata": {},
   "outputs": [],
   "source": [
    "results = dice_coef(dice_test_true,dice_test_pred)\n",
    "results_loss = dice_coef_loss(dice_test_true,dice_test_pred)"
   ]
  },
  {
   "cell_type": "code",
   "execution_count": 20,
   "id": "0364f6e5",
   "metadata": {},
   "outputs": [
    {
     "name": "stdout",
     "output_type": "stream",
     "text": [
      "tf.Tensor(0.9579340692821207, shape=(), dtype=float64) tf.Tensor(-0.9579340692821207, shape=(), dtype=float64)\n"
     ]
    }
   ],
   "source": [
    "print(results, results_loss)"
   ]
  },
  {
   "cell_type": "code",
   "execution_count": null,
   "id": "bff7d9be",
   "metadata": {},
   "outputs": [],
   "source": [
    "import numpy as np\n",
    "from scipy.ndimage import morphology\n",
    "\n",
    "def surfd(input1, input2, sampling=1, connectivity=1):\n",
    "    \n",
    "    input_1 = np.atleast_1d(input1.astype(np.bool))\n",
    "    input_2 = np.atleast_1d(input2.astype(np.bool))\n",
    "    \n",
    "\n",
    "    conn = morphology.generate_binary_structure(input_1.ndim, connectivity)\n",
    "\n",
    "    S = input_1 - morphology.binary_erosion(input_1, conn)\n",
    "    Sprime = input_2 - morphology.binary_erosion(input_2, conn)\n",
    "\n",
    "    \n",
    "    dta = morphology.distance_transform_edt(~S,sampling)\n",
    "    dtb = morphology.distance_transform_edt(~Sprime,sampling)\n",
    "    \n",
    "    sds = np.concatenate([np.ravel(dta[Sprime!=0]), np.ravel(dtb[S!=0])])\n",
    "       \n",
    "    \n",
    "    return sds"
   ]
  },
  {
   "cell_type": "code",
   "execution_count": null,
   "id": "9f0348bc",
   "metadata": {},
   "outputs": [],
   "source": [
    "#gather images that have _K and _P \n",
    "\n",
    "\n",
    "#gather groups that have the first xx number of characters the same\n",
    "\n",
    "#loop through to put all into a 3D tensor\n",
    "#analyze with dice_coef \n",
    "#analyze with surfd"
   ]
  }
 ],
 "metadata": {
  "kernelspec": {
   "display_name": "TF23",
   "language": "python",
   "name": "tf23"
  },
  "language_info": {
   "codemirror_mode": {
    "name": "ipython",
    "version": 3
   },
   "file_extension": ".py",
   "mimetype": "text/x-python",
   "name": "python",
   "nbconvert_exporter": "python",
   "pygments_lexer": "ipython3",
   "version": "3.8.5"
  }
 },
 "nbformat": 4,
 "nbformat_minor": 5
}
