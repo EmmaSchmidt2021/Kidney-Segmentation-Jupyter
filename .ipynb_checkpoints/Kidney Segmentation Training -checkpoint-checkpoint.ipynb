{
 "cells": [
  {
   "cell_type": "markdown",
   "id": "4ddf0038",
   "metadata": {},
   "source": [
    "### SIIM ML Education Sub-Committee\n",
    "Tutorial Notebook Series\n",
    "\n",
    "Tutorial Authors:\\\n",
    "Timothy Kline, PhD\\\n",
    "Darryl Wright, PhD"
   ]
  },
  {
   "cell_type": "markdown",
   "id": "01013a33",
   "metadata": {},
   "source": [
    "### The goal of this jupyter notebook is to direct the code to a local collection of MRI images and segment out the kidney"
   ]
  },
  {
   "cell_type": "markdown",
   "id": "3a54e0f7",
   "metadata": {},
   "source": [
    "import libraries"
   ]
  },
  {
   "cell_type": "code",
   "execution_count": 11,
   "id": "de6970ee",
   "metadata": {},
   "outputs": [],
   "source": [
    "import os\n",
    "import numpy as np\n",
    "import nibabel as nib\n",
    "import tensorflow as tf\n",
    "import matplotlib.pyplot as plt\n",
    "from skimage import measure\n",
    "from skimage.transform import resize\n",
    "#from keras_unet.metrics import dice_coef\n",
    "#from keras_unet.models import custom_unet\n",
    "#from keras_unet.losses import jaccard_distance\n",
    "from sklearn.model_selection import train_test_split\n",
    "from PIL import Image\n",
    "from PIL import ImageOps\n",
    "import fnmatch\n",
    "import nibabel as nib\n",
    "import shutil"
   ]
  },
  {
   "cell_type": "markdown",
   "id": "279a48e0",
   "metadata": {},
   "source": [
    "## First convert the ImageJ raw images to .nii format\n",
    "Navigate to the folder that contains the raw images"
   ]
  },
  {
   "cell_type": "code",
   "execution_count": 6,
   "id": "d728823f",
   "metadata": {},
   "outputs": [],
   "source": [
    "# figure out difference that needs to be made up in rows/columns\n",
    "def padding(img, expected_size):\n",
    "    desired_size = expected_size\n",
    "    delta_width = desired_size - img.size[0]\n",
    "    delta_height = desired_size - img.size[1]\n",
    "    pad_width = delta_width // 2\n",
    "    pad_height = delta_height // 2\n",
    "    padding = (pad_width, pad_height, delta_width - pad_width, delta_height - pad_height)\n",
    "    return ImageOps.expand(img, padding)\n",
    "\n",
    "#after calculating the padding, add in the padding to rows and columns to meet new expected size\n",
    "def resize_with_padding(img, expected_size):\n",
    "    img.thumbnail((expected_size[0], expected_size[1]))\n",
    "    # print(img.size)\n",
    "    delta_width = expected_size[0] - img.size[0]\n",
    "    delta_height = expected_size[1] - img.size[1]\n",
    "    pad_width = delta_width // 2\n",
    "    pad_height = delta_height // 2\n",
    "    padding = (pad_width, pad_height, delta_width - pad_width, delta_height - pad_height)\n",
    "    return ImageOps.expand(img, padding)"
   ]
  },
  {
   "cell_type": "code",
   "execution_count": 5,
   "id": "ec72903a",
   "metadata": {},
   "outputs": [],
   "source": [
    "raw_path = r'C:\\Users\\UAB\\Kidney-Segmentation-Jupyter\\Unconverted Images'\n",
    "new_path = r'C:\\Users\\UAB\\Kidney-Segmentation-Jupyter\\Unconverted Images\\NPY'\n",
    "final_path = r'C:\\Users\\UAB\\Kidney-Segmentation-Jupyter\\AllTrainingImages'\n",
    "new_size = 512"
   ]
  },
  {
   "cell_type": "code",
   "execution_count": 16,
   "id": "5561239b",
   "metadata": {},
   "outputs": [],
   "source": [
    "raw_path = r'C:\\Users\\schmi\\data'\n",
    "new_path = r'C:\\Users\\schmi\\data\\NPY'\n",
    "final_path = r'C:\\Users\\schmi\\data\\NPY'\n",
    "new_size = 250"
   ]
  },
  {
   "cell_type": "code",
   "execution_count": 17,
   "id": "3e82d8d5",
   "metadata": {},
   "outputs": [
    {
     "name": "stdout",
     "output_type": "stream",
     "text": [
      "\n",
      "Patient Folders have been identified\n",
      "\n",
      "\n",
      "Filenames have been found and added\n",
      "\n"
     ]
    }
   ],
   "source": [
    "patient_folders = []\n",
    "pt_fnames = []\n",
    "\n",
    "import os\n",
    "for root, dirs, files in os.walk(os.path.normpath(raw_path), topdown=True):\n",
    "    for name in files:\n",
    "        #print(os.path.join(root, name))\n",
    "        pt_fnames.append(os.path.join(root, name))\n",
    "print('\\nPatient Folders have been identified\\n')\n",
    "#sort through and get only the files with ROI in them\n",
    "#this eliminates the tiff and 3D files \n",
    "#%%\n",
    "ROI_list = []\n",
    "for j in range(len(pt_fnames)):\n",
    "    ROI_name = 'ROI'\n",
    "    filename = os.path.basename(pt_fnames[j])\n",
    "    if ROI_name in filename:\n",
    "        ROI_list.append(pt_fnames[j])\n",
    "print('\\nFilenames have been found and added\\n')"
   ]
  },
  {
   "cell_type": "code",
   "execution_count": 18,
   "id": "9af49a69",
   "metadata": {},
   "outputs": [
    {
     "name": "stdout",
     "output_type": "stream",
     "text": [
      "Converting 120 files\n"
     ]
    },
    {
     "ename": "ValueError",
     "evalue": "invalid literal for int() with base 10: 't 97'",
     "output_type": "error",
     "traceback": [
      "\u001b[1;31m---------------------------------------------------------------------------\u001b[0m",
      "\u001b[1;31mValueError\u001b[0m                                Traceback (most recent call last)",
      "\u001b[1;32m~\\AppData\\Local\\Temp/ipykernel_18788/1983277362.py\u001b[0m in \u001b[0;36m<module>\u001b[1;34m\u001b[0m\n\u001b[0;32m     12\u001b[0m         \u001b[0mnum_width\u001b[0m \u001b[1;33m=\u001b[0m \u001b[0mint\u001b[0m\u001b[1;33m(\u001b[0m\u001b[1;33m(\u001b[0m\u001b[0morig_fname\u001b[0m\u001b[1;33m[\u001b[0m\u001b[1;33m-\u001b[0m\u001b[1;36m8\u001b[0m\u001b[1;33m:\u001b[0m\u001b[1;33m-\u001b[0m\u001b[1;36m4\u001b[0m\u001b[1;33m]\u001b[0m\u001b[1;33m)\u001b[0m\u001b[1;33m)\u001b[0m\u001b[1;33m\u001b[0m\u001b[1;33m\u001b[0m\u001b[0m\n\u001b[0;32m     13\u001b[0m         \u001b[1;31m#print(num_width)\u001b[0m\u001b[1;33m\u001b[0m\u001b[1;33m\u001b[0m\u001b[1;33m\u001b[0m\u001b[0m\n\u001b[1;32m---> 14\u001b[1;33m         \u001b[0mnum_height\u001b[0m \u001b[1;33m=\u001b[0m \u001b[0mint\u001b[0m\u001b[1;33m(\u001b[0m\u001b[1;33m(\u001b[0m\u001b[0morig_fname\u001b[0m\u001b[1;33m[\u001b[0m\u001b[1;33m-\u001b[0m\u001b[1;36m12\u001b[0m\u001b[1;33m:\u001b[0m\u001b[1;33m-\u001b[0m\u001b[1;36m8\u001b[0m\u001b[1;33m]\u001b[0m\u001b[1;33m)\u001b[0m\u001b[1;33m)\u001b[0m\u001b[1;33m\u001b[0m\u001b[1;33m\u001b[0m\u001b[0m\n\u001b[0m\u001b[0;32m     15\u001b[0m         \u001b[1;31m#print(num_height)\u001b[0m\u001b[1;33m\u001b[0m\u001b[1;33m\u001b[0m\u001b[1;33m\u001b[0m\u001b[0m\n\u001b[0;32m     16\u001b[0m     \u001b[1;32melse\u001b[0m\u001b[1;33m:\u001b[0m\u001b[1;33m\u001b[0m\u001b[1;33m\u001b[0m\u001b[0m\n",
      "\u001b[1;31mValueError\u001b[0m: invalid literal for int() with base 10: 't 97'"
     ]
    }
   ],
   "source": [
    "print('Converting', str(len(ROI_list)), 'files')\n",
    "for i in range(len(ROI_list)): # loop through all the available files from the list that had our keyword\n",
    "    orig_fname = os.path.basename(ROI_list[i])# grab the ith filename in the list\n",
    "    print(orig_fname)\n",
    "    #extract information from the filename\n",
    "    num_slice = int(orig_fname[-2:])\n",
    "    #print(num_slice)\n",
    "    if num_slice < 50:\n",
    "        #print('over 99')\n",
    "        num_slice = int(orig_fname[-3:])\n",
    "        num_width = int((orig_fname[-8:-4]))\n",
    "        #print(num_width)\n",
    "        num_height = int((orig_fname[-12:-8]))\n",
    "        #print(num_height)\n",
    "    else:\n",
    "        #print('less than 99')\n",
    "        num_width = int((orig_fname[-7:-3]))\n",
    "        #print(num_width)\n",
    "        num_height = int((orig_fname[-11:-7]))\n",
    "        #print(num_height)\n",
    "    pt_numb =(orig_fname[0:6])\n",
    "    yr_numb = (orig_fname[8])\n",
    "    if 'Cyst' in orig_fname:\n",
    "        img_type = 'C'\n",
    "    elif 'Kidney' in orig_fname:\n",
    "        img_type = 'K'\n",
    "    elif 'Image' in orig_fname:\n",
    "        img_type = 'M'\n",
    "    if 'Right' in orig_fname:\n",
    "        side = 'R'\n",
    "    elif 'Left' in orig_fname:\n",
    "        side = 'L'\n",
    "    call_file = str(ROI_list[i]) #define our filename with path to open (working_path+'/'+orig_fname)\n",
    "    resized = np.zeros((num_slice,new_size,new_size), dtype ='uint8')\n",
    "    transposed = np.zeros((new_size, new_size, num_slice), dtype='uint8')\n",
    "    with open(r'%s' %call_file, 'rb') as file: #read in raw uint8 and resize correctly\n",
    "         data = np.fromfile(file, dtype = 'uint8').reshape(num_slice,num_width,num_height)\n",
    "         for j in range(num_slice):\n",
    "             orig_slice = data[j]\n",
    "             re_slice = Image.fromarray(orig_slice)\n",
    "             resized[j] = resize_with_padding(re_slice, (new_size, new_size))\n",
    "         for i in range(resized.shape[0]):\n",
    "             old_slice = resized[i,:,:]\n",
    "             transposed[:,:,i] = old_slice\n",
    "             \n",
    "             # now we need to rename this resized array and save it as a .npy\n",
    "    #new_fname = str('%s' %orig_fname + '_RESIZED_') #keep the original name for now \n",
    "    new_fname = str(pt_numb +'_'+ yr_numb +'_'+ str(num_slice) +'_'+ side + '_' +  img_type )\n",
    "    file_name = \"%s\" %new_fname # add our extension\n",
    "    np.save(os.path.join(new_path, file_name), transposed) # save in the new file folder\n",
    "    converted_array = np.array(transposed, dtype=np.float32)\n",
    "    affine = np.eye(4)\n",
    "    nifti_file = nib.Nifti1Image(converted_array, affine)\n",
    "    nib.save(nifti_file, os.path.join(final_path, \"%s\" %new_fname))\n",
    "\n",
    "\n",
    "print(\"complete --- nice job\")"
   ]
  },
  {
   "cell_type": "code",
   "execution_count": 16,
   "id": "727584e7",
   "metadata": {},
   "outputs": [],
   "source": [
    "path = r'C:\\Users\\UAB\\Kidney-Segmentation-Jupyter\\AllTrainingImages'\n",
    "cyst_names=[]\n",
    "for root, dirs, files in os.walk(os.path.normpath(path), topdown=True):\n",
    "    for name in files:\n",
    "        #print(os.path.join(root, name))\n",
    "        cyst_names.append(os.path.join(root, name))\n",
    "\n",
    "C_list = []\n",
    "for j in range(len(cyst_names)):\n",
    "    C_name = '_C'\n",
    "    filename = os.path.basename(cyst_names[j])\n",
    "    if C_name in filename:\n",
    "        C_list.append(cyst_names[j])\n",
    "\n",
    "cyst_path = r\"C:\\Users\\UAB\\Kidney-Segmentation-Jupyter\\Unconverted Images\\CystNII\"\n",
    "for i in range(len(C_list)):\n",
    "    shutil.move(C_list[i],cyst_path )"
   ]
  },
  {
   "cell_type": "markdown",
   "id": "cb468ba4",
   "metadata": {},
   "source": [
    "# display the image J to npy to nii conversion and resizing"
   ]
  },
  {
   "cell_type": "code",
   "execution_count": 19,
   "id": "5ce426ab",
   "metadata": {},
   "outputs": [
    {
     "name": "stdout",
     "output_type": "stream",
     "text": [
      "<class 'numpy.memmap'>\n",
      "(512, 512, 96)\n",
      "[[[0.0000000e+00 1.0000000e+00 2.0000000e+00 ... 9.3000000e+01\n",
      "   9.4000000e+01 9.5000000e+01]\n",
      "  [9.6000000e+01 9.7000000e+01 9.8000000e+01 ... 1.8900000e+02\n",
      "   1.9000000e+02 1.9100000e+02]\n",
      "  [1.9200000e+02 1.9300000e+02 1.9400000e+02 ... 2.8500000e+02\n",
      "   2.8600000e+02 2.8700000e+02]\n",
      "  ...\n",
      "  [4.8864000e+04 4.8865000e+04 4.8866000e+04 ... 4.8957000e+04\n",
      "   4.8958000e+04 4.8959000e+04]\n",
      "  [4.8960000e+04 4.8961000e+04 4.8962000e+04 ... 4.9053000e+04\n",
      "   4.9054000e+04 4.9055000e+04]\n",
      "  [4.9056000e+04 4.9057000e+04 4.9058000e+04 ... 4.9149000e+04\n",
      "   4.9150000e+04 4.9151000e+04]]\n",
      "\n",
      " [[4.9152000e+04 4.9153000e+04 4.9154000e+04 ... 4.9245000e+04\n",
      "   4.9246000e+04 4.9247000e+04]\n",
      "  [4.9248000e+04 4.9249000e+04 4.9250000e+04 ... 4.9341000e+04\n",
      "   4.9342000e+04 4.9343000e+04]\n",
      "  [4.9344000e+04 4.9345000e+04 4.9346000e+04 ... 4.9437000e+04\n",
      "   4.9438000e+04 4.9439000e+04]\n",
      "  ...\n",
      "  [9.8016000e+04 9.8017000e+04 9.8018000e+04 ... 9.8109000e+04\n",
      "   9.8110000e+04 9.8111000e+04]\n",
      "  [9.8112000e+04 9.8113000e+04 9.8114000e+04 ... 9.8205000e+04\n",
      "   9.8206000e+04 9.8207000e+04]\n",
      "  [9.8208000e+04 9.8209000e+04 9.8210000e+04 ... 9.8301000e+04\n",
      "   9.8302000e+04 9.8303000e+04]]\n",
      "\n",
      " [[9.8304000e+04 9.8305000e+04 9.8306000e+04 ... 9.8397000e+04\n",
      "   9.8398000e+04 9.8399000e+04]\n",
      "  [9.8400000e+04 9.8401000e+04 9.8402000e+04 ... 9.8493000e+04\n",
      "   9.8494000e+04 9.8495000e+04]\n",
      "  [9.8496000e+04 9.8497000e+04 9.8498000e+04 ... 9.8589000e+04\n",
      "   9.8590000e+04 9.8591000e+04]\n",
      "  ...\n",
      "  [1.4716800e+05 1.4716900e+05 1.4717000e+05 ... 1.4726100e+05\n",
      "   1.4726200e+05 1.4726300e+05]\n",
      "  [1.4726400e+05 1.4726500e+05 1.4726600e+05 ... 1.4735700e+05\n",
      "   1.4735800e+05 1.4735900e+05]\n",
      "  [1.4736000e+05 1.4736100e+05 1.4736200e+05 ... 1.4745300e+05\n",
      "   1.4745400e+05 1.4745500e+05]]\n",
      "\n",
      " ...\n",
      "\n",
      " [[2.5018368e+07 2.5018369e+07 2.5018370e+07 ... 2.5018461e+07\n",
      "   2.5018462e+07 2.5018463e+07]\n",
      "  [2.5018464e+07 2.5018465e+07 2.5018466e+07 ... 2.5018557e+07\n",
      "   2.5018558e+07 2.5018559e+07]\n",
      "  [2.5018560e+07 2.5018561e+07 2.5018562e+07 ... 2.5018653e+07\n",
      "   2.5018654e+07 2.5018655e+07]\n",
      "  ...\n",
      "  [2.5067232e+07 2.5067233e+07 2.5067234e+07 ... 2.5067325e+07\n",
      "   2.5067326e+07 2.5067327e+07]\n",
      "  [2.5067328e+07 2.5067329e+07 2.5067330e+07 ... 2.5067421e+07\n",
      "   2.5067422e+07 2.5067423e+07]\n",
      "  [2.5067424e+07 2.5067425e+07 2.5067426e+07 ... 2.5067517e+07\n",
      "   2.5067518e+07 2.5067519e+07]]\n",
      "\n",
      " [[2.5067520e+07 2.5067521e+07 2.5067522e+07 ... 2.5067613e+07\n",
      "   2.5067614e+07 2.5067615e+07]\n",
      "  [2.5067616e+07 2.5067617e+07 2.5067618e+07 ... 2.5067709e+07\n",
      "   2.5067710e+07 2.5067711e+07]\n",
      "  [2.5067712e+07 2.5067713e+07 2.5067714e+07 ... 2.5067805e+07\n",
      "   2.5067806e+07 2.5067807e+07]\n",
      "  ...\n",
      "  [2.5116384e+07 2.5116385e+07 2.5116386e+07 ... 2.5116477e+07\n",
      "   2.5116478e+07 2.5116479e+07]\n",
      "  [2.5116480e+07 2.5116481e+07 2.5116482e+07 ... 2.5116573e+07\n",
      "   2.5116574e+07 2.5116575e+07]\n",
      "  [2.5116576e+07 2.5116577e+07 2.5116578e+07 ... 2.5116669e+07\n",
      "   2.5116670e+07 2.5116671e+07]]\n",
      "\n",
      " [[2.5116672e+07 2.5116673e+07 2.5116674e+07 ... 2.5116765e+07\n",
      "   2.5116766e+07 2.5116767e+07]\n",
      "  [2.5116768e+07 2.5116769e+07 2.5116770e+07 ... 2.5116861e+07\n",
      "   2.5116862e+07 2.5116863e+07]\n",
      "  [2.5116864e+07 2.5116865e+07 2.5116866e+07 ... 2.5116957e+07\n",
      "   2.5116958e+07 2.5116959e+07]\n",
      "  ...\n",
      "  [2.5165536e+07 2.5165537e+07 2.5165538e+07 ... 2.5165629e+07\n",
      "   2.5165630e+07 2.5165631e+07]\n",
      "  [2.5165632e+07 2.5165633e+07 2.5165634e+07 ... 2.5165725e+07\n",
      "   2.5165726e+07 2.5165727e+07]\n",
      "  [2.5165728e+07 2.5165729e+07 2.5165730e+07 ... 2.5165821e+07\n",
      "   2.5165822e+07 2.5165823e+07]]]\n",
      "(512, 512)\n"
     ]
    },
    {
     "ename": "TypeError",
     "evalue": "show() got an unexpected keyword argument 'cmap'",
     "output_type": "error",
     "traceback": [
      "\u001b[1;31m---------------------------------------------------------------------------\u001b[0m",
      "\u001b[1;31mTypeError\u001b[0m                                 Traceback (most recent call last)",
      "\u001b[1;32m<ipython-input-19-b906351a01fc>\u001b[0m in \u001b[0;36m<module>\u001b[1;34m\u001b[0m\n\u001b[0;32m      7\u001b[0m \u001b[0mmid_slice_x\u001b[0m \u001b[1;33m=\u001b[0m \u001b[0mimgOG_data\u001b[0m\u001b[1;33m[\u001b[0m\u001b[1;33m:\u001b[0m\u001b[1;33m,\u001b[0m\u001b[1;33m:\u001b[0m\u001b[1;33m,\u001b[0m\u001b[1;36m50\u001b[0m\u001b[1;33m]\u001b[0m\u001b[1;33m\u001b[0m\u001b[1;33m\u001b[0m\u001b[0m\n\u001b[0;32m      8\u001b[0m \u001b[0mprint\u001b[0m\u001b[1;33m(\u001b[0m\u001b[0mmid_slice_x\u001b[0m\u001b[1;33m.\u001b[0m\u001b[0mshape\u001b[0m\u001b[1;33m)\u001b[0m\u001b[1;33m\u001b[0m\u001b[1;33m\u001b[0m\u001b[0m\n\u001b[1;32m----> 9\u001b[1;33m \u001b[0mplt\u001b[0m\u001b[1;33m.\u001b[0m\u001b[0mshow\u001b[0m\u001b[1;33m(\u001b[0m\u001b[0mmid_slice_x\u001b[0m\u001b[1;33m.\u001b[0m\u001b[0mT\u001b[0m\u001b[1;33m,\u001b[0m \u001b[0mcmap\u001b[0m\u001b[1;33m=\u001b[0m\u001b[1;34m'gray'\u001b[0m\u001b[1;33m)\u001b[0m\u001b[1;33m\u001b[0m\u001b[1;33m\u001b[0m\u001b[0m\n\u001b[0m",
      "\u001b[1;32m~\\anaconda3\\envs\\TF23\\lib\\site-packages\\matplotlib\\pyplot.py\u001b[0m in \u001b[0;36mshow\u001b[1;34m(*args, **kwargs)\u001b[0m\n\u001b[0;32m    335\u001b[0m     \"\"\"\n\u001b[0;32m    336\u001b[0m     \u001b[0m_warn_if_gui_out_of_main_thread\u001b[0m\u001b[1;33m(\u001b[0m\u001b[1;33m)\u001b[0m\u001b[1;33m\u001b[0m\u001b[1;33m\u001b[0m\u001b[0m\n\u001b[1;32m--> 337\u001b[1;33m     \u001b[1;32mreturn\u001b[0m \u001b[0m_backend_mod\u001b[0m\u001b[1;33m.\u001b[0m\u001b[0mshow\u001b[0m\u001b[1;33m(\u001b[0m\u001b[1;33m*\u001b[0m\u001b[0margs\u001b[0m\u001b[1;33m,\u001b[0m \u001b[1;33m**\u001b[0m\u001b[0mkwargs\u001b[0m\u001b[1;33m)\u001b[0m\u001b[1;33m\u001b[0m\u001b[1;33m\u001b[0m\u001b[0m\n\u001b[0m\u001b[0;32m    338\u001b[0m \u001b[1;33m\u001b[0m\u001b[0m\n\u001b[0;32m    339\u001b[0m \u001b[1;33m\u001b[0m\u001b[0m\n",
      "\u001b[1;31mTypeError\u001b[0m: show() got an unexpected keyword argument 'cmap'"
     ]
    }
   ],
   "source": [
    "img = nib.load(r\"C:\\Users\\UAB\\Kidney-Segmentation-Jupyter\\AllTrainingImages\\101934_0_96_L_K.nii\")\n",
    "img.shape\n",
    "imgOG_data = img.get_fdata()\n",
    "print(type(imgOG_data))\n",
    "print(imgOG_data.shape)\n",
    "print(imgOG_data)\n",
    "mid_slice_x = imgOG_data[:,:,50]\n",
    "print(mid_slice_x.shape)\n",
    "plt.imshow(mid_slice_x.T, cmap='gray')"
   ]
  },
  {
   "cell_type": "code",
   "execution_count": 28,
   "id": "a1fcc48e",
   "metadata": {},
   "outputs": [
    {
     "name": "stdout",
     "output_type": "stream",
     "text": [
      "101934_0_96_L_C.nii 101934_0_96_L_C-label.nii\n"
     ]
    }
   ],
   "source": [
    "data_path = r'C:\\Users\\UAB\\Kidney-Segmentation-Jupyter\\AllTrainingImages'\n",
    "images = []\n",
    "segmentations = []\n",
    "for f in os.listdir(data_path):\n",
    "  if '_K' in f:\n",
    "    continue\n",
    "  else:\n",
    "    images.append(f)\n",
    "    segmentations.append(f.replace('.nii', '-label.nii'))\n",
    "\n",
    "print(images[0], segmentations[0])\n",
    "images = np.array(images)\n",
    "segmentations = np.array(segmentations)\n",
    "\n",
    "indices = np.array(range(len(images))) # we will use this in the next step."
   ]
  },
  {
   "cell_type": "markdown",
   "id": "e99af29a",
   "metadata": {},
   "source": [
    "## Train-validation-test split\n",
    "\n",
    "### TODO: use ```sklearn.model_selection.train_test_split``` to split the data into training and test partitions.\n",
    "\n",
    "The next step is to define the training, validation and test sets.  Use ```sklearn.model_selection.train_test_split``` and the ```indices``` array to create two new arrays with indices corresponding to a training partition with 75% of the data set and a test partition with 25% of the data."
   ]
  },
  {
   "cell_type": "code",
   "execution_count": null,
   "id": "86fb2724",
   "metadata": {},
   "outputs": [],
   "source": [
    "train, test = train_test_split(indices, test_size=0.25) # TODO: split indices into training and test partitions"
   ]
  },
  {
   "cell_type": "markdown",
   "id": "6badfc8c",
   "metadata": {},
   "source": [
    "### TODO: use ```sklearn.model_selection.train_test_split``` to split a validation set from the training partition.\n",
    "​\n",
    "\n",
    "Define a training and validation split. Use ```sklearn.model_selection.train_test_split``` and the ```train``` array to create two new arrays with indices corresponding to a training partition with 75% of the data set and a validation parition with 25% of the data."
   ]
  },
  {
   "cell_type": "code",
   "execution_count": null,
   "id": "df00237e",
   "metadata": {},
   "outputs": [],
   "source": [
    "train, valid = train_test_split(train, test_size=0.25) # TODO: split train into training and validation partitions"
   ]
  },
  {
   "cell_type": "code",
   "execution_count": null,
   "id": "7a4b48cd",
   "metadata": {},
   "outputs": [],
   "source": [
    "print(train)\n",
    "print(valid)\n",
    "print(test)"
   ]
  },
  {
   "cell_type": "markdown",
   "id": "ae6e71f5",
   "metadata": {},
   "source": [
    "Let's double check that there is no overlap in the partitions."
   ]
  },
  {
   "cell_type": "code",
   "execution_count": null,
   "id": "325297e3",
   "metadata": {},
   "outputs": [],
   "source": [
    "assert list(np.intersect1d(train, valid)) == []\n",
    "assert list(np.intersect1d(train, test)) == []\n",
    "assert list(np.intersect1d(valid, test)) == []"
   ]
  },
  {
   "cell_type": "markdown",
   "id": "11bb2024",
   "metadata": {},
   "source": [
    "Below are is a helper function that demonstrates how to read a .nii.gz file with [nibabel](https://nipy.org/nibabel/)."
   ]
  },
  {
   "cell_type": "code",
   "execution_count": null,
   "id": "d0a550fc",
   "metadata": {},
   "outputs": [],
   "source": [
    "def read_nifti_file(path):\n",
    "  nib_object = nib.load(path)\n",
    "  nib_data = nib_object.get_fdata()\n",
    "  return nib_data"
   ]
  },
  {
   "cell_type": "code",
   "execution_count": null,
   "id": "1fe1f68f",
   "metadata": {},
   "outputs": [],
   "source": [
    "example_image = read_nifti_file(data_path+images[train][0]) # TODO: read in the first image from the training partition\n",
    "example_segmentation = read_nifti_file(data_path+segmentations[train][0])  # TODO: read in the first segmentation from the training partition\n",
    "\n",
    "print(example_image.shape, example_segmentation.shape)"
   ]
  },
  {
   "cell_type": "code",
   "execution_count": null,
   "id": "9da64703",
   "metadata": {},
   "outputs": [],
   "source": [
    "fig = plt.figure(figsize=(20,10))\n",
    "ax1 = fig.add_subplot(121)\n",
    "ax1.imshow(example_image[:,:,0], cmap='gray') # TODO: display the first slice from the image\n",
    "ax1.axis('off')\n",
    "ax2 = fig.add_subplot(122)\n",
    "ax2.imshow(example_segmentation[:,:,0])  # TODO: display the first slice from the segmentation\n",
    "ax2.axis('off')"
   ]
  },
  {
   "cell_type": "code",
   "execution_count": null,
   "id": "6d6536a4",
   "metadata": {},
   "outputs": [],
   "source": [
    "def retrieve_images_and_segmentations(data_path, images, segmentations, size=(64,64)):\n",
    "  x = []\n",
    "  y = []\n",
    "  for i in range(len(images)):\n",
    "    seg = read_nifti_file(data_path+segmentations[i])\n",
    "    img = read_nifti_file(data_path+images[i])\n",
    "    assert img.shape == seg.shape\n",
    "    seg = resize(seg,(size[0], size[1], seg.shape[-1]))\n",
    "    img = resize(img,(size[0], size[1], img.shape[-1]))\n",
    "    for j in range(seg.shape[-1]):\n",
    "      # ignore slices that don't have a segmentation\n",
    "      if np.sum(seg[:,:,j]) == 0:\n",
    "        continue\n",
    "      x.append(img[:,:,j])\n",
    "      y.append(seg[:,:,j])\n",
    "  x = np.array(x)[:,:,:,np.newaxis]\n",
    "  y = np.array(y)[:,:,:,np.newaxis]\n",
    "\n",
    "  # randomly shuffle slices\n",
    "  m = x.shape[0]\n",
    "  order = np.random.permutation(m)\n",
    "\n",
    "  return x[order], y[order]"
   ]
  }
 ],
 "metadata": {
  "kernelspec": {
   "display_name": "Python 3 (ipykernel)",
   "language": "python",
   "name": "python3"
  },
  "language_info": {
   "codemirror_mode": {
    "name": "ipython",
    "version": 3
   },
   "file_extension": ".py",
   "mimetype": "text/x-python",
   "name": "python",
   "nbconvert_exporter": "python",
   "pygments_lexer": "ipython3",
   "version": "3.8.5"
  }
 },
 "nbformat": 4,
 "nbformat_minor": 5
}
