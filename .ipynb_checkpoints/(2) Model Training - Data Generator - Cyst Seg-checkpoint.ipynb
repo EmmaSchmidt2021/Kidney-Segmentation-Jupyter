{
 "cells": [
  {
   "cell_type": "markdown",
   "id": "df9f41aa",
   "metadata": {},
   "source": [
    "# This code will train the model and save weights  using a data generator"
   ]
  },
  {
   "cell_type": "markdown",
   "id": "af1d7deb",
   "metadata": {},
   "source": [
    "First Import libraries"
   ]
  },
  {
   "cell_type": "code",
   "execution_count": 1,
   "id": "ead55dba",
   "metadata": {},
   "outputs": [
    {
     "name": "stdout",
     "output_type": "stream",
     "text": [
      "-----------------------------------------\n",
      "keras-unet init: TF version is >= 2.0.0 - using `tf.keras` instead of `Keras`\n",
      "-----------------------------------------\n"
     ]
    }
   ],
   "source": [
    "import os\n",
    "import numpy as np\n",
    "import keras\n",
    "import tensorflow\n",
    "from sklearn.model_selection import train_test_split\n",
    "import nibabel as nib\n",
    "import tensorflow as tf\n",
    "from tensorflow.python.keras.utils.data_utils import Sequence\n",
    "from keras.utils import np_utils\n",
    "from tensorflow.keras.utils import to_categorical\n",
    "import matplotlib.pyplot as plt\n",
    "from skimage import measure\n",
    "from skimage.transform import resize\n",
    "from keras_unet.metrics import dice_coef\n",
    "from keras_unet.models import custom_unet\n",
    "from keras_unet.losses import jaccard_distance\n",
    "from sklearn.model_selection import train_test_split\n",
    "from PIL import Image\n",
    "from PIL import ImageOps\n",
    "import fnmatch\n",
    "import nibabel as nib\n",
    "import shutil"
   ]
  },
  {
   "cell_type": "code",
   "execution_count": 2,
   "id": "4b653625",
   "metadata": {},
   "outputs": [
    {
     "data": {
      "text/plain": [
       "[PhysicalDevice(name='/physical_device:GPU:0', device_type='GPU')]"
      ]
     },
     "execution_count": 2,
     "metadata": {},
     "output_type": "execute_result"
    }
   ],
   "source": [
    "from tensorflow.python.client import device_lib\n",
    "tensorflow.config.list_physical_devices('GPU')"
   ]
  },
  {
   "cell_type": "markdown",
   "id": "4479fed1",
   "metadata": {},
   "source": [
    "Define our Data Generator and other functions to be used later"
   ]
  },
  {
   "cell_type": "code",
   "execution_count": 3,
   "id": "bbce0c39",
   "metadata": {},
   "outputs": [],
   "source": [
    "def gather_set(data_path, phrase):\n",
    "    set_of = []\n",
    "    path = data_path + '\\\\'\n",
    "    for f in os.listdir(data_path):\n",
    "      if phrase in f:\n",
    "        set_of.append(f)\n",
    "      else:\n",
    "        continue\n",
    "    #set_of = np.array(set_of)\n",
    "\n",
    "    indices = np.array(range(len(set_of))) # we will use this in the next step.\n",
    "\n",
    "    return set_of"
   ]
  },
  {
   "cell_type": "code",
   "execution_count": 4,
   "id": "f825451d",
   "metadata": {},
   "outputs": [],
   "source": [
    "def gather_set_and_path(data_path, phrase):\n",
    "    set_of = []\n",
    "    path = data_path + '\\\\'\n",
    "    for f in os.listdir(data_path):\n",
    "      if phrase in f:\n",
    "        set_of.append(str(data_path+f))\n",
    "      else:\n",
    "        continue\n",
    "    #set_of = np.array(set_of)\n",
    "\n",
    "    indices = np.array(range(len(set_of))) # we will use this in the next step.\n",
    "\n",
    "    return set_of"
   ]
  },
  {
   "cell_type": "markdown",
   "id": "7cbe24c3",
   "metadata": {},
   "source": [
    "Define the paths where images and segmentations are located. Gather into groups and arrange into a dictionary that can be split up for training, testing, and validation for the model\n",
    "\n",
    "## Expected Dimmentions\n",
    "\n",
    "Image: (512,512) range: 0:255\n",
    "\n",
    "Label: (512,512) range: 0:1"
   ]
  },
  {
   "cell_type": "code",
   "execution_count": 5,
   "id": "a5640bb7",
   "metadata": {},
   "outputs": [
    {
     "name": "stdout",
     "output_type": "stream",
     "text": [
      "30766\n"
     ]
    }
   ],
   "source": [
    "#data_path_1 = r\"C:\\Users\\UAB\\data\\KU\\data\\\\\"\n",
    "#data_path_2 = r\"C:\\Users\\UAB\\data\\Mayo\\data\\\\\"\n",
    "data_path_3 = r\"C:\\Users\\UAB\\data\\Emory\\data\\\\\"\n",
    "data_path_4 = r\"C:\\Users\\UAB\\data\\UAB\\data\\\\\"\n",
    "\n",
    "#images_1 = gather_set_and_path(data_path_1, '_M')\n",
    "#images_2 = gather_set_and_path(data_path_2, '_M')\n",
    "images_3 = gather_set_and_path(data_path_3, '_M')\n",
    "images_4 = gather_set_and_path(data_path_4, '_M')\n",
    "\n",
    "\n",
    "#images = images_1+images_2+images_3+images_4\n",
    "images = images_3+images_4\n",
    "\n",
    "print(len(images))\n",
    "\n"
   ]
  },
  {
   "cell_type": "code",
   "execution_count": 6,
   "id": "4561eb39",
   "metadata": {},
   "outputs": [
    {
     "name": "stdout",
     "output_type": "stream",
     "text": [
      "23488\n",
      "7278\n"
     ]
    }
   ],
   "source": [
    "#print(len(images_1))\n",
    "#print(len(images_2))\n",
    "print(len(images_3))\n",
    "print(len(images_4))\n"
   ]
  },
  {
   "cell_type": "code",
   "execution_count": 7,
   "id": "4e5e293b",
   "metadata": {},
   "outputs": [
    {
     "data": {
      "text/plain": [
       "<matplotlib.image.AxesImage at 0x1ea2084ab80>"
      ]
     },
     "execution_count": 7,
     "metadata": {},
     "output_type": "execute_result"
    },
    {
     "data": {
      "image/png": "[encoded data removed]",
      "text/plain": [
       "<Figure size 640x480 with 1 Axes>"
      ]
     },
     "metadata": {},
     "output_type": "display_data"
    }
   ],
   "source": [
    "%matplotlib inline\n",
    "\n",
    "image = np.load(images[-1500])\n",
    "plt.imshow(image, cmap='gray')"
   ]
  },
  {
   "cell_type": "code",
   "execution_count": 8,
   "id": "6ea6ad25",
   "metadata": {},
   "outputs": [
    {
     "name": "stdout",
     "output_type": "stream",
     "text": [
      "30766\n"
     ]
    }
   ],
   "source": [
    "#masks_1 = gather_set_and_path(data_path_1, '_K')\n",
    "#masks_2 = gather_set_and_path(data_path_2, '_K')\n",
    "masks_3 = gather_set_and_path(data_path_3, '_K')\n",
    "masks_4 = gather_set_and_path(data_path_4, '_K')\n",
    "\n",
    "#masks = masks_1 + masks_2 + masks_3 + masks_4\n",
    "masks = masks_3 + masks_4\n",
    "print(len(masks))"
   ]
  },
  {
   "cell_type": "code",
   "execution_count": 9,
   "id": "135cb1be",
   "metadata": {},
   "outputs": [
    {
     "data": {
      "text/plain": [
       "<matplotlib.image.AxesImage at 0x1ea20f74130>"
      ]
     },
     "execution_count": 9,
     "metadata": {},
     "output_type": "execute_result"
    },
    {
     "data": {
      "image/png": "[encoded data removed]",
      "text/plain": [
       "<Figure size 640x480 with 1 Axes>"
      ]
     },
     "metadata": {},
     "output_type": "display_data"
    }
   ],
   "source": [
    "mask = np.load(masks[-1500])\n",
    "plt.imshow(mask, cmap='gray')"
   ]
  },
  {
   "cell_type": "code",
   "execution_count": 10,
   "id": "fda92b79",
   "metadata": {},
   "outputs": [
    {
     "name": "stdout",
     "output_type": "stream",
     "text": [
      "30766\n"
     ]
    }
   ],
   "source": [
    "\n",
    "#labels_1 = gather_set_and_path(data_path_1, '_C')\n",
    "#labels_2 = gather_set_and_path(data_path_2, '_C')\n",
    "labels_3 = gather_set_and_path(data_path_3, '_C')\n",
    "labels_4 = gather_set_and_path(data_path_4, '_C')\n",
    "\n",
    "#labels = labels_1 + labels_2 + labels_3 + labels_4\n",
    "labels = labels_3 + labels_4\n",
    "print(len(labels))\n"
   ]
  },
  {
   "cell_type": "code",
   "execution_count": 11,
   "id": "842cb74c",
   "metadata": {},
   "outputs": [
    {
     "data": {
      "text/plain": [
       "<matplotlib.image.AxesImage at 0x1ea20597cd0>"
      ]
     },
     "execution_count": 11,
     "metadata": {},
     "output_type": "execute_result"
    },
    {
     "data": {
      "image/png": "[encoded data removed]",
      "text/plain": [
       "<Figure size 640x480 with 1 Axes>"
      ]
     },
     "metadata": {},
     "output_type": "display_data"
    }
   ],
   "source": [
    "label = np.load(labels[-1500])\n",
    "plt.imshow(label, cmap='gray')"
   ]
  },
  {
   "cell_type": "code",
   "execution_count": 12,
   "id": "22de95ad",
   "metadata": {},
   "outputs": [
    {
     "name": "stdout",
     "output_type": "stream",
     "text": [
      "C:\\Users\\UAB\\data\\UAB\\data\\\\UB_479334_1_93_L_57_K.npy\n",
      "C:\\Users\\UAB\\data\\UAB\\data\\\\UB_479334_1_93_L_57_M.npy\n",
      "C:\\Users\\UAB\\data\\UAB\\data\\\\UB_479334_1_93_L_57_C.npy\n",
      "(512, 512) 129 0\n",
      "(512, 512) 1 0\n",
      "(512, 512) 1 0\n"
     ]
    }
   ],
   "source": [
    "print(masks[-1500])\n",
    "print(images[-1500])\n",
    "print(labels[-1500])\n",
    "test_img = np.load(images[100])\n",
    "print(test_img.shape, test_img.max(), test_img.min())\n",
    "test_msk = np.load(masks[100])\n",
    "print(test_msk.shape, test_msk.max(), test_msk.min())\n",
    "test_lab = np.load(labels[100])\n",
    "print(test_lab.shape, test_lab.max(), test_lab.min())\n"
   ]
  },
  {
   "cell_type": "markdown",
   "id": "325bbedb",
   "metadata": {},
   "source": [
    "## Define Image and Label ID for data generator\n",
    "\n",
    "Here the \"test train split\" will need to be replaced so we have the whole patient in one or the other\"\n"
   ]
  },
  {
   "cell_type": "code",
   "execution_count": 13,
   "id": "6251de22",
   "metadata": {},
   "outputs": [],
   "source": [
    "d = {}\n",
    "for i in images:\n",
    "    if i not in d:\n",
    "        d[i] = len(d)\n",
    "\n",
    "labels_mapping = list(map(d.get, images))\n",
    "#print(labels_mapping)\n",
    "\n",
    "labels = {images[i]:labels_mapping[i] for i in range(len(images))}"
   ]
  },
  {
   "cell_type": "code",
   "execution_count": 14,
   "id": "d469958c",
   "metadata": {},
   "outputs": [
    {
     "name": "stdout",
     "output_type": "stream",
     "text": [
      "30766\n"
     ]
    }
   ],
   "source": [
    "print(len(labels))"
   ]
  },
  {
   "cell_type": "code",
   "execution_count": 15,
   "id": "d7c27810",
   "metadata": {},
   "outputs": [
    {
     "name": "stdout",
     "output_type": "stream",
     "text": [
      "EM_200922_0\n"
     ]
    }
   ],
   "source": [
    "import os\n",
    "img_name = os.path.basename(images[0])[0:11]\n",
    "print(img_name)"
   ]
  },
  {
   "cell_type": "markdown",
   "id": "68495280",
   "metadata": {},
   "source": [
    "Image separation for entire patient in training or validation - use with single set of images\n"
   ]
  },
  {
   "cell_type": "code",
   "execution_count": 16,
   "id": "dbf10728",
   "metadata": {},
   "outputs": [],
   "source": [
    "from sklearn.model_selection import train_test_split\n",
    "\n",
    "\n",
    "id_list = []   \n",
    "for i in range(len(images)):\n",
    "    image_name = os.path.basename(images[i])\n",
    "    unique_id =  image_name[0:11]\n",
    "    id_list.append(unique_id)\n",
    "\n",
    "unique_ids = list(set(id_list))"
   ]
  },
  {
   "cell_type": "code",
   "execution_count": 17,
   "id": "6b8dac9c",
   "metadata": {},
   "outputs": [
    {
     "name": "stdout",
     "output_type": "stream",
     "text": [
      "143\n"
     ]
    }
   ],
   "source": [
    "print(len(unique_ids))"
   ]
  },
  {
   "cell_type": "code",
   "execution_count": 18,
   "id": "6b271e3e",
   "metadata": {},
   "outputs": [],
   "source": [
    "train, val = train_test_split(unique_ids, train_size = 0.8)"
   ]
  },
  {
   "cell_type": "code",
   "execution_count": 19,
   "id": "ec177310",
   "metadata": {},
   "outputs": [
    {
     "name": "stdout",
     "output_type": "stream",
     "text": [
      "114\n",
      "29\n"
     ]
    }
   ],
   "source": [
    "print(len(train))\n",
    "print(len(val))"
   ]
  },
  {
   "cell_type": "code",
   "execution_count": 20,
   "id": "026c2dcc",
   "metadata": {},
   "outputs": [
    {
     "name": "stdout",
     "output_type": "stream",
     "text": [
      "['EM_246620_2', 'UB_479334_2']\n"
     ]
    }
   ],
   "source": [
    "print(train[0:2])"
   ]
  },
  {
   "cell_type": "code",
   "execution_count": 21,
   "id": "77296814",
   "metadata": {},
   "outputs": [],
   "source": [
    "#use this when images do not contain filepath:\n",
    "#train_list = [image for image in images if image[0:8] in train]\n",
    "#val_list = [image for image in images if image[0:8] in val] "
   ]
  },
  {
   "cell_type": "code",
   "execution_count": 22,
   "id": "a69dda70",
   "metadata": {},
   "outputs": [],
   "source": [
    "train_list = []\n",
    "for i in range(len(images)):\n",
    "    if any(phrase in images[i] for phrase in train):\n",
    "        train_list.append(images[i])"
   ]
  },
  {
   "cell_type": "code",
   "execution_count": 23,
   "id": "6e496b92",
   "metadata": {},
   "outputs": [],
   "source": [
    "val_list = [] \n",
    "for i in range(len(images)):\n",
    "    if any(phrase in images[i] for phrase in val):\n",
    "        val_list.append(images[i])"
   ]
  },
  {
   "cell_type": "code",
   "execution_count": 24,
   "id": "948d0805",
   "metadata": {},
   "outputs": [
    {
     "name": "stdout",
     "output_type": "stream",
     "text": [
      "24540\n",
      "6226\n",
      "30766\n",
      "30766\n"
     ]
    }
   ],
   "source": [
    "print(len(train_list))\n",
    "print(len(val_list))\n",
    "print(len(train_list)+len(val_list))\n",
    "print(len(images))"
   ]
  },
  {
   "cell_type": "code",
   "execution_count": 25,
   "id": "7a909436",
   "metadata": {},
   "outputs": [],
   "source": [
    "partition = {'train':train_list, 'validation':val_list}"
   ]
  },
  {
   "cell_type": "markdown",
   "id": "cac6d568",
   "metadata": {},
   "source": [
    "## Use for crossfold validation:"
   ]
  },
  {
   "cell_type": "code",
   "execution_count": 27,
   "id": "dcc3248c",
   "metadata": {},
   "outputs": [],
   "source": [
    "d = {}\n",
    "for i in images:\n",
    "    if i not in d:\n",
    "        d[i] = len(d)\n",
    "\n",
    "labels_mapping = list(map(d.get, images))\n",
    "#print(labels_mapping)\n",
    "\n",
    "labels = {images[i]:labels_mapping[i] for i in range(len(images))}"
   ]
  },
  {
   "cell_type": "code",
   "execution_count": 28,
   "id": "f6984d9c",
   "metadata": {},
   "outputs": [],
   "source": [
    "train_sets = ['MA_', 'KU_', \"EM_\"]\n",
    "val_sets = [\"UB_\"]\n",
    "\n",
    "train_list = []\n",
    "for i in range(len(images)):\n",
    "    if any(phrase in images[i] for phrase in train_sets):\n",
    "        train_list.append(images[i])\n"
   ]
  },
  {
   "cell_type": "code",
   "execution_count": 29,
   "id": "69b5ee6a",
   "metadata": {},
   "outputs": [
    {
     "name": "stdout",
     "output_type": "stream",
     "text": [
      "C:\\Users\\UAB\\data\\Emory\\data\\\\EM_200922_0_144_L_60_M.npy\n"
     ]
    }
   ],
   "source": [
    "print(train_list[100])"
   ]
  },
  {
   "cell_type": "code",
   "execution_count": 30,
   "id": "14b766a5",
   "metadata": {},
   "outputs": [],
   "source": [
    "val_list = [] \n",
    "for i in range(len(images)):\n",
    "    if any(phrase in images[i] for phrase in val_sets):\n",
    "        val_list.append(images[i])\n"
   ]
  },
  {
   "cell_type": "code",
   "execution_count": 31,
   "id": "68ef4983",
   "metadata": {},
   "outputs": [
    {
     "name": "stdout",
     "output_type": "stream",
     "text": [
      "C:\\Users\\UAB\\data\\UAB\\data\\\\UB_407132_0_95_R_14_M.npy\n"
     ]
    }
   ],
   "source": [
    "print(val_list[100])"
   ]
  },
  {
   "cell_type": "code",
   "execution_count": 32,
   "id": "975fa011",
   "metadata": {},
   "outputs": [
    {
     "name": "stdout",
     "output_type": "stream",
     "text": [
      "23488\n",
      "7278\n"
     ]
    }
   ],
   "source": [
    "partition = {'train':train_list, 'validation':val_list}\n",
    "print(len(train_list))\n",
    "print(len(val_list))"
   ]
  },
  {
   "cell_type": "markdown",
   "id": "421286ae",
   "metadata": {},
   "source": [
    "# Create our data generators "
   ]
  },
  {
   "cell_type": "code",
   "execution_count": 26,
   "id": "6b5858fa",
   "metadata": {},
   "outputs": [],
   "source": [
    "from Data_Gen_Cyst import DataGeneratorCyst\n",
    "from Data_Gen_Mask import DataGeneratorK\n",
    "from Data_Gen import DataGenerator "
   ]
  },
  {
   "cell_type": "code",
   "execution_count": 35,
   "id": "46b84ee7",
   "metadata": {},
   "outputs": [],
   "source": [
    "params = {'dim': (512,512),\n",
    "          'batch_size': 32,\n",
    "          'n_classes': 2,\n",
    "          'n_channels': 1,\n",
    "          'shuffle': True}\n",
    "training_generator = DataGenerator(partition['train'], labels, **params)\n",
    "validation_generator = DataGenerator(partition['validation'], labels, **params)"
   ]
  },
  {
   "cell_type": "code",
   "execution_count": 27,
   "id": "400a7e1d",
   "metadata": {},
   "outputs": [],
   "source": [
    "params = {'dim': (512,512),\n",
    "          'batch_size': 32,\n",
    "          'n_classes': 2,\n",
    "          'n_channels': 2,\n",
    "          'shuffle': True}\n",
    "training_generator = DataGeneratorK(partition['train'], labels, **params)\n",
    "validation_generator = DataGeneratorK(partition['validation'], labels, **params)"
   ]
  },
  {
   "cell_type": "code",
   "execution_count": 28,
   "id": "e62be4f3",
   "metadata": {},
   "outputs": [],
   "source": [
    "params = {'dim': (512,512),\n",
    "          'batch_size': 32,\n",
    "          'n_classes': 2,\n",
    "          'n_channels': 1,\n",
    "          'shuffle': True}\n",
    "training_generator = DataGeneratorCyst(partition['train'], labels, **params)\n",
    "validation_generator = DataGeneratorCyst(partition['validation'], labels, **params)"
   ]
  },
  {
   "cell_type": "code",
   "execution_count": 28,
   "id": "ec9cbe50",
   "metadata": {
    "scrolled": true
   },
   "outputs": [
    {
     "name": "stdout",
     "output_type": "stream",
     "text": [
      "(32, 512, 512, 2) (32, 512, 512, 2)\n"
     ]
    }
   ],
   "source": [
    "X, y = training_generator[8]\n",
    "print(X.shape, y.shape)"
   ]
  },
  {
   "cell_type": "markdown",
   "id": "173ff990",
   "metadata": {},
   "source": [
    "## View output"
   ]
  },
  {
   "cell_type": "code",
   "execution_count": 32,
   "id": "d45b529d",
   "metadata": {},
   "outputs": [
    {
     "name": "stdout",
     "output_type": "stream",
     "text": [
      "(512, 512) 228.0 0.0\n",
      "(512, 512) 1.0 0.0\n"
     ]
    },
    {
     "data": {
      "text/plain": [
       "<matplotlib.image.AxesImage at 0x1ea299cba90>"
      ]
     },
     "execution_count": 32,
     "metadata": {},
     "output_type": "execute_result"
    },
    {
     "data": {
      "image/png": "[encoded data removed]",
      "text/plain": [
       "<Figure size 640x480 with 1 Axes>"
      ]
     },
     "metadata": {},
     "output_type": "display_data"
    }
   ],
   "source": [
    "X_img = X[10,:,:,0]\n",
    "X_msk =X[10,:,:,1] \n",
    "print(X_img.shape, X_img.max(), X_img.min())\n",
    "print(X_msk.shape, X_msk.max(), X_msk.min())\n",
    "\n",
    "import matplotlib.pyplot as plt\n",
    "%matplotlib inline\n",
    "plt.imshow(X_img, cmap=\"gray\")"
   ]
  },
  {
   "cell_type": "code",
   "execution_count": 33,
   "id": "7f09b7b3",
   "metadata": {},
   "outputs": [
    {
     "data": {
      "text/plain": [
       "<matplotlib.image.AxesImage at 0x1ea29a27070>"
      ]
     },
     "execution_count": 33,
     "metadata": {},
     "output_type": "execute_result"
    },
    {
     "data": {
      "image/png": "[encoded data removed]",
      "text/plain": [
       "<Figure size 640x480 with 1 Axes>"
      ]
     },
     "metadata": {},
     "output_type": "display_data"
    }
   ],
   "source": [
    "%matplotlib inline\n",
    "plt.imshow(X_msk, cmap=\"gray\")"
   ]
  },
  {
   "cell_type": "code",
   "execution_count": 35,
   "id": "a93acd97",
   "metadata": {},
   "outputs": [
    {
     "name": "stdout",
     "output_type": "stream",
     "text": [
      "(512, 512) 1.0 0.0\n"
     ]
    },
    {
     "data": {
      "text/plain": [
       "<Figure size 640x480 with 0 Axes>"
      ]
     },
     "metadata": {},
     "output_type": "display_data"
    },
    {
     "data": {
      "image/png": "[encoded data removed]",
      "text/plain": [
       "<Figure size 640x480 with 2 Axes>"
      ]
     },
     "metadata": {},
     "output_type": "display_data"
    }
   ],
   "source": [
    "y_batch = y[10,:,:,:]\n",
    "y_batch.shape\n",
    "y_img_0 = y_batch[:,:,0]\n",
    "y_img_1 = y_batch[:,:,1]\n",
    "print(y_img_0.shape, y_img_0.max(), y_img_0.min())\n",
    "\n",
    "\n",
    "plt.figure()\n",
    "f, axarr = plt.subplots(1,2)\n",
    "axarr[0].imshow(y_img_0, cmap=\"gray\")\n",
    "axarr[0].title.set_text('First Axis')\n",
    "axarr[1].imshow(y_img_1, cmap='gray')\n",
    "axarr[1].title.set_text('Second Axis')"
   ]
  },
  {
   "cell_type": "code",
   "execution_count": 36,
   "id": "84ce4c11",
   "metadata": {},
   "outputs": [],
   "source": [
    "model = custom_unet(input_shape=(512,512,2), num_classes=2)\n",
    "#model.summary()"
   ]
  },
  {
   "cell_type": "code",
   "execution_count": 63,
   "id": "d52ccaa6",
   "metadata": {},
   "outputs": [],
   "source": [
    "from timeit import default_timer as timer\n",
    "\n",
    "class TimingCallback(keras.callbacks.Callback):\n",
    "    def __init__(self, logs={}):\n",
    "        self.logs=[]\n",
    "    def on_epoch_begin(self, epoch, logs={}):\n",
    "        self.starttime = timer()\n",
    "    def on_epoch_end(self, epoch, logs={}):\n",
    "        self.logs.append(timer()-self.starttime)"
   ]
  },
  {
   "cell_type": "code",
   "execution_count": 86,
   "id": "2f604f0b",
   "metadata": {},
   "outputs": [],
   "source": [
    "# define the checkpoint\n",
    "from keras.callbacks import ModelCheckpoint\n",
    "model_name = \"kidney_mask_test.h5\"\n",
    "filepath = model_name\n",
    "checkpoint = ModelCheckpoint(filepath, monitor='loss', verbose=1, save_best_only=True, mode='min')\n",
    "callbacks_list = [checkpoint]\n",
    "cb = TimingCallback()"
   ]
  },
  {
   "cell_type": "code",
   "execution_count": 65,
   "id": "6c38ba48",
   "metadata": {},
   "outputs": [],
   "source": [
    "model.compile(\n",
    "  optimizer=tf.keras.optimizers.Adam(learning_rate=3e-4),\n",
    "  loss=jaccard_distance,\n",
    "  metrics=[dice_coef])"
   ]
  },
  {
   "cell_type": "code",
   "execution_count": 66,
   "id": "81680cd8",
   "metadata": {},
   "outputs": [
    {
     "name": "stdout",
     "output_type": "stream",
     "text": [
      "Epoch 1/2\n",
      "766/766 [==============================] - 348s 450ms/step - loss: 0.0204 - dice_coef: 0.9897 - val_loss: 0.0047 - val_dice_coef: 0.9976\n",
      "Epoch 2/2\n",
      "766/766 [==============================] - 343s 447ms/step - loss: 0.0052 - dice_coef: 0.9974 - val_loss: 0.0035 - val_dice_coef: 0.9982\n"
     ]
    }
   ],
   "source": [
    "# Train model on dataset\n",
    "history = model.fit(training_generator, epochs = 2,\n",
    "                    validation_data = validation_generator,\n",
    "                    use_multiprocessing=False,\n",
    "                    workers=6, batch_size = 32,callbacks=[cb])"
   ]
  },
  {
   "cell_type": "code",
   "execution_count": 67,
   "id": "5627945e",
   "metadata": {},
   "outputs": [
    {
     "name": "stdout",
     "output_type": "stream",
     "text": [
      "[347.9999102999998, 343.17067970000016]\n",
      "691.17059\n"
     ]
    }
   ],
   "source": [
    "print(cb.logs)\n",
    "print(sum(cb.logs))"
   ]
  },
  {
   "cell_type": "code",
   "execution_count": 68,
   "id": "8e31cd6a",
   "metadata": {},
   "outputs": [
    {
     "data": {
      "text/plain": [
       "11.519509833333332"
      ]
     },
     "execution_count": 68,
     "metadata": {},
     "output_type": "execute_result"
    }
   ],
   "source": [
    "sum(cb.logs)/60"
   ]
  },
  {
   "cell_type": "code",
   "execution_count": 79,
   "id": "e1991d88",
   "metadata": {},
   "outputs": [
    {
     "name": "stdout",
     "output_type": "stream",
     "text": [
      "[347.9999102999998, 343.17067970000016]\n"
     ]
    }
   ],
   "source": [
    "time = list(cb.logs)\n",
    "print(time)"
   ]
  },
  {
   "cell_type": "code",
   "execution_count": 78,
   "id": "b04ad4b2",
   "metadata": {},
   "outputs": [],
   "source": [
    "df = pd.DataFrame.from_dict(history.history)"
   ]
  },
  {
   "cell_type": "code",
   "execution_count": 80,
   "id": "3b596fc1",
   "metadata": {},
   "outputs": [],
   "source": [
    "df['epoch_time'] = np.array(cb.logs)"
   ]
  },
  {
   "cell_type": "code",
   "execution_count": 83,
   "id": "b8869fa5",
   "metadata": {},
   "outputs": [],
   "source": [
    "df.to_csv('out.csv')"
   ]
  },
  {
   "cell_type": "code",
   "execution_count": 84,
   "id": "57ab27cf",
   "metadata": {},
   "outputs": [
    {
     "name": "stdout",
     "output_type": "stream",
     "text": [
      "   Unnamed: 0      loss  dice_coef  val_loss  val_dice_coef  epoch_time\n",
      "0           0  0.020356   0.989691  0.004686       0.997619   347.99991\n",
      "1           1  0.005203   0.997358  0.003485       0.998226   343.17068\n"
     ]
    }
   ],
   "source": [
    "import pandas as pd\n",
    "\n",
    "DF = pd.read_csv('out.csv')\n",
    "\n",
    "print(DF) "
   ]
  },
  {
   "cell_type": "code",
   "execution_count": 87,
   "id": "4df13ea8",
   "metadata": {},
   "outputs": [],
   "source": [
    "from keras.models import Sequential, load_model\n",
    "model.save(model_name)    "
   ]
  },
  {
   "cell_type": "code",
   "execution_count": 69,
   "id": "f63e7e21",
   "metadata": {},
   "outputs": [
    {
     "data": {
      "image/png": "[encoded data removed]",
      "text/plain": [
       "<Figure size 640x480 with 1 Axes>"
      ]
     },
     "metadata": {},
     "output_type": "display_data"
    }
   ],
   "source": [
    "%matplotlib inline\n",
    "plt.plot(range(len(history.history['loss'])), history.history['loss'], '-') #TODO: plot the training loss learning curve\n",
    "plt.plot(range(len(history.history['val_loss'])), history.history['val_loss'], '-') #TODO: plot the validation loss learning curve\n",
    "plt.xlabel('epoch')\n",
    "plt.xlabel('Jaccard loss')\n",
    "\n",
    "plt.show()"
   ]
  },
  {
   "cell_type": "code",
   "execution_count": 70,
   "id": "b50acca1",
   "metadata": {},
   "outputs": [
    {
     "data": {
      "text/plain": [
       "Text(0.5, 0, 'Dice coefficient')"
      ]
     },
     "execution_count": 70,
     "metadata": {},
     "output_type": "execute_result"
    },
    {
     "data": {
      "image/png": "[encoded data removed]",
      "text/plain": [
       "<Figure size 640x480 with 1 Axes>"
      ]
     },
     "metadata": {},
     "output_type": "display_data"
    }
   ],
   "source": [
    "plt.plot(range(len(history.history['dice_coef'])), history.history['dice_coef'], '-') #TODO: plot the training dice_coef learning curve\n",
    "\n",
    "plt.plot(range(len(history.history['val_dice_coef'])), history.history['val_dice_coef'], '-') #TODO: plot the validation dice_coef learning curve\n",
    "plt.xlabel('epoch')\n",
    "plt.xlabel('Dice coefficient')"
   ]
  },
  {
   "cell_type": "code",
   "execution_count": 85,
   "id": "2c1f2028",
   "metadata": {},
   "outputs": [
    {
     "data": {
      "image/png": "[encoded data removed]",
      "text/plain": [
       "<Figure size 640x480 with 1 Axes>"
      ]
     },
     "metadata": {},
     "output_type": "display_data"
    }
   ],
   "source": [
    "%matplotlib inline\n",
    "plt.plot(range(len(DF['loss'])), DF['loss'], '-') #TODO: plot the training loss learning curve\n",
    "plt.plot(range(len(DF['val_loss'])), DF['val_loss'], '-') #TODO: plot the validation loss learning curve\n",
    "plt.xlabel('epoch')\n",
    "plt.xlabel('Jaccard loss')\n",
    "\n",
    "plt.show()"
   ]
  },
  {
   "cell_type": "code",
   "execution_count": 62,
   "id": "01db2dda",
   "metadata": {},
   "outputs": [
    {
     "data": {
      "text/plain": [
       "Text(0.5, 0, 'Dice coefficient')"
      ]
     },
     "execution_count": 62,
     "metadata": {},
     "output_type": "execute_result"
    },
    {
     "data": {
      "image/png": "[encoded data removed]",
      "text/plain": [
       "<Figure size 640x480 with 1 Axes>"
      ]
     },
     "metadata": {},
     "output_type": "display_data"
    }
   ],
   "source": [
    "plt.plot(range(len(df['dice_coef'])), df['dice_coef'], '-') #TODO: plot the training dice_coef learning curve\n",
    "\n",
    "plt.plot(range(len(df['val_dice_coef'])), df['val_dice_coef'], '-') #TODO: plot the validation dice_coef learning curve\n",
    "plt.xlabel('epoch')\n",
    "plt.xlabel('Dice coefficient')"
   ]
  },
  {
   "cell_type": "code",
   "execution_count": 49,
   "id": "41168688",
   "metadata": {},
   "outputs": [],
   "source": []
  },
  {
   "cell_type": "code",
   "execution_count": null,
   "id": "50c44dc6",
   "metadata": {},
   "outputs": [],
   "source": []
  }
 ],
 "metadata": {
  "kernelspec": {
   "display_name": "TF23",
   "language": "python",
   "name": "tf23"
  },
  "language_info": {
   "codemirror_mode": {
    "name": "ipython",
    "version": 3
   },
   "file_extension": ".py",
   "mimetype": "text/x-python",
   "name": "python",
   "nbconvert_exporter": "python",
   "pygments_lexer": "ipython3",
   "version": "3.8.5"
  }
 },
 "nbformat": 4,
 "nbformat_minor": 5
}
