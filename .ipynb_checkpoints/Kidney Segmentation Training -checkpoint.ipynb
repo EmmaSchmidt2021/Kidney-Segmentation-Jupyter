{
 "cells": [
  {
   "cell_type": "markdown",
   "id": "4ddf0038",
   "metadata": {},
   "source": [
    "### SIIM ML Education Sub-Committee\n",
    "Tutorial Notebook Series\n",
    "\n",
    "Tutorial Authors:\\\n",
    "Timothy Kline, PhD\\\n",
    "Darryl Wright, PhD"
   ]
  },
  {
   "cell_type": "markdown",
   "id": "01013a33",
   "metadata": {},
   "source": [
    "### The goal of this jupyter notebook is to direct the code to a local collection of MRI images and segment out the kidney"
   ]
  },
  {
   "cell_type": "markdown",
   "id": "3a54e0f7",
   "metadata": {},
   "source": [
    "import libraries"
   ]
  },
  {
   "cell_type": "code",
   "execution_count": 1,
   "id": "de6970ee",
   "metadata": {},
   "outputs": [
    {
     "name": "stdout",
     "output_type": "stream",
     "text": [
      "-----------------------------------------\n",
      "keras-unet init: TF version is >= 2.0.0 - using `tf.keras` instead of `Keras`\n",
      "-----------------------------------------\n"
     ]
    }
   ],
   "source": [
    "import os\n",
    "import numpy as np\n",
    "import nibabel as nib\n",
    "import tensorflow as tf\n",
    "import matplotlib.pyplot as plt\n",
    "from skimage import measure\n",
    "from skimage.transform import resize\n",
    "from keras_unet.metrics import dice_coef\n",
    "from keras_unet.models import custom_unet\n",
    "from keras_unet.losses import jaccard_distance\n",
    "from sklearn.model_selection import train_test_split\n",
    "from PIL import Image as im\n",
    "from PIL import ImageOps\n",
    "import fnmatch\n",
    "import nibabel as nib"
   ]
  },
  {
   "cell_type": "markdown",
   "id": "279a48e0",
   "metadata": {},
   "source": [
    "## First convert the ImageJ raw images to .nii format\n",
    "Navigate to the folder that contains the raw images"
   ]
  },
  {
   "cell_type": "code",
   "execution_count": 2,
   "id": "d728823f",
   "metadata": {},
   "outputs": [],
   "source": [
    "# figure out difference that needs to be made up in rows/columns\n",
    "def padding(img, expected_size):\n",
    "    desired_size = expected_size\n",
    "    delta_width = desired_size - img.size[0]\n",
    "    delta_height = desired_size - img.size[1]\n",
    "    pad_width = delta_width // 2\n",
    "    pad_height = delta_height // 2\n",
    "    padding = (pad_width, pad_height, delta_width - pad_width, delta_height - pad_height)\n",
    "    return ImageOps.expand(img, padding)\n",
    "\n",
    "#after calculating the padding, add in the padding to rows and columns to meet new expected size\n",
    "def resize_with_padding(img, expected_size):\n",
    "    img.thumbnail((expected_size[0], expected_size[1]))\n",
    "    # print(img.size)\n",
    "    delta_width = expected_size[0] - img.size[0]\n",
    "    delta_height = expected_size[1] - img.size[1]\n",
    "    pad_width = delta_width // 2\n",
    "    pad_height = delta_height // 2\n",
    "    padding = (pad_width, pad_height, delta_width - pad_width, delta_height - pad_height)\n",
    "    return ImageOps.expand(img, padding)"
   ]
  },
  {
   "cell_type": "code",
   "execution_count": 3,
   "id": "ec72903a",
   "metadata": {},
   "outputs": [],
   "source": [
    "raw_path = r'C:\\Users\\UAB\\Kidney-Segmentation-Jupyter\\Unconverted Images'\n",
    "new_path = r'C:\\Users\\UAB\\Kidney-Segmentation-Jupyter\\Unconverted Images\\NPY'\n",
    "final_path = r'C:\\Users\\UAB\\Kidney-Segmentation-Jupyter\\AllTrainingImages'\n",
    "new_size = 512"
   ]
  },
  {
   "cell_type": "code",
   "execution_count": 4,
   "id": "3e82d8d5",
   "metadata": {},
   "outputs": [
    {
     "name": "stdout",
     "output_type": "stream",
     "text": [
      "\n",
      "Patient Folders have been identified\n",
      "\n",
      "\n",
      "Filenames have been found and added\n",
      "\n"
     ]
    }
   ],
   "source": [
    "patient_folders = []\n",
    "pt_fnames = []\n",
    "\n",
    "import os\n",
    "for root, dirs, files in os.walk(os.path.normpath(raw_path), topdown=True):\n",
    "    for name in files:\n",
    "        #print(os.path.join(root, name))\n",
    "        pt_fnames.append(os.path.join(root, name))\n",
    "print('\\nPatient Folders have been identified\\n')\n",
    "#sort through and get only the files with ROI in them\n",
    "#this eliminates the tiff and 3D files \n",
    "#%%\n",
    "ROI_list = []\n",
    "for j in range(len(pt_fnames)):\n",
    "    ROI_name = 'ROI'\n",
    "    filename = os.path.basename(pt_fnames[j])\n",
    "    if ROI_name in filename:\n",
    "        ROI_list.append(pt_fnames[j])\n",
    "print('\\nFilenames have been found and added\\n')"
   ]
  },
  {
   "cell_type": "code",
   "execution_count": 25,
   "id": "9af49a69",
   "metadata": {},
   "outputs": [
    {
     "name": "stdout",
     "output_type": "stream",
     "text": [
      "Converting 120 files\n",
      "101934 y0 t3 Cyst ROI Left 8bit 137 178 96 has been padded and renamed 101934_0_96_L_C\n",
      "101934 y0 t3 Cyst ROI Right 8bit 125 221 96 has been padded and renamed 101934_0_96_R_C\n",
      "101934 y0 t3 Image ROI Left 8bit 137 178 96 has been padded and renamed 101934_0_96_L_M\n",
      "101934 y0 t3 Image ROI Right 8bit 125 221 96 has been padded and renamed 101934_0_96_R_M\n",
      "101934 y0 t3 Kidney ROI Left 8bit 137 178 96 has been padded and renamed 101934_0_96_L_K\n",
      "101934 y0 t3 Kidney ROI Right 8bit 125 221 96 has been padded and renamed 101934_0_96_R_K\n",
      "101934 y1 t3 Cyst ROI Left 8bit 134 167 96 has been padded and renamed 101934_1_96_L_C\n",
      "101934 y1 t3 Cyst ROI Right 8bit 119 205 96 has been padded and renamed 101934_1_96_R_C\n",
      "101934 y1 t3 Image ROI Left 8bit 134 167 96 has been padded and renamed 101934_1_96_L_M\n",
      "101934 y1 t3 Image ROI Right 8bit 119 205 96 has been padded and renamed 101934_1_96_R_M\n",
      "101934 y1 t3 Kidney ROI Left 8bit 134 167 96 has been padded and renamed 101934_1_96_L_K\n",
      "101934 y1 t3 Kidney ROI Right 8bit 119 205 96 has been padded and renamed 101934_1_96_R_K\n",
      "101934 y2 t3 Cyst ROI Left 8bit 142 202 96 has been padded and renamed 101934_2_96_L_C\n",
      "101934 y2 t3 Cyst ROI Right 8bit 125 221 96 has been padded and renamed 101934_2_96_R_C\n",
      "101934 y2 t3 Image ROI Left 8bit 142 202 96 has been padded and renamed 101934_2_96_L_M\n",
      "101934 y2 t3 Image ROI Right 8bit 125 221 96 has been padded and renamed 101934_2_96_R_M\n",
      "101934 y2 t3 Kidney ROI Left 8bit 142 202 96 has been padded and renamed 101934_2_96_L_K\n",
      "101934 y2 t3 Kidney ROI Right 8bit 125 221 96 has been padded and renamed 101934_2_96_R_K\n",
      "101934 y3 t3 Cyst ROI Left 8bit 153 186 96 has been padded and renamed 101934_3_96_L_C\n",
      "101934 y3 t3 Cyst ROI Right 8bit 130 214 96 has been padded and renamed 101934_3_96_R_C\n",
      "101934 y3 t3 Image ROI Left 8bit 153 186 96 has been padded and renamed 101934_3_96_L_M\n",
      "101934 y3 t3 Image ROI Right 8bit 130 214 96 has been padded and renamed 101934_3_96_R_M\n",
      "101934 y3 t3 Kidney ROI Left 8bit 153 186 96 has been padded and renamed 101934_3_96_L_K\n",
      "101934 y3 t3 Kidney ROI Right 8bit 130 214 96 has been padded and renamed 101934_3_96_R_K\n",
      "105005 y0 3t Cyst ROI Left 8bit 153 181 84 has been padded and renamed 105005_0_84_L_C\n",
      "105005 y0 3t Cyst ROI Right 8bit 139 200 84 has been padded and renamed 105005_0_84_R_C\n",
      "105005 y0 3t Image ROI Left 8bit 153 181 84 has been padded and renamed 105005_0_84_L_M\n",
      "105005 y0 3t Image ROI Right 8bit 139 200 84 has been padded and renamed 105005_0_84_R_M\n",
      "105005 y0 3t Kidney ROI Left 8bit 153 181 84 has been padded and renamed 105005_0_84_L_K\n",
      "105005 y0 3t Kidney ROI Right 8bit 139 200 84 has been padded and renamed 105005_0_84_R_K\n",
      "105005 y1 3t Cyst ROI Left 8bit 233 180 99 has been padded and renamed 105005_1_99_L_C\n",
      "105005 y1 3t Cyst ROI Right 8bit 131 186 99 has been padded and renamed 105005_1_99_R_C\n",
      "105005 y1 3t Image ROI Left 8bit 233 180 99 has been padded and renamed 105005_1_99_L_M\n",
      "105005 y1 3t Image ROI Right 8bit 131 186 99 has been padded and renamed 105005_1_99_R_M\n",
      "105005 y1 3t Kidney ROI Left 8bit 233 180 99 has been padded and renamed 105005_1_99_L_K\n",
      "105005 y1 3t Kidney ROI Right 8bit 131 186 99 has been padded and renamed 105005_1_99_R_K\n",
      "105005 y2 3t Cyst ROI Left 8bit 152 220 102 has been padded and renamed 105005_2_102_L_C\n",
      "105005 y2 3t Cyst ROI Right 8bit 142 192 102 has been padded and renamed 105005_2_102_R_C\n",
      "105005 y2 3t Image ROI Left 8bit 152 220 102 has been padded and renamed 105005_2_102_L_M\n",
      "105005 y2 3t Image ROI Right 8bit 142 192 102 has been padded and renamed 105005_2_102_R_M\n",
      "105005 y2 3t Kidney ROI Left 8bit 152 220 102 has been padded and renamed 105005_2_102_L_K\n",
      "105005 y2 3t Kidney ROI Right 8bit 142 192 102 has been padded and renamed 105005_2_102_R_K\n",
      "105005 y3 3t Cyst ROI Left 8bit 153 186 105 has been padded and renamed 105005_3_105_L_C\n",
      "105005 y3 3t Cyst ROI Right 8bit 142 188 105 has been padded and renamed 105005_3_105_R_C\n",
      "105005 y3 3t Image ROI Left 8bit 153 186 105 has been padded and renamed 105005_3_105_L_M\n",
      "105005 y3 3t Image ROI Right 8bit 142 188 105 has been padded and renamed 105005_3_105_R_M\n",
      "105005 y3 3t Kidney ROI Left 8bit 153 186 105 has been padded and renamed 105005_3_105_L_K\n",
      "105005 y3 3t Kidney ROI Right 8bit 142 188 105 has been padded and renamed 105005_3_105_R_K\n",
      "110080 0y t3 Cyst ROI Left 8bit 141 191 90 has been padded and renamed 110080_y_90_L_C\n",
      "110080 0y t3 Cyst ROI Right 8bit 126 174 90 has been padded and renamed 110080_y_90_R_C\n",
      "110080 0y t3 Image ROI Left 8bit 141 191 90 has been padded and renamed 110080_y_90_L_M\n",
      "110080 0y t3 Image ROI Right 8bit 126 174 90 has been padded and renamed 110080_y_90_R_M\n",
      "110080 0y t3 Kidney ROI Left 8bit 141 191 90 has been padded and renamed 110080_y_90_L_K\n",
      "110080 0y t3 Kidney ROI Right 8bit 126 174 90 has been padded and renamed 110080_y_90_R_K\n",
      "110080 1y t3 Cyst ROI Left 8bit 146 186 96 has been padded and renamed 110080_y_96_L_C\n",
      "110080 1y t3 Cyst ROI Right 8bit 130 174 96 has been padded and renamed 110080_y_96_R_C\n",
      "110080 1y t3 Image ROI Left 8bit 146 186 96 has been padded and renamed 110080_y_96_L_M\n",
      "110080 1y t3 Image ROI Right 8bit 130 174 96 has been padded and renamed 110080_y_96_R_M\n",
      "110080 1y t3 Kidney ROI Left 8bit 146 186 96 has been padded and renamed 110080_y_96_L_K\n",
      "110080 1y t3 Kidney ROI Right 8bit 130 174 96 has been padded and renamed 110080_y_96_R_K\n",
      "110080 y2 t3 Cyst ROI Left 8bit 138 189 87 has been padded and renamed 110080_2_87_L_C\n",
      "110080 y2 t3 Cyst ROI Right 8bit 124 171 87 has been padded and renamed 110080_2_87_R_C\n",
      "110080 y2 t3 Image ROI Left 8bit 138 189 87 has been padded and renamed 110080_2_87_L_M\n",
      "110080 y2 t3 Image ROI Right 8bit 124 171 87 has been padded and renamed 110080_2_87_R_M\n",
      "110080 y2 t3 Kidney ROI Left 8bit 138 189 87 has been padded and renamed 110080_2_87_L_K\n",
      "110080 y2 t3 Kidney ROI Right 8bit 124 171 87 has been padded and renamed 110080_2_87_R_K\n",
      "110080 y3 t3 Cyst ROI Left 8bit 142 186 78 has been padded and renamed 110080_3_78_L_C\n",
      "110080 y3 t3 Cyst ROI Right 8bit 126 177 78 has been padded and renamed 110080_3_78_R_C\n",
      "110080 y3 t3 Image ROI Left 8bit 142 186 78 has been padded and renamed 110080_3_78_L_M\n",
      "110080 y3 t3 Image ROI Right 8bit 126 177 78 has been padded and renamed 110080_3_78_R_M\n",
      "110080 y3 t3 Kidney ROI Left 8bit 142 186 78 has been padded and renamed 110080_3_78_L_K\n",
      "110080 y3 t3 Kidney ROI Right 8bit 126 177 78 has been padded and renamed 110080_3_78_R_K\n",
      "110890 y0 t3 Cyst ROI Left 8bit 101 156 99 has been padded and renamed 110890_0_99_L_C\n",
      "110890 y0 t3 Cyst ROI Right 8bit 131 175 99 has been padded and renamed 110890_0_99_R_C\n",
      "110890 y0 t3 Image ROI Left 8bit 101 156 99 has been padded and renamed 110890_0_99_L_M\n",
      "110890 y0 t3 Image ROI Right 8bit 131 175 99 has been padded and renamed 110890_0_99_R_M\n",
      "110890 y0 t3 Kidney ROI Left 8bit 101 156 99 has been padded and renamed 110890_0_99_L_K\n",
      "110890 y0 t3 Kidney ROI Right 8bit 131 175 99 has been padded and renamed 110890_0_99_R_K\n",
      "110890 y1 t3 Cyst ROI Left 8bit 103 153 105 has been padded and renamed 110890_1_105_L_C\n",
      "110890 y1 t3 Cyst ROI Right 8bit 133 193 105 has been padded and renamed 110890_1_105_R_C\n",
      "110890 y1 t3 Image ROI Left 8bit 103 153 105 has been padded and renamed 110890_1_105_L_M\n",
      "110890 y1 t3 Image ROI Right 8bit 133 193 105 has been padded and renamed 110890_1_105_R_M\n",
      "110890 y1 t3 Kidney ROI Left 8bit 103 153 105 has been padded and renamed 110890_1_105_L_K\n",
      "110890 y1 t3 Kidney ROI Right 8bit 133 193 105 has been padded and renamed 110890_1_105_R_K\n",
      "110890 y2 t3 Cyst ROI Left 8bit 126 159 111 has been padded and renamed 110890_2_111_L_C\n",
      "110890 y2 t3 Cyst ROI Right 8bit 135 189 111 has been padded and renamed 110890_2_111_R_C\n",
      "110890 y2 t3 Image ROI Left 8bit 126 159 111 has been padded and renamed 110890_2_111_L_M\n",
      "110890 y2 t3 Image ROI Right 8bit 135 189 111 has been padded and renamed 110890_2_111_R_M\n",
      "110890 y2 t3 Kidney ROI Left 8bit 126 159 111 has been padded and renamed 110890_2_111_L_K\n",
      "110890 y2 t3 Kidney ROI Right 8bit 135 189 111 has been padded and renamed 110890_2_111_R_K\n",
      "110890 y3 t3 Cyst ROI Left 8bit 112 161 123 has been padded and renamed 110890_3_123_L_C\n",
      "110890 y3 t3 Cyst ROI Right 8bit 138 183 123 has been padded and renamed 110890_3_123_R_C\n",
      "110890 y3 t3 Image ROI Left 8bit 112 161 123 has been padded and renamed 110890_3_123_L_M\n",
      "110890 y3 t3 Image ROI Right 8bit 138 183 123 has been padded and renamed 110890_3_123_R_M\n",
      "110890 y3 t3 Kidney ROI Left 8bit 112 161 123 has been padded and renamed 110890_3_123_L_K\n",
      "110890 y3 t3 Kidney ROI Right 8bit 138 183 123 has been padded and renamed 110890_3_123_R_K\n",
      "112396 y0 t3 Cyst ROI Left 8bit 108 156 84 has been padded and renamed 112396_0_84_L_C\n"
     ]
    },
    {
     "name": "stdout",
     "output_type": "stream",
     "text": [
      "112396 y0 t3 Cyst ROI Right 8bit 106 155 84 has been padded and renamed 112396_0_84_R_C\n",
      "112396 y0 t3 Image ROI Left 8bit 108 156 84 has been padded and renamed 112396_0_84_L_M\n",
      "112396 y0 t3 Image ROI Right 8bit 106 155 84 has been padded and renamed 112396_0_84_R_M\n",
      "112396 y0 t3 Kidney ROI Left 8bit 108 156 84 has been padded and renamed 112396_0_84_L_K\n",
      "112396 y0 t3 Kidney ROI Right 8bit 106 155 84 has been padded and renamed 112396_0_84_R_K\n",
      "112396 y1 t3 Cyst ROI Left 8bit 111 146 87 has been padded and renamed 112396_1_87_L_C\n",
      "112396 y1 t3 Cyst ROI Right 8bit 113 160 87 has been padded and renamed 112396_1_87_R_C\n",
      "112396 y1 t3 Image ROI Left 8bit 111 146 87 has been padded and renamed 112396_1_87_L_M\n",
      "112396 y1 t3 Image ROI Right 8bit 113 160 87 has been padded and renamed 112396_1_87_R_M\n",
      "112396 y1 t3 Kidney ROI Left 8bit 111 146 87 has been padded and renamed 112396_1_87_L_K\n",
      "112396 y1 t3 Kidney ROI Right 8bit 113 160 87 has been padded and renamed 112396_1_87_R_K\n",
      "112396 y2 t3 Cyst ROI Left 8bit 115 148 99 has been padded and renamed 112396_2_99_L_C\n",
      "112396 y2 t3 Cyst ROI Right 8bit 112 154 99 has been padded and renamed 112396_2_99_R_C\n",
      "112396 y2 t3 Image ROI Left 8bit 115 148 99 has been padded and renamed 112396_2_99_L_M\n",
      "112396 y2 t3 Image ROI Right 8bit 112 154 99 has been padded and renamed 112396_2_99_R_M\n",
      "112396 y2 t3 Kidney ROI Left 8bit 115 148 99 has been padded and renamed 112396_2_99_L_K\n",
      "112396 y2 t3 Kidney ROI Right 8bit 112 154 99 has been padded and renamed 112396_2_99_R_K\n",
      "112396 y3 t3 Cyst ROI Left 8bit 123 156 99 has been padded and renamed 112396_3_99_L_C\n",
      "112396 y3 t3 Cyst ROI Right 8bit 109 156 99 has been padded and renamed 112396_3_99_R_C\n",
      "112396 y3 t3 Image ROI Left 8bit 123 156 99 has been padded and renamed 112396_3_99_L_M\n",
      "112396 y3 t3 Image ROI Right 8bit 109 156 99 has been padded and renamed 112396_3_99_R_M\n",
      "112396 y3 t3 Kidney ROI Left 8bit 123 156 99 has been padded and renamed 112396_3_99_L_K\n",
      "112396 y3 t3 Kidney ROI Right 8bit 109 156 99 has been padded and renamed 112396_3_99_R_K\n",
      "complete --- nice job\n"
     ]
    }
   ],
   "source": [
    "# loop through our generated list and resize, saving the new image in our output path\n",
    " #preallocate array\n",
    "print('Converting', str(len(ROI_list)), 'files')\n",
    "for i in range(len(ROI_list)): # loop through all the available files from the list that had our keyword\n",
    "    orig_fname = os.path.basename(ROI_list[i])# grab the ith filename in the list\n",
    "    #extract information from the filename\n",
    "    num_slice = int(orig_fname[-2:])\n",
    "    #print(num_slice)\n",
    "    if num_slice < 50:\n",
    "        #print('over 99')\n",
    "        num_slice = int(orig_fname[-3:])\n",
    "        num_width = int((orig_fname[-8:-4]))\n",
    "        #print(num_width)\n",
    "        num_height = int((orig_fname[-12:-8]))\n",
    "        #print(num_height)\n",
    "    else:\n",
    "        #print('less than 99')\n",
    "        num_width = int((orig_fname[-7:-3]))\n",
    "        #print(num_width)\n",
    "        num_height = int((orig_fname[-11:-7]))\n",
    "        #print(num_height)\n",
    "    pt_numb =(orig_fname[0:6])\n",
    "    yr_numb = (orig_fname[8])\n",
    "    if 'Cyst' in orig_fname:\n",
    "        img_type = 'C'\n",
    "    elif 'Kidney' in orig_fname:\n",
    "        img_type = 'K'\n",
    "    elif 'Image' in orig_fname:\n",
    "        img_type = 'M'\n",
    "    if 'Right' in orig_fname:\n",
    "        side = 'R'\n",
    "    elif 'Left' in orig_fname:\n",
    "        side = 'L'\n",
    "    call_file = str(ROI_list[i]) #define our filename with path to open (working_path+'/'+orig_fname)\n",
    "    resized = np.zeros((num_slice,new_size,new_size), dtype ='uint8')\n",
    "    with open(r'%s' %call_file, 'rb') as file: #read in raw uint8 and resize correctly\n",
    "         data = np.fromfile(file, dtype = 'uint8').reshape(num_slice,num_width,num_height)\n",
    "         for j in range(num_slice):\n",
    "             orig_slice = data[j]\n",
    "             re_slice = im.fromarray(orig_slice)\n",
    "             resized[j] = resize_with_padding(re_slice, (new_size, new_size))\n",
    "             # now we need to rename this resized array and save it as a .npy\n",
    "    #new_fname = str('%s' %orig_fname + '_RESIZED_') #keep the original name for now \n",
    "    new_fname = str(pt_numb +'_'+ yr_numb +'_'+ str(num_slice) +'_'+ side + '_' +  img_type )\n",
    "    file_name = \"%s.npy\" %new_fname # add our extension\n",
    "    print('%s has been padded and renamed %s' %(orig_fname, new_fname))\n",
    "    np.save(os.path.join(new_path, file_name), resized) # save in the new file folder\n",
    "    #will need to make new code to add the prefix names an organize into the appropriate folders\n",
    "    num_slice=0\n",
    "    num_height=0\n",
    "    num_width=0\n",
    "\n",
    "\n",
    "print(\"complete --- nice job\")"
   ]
  },
  {
   "cell_type": "code",
   "execution_count": 26,
   "id": "22819887",
   "metadata": {},
   "outputs": [],
   "source": [
    "npy_files = []\n",
    "for root, dirs, files in os.walk(os.path.normpath(new_path), topdown=True):\n",
    "    for name in files:\n",
    "        npy_files.append(os.path.join(root, name))"
   ]
  },
  {
   "cell_type": "code",
   "execution_count": 27,
   "id": "3b636d65",
   "metadata": {},
   "outputs": [],
   "source": [
    "for i in range(len(npy_files)): \n",
    "    filename = npy_files[i]\n",
    "    data = np.load(filename)\n",
    "    num_slice = int(filename[-10:-8])\n",
    "    if num_slice < 50:\n",
    "        num_slice = int(filename[-11:-8])\n",
    "        #print('number of slices', slices)\n",
    "    else:\n",
    "        num_slice = num_slice\n",
    "    data = np.arange(new_size*new_size*num_slice).reshape(new_size,new_size,num_slice)\n",
    "    new_image = nib.Nifti1Image(data, affine=np.eye(4))\n",
    "    nib.save(new_image, os.path.join(final_path, \"%s.nii\" %filename[:-4]))\n",
    "    #need to figure out why path join is not putting into the correct folder"
   ]
  },
  {
   "cell_type": "code",
   "execution_count": 28,
   "id": "a1fcc48e",
   "metadata": {},
   "outputs": [
    {
     "name": "stdout",
     "output_type": "stream",
     "text": [
      "101934_0_96_L_C.nii 101934_0_96_L_C-label.nii\n"
     ]
    }
   ],
   "source": [
    "data_path = r'C:\\Users\\UAB\\Kidney-Segmentation-Jupyter\\AllTrainingImages'\n",
    "images = []\n",
    "segmentations = []\n",
    "for f in os.listdir(data_path):\n",
    "  if '_K' in f:\n",
    "    continue\n",
    "  else:\n",
    "    images.append(f)\n",
    "    segmentations.append(f.replace('.nii', '-label.nii'))\n",
    "\n",
    "print(images[0], segmentations[0])\n",
    "images = np.array(images)\n",
    "segmentations = np.array(segmentations)\n",
    "\n",
    "indices = np.array(range(len(images))) # we will use this in the next step."
   ]
  },
  {
   "cell_type": "code",
   "execution_count": null,
   "id": "834b2212",
   "metadata": {},
   "outputs": [],
   "source": []
  }
 ],
 "metadata": {
  "kernelspec": {
   "display_name": "TF23",
   "language": "python",
   "name": "tf23"
  },
  "language_info": {
   "codemirror_mode": {
    "name": "ipython",
    "version": 3
   },
   "file_extension": ".py",
   "mimetype": "text/x-python",
   "name": "python",
   "nbconvert_exporter": "python",
   "pygments_lexer": "ipython3",
   "version": "3.8.5"
  }
 },
 "nbformat": 4,
 "nbformat_minor": 5
}
