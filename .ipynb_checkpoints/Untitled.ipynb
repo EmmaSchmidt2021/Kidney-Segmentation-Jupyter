{
 "cells": [
  {
   "cell_type": "markdown",
   "id": "144d72e3",
   "metadata": {},
   "source": [
    "### SIIM ML Education Sub-Committee\n",
    "Tutorial Notebook Series\n",
    "\n",
    "Tutorial Authors:\\\n",
    "Timothy Kline, PhD\\\n",
    "Darryl Wright, PhD"
   ]
  },
  {
   "cell_type": "markdown",
   "id": "8e2a5b0e",
   "metadata": {},
   "source": [
    "### The goal of this jupyter notebook is to direct the code to a local collection of MRI images and segment out the kidney"
   ]
  },
  {
   "cell_type": "markdown",
   "id": "6e8e25f3",
   "metadata": {},
   "source": [
    "import libraries"
   ]
  },
  {
   "cell_type": "code",
   "execution_count": 2,
   "id": "14e67bbc",
   "metadata": {},
   "outputs": [
    {
     "name": "stdout",
     "output_type": "stream",
     "text": [
      "-----------------------------------------\n",
      "keras-unet init: TF version is >= 2.0.0 - using `tf.keras` instead of `Keras`\n",
      "-----------------------------------------\n"
     ]
    }
   ],
   "source": [
    "import os\n",
    "import numpy as np\n",
    "import nibabel as nib\n",
    "import tensorflow as tf\n",
    "import matplotlib.pyplot as plt\n",
    "from skimage import measure\n",
    "from skimage.transform import resize\n",
    "from keras_unet.metrics import dice_coef\n",
    "from keras_unet.models import custom_unet\n",
    "from keras_unet.losses import jaccard_distance\n",
    "from sklearn.model_selection import train_test_split"
   ]
  },
  {
   "cell_type": "markdown",
   "id": "024469e3",
   "metadata": {},
   "source": [
    "## F"
   ]
  },
  {
   "cell_type": "code",
   "execution_count": null,
   "id": "ffae39ba",
   "metadata": {},
   "outputs": [],
   "source": [
    "data_path = 'Kidney-Segmentation-Jupyter/AllTrainingImages/'\n",
    "images = []\n",
    "segmentations = []\n",
    "for f in os.listdir(data_path):\n",
    "  if '_K' in f:\n",
    "    continue\n",
    "  else:\n",
    "    images.append(f)\n",
    "    segmentations.append(f.replace('.nii', '-label.nii'))\n",
    "\n",
    "print(images[0], segmentations[0])\n",
    "images = np.array(images)\n",
    "segmentations = np.array(segmentations)\n",
    "\n",
    "indices = np.array(range(len(images))) # we will use this in the next step."
   ]
  }
 ],
 "metadata": {
  "kernelspec": {
   "display_name": "TF23",
   "language": "python",
   "name": "tf23"
  },
  "language_info": {
   "codemirror_mode": {
    "name": "ipython",
    "version": 3
   },
   "file_extension": ".py",
   "mimetype": "text/x-python",
   "name": "python",
   "nbconvert_exporter": "python",
   "pygments_lexer": "ipython3",
   "version": "3.8.5"
  }
 },
 "nbformat": 4,
 "nbformat_minor": 5
}
