{
 "cells": [
  {
   "cell_type": "markdown",
   "id": "4a3a8c44",
   "metadata": {},
   "source": [
    "Adjust Tiff Images to NPY for prediction"
   ]
  },
  {
   "cell_type": "code",
   "execution_count": 1,
   "id": "4d5d1c26",
   "metadata": {},
   "outputs": [
    {
     "data": {
      "text/plain": [
       "<matplotlib.image.AxesImage at 0x19363c9e310>"
      ]
     },
     "execution_count": 1,
     "metadata": {},
     "output_type": "execute_result"
    },
    {
     "data": {
      "image/png": "[encoded data removed]",
      "text/plain": [
       "<Figure size 432x288 with 1 Axes>"
      ]
     },
     "metadata": {
      "needs_background": "light"
     },
     "output_type": "display_data"
    }
   ],
   "source": [
    "from PIL import Image\n",
    "import matplotlib.pyplot as plt\n",
    "import numpy as np\n",
    "import os\n",
    "\n",
    "im = Image.open(r\"C:\\Users\\emmasch\\Downloads\\original_left.tif\")\n",
    "#im.show()\n",
    "plt.imshow(im, cmap = 'gray')\n",
    "\n"
   ]
  },
  {
   "cell_type": "code",
   "execution_count": 2,
   "id": "45143820",
   "metadata": {},
   "outputs": [
    {
     "data": {
      "text/plain": [
       "<matplotlib.image.AxesImage at 0x193645aa8b0>"
      ]
     },
     "execution_count": 2,
     "metadata": {},
     "output_type": "execute_result"
    },
    {
     "data": {
      "image/png": "[encoded data removed]",
      "text/plain": [
       "<Figure size 432x288 with 1 Axes>"
      ]
     },
     "metadata": {
      "needs_background": "light"
     },
     "output_type": "display_data"
    }
   ],
   "source": [
    "imarray = np.array(im)\n",
    "plt.imshow(imarray, cmap = 'gray')"
   ]
  },
  {
   "cell_type": "code",
   "execution_count": 3,
   "id": "7b5b7557",
   "metadata": {},
   "outputs": [],
   "source": [
    "def gather_set_and_path(data_path, phrase):\n",
    "    set_of = []\n",
    "    path = data_path + '\\\\'\n",
    "    for f in os.listdir(data_path):\n",
    "      if phrase in f:\n",
    "        set_of.append(str(data_path+f))\n",
    "      else:\n",
    "        continue\n",
    "    #set_of = np.array(set_of)\n",
    "\n",
    "    indices = np.array(range(len(set_of))) # we will use this in the next step.\n",
    "\n",
    "    return set_of"
   ]
  },
  {
   "cell_type": "code",
   "execution_count": 4,
   "id": "4ddf28df",
   "metadata": {},
   "outputs": [],
   "source": [
    "def gather_filenames(path):\n",
    "    raw_path = path\n",
    "    patient_folders = []\n",
    "    pt_fnames = []\n",
    "\n",
    "    import os\n",
    "    for root, dirs, files in os.walk(os.path.normpath(raw_path), topdown=True):\n",
    "        for name in files: \n",
    "            #print(os.path.join(root, name))\n",
    "            pt_fnames.append(os.path.join(root, name))\n",
    "    print('\\nPatient Folders have been identified\\n')\n",
    "    #sort through and get only the files with ROI in them\n",
    "    #this eliminates the tiff and 3D files \n",
    "    #%%\n",
    "    ROI_list = []\n",
    "    for j in range(len(pt_fnames)):\n",
    "        ROI_name = '.tif'\n",
    "        filename = os.path.basename(pt_fnames[j])\n",
    "        if ROI_name in filename:\n",
    "            ROI_list.append(pt_fnames[j])\n",
    "    print('\\nFilenames have been found and added\\n')\n",
    "    print('copied and moved '+ str(len(ROI_list))+' files')\n",
    "    \n",
    "    return ROI_list"
   ]
  },
  {
   "cell_type": "code",
   "execution_count": 7,
   "id": "682a718d",
   "metadata": {},
   "outputs": [],
   "source": [
    "data_path = r'C:\\Users\\emmasch\\Documents\\TIFF\\\\'\n",
    "npy_path = r'C:\\Users\\emmasch\\Documents\\TIFF\\NPY'\n"
   ]
  },
  {
   "cell_type": "code",
   "execution_count": 8,
   "id": "4a0200b2",
   "metadata": {},
   "outputs": [
    {
     "name": "stdout",
     "output_type": "stream",
     "text": [
      "\n",
      "Patient Folders have been identified\n",
      "\n",
      "\n",
      "Filenames have been found and added\n",
      "\n",
      "copied and moved 12 files\n"
     ]
    }
   ],
   "source": [
    "tiff_list = gather_filenames(data_path)"
   ]
  },
  {
   "cell_type": "code",
   "execution_count": 9,
   "id": "51639b08",
   "metadata": {},
   "outputs": [
    {
     "name": "stdout",
     "output_type": "stream",
     "text": [
      "C:\\Users\\emmasch\\Documents\\TIFF\\113994_3\\original_right.tif\n",
      "113994_3\n",
      "['C:', 'Users', 'emmasch', 'Documents', 'TIFF', '113994_3', 'original_right.tif']\n"
     ]
    }
   ],
   "source": [
    "print(tiff_list[1])\n",
    "name = tiff_list[1]\n",
    "path_list = name.split(os.sep)\n",
    "print(path_list[-2])\n",
    "test_list = tiff_list[1].split(os.sep)\n",
    "print(test_list)"
   ]
  },
  {
   "cell_type": "code",
   "execution_count": 85,
   "id": "71a75104",
   "metadata": {},
   "outputs": [
    {
     "name": "stdout",
     "output_type": "stream",
     "text": [
      "['C:\\\\Users\\\\emmasch\\\\Documents\\\\TIFF\\\\original_left.tif', 'C:\\\\Users\\\\emmasch\\\\Documents\\\\TIFF\\\\113994_3\\\\original_left.tif', 'C:\\\\Users\\\\emmasch\\\\Documents\\\\TIFF\\\\113994_3\\\\original_right.tif']\n"
     ]
    }
   ],
   "source": [
    "print(tiff_list)"
   ]
  },
  {
   "cell_type": "code",
   "execution_count": 10,
   "id": "05f60725",
   "metadata": {},
   "outputs": [],
   "source": [
    "for i in range(len(tiff_list)):\n",
    "    image = Image.open(tiff_list[i])\n",
    "    path_list = tiff_list[i].split(os.sep)\n",
    "    imarray = np.array(image)\n",
    "    fname = path_list[-2] + '_' + path_list[-1]\n",
    "    np.save(os.path.join(npy_path, fname), imarray)\n",
    "    "
   ]
  },
  {
   "cell_type": "code",
   "execution_count": 11,
   "id": "8619e28c",
   "metadata": {},
   "outputs": [
    {
     "data": {
      "text/plain": [
       "<matplotlib.image.AxesImage at 0x1936474a8b0>"
      ]
     },
     "execution_count": 11,
     "metadata": {},
     "output_type": "execute_result"
    },
    {
     "data": {
      "image/png": "[encoded data removed]",
      "text/plain": [
       "<Figure size 432x288 with 1 Axes>"
      ]
     },
     "metadata": {
      "needs_background": "light"
     },
     "output_type": "display_data"
    }
   ],
   "source": [
    "img = np.load(r\"C:\\Users\\emmasch\\Documents\\TIFF\\NPY\\140353_3_original_left.tif.npy\")\n",
    "plt.imshow(img)"
   ]
  },
  {
   "cell_type": "code",
   "execution_count": null,
   "id": "9dafc4f5",
   "metadata": {},
   "outputs": [],
   "source": []
  }
 ],
 "metadata": {
  "kernelspec": {
   "display_name": "tf2",
   "language": "python",
   "name": "tf2"
  },
  "language_info": {
   "codemirror_mode": {
    "name": "ipython",
    "version": 3
   },
   "file_extension": ".py",
   "mimetype": "text/x-python",
   "name": "python",
   "nbconvert_exporter": "python",
   "pygments_lexer": "ipython3",
   "version": "3.8.12"
  }
 },
 "nbformat": 4,
 "nbformat_minor": 5
}
