{
 "cells": [
  {
   "cell_type": "markdown",
   "id": "df9f41aa",
   "metadata": {},
   "source": [
    "# This code will train the model and save weights  using a data generator"
   ]
  },
  {
   "cell_type": "markdown",
   "id": "af1d7deb",
   "metadata": {},
   "source": [
    "First Import libraries"
   ]
  },
  {
   "cell_type": "code",
   "execution_count": 1,
   "id": "ead55dba",
   "metadata": {},
   "outputs": [
    {
     "name": "stdout",
     "output_type": "stream",
     "text": [
      "-----------------------------------------\n",
      "keras-unet init: TF version is >= 2.0.0 - using `tf.keras` instead of `Keras`\n",
      "-----------------------------------------\n"
     ]
    }
   ],
   "source": [
    "import os\n",
    "import numpy as np\n",
    "import keras\n",
    "import tensorflow\n",
    "from sklearn.model_selection import train_test_split\n",
    "import nibabel as nib\n",
    "import tensorflow as tf\n",
    "from tensorflow.python.keras.utils.data_utils import Sequence\n",
    "from keras.utils import np_utils\n",
    "from tensorflow.keras.utils import to_categorical\n",
    "import matplotlib.pyplot as plt\n",
    "from skimage import measure\n",
    "from skimage.transform import resize\n",
    "from keras_unet.metrics import dice_coef\n",
    "from keras_unet.models import custom_unet\n",
    "from keras_unet.losses import jaccard_distance\n",
    "from sklearn.model_selection import train_test_split\n",
    "from PIL import Image\n",
    "from PIL import ImageOps\n",
    "import fnmatch\n",
    "import nibabel as nib\n",
    "import shutil"
   ]
  },
  {
   "cell_type": "code",
   "execution_count": 2,
   "id": "4b653625",
   "metadata": {},
   "outputs": [
    {
     "data": {
      "text/plain": [
       "[PhysicalDevice(name='/physical_device:GPU:0', device_type='GPU')]"
      ]
     },
     "execution_count": 2,
     "metadata": {},
     "output_type": "execute_result"
    }
   ],
   "source": [
    "from tensorflow.python.client import device_lib\n",
    "tensorflow.config.list_physical_devices('GPU')"
   ]
  },
  {
   "cell_type": "markdown",
   "id": "4479fed1",
   "metadata": {},
   "source": [
    "Define our Data Generator and other functions to be used later"
   ]
  },
  {
   "cell_type": "code",
   "execution_count": 3,
   "id": "bbce0c39",
   "metadata": {},
   "outputs": [],
   "source": [
    "def gather_set(data_path, phrase):\n",
    "    set_of = []\n",
    "    path = data_path + '\\\\'\n",
    "    for f in os.listdir(data_path):\n",
    "      if phrase in f:\n",
    "        set_of.append(f)\n",
    "      else:\n",
    "        continue\n",
    "    #set_of = np.array(set_of)\n",
    "\n",
    "    indices = np.array(range(len(set_of))) # we will use this in the next step.\n",
    "\n",
    "    return set_of"
   ]
  },
  {
   "cell_type": "code",
   "execution_count": 4,
   "id": "f825451d",
   "metadata": {},
   "outputs": [],
   "source": [
    "def gather_set_and_path(data_path, phrase):\n",
    "    set_of = []\n",
    "    path = data_path + '\\\\'\n",
    "    for f in os.listdir(data_path):\n",
    "      if phrase in f:\n",
    "        set_of.append(str(data_path+f))\n",
    "      else:\n",
    "        continue\n",
    "    #set_of = np.array(set_of)\n",
    "\n",
    "    indices = np.array(range(len(set_of))) # we will use this in the next step.\n",
    "\n",
    "    return set_of"
   ]
  },
  {
   "cell_type": "markdown",
   "id": "7cbe24c3",
   "metadata": {},
   "source": [
    "Define the paths where images and segmentations are located. Gather into groups and arrange into a dictionary that can be split up for training, testing, and validation for the model\n",
    "\n",
    "## Expected Dimmentions\n",
    "\n",
    "Image: (512,512) range: 0:255\n",
    "\n",
    "Label: (512,512) range: 0:1"
   ]
  },
  {
   "cell_type": "code",
   "execution_count": 5,
   "id": "a5640bb7",
   "metadata": {},
   "outputs": [
    {
     "name": "stdout",
     "output_type": "stream",
     "text": [
      "77885\n"
     ]
    }
   ],
   "source": [
    "data_path_1 = r\"C:\\Users\\UAB\\data\\KU\\data\\\\\"\n",
    "data_path_2 = r\"C:\\Users\\UAB\\data\\Mayo\\data\\\\\"\n",
    "data_path_3 = r\"C:\\Users\\UAB\\data\\Emory\\data\\\\\"\n",
    "data_path_4 = r\"C:\\Users\\UAB\\data\\UAB\\data\\\\\"\n",
    "\n",
    "images_1 = gather_set_and_path(data_path_1, '_M')\n",
    "images_2 = gather_set_and_path(data_path_2, '_M')\n",
    "images_3 = gather_set_and_path(data_path_3, '_M')\n",
    "images_4 = gather_set_and_path(data_path_4, '_M')\n",
    "\n",
    "\n",
    "images = images_1+images_2+images_3+images_4\n",
    "\n",
    "\n",
    "print(len(images))\n",
    "\n"
   ]
  },
  {
   "cell_type": "code",
   "execution_count": 6,
   "id": "4561eb39",
   "metadata": {},
   "outputs": [
    {
     "name": "stdout",
     "output_type": "stream",
     "text": [
      "26082\n",
      "21037\n",
      "23488\n",
      "7278\n"
     ]
    }
   ],
   "source": [
    "print(len(images_1))\n",
    "print(len(images_2))\n",
    "print(len(images_3))\n",
    "print(len(images_4))\n"
   ]
  },
  {
   "cell_type": "code",
   "execution_count": 7,
   "id": "4e5e293b",
   "metadata": {},
   "outputs": [
    {
     "data": {
      "text/plain": [
       "<matplotlib.image.AxesImage at 0x16ca5af8910>"
      ]
     },
     "execution_count": 7,
     "metadata": {},
     "output_type": "execute_result"
    },
    {
     "data": {
      "image/png": "[encoded data removed]",
      "text/plain": [
       "<Figure size 640x480 with 1 Axes>"
      ]
     },
     "metadata": {},
     "output_type": "display_data"
    }
   ],
   "source": [
    "%matplotlib inline\n",
    "\n",
    "image = np.load(images[-150])\n",
    "plt.imshow(image, cmap='gray')"
   ]
  },
  {
   "cell_type": "code",
   "execution_count": 8,
   "id": "6ea6ad25",
   "metadata": {},
   "outputs": [
    {
     "name": "stdout",
     "output_type": "stream",
     "text": [
      "77885\n"
     ]
    }
   ],
   "source": [
    "masks_1 = gather_set_and_path(data_path_1, '_K')\n",
    "masks_2 = gather_set_and_path(data_path_2, '_K')\n",
    "masks_3 = gather_set_and_path(data_path_3, '_K')\n",
    "masks_4 = gather_set_and_path(data_path_4, '_K')\n",
    "\n",
    "masks = masks_1 + masks_2 + masks_3 + masks_4\n",
    "\n",
    "print(len(masks))"
   ]
  },
  {
   "cell_type": "code",
   "execution_count": 9,
   "id": "135cb1be",
   "metadata": {},
   "outputs": [
    {
     "data": {
      "text/plain": [
       "<matplotlib.image.AxesImage at 0x16cae7c2460>"
      ]
     },
     "execution_count": 9,
     "metadata": {},
     "output_type": "execute_result"
    },
    {
     "data": {
      "image/png": "[encoded data removed]",
      "text/plain": [
       "<Figure size 640x480 with 1 Axes>"
      ]
     },
     "metadata": {},
     "output_type": "display_data"
    }
   ],
   "source": [
    "mask = np.load(masks[-150])\n",
    "plt.imshow(mask, cmap='gray')"
   ]
  },
  {
   "cell_type": "code",
   "execution_count": 10,
   "id": "fda92b79",
   "metadata": {},
   "outputs": [
    {
     "name": "stdout",
     "output_type": "stream",
     "text": [
      "78257\n"
     ]
    }
   ],
   "source": [
    "\n",
    "labels_1 = gather_set_and_path(data_path_1, '_C')\n",
    "labels_2 = gather_set_and_path(data_path_2, '_C')\n",
    "labels_3 = gather_set_and_path(data_path_3, '_C')\n",
    "labels_4 = gather_set_and_path(data_path_4, '_C')\n",
    "\n",
    "labels = labels_1 + labels_2 + labels_3 + labels_4\n",
    "\n",
    "print(len(labels))\n"
   ]
  },
  {
   "cell_type": "code",
   "execution_count": 45,
   "id": "842cb74c",
   "metadata": {},
   "outputs": [
    {
     "data": {
      "text/plain": [
       "<matplotlib.image.AxesImage at 0x221fad54760>"
      ]
     },
     "execution_count": 45,
     "metadata": {},
     "output_type": "execute_result"
    },
    {
     "data": {
      "image/png": "[encoded data removed]",
      "text/plain": [
       "<Figure size 640x480 with 1 Axes>"
      ]
     },
     "metadata": {},
     "output_type": "display_data"
    }
   ],
   "source": [
    "label = np.load(labels[-150])\n",
    "plt.imshow(label, cmap='gray')"
   ]
  },
  {
   "cell_type": "code",
   "execution_count": 11,
   "id": "22de95ad",
   "metadata": {},
   "outputs": [
    {
     "name": "stdout",
     "output_type": "stream",
     "text": [
      "C:\\Users\\UAB\\data\\UAB\\data\\\\UB_479334_1_93_L_57_K.npy\n",
      "C:\\Users\\UAB\\data\\UAB\\data\\\\UB_479334_1_93_L_57_M.npy\n",
      "C:\\Users\\UAB\\data\\UAB\\data\\\\UB_479334_1_93_L_57_C.npy\n",
      "(512, 512) 239 0\n",
      "(512, 512) 1 0\n",
      "(512, 512) 1 0\n"
     ]
    }
   ],
   "source": [
    "print(masks[-1500])\n",
    "print(images[-1500])\n",
    "print(labels[-1500])\n",
    "test_img = np.load(images[100])\n",
    "print(test_img.shape, test_img.max(), test_img.min())\n",
    "test_msk = np.load(masks[100])\n",
    "print(test_msk.shape, test_msk.max(), test_msk.min())\n",
    "test_lab = np.load(labels[100])\n",
    "print(test_lab.shape, test_lab.max(), test_lab.min())\n"
   ]
  },
  {
   "cell_type": "markdown",
   "id": "325bbedb",
   "metadata": {},
   "source": [
    "## Define Image and Label ID for data generator\n",
    "\n",
    "Here the \"test train split\" will need to be replaced so we have the whole patient in one or the other\"\n"
   ]
  },
  {
   "cell_type": "code",
   "execution_count": 47,
   "id": "6251de22",
   "metadata": {},
   "outputs": [],
   "source": [
    "d = {}\n",
    "for i in images:\n",
    "    if i not in d:\n",
    "        d[i] = len(d)\n",
    "\n",
    "labels_mapping = list(map(d.get, images))\n",
    "#print(labels_mapping)\n",
    "\n",
    "labels = {images[i]:labels_mapping[i] for i in range(len(images))}"
   ]
  },
  {
   "cell_type": "code",
   "execution_count": 48,
   "id": "d469958c",
   "metadata": {},
   "outputs": [
    {
     "name": "stdout",
     "output_type": "stream",
     "text": [
      "77885\n"
     ]
    }
   ],
   "source": [
    "print(len(labels))"
   ]
  },
  {
   "cell_type": "code",
   "execution_count": 49,
   "id": "d7c27810",
   "metadata": {},
   "outputs": [
    {
     "name": "stdout",
     "output_type": "stream",
     "text": [
      "KU_101934_0\n"
     ]
    }
   ],
   "source": [
    "import os\n",
    "img_name = os.path.basename(images[0])[0:11]\n",
    "print(img_name)"
   ]
  },
  {
   "cell_type": "markdown",
   "id": "68495280",
   "metadata": {},
   "source": [
    "Image separation for entire patient in training or validation - use with single set of images\n"
   ]
  },
  {
   "cell_type": "code",
   "execution_count": 50,
   "id": "dbf10728",
   "metadata": {},
   "outputs": [],
   "source": [
    "from sklearn.model_selection import train_test_split\n",
    "\n",
    "\n",
    "id_list = []   \n",
    "for i in range(len(images)):\n",
    "    image_name = os.path.basename(images[i])\n",
    "    unique_id =  image_name[0:11]\n",
    "    id_list.append(unique_id)\n",
    "\n",
    "unique_ids = list(set(id_list))"
   ]
  },
  {
   "cell_type": "code",
   "execution_count": 51,
   "id": "6b8dac9c",
   "metadata": {},
   "outputs": [
    {
     "name": "stdout",
     "output_type": "stream",
     "text": [
      "350\n"
     ]
    }
   ],
   "source": [
    "print(len(unique_ids))"
   ]
  },
  {
   "cell_type": "code",
   "execution_count": 52,
   "id": "6b271e3e",
   "metadata": {},
   "outputs": [],
   "source": [
    "train, val = train_test_split(unique_ids, train_size = 0.8)"
   ]
  },
  {
   "cell_type": "code",
   "execution_count": 53,
   "id": "ec177310",
   "metadata": {},
   "outputs": [
    {
     "name": "stdout",
     "output_type": "stream",
     "text": [
      "280\n",
      "70\n"
     ]
    }
   ],
   "source": [
    "print(len(train))\n",
    "print(len(val))"
   ]
  },
  {
   "cell_type": "code",
   "execution_count": 54,
   "id": "026c2dcc",
   "metadata": {},
   "outputs": [
    {
     "name": "stdout",
     "output_type": "stream",
     "text": [
      "['MA_323837_7', 'EM_271043_3']\n"
     ]
    }
   ],
   "source": [
    "print(train[0:2])"
   ]
  },
  {
   "cell_type": "code",
   "execution_count": 55,
   "id": "77296814",
   "metadata": {},
   "outputs": [],
   "source": [
    "#use this when images do not contain filepath:\n",
    "#train_list = [image for image in images if image[0:8] in train]\n",
    "#val_list = [image for image in images if image[0:8] in val] "
   ]
  },
  {
   "cell_type": "code",
   "execution_count": 56,
   "id": "a69dda70",
   "metadata": {},
   "outputs": [],
   "source": [
    "train_list = []\n",
    "for i in range(len(images)):\n",
    "    if any(phrase in images[i] for phrase in train):\n",
    "        train_list.append(images[i])"
   ]
  },
  {
   "cell_type": "code",
   "execution_count": 57,
   "id": "6e496b92",
   "metadata": {},
   "outputs": [],
   "source": [
    "val_list = [] \n",
    "for i in range(len(images)):\n",
    "    if any(phrase in images[i] for phrase in val):\n",
    "        val_list.append(images[i])"
   ]
  },
  {
   "cell_type": "code",
   "execution_count": 58,
   "id": "948d0805",
   "metadata": {},
   "outputs": [
    {
     "name": "stdout",
     "output_type": "stream",
     "text": [
      "62241\n",
      "15644\n",
      "77885\n",
      "77885\n"
     ]
    }
   ],
   "source": [
    "print(len(train_list))\n",
    "print(len(val_list))\n",
    "print(len(train_list)+len(val_list))\n",
    "print(len(images))"
   ]
  },
  {
   "cell_type": "code",
   "execution_count": 59,
   "id": "7a909436",
   "metadata": {},
   "outputs": [],
   "source": [
    "partition = {'train':train_list, 'validation':val_list}"
   ]
  },
  {
   "cell_type": "markdown",
   "id": "b19460d0",
   "metadata": {},
   "source": [
    "## Use for given csv file\n"
   ]
  },
  {
   "cell_type": "code",
   "execution_count": 12,
   "id": "2dc03ee7",
   "metadata": {},
   "outputs": [],
   "source": [
    "import pandas as pd\n",
    "df = pd.read_excel (r\"C:\\Users\\UAB\\Kidney-Segmentation-Jupyter\\Data for AI development.xlsx\", engine='openpyxl')"
   ]
  },
  {
   "cell_type": "code",
   "execution_count": 13,
   "id": "d4acf89e",
   "metadata": {},
   "outputs": [],
   "source": [
    "df = df.iloc[1: , 0:4]\n",
    "df. columns=df. iloc[0] "
   ]
  },
  {
   "cell_type": "code",
   "execution_count": 14,
   "id": "242c85af",
   "metadata": {},
   "outputs": [],
   "source": [
    "df2 = df.filter(regex='Validation')\n",
    "df2 = df2.iloc[:,0].dropna()\n",
    "val_csv_list = df2.values.tolist()\n",
    "val_csv_list = val_csv_list[1:]"
   ]
  },
  {
   "cell_type": "code",
   "execution_count": 15,
   "id": "1a5059e6",
   "metadata": {},
   "outputs": [],
   "source": [
    "df3 = df.filter(regex='Training')\n",
    "df3 = df3.iloc[:,0].dropna()\n",
    "train_csv_list = df3.values.tolist()\n",
    "train_csv_list = train_csv_list[1:]"
   ]
  },
  {
   "cell_type": "code",
   "execution_count": 16,
   "id": "e3409065",
   "metadata": {},
   "outputs": [
    {
     "name": "stdout",
     "output_type": "stream",
     "text": [
      "151\n",
      "439240L\n",
      "19\n",
      "419258L\n"
     ]
    }
   ],
   "source": [
    "print(len(train_csv_list))\n",
    "print(train_csv_list[0])\n",
    "print(len(val_csv_list))\n",
    "print(val_csv_list[0])"
   ]
  },
  {
   "cell_type": "code",
   "execution_count": 17,
   "id": "5e10f2f1",
   "metadata": {},
   "outputs": [],
   "source": [
    "d = {}\n",
    "for i in images:\n",
    "    if i not in d:\n",
    "        d[i] = len(d)\n",
    "\n",
    "labels_mapping = list(map(d.get, images))\n",
    "#print(labels_mapping)\n",
    "\n",
    "labels = {images[i]:labels_mapping[i] for i in range(len(images))}"
   ]
  },
  {
   "cell_type": "code",
   "execution_count": 18,
   "id": "51c8bb1f",
   "metadata": {},
   "outputs": [],
   "source": [
    "id_list = []   \n",
    "for i in range(len(images)):\n",
    "    image_name = os.path.basename(images[i])\n",
    "    unique_id =  image_name[0:17]\n",
    "    id_list.append(unique_id)\n",
    "\n",
    "unique_ids = list(set(id_list))"
   ]
  },
  {
   "cell_type": "code",
   "execution_count": 19,
   "id": "05ba15ae",
   "metadata": {},
   "outputs": [
    {
     "name": "stdout",
     "output_type": "stream",
     "text": [
      "43924 L\n",
      "43924 R\n",
      "41412 L\n",
      "41412 R\n",
      "46492 L\n",
      "47933 L\n",
      "47933 R\n",
      "49232 L\n",
      "49232 R\n",
      "40713 L\n",
      "40713 R\n",
      "45628 L\n",
      "45628 R\n",
      "24411 L\n",
      "24411 R\n",
      "20092 L\n",
      "20092 R\n",
      "20187 L\n",
      "20187 R\n",
      "21345 L\n",
      "21345 R\n",
      "24483 L\n",
      "24483 R\n",
      "24788 L\n",
      "24788 R\n",
      "27104 L\n",
      "27104 R\n",
      "27146 L\n",
      "27146 R\n",
      "20828 L\n",
      "20828 R\n",
      "20928 L\n",
      "20928 R\n",
      "21437 L\n",
      "21437 R\n",
      "22363 L\n",
      "22363 R\n",
      "23575 L\n",
      "23575 R\n",
      "24150 L\n",
      "24150 R\n",
      "24271 L\n",
      "24271 R\n",
      "24356 L\n",
      "24356 R\n",
      "24599 L\n",
      "24599 R\n",
      "24662 L\n",
      "24662 R\n",
      "24871 L\n",
      "24871 R\n",
      "25617 L\n",
      "25617 R\n",
      "26361 L\n",
      "26361 R\n",
      "26434 L\n",
      "30064 L\n",
      "30064 R\n",
      "30137 L\n",
      "30137 R\n",
      "30386 L\n",
      "30386 R\n",
      "31231 L\n",
      "31231 R\n",
      "31330 L\n",
      "31330 R\n",
      "31389 L\n",
      "31389 R\n",
      "31611 L\n",
      "31611 R\n",
      "31856 L\n",
      "31856 R\n",
      "32095 L\n",
      "32095 R\n",
      "32383 L\n",
      "32383 R\n",
      "32705 L\n",
      "32705 R\n",
      "32732 L\n",
      "32732 R\n",
      "32793 L\n",
      "32793 R\n",
      "33684 L\n",
      "33684 R\n",
      "34323 L\n",
      "34323 R\n",
      "35930 L\n",
      "35930 R\n",
      "36466 L\n",
      "36466 R\n",
      "37102 L\n",
      "37102 R\n",
      "37468 L\n",
      "10500 L\n",
      "10050 L\n",
      "10050 R\n",
      "10079 L\n",
      "10079 R\n",
      "10193 L\n",
      "10193 R\n",
      "10500 R\n",
      "11008 L\n",
      "11008 R\n",
      "11089 L\n",
      "11089 R\n",
      "11239 L\n",
      "11239 R\n",
      "11399 R\n",
      "11904 L\n",
      "11904 R\n",
      "12039 L\n",
      "12039 R\n",
      "12077 L\n",
      "12077 R\n",
      "12080 L\n",
      "12080 R\n",
      "12495 L\n",
      "12495 R\n",
      "12859 L\n",
      "12859 R\n",
      "13605 L\n",
      "13605 R\n",
      "13948 L\n",
      "14035 L\n",
      "14035 R\n",
      "14217 L\n",
      "14217 R\n",
      "14585 L\n",
      "14585 R\n",
      "14656 L\n",
      "14656 R\n",
      "14801 L\n",
      "14801 R\n",
      "15053 L\n",
      "15053 R\n",
      "15103 L\n",
      "15103 R\n",
      "15459 L\n",
      "15459 R\n",
      "15488 L\n",
      "15488 R\n",
      "15792 L\n",
      "16092 L\n",
      "16092 R\n",
      "16154 L\n",
      "16154 R\n",
      "17012 L\n",
      "17012 R\n",
      "18745 R\n",
      "19327 L\n",
      "19327 R\n"
     ]
    }
   ],
   "source": [
    "train_sets=[]\n",
    "for i in range(len(train_csv_list)):\n",
    "    phrase1 = train_csv_list[i][:-2]\n",
    "    phrase2 = train_csv_list[i][-1]\n",
    "    #print(phrase1, phrase2)\n",
    "    for z in range(len(unique_ids)):\n",
    "        name = unique_ids[z]\n",
    "        if phrase1 in name:\n",
    "            if phrase2 in name:\n",
    "                train_sets.append(name)\n",
    "            else:\n",
    "                continue\n",
    "        else:\n",
    "            continue"
   ]
  },
  {
   "cell_type": "code",
   "execution_count": 20,
   "id": "99c82bb1",
   "metadata": {},
   "outputs": [
    {
     "name": "stdout",
     "output_type": "stream",
     "text": [
      "41925 L\n",
      "41925 R\n",
      "26434 R\n",
      "26517 L\n",
      "26517 R\n",
      "27168 L\n",
      "27168 R\n",
      "28393 L\n",
      "37468 R\n",
      "37625 L\n",
      "37625 R\n",
      "38016 L\n",
      "17079 L\n",
      "17079 R\n",
      "17320 L\n",
      "17320 R\n",
      "17875 L\n",
      "17875 R\n",
      "18341 L\n"
     ]
    }
   ],
   "source": [
    "val_sets=[]\n",
    "for i in range(len(val_csv_list)):\n",
    "    phrase1 = val_csv_list[i][:-2]\n",
    "    phrase2 = val_csv_list[i][-1]\n",
    "    print(phrase1, phrase2)\n",
    "    for z in range(len(unique_ids)):\n",
    "        name = unique_ids[z]\n",
    "        if phrase1 in name:\n",
    "            if phrase2 in name:\n",
    "                val_sets.append(name)\n",
    "            else:\n",
    "                continue\n",
    "        else:\n",
    "            continue"
   ]
  },
  {
   "cell_type": "code",
   "execution_count": 21,
   "id": "b30079d7",
   "metadata": {},
   "outputs": [],
   "source": [
    "train_list = []\n",
    "for i in range(len(images)):\n",
    "    if any(phrase in images[i] for phrase in train_sets):\n",
    "        train_list.append(images[i])\n"
   ]
  },
  {
   "cell_type": "code",
   "execution_count": 22,
   "id": "ac5ce99a",
   "metadata": {},
   "outputs": [],
   "source": [
    "val_list = [] \n",
    "for i in range(len(images)):\n",
    "    if any(phrase in images[i] for phrase in val_sets):\n",
    "        val_list.append(images[i])"
   ]
  },
  {
   "cell_type": "code",
   "execution_count": 23,
   "id": "d6b8ee31",
   "metadata": {},
   "outputs": [
    {
     "name": "stdout",
     "output_type": "stream",
     "text": [
      "60327\n",
      "8516\n"
     ]
    }
   ],
   "source": [
    "print(len(train_list))\n",
    "print(len(val_list))"
   ]
  },
  {
   "cell_type": "code",
   "execution_count": 24,
   "id": "c506f19c",
   "metadata": {},
   "outputs": [],
   "source": [
    "partition = {'train':train_list, 'validation':val_list}"
   ]
  },
  {
   "cell_type": "markdown",
   "id": "cac6d568",
   "metadata": {},
   "source": [
    "## Use for crossfold validation:"
   ]
  },
  {
   "cell_type": "code",
   "execution_count": 27,
   "id": "dcc3248c",
   "metadata": {},
   "outputs": [],
   "source": [
    "d = {}\n",
    "for i in images:\n",
    "    if i not in d:\n",
    "        d[i] = len(d)\n",
    "\n",
    "labels_mapping = list(map(d.get, images))\n",
    "#print(labels_mapping)\n",
    "\n",
    "labels = {images[i]:labels_mapping[i] for i in range(len(images))}"
   ]
  },
  {
   "cell_type": "code",
   "execution_count": 28,
   "id": "f6984d9c",
   "metadata": {},
   "outputs": [],
   "source": [
    "train_sets = ['MA_', 'KU_', \"EM_\"]\n",
    "val_sets = [\"UB_\"]\n",
    "\n",
    "train_list = []\n",
    "for i in range(len(images)):\n",
    "    if any(phrase in images[i] for phrase in train_sets):\n",
    "        train_list.append(images[i])\n"
   ]
  },
  {
   "cell_type": "code",
   "execution_count": 29,
   "id": "69b5ee6a",
   "metadata": {},
   "outputs": [
    {
     "name": "stdout",
     "output_type": "stream",
     "text": [
      "C:\\Users\\UAB\\data\\Emory\\data\\\\EM_200922_0_144_L_60_M.npy\n"
     ]
    }
   ],
   "source": [
    "print(train_list[100])"
   ]
  },
  {
   "cell_type": "code",
   "execution_count": 30,
   "id": "14b766a5",
   "metadata": {},
   "outputs": [],
   "source": [
    "val_list = [] \n",
    "for i in range(len(images)):\n",
    "    if any(phrase in images[i] for phrase in val_sets):\n",
    "        val_list.append(images[i])\n"
   ]
  },
  {
   "cell_type": "code",
   "execution_count": 31,
   "id": "68ef4983",
   "metadata": {},
   "outputs": [
    {
     "name": "stdout",
     "output_type": "stream",
     "text": [
      "C:\\Users\\UAB\\data\\UAB\\data\\\\UB_407132_0_95_R_14_M.npy\n"
     ]
    }
   ],
   "source": [
    "print(val_list[100])"
   ]
  },
  {
   "cell_type": "code",
   "execution_count": 32,
   "id": "975fa011",
   "metadata": {},
   "outputs": [
    {
     "name": "stdout",
     "output_type": "stream",
     "text": [
      "23488\n",
      "7278\n"
     ]
    }
   ],
   "source": [
    "partition = {'train':train_list, 'validation':val_list}\n",
    "print(len(train_list))\n",
    "print(len(val_list))"
   ]
  },
  {
   "cell_type": "markdown",
   "id": "421286ae",
   "metadata": {},
   "source": [
    "# Create our data generators "
   ]
  },
  {
   "cell_type": "code",
   "execution_count": 25,
   "id": "6b5858fa",
   "metadata": {},
   "outputs": [],
   "source": [
    "from Data_Gen_Cyst import DataGeneratorCyst\n",
    "from Data_Gen_Mask import DataGeneratorK\n",
    "from Data_Gen import DataGenerator "
   ]
  },
  {
   "cell_type": "code",
   "execution_count": 35,
   "id": "46b84ee7",
   "metadata": {},
   "outputs": [],
   "source": [
    "#params = {'dim': (512,512),\n",
    "          'batch_size': 32,\n",
    "          'n_classes': 2,\n",
    "          'n_channels': 1,\n",
    "          'shuffle': True}\n",
    "training_generator = DataGenerator(partition['train'], labels, **params)\n",
    "validation_generator = DataGenerator(partition['validation'], labels, **params)"
   ]
  },
  {
   "cell_type": "code",
   "execution_count": 26,
   "id": "400a7e1d",
   "metadata": {},
   "outputs": [],
   "source": [
    "params = {'dim': (512,512),\n",
    "          'batch_size': 32,\n",
    "          'n_classes': 2,\n",
    "          'n_channels': 2,\n",
    "          'shuffle': True}\n",
    "training_generator = DataGeneratorK(partition['train'], labels, **params)\n",
    "validation_generator = DataGeneratorK(partition['validation'], labels, **params)"
   ]
  },
  {
   "cell_type": "code",
   "execution_count": 28,
   "id": "e62be4f3",
   "metadata": {},
   "outputs": [],
   "source": [
    "#params = {'dim': (512,512),\n",
    "          'batch_size': 32,\n",
    "          'n_classes': 2,\n",
    "          'n_channels': 1,\n",
    "          'shuffle': True}\n",
    "training_generator = DataGeneratorCyst(partition['train'], labels, **params)\n",
    "validation_generator = DataGeneratorCyst(partition['validation'], labels, **params)"
   ]
  },
  {
   "cell_type": "code",
   "execution_count": 27,
   "id": "ec9cbe50",
   "metadata": {
    "scrolled": true
   },
   "outputs": [
    {
     "name": "stdout",
     "output_type": "stream",
     "text": [
      "(32, 512, 512, 2) (32, 512, 512, 2)\n"
     ]
    }
   ],
   "source": [
    "X, y = training_generator[8]\n",
    "print(X.shape, y.shape)"
   ]
  },
  {
   "cell_type": "markdown",
   "id": "173ff990",
   "metadata": {},
   "source": [
    "## View output"
   ]
  },
  {
   "cell_type": "code",
   "execution_count": 31,
   "id": "d45b529d",
   "metadata": {},
   "outputs": [
    {
     "name": "stdout",
     "output_type": "stream",
     "text": [
      "(512, 512) 73.0 0.0\n",
      "(512, 512) 1.0 0.0\n"
     ]
    },
    {
     "data": {
      "text/plain": [
       "<matplotlib.image.AxesImage at 0x16cb9cee460>"
      ]
     },
     "execution_count": 31,
     "metadata": {},
     "output_type": "execute_result"
    },
    {
     "data": {
      "image/png": "[encoded data removed]",
      "text/plain": [
       "<Figure size 640x480 with 1 Axes>"
      ]
     },
     "metadata": {},
     "output_type": "display_data"
    }
   ],
   "source": [
    "n=5\n",
    "X_img = X[n,:,:,0]\n",
    "X_msk =X[n,:,:,1] \n",
    "print(X_img.shape, X_img.max(), X_img.min())\n",
    "print(X_msk.shape, X_msk.max(), X_msk.min())\n",
    "\n",
    "import matplotlib.pyplot as plt\n",
    "%matplotlib inline\n",
    "plt.imshow(X_img, cmap=\"gray\")"
   ]
  },
  {
   "cell_type": "code",
   "execution_count": 32,
   "id": "7f09b7b3",
   "metadata": {},
   "outputs": [
    {
     "data": {
      "text/plain": [
       "<matplotlib.image.AxesImage at 0x16cb9cfb820>"
      ]
     },
     "execution_count": 32,
     "metadata": {},
     "output_type": "execute_result"
    },
    {
     "data": {
      "image/png": "[encoded data removed]",
      "text/plain": [
       "<Figure size 640x480 with 1 Axes>"
      ]
     },
     "metadata": {},
     "output_type": "display_data"
    }
   ],
   "source": [
    "%matplotlib inline\n",
    "plt.imshow(X_msk, cmap=\"gray\")"
   ]
  },
  {
   "cell_type": "code",
   "execution_count": 33,
   "id": "a93acd97",
   "metadata": {},
   "outputs": [
    {
     "name": "stdout",
     "output_type": "stream",
     "text": [
      "(512, 512) 1.0 0.0\n"
     ]
    },
    {
     "data": {
      "text/plain": [
       "<Figure size 640x480 with 0 Axes>"
      ]
     },
     "metadata": {},
     "output_type": "display_data"
    },
    {
     "data": {
      "image/png": "[encoded data removed]",
      "text/plain": [
       "<Figure size 640x480 with 2 Axes>"
      ]
     },
     "metadata": {},
     "output_type": "display_data"
    }
   ],
   "source": [
    "y_batch = y[n,:,:,:]\n",
    "y_batch.shape\n",
    "y_img_0 = y_batch[:,:,0]\n",
    "y_img_1 = y_batch[:,:,1]\n",
    "print(y_img_0.shape, y_img_0.max(), y_img_0.min())\n",
    "\n",
    "\n",
    "plt.figure()\n",
    "f, axarr = plt.subplots(1,2)\n",
    "axarr[0].imshow(y_img_0, cmap=\"gray\")\n",
    "axarr[0].title.set_text('First Axis')\n",
    "axarr[1].imshow(y_img_1, cmap='gray')\n",
    "axarr[1].title.set_text('Second Axis')"
   ]
  },
  {
   "cell_type": "code",
   "execution_count": 36,
   "id": "84ce4c11",
   "metadata": {},
   "outputs": [],
   "source": [
    "model = custom_unet(input_shape=(512,512,2), num_classes=2)\n",
    "#model.summary()"
   ]
  },
  {
   "cell_type": "code",
   "execution_count": 37,
   "id": "d52ccaa6",
   "metadata": {},
   "outputs": [],
   "source": [
    "from timeit import default_timer as timer\n",
    "\n",
    "class TimingCallback(keras.callbacks.Callback):\n",
    "    def __init__(self, logs={}):\n",
    "        self.logs=[]\n",
    "    def on_epoch_begin(self, epoch, logs={}):\n",
    "        self.starttime = timer()\n",
    "    def on_epoch_end(self, epoch, logs={}):\n",
    "        self.logs.append(timer()-self.starttime)"
   ]
  },
  {
   "cell_type": "code",
   "execution_count": 38,
   "id": "2f604f0b",
   "metadata": {},
   "outputs": [],
   "source": [
    "# define the checkpoint\n",
    "from keras.callbacks import ModelCheckpoint\n",
    "model_name = \"cyst_seg_80-10_split_35epoch.h5\"\n",
    "filepath = model_name\n",
    "checkpoint = ModelCheckpoint(filepath, monitor='loss', verbose=1, save_best_only=True, mode='min')\n",
    "callbacks_list = [checkpoint]\n",
    "cb = TimingCallback()"
   ]
  },
  {
   "cell_type": "code",
   "execution_count": 40,
   "id": "6c38ba48",
   "metadata": {},
   "outputs": [],
   "source": [
    "model.compile(\n",
    "  optimizer=tf.keras.optimizers.Adam(learning_rate=3e-4),\n",
    "  loss=jaccard_distance,\n",
    "  metrics=[dice_coef])"
   ]
  },
  {
   "cell_type": "code",
   "execution_count": 41,
   "id": "81680cd8",
   "metadata": {},
   "outputs": [
    {
     "name": "stdout",
     "output_type": "stream",
     "text": [
      "Epoch 1/35\n",
      "   6/1885 [..............................] - ETA: 11:25 - loss: 1.0076 - dice_coef: 0.4828WARNING:tensorflow:Callback method `on_train_batch_end` is slow compared to the batch time (batch time: 0.1624s vs `on_train_batch_end` time: 0.1682s). Check your callbacks.\n",
      "1885/1885 [==============================] - 805s 422ms/step - loss: 0.1985 - dice_coef: 0.8997 - val_loss: 0.0119 - val_dice_coef: 0.9940\n",
      "Epoch 2/35\n",
      "1885/1885 [==============================] - 813s 430ms/step - loss: 0.0172 - dice_coef: 0.9913 - val_loss: 0.0047 - val_dice_coef: 0.9976\n",
      "Epoch 3/35\n",
      "1885/1885 [==============================] - 812s 430ms/step - loss: 0.0051 - dice_coef: 0.9974 - val_loss: 0.0030 - val_dice_coef: 0.9985\n",
      "Epoch 4/35\n",
      "1885/1885 [==============================] - 813s 431ms/step - loss: 0.0031 - dice_coef: 0.9984 - val_loss: 0.0025 - val_dice_coef: 0.9987\n",
      "Epoch 5/35\n",
      "1885/1885 [==============================] - 816s 432ms/step - loss: 0.0025 - dice_coef: 0.9988 - val_loss: 0.0025 - val_dice_coef: 0.9987\n",
      "Epoch 6/35\n",
      "1885/1885 [==============================] - 815s 432ms/step - loss: 0.0021 - dice_coef: 0.9989 - val_loss: 0.0018 - val_dice_coef: 0.9991\n",
      "Epoch 7/35\n",
      "1885/1885 [==============================] - 815s 432ms/step - loss: 0.0020 - dice_coef: 0.9990 - val_loss: 0.0018 - val_dice_coef: 0.9991\n",
      "Epoch 8/35\n",
      "1885/1885 [==============================] - 814s 431ms/step - loss: 0.0018 - dice_coef: 0.9991 - val_loss: 1.4471 - val_dice_coef: 0.2023\n",
      "Epoch 9/35\n",
      "1885/1885 [==============================] - 815s 432ms/step - loss: 0.0017 - dice_coef: 0.9991 - val_loss: 0.0016 - val_dice_coef: 0.9992\n",
      "Epoch 10/35\n",
      "1885/1885 [==============================] - 814s 431ms/step - loss: 0.0016 - dice_coef: 0.9992 - val_loss: 0.0016 - val_dice_coef: 0.9992\n",
      "Epoch 11/35\n",
      "1885/1885 [==============================] - 820s 434ms/step - loss: 0.0016 - dice_coef: 0.9992 - val_loss: 0.0017 - val_dice_coef: 0.9991\n",
      "Epoch 12/35\n",
      "1885/1885 [==============================] - 816s 432ms/step - loss: 0.0015 - dice_coef: 0.9992 - val_loss: 0.0016 - val_dice_coef: 0.9992\n",
      "Epoch 13/35\n",
      "1885/1885 [==============================] - 814s 431ms/step - loss: 0.0015 - dice_coef: 0.9992 - val_loss: 0.0018 - val_dice_coef: 0.9991\n",
      "Epoch 14/35\n",
      "1885/1885 [==============================] - 814s 431ms/step - loss: 0.0014 - dice_coef: 0.9993 - val_loss: 0.0018 - val_dice_coef: 0.9991\n",
      "Epoch 15/35\n",
      "1885/1885 [==============================] - 814s 431ms/step - loss: 0.0014 - dice_coef: 0.9993 - val_loss: 0.0016 - val_dice_coef: 0.9992\n",
      "Epoch 16/35\n",
      "1885/1885 [==============================] - 814s 431ms/step - loss: 0.0013 - dice_coef: 0.9993 - val_loss: 0.0017 - val_dice_coef: 0.9991\n",
      "Epoch 17/35\n",
      "1885/1885 [==============================] - 814s 431ms/step - loss: 0.0013 - dice_coef: 0.9993 - val_loss: 0.0016 - val_dice_coef: 0.9992\n",
      "Epoch 18/35\n",
      "1885/1885 [==============================] - 813s 431ms/step - loss: 0.0013 - dice_coef: 0.9994 - val_loss: 0.0018 - val_dice_coef: 0.9991\n",
      "Epoch 19/35\n",
      "1885/1885 [==============================] - 813s 431ms/step - loss: 0.0012 - dice_coef: 0.9994 - val_loss: 0.0016 - val_dice_coef: 0.9992\n",
      "Epoch 20/35\n",
      "1885/1885 [==============================] - 813s 431ms/step - loss: 0.0012 - dice_coef: 0.9994 - val_loss: 0.0017 - val_dice_coef: 0.9991\n",
      "Epoch 21/35\n",
      "1885/1885 [==============================] - 812s 430ms/step - loss: 0.0011 - dice_coef: 0.9994 - val_loss: 0.0015 - val_dice_coef: 0.9992\n",
      "Epoch 22/35\n",
      "1885/1885 [==============================] - 813s 430ms/step - loss: 0.0011 - dice_coef: 0.9994 - val_loss: 0.0016 - val_dice_coef: 0.9992\n",
      "Epoch 23/35\n",
      "1885/1885 [==============================] - 812s 430ms/step - loss: 0.0011 - dice_coef: 0.9994 - val_loss: 0.0016 - val_dice_coef: 0.9992\n",
      "Epoch 24/35\n",
      "1885/1885 [==============================] - 814s 431ms/step - loss: 0.0011 - dice_coef: 0.9995 - val_loss: 0.0018 - val_dice_coef: 0.9991\n",
      "Epoch 25/35\n",
      "1885/1885 [==============================] - 814s 431ms/step - loss: 0.0010 - dice_coef: 0.9995 - val_loss: 0.0016 - val_dice_coef: 0.9992\n",
      "Epoch 26/35\n",
      "1885/1885 [==============================] - 815s 431ms/step - loss: 0.0010 - dice_coef: 0.9995 - val_loss: 0.0016 - val_dice_coef: 0.9992\n",
      "Epoch 27/35\n",
      "1885/1885 [==============================] - 814s 431ms/step - loss: 9.7720e-04 - dice_coef: 0.9995 - val_loss: 0.0016 - val_dice_coef: 0.9992\n",
      "Epoch 28/35\n",
      "1885/1885 [==============================] - 813s 430ms/step - loss: 9.4959e-04 - dice_coef: 0.9995 - val_loss: 0.0017 - val_dice_coef: 0.9991\n",
      "Epoch 29/35\n",
      "1885/1885 [==============================] - 813s 430ms/step - loss: 9.4312e-04 - dice_coef: 0.9995 - val_loss: 0.0016 - val_dice_coef: 0.9992\n",
      "Epoch 30/35\n",
      "1885/1885 [==============================] - 813s 430ms/step - loss: 9.1593e-04 - dice_coef: 0.9995 - val_loss: 0.0016 - val_dice_coef: 0.9992\n",
      "Epoch 31/35\n",
      "1885/1885 [==============================] - 813s 431ms/step - loss: 8.9948e-04 - dice_coef: 0.9995 - val_loss: 0.0017 - val_dice_coef: 0.9991\n",
      "Epoch 32/35\n",
      "1885/1885 [==============================] - 814s 431ms/step - loss: 8.8666e-04 - dice_coef: 0.9995 - val_loss: 0.0016 - val_dice_coef: 0.9992\n",
      "Epoch 33/35\n",
      "1885/1885 [==============================] - 812s 430ms/step - loss: 8.7295e-04 - dice_coef: 0.9996 - val_loss: 0.0016 - val_dice_coef: 0.9992\n",
      "Epoch 34/35\n",
      "1885/1885 [==============================] - 812s 430ms/step - loss: 8.5909e-04 - dice_coef: 0.9996 - val_loss: 0.0016 - val_dice_coef: 0.9992\n",
      "Epoch 35/35\n",
      "1885/1885 [==============================] - 814s 431ms/step - loss: 8.3907e-04 - dice_coef: 0.9996 - val_loss: 0.0016 - val_dice_coef: 0.9992\n"
     ]
    }
   ],
   "source": [
    "# Train model on dataset\n",
    "history = model.fit(training_generator, epochs = 35,\n",
    "                    validation_data = validation_generator,\n",
    "                    use_multiprocessing=False,\n",
    "                    workers=6, batch_size = 32,callbacks=[cb])"
   ]
  },
  {
   "cell_type": "code",
   "execution_count": 43,
   "id": "5627945e",
   "metadata": {},
   "outputs": [
    {
     "name": "stdout",
     "output_type": "stream",
     "text": [
      "[804.7809971000001, 812.5080435999998, 812.0793399000004, 812.8167991999999, 816.4806128, 814.7407389999998, 814.9282776999999, 814.3259251999998, 814.6627620999989, 813.8581008000001, 819.9108938999998, 815.855631299999, 814.4974401, 813.9722870000005, 814.4037504000007, 813.8446809999987, 813.5246514999999, 813.2353351000002, 813.1935650999985, 812.9497697000006, 812.4593376000012, 812.7194353000014, 811.875259299999, 814.2756926000002, 813.8408973999976, 814.558520300001, 813.9582144999986, 812.6809251000013, 812.6301542999972, 812.621837900002, 813.2607401999994, 814.1240159000008, 812.3608970999994, 811.7946454000012, 814.1640334000003]\n",
      "28473.894208799997\n"
     ]
    }
   ],
   "source": [
    "print(cb.logs)\n",
    "print(sum(cb.logs))"
   ]
  },
  {
   "cell_type": "code",
   "execution_count": 45,
   "id": "8e31cd6a",
   "metadata": {},
   "outputs": [
    {
     "data": {
      "text/plain": [
       "7.909415057999999"
      ]
     },
     "execution_count": 45,
     "metadata": {},
     "output_type": "execute_result"
    }
   ],
   "source": [
    "sum(cb.logs)/3600"
   ]
  },
  {
   "cell_type": "code",
   "execution_count": 46,
   "id": "e1991d88",
   "metadata": {},
   "outputs": [
    {
     "name": "stdout",
     "output_type": "stream",
     "text": [
      "[804.7809971000001, 812.5080435999998, 812.0793399000004, 812.8167991999999, 816.4806128, 814.7407389999998, 814.9282776999999, 814.3259251999998, 814.6627620999989, 813.8581008000001, 819.9108938999998, 815.855631299999, 814.4974401, 813.9722870000005, 814.4037504000007, 813.8446809999987, 813.5246514999999, 813.2353351000002, 813.1935650999985, 812.9497697000006, 812.4593376000012, 812.7194353000014, 811.875259299999, 814.2756926000002, 813.8408973999976, 814.558520300001, 813.9582144999986, 812.6809251000013, 812.6301542999972, 812.621837900002, 813.2607401999994, 814.1240159000008, 812.3608970999994, 811.7946454000012, 814.1640334000003]\n"
     ]
    }
   ],
   "source": [
    "time = list(cb.logs)\n",
    "print(time)"
   ]
  },
  {
   "cell_type": "code",
   "execution_count": 47,
   "id": "b04ad4b2",
   "metadata": {},
   "outputs": [],
   "source": [
    "import pandas as pd\n",
    "df = pd.DataFrame.from_dict(history.history)"
   ]
  },
  {
   "cell_type": "code",
   "execution_count": 48,
   "id": "3b596fc1",
   "metadata": {},
   "outputs": [],
   "source": [
    "df['epoch_time'] = np.array(cb.logs)"
   ]
  },
  {
   "cell_type": "code",
   "execution_count": 49,
   "id": "b8869fa5",
   "metadata": {},
   "outputs": [],
   "source": [
    "df.to_csv('cyst_seg_80-10_split_35epoch.csv')"
   ]
  },
  {
   "cell_type": "code",
   "execution_count": 50,
   "id": "57ab27cf",
   "metadata": {},
   "outputs": [
    {
     "name": "stdout",
     "output_type": "stream",
     "text": [
      "    Unnamed: 0      loss  dice_coef  val_loss  val_dice_coef  epoch_time\n",
      "0            0  0.198545   0.899746  0.011866       0.993960  804.780997\n",
      "1            1  0.017190   0.991275  0.004750       0.997579  812.508044\n",
      "2            2  0.005099   0.997405  0.003020       0.998461  812.079340\n",
      "3            3  0.003108   0.998417  0.002451       0.998749  812.816799\n",
      "4            4  0.002451   0.998750  0.002450       0.998749  816.480613\n",
      "5            5  0.002149   0.998904  0.001847       0.999057  814.740739\n",
      "6            6  0.001958   0.999002  0.001838       0.999062  814.928278\n",
      "7            7  0.001843   0.999058  1.447078       0.202280  814.325925\n",
      "8            8  0.001716   0.999124  0.001625       0.999170  814.662762\n",
      "9            9  0.001641   0.999162  0.001598       0.999185  813.858101\n",
      "10          10  0.001581   0.999194  0.001673       0.999147  819.910894\n",
      "11          11  0.001531   0.999220  0.001623       0.999172  815.855631\n",
      "12          12  0.001475   0.999248  0.001812       0.999076  814.497440\n",
      "13          13  0.001423   0.999275  0.001765       0.999100  813.972287\n",
      "14          14  0.001382   0.999295  0.001586       0.999191  814.403750\n",
      "15          15  0.001338   0.999318  0.001678       0.999145  813.844681\n",
      "16          16  0.001294   0.999340  0.001628       0.999170  813.524651\n",
      "17          17  0.001256   0.999360  0.001805       0.999079  813.235335\n",
      "18          18  0.001219   0.999378  0.001610       0.999179  813.193565\n",
      "19          19  0.001178   0.999399  0.001729       0.999118  812.949770\n",
      "20          20  0.001149   0.999414  0.001547       0.999211  812.459338\n",
      "21          21  0.001114   0.999432  0.001601       0.999183  812.719435\n",
      "22          22  0.001080   0.999449  0.001596       0.999186  811.875259\n",
      "23          23  0.001051   0.999462  0.001770       0.999097  814.275693\n",
      "24          24  0.001028   0.999477  0.001619       0.999175  813.840897\n",
      "25          25  0.001002   0.999489  0.001608       0.999180  814.558520\n",
      "26          26  0.000977   0.999502  0.001601       0.999183  813.958214\n",
      "27          27  0.000950   0.999516  0.001682       0.999142  812.680925\n",
      "28          28  0.000943   0.999519  0.001557       0.999206  812.630154\n",
      "29          29  0.000916   0.999532  0.001649       0.999159  812.621838\n",
      "30          30  0.000899   0.999541  0.001701       0.999133  813.260740\n",
      "31          31  0.000887   0.999547  0.001585       0.999192  814.124016\n",
      "32          32  0.000873   0.999555  0.001623       0.999172  812.360897\n",
      "33          33  0.000859   0.999562  0.001620       0.999173  811.794645\n",
      "34          34  0.000839   0.999572  0.001552       0.999209  814.164033\n"
     ]
    }
   ],
   "source": [
    "import pandas as pd\n",
    "\n",
    "DF = pd.read_csv('cyst_seg_80-10_split_35epoch.csv')\n",
    "\n",
    "print(DF) "
   ]
  },
  {
   "cell_type": "code",
   "execution_count": 51,
   "id": "4df13ea8",
   "metadata": {},
   "outputs": [],
   "source": [
    "from keras.models import Sequential, load_model\n",
    "model.save(model_name)    "
   ]
  },
  {
   "cell_type": "code",
   "execution_count": 52,
   "id": "f63e7e21",
   "metadata": {},
   "outputs": [
    {
     "data": {
      "image/png": "[encoded data removed]",
      "text/plain": [
       "<Figure size 640x480 with 1 Axes>"
      ]
     },
     "metadata": {},
     "output_type": "display_data"
    }
   ],
   "source": [
    "%matplotlib inline\n",
    "plt.plot(range(len(history.history['loss'])), history.history['loss'], '-') #TODO: plot the training loss learning curve\n",
    "plt.plot(range(len(history.history['val_loss'])), history.history['val_loss'], '-') #TODO: plot the validation loss learning curve\n",
    "plt.xlabel('epoch')\n",
    "plt.xlabel('Jaccard loss')\n",
    "\n",
    "plt.show()"
   ]
  },
  {
   "cell_type": "code",
   "execution_count": 53,
   "id": "b50acca1",
   "metadata": {},
   "outputs": [
    {
     "data": {
      "text/plain": [
       "Text(0.5, 0, 'Dice coefficient')"
      ]
     },
     "execution_count": 53,
     "metadata": {},
     "output_type": "execute_result"
    },
    {
     "data": {
      "image/png": "[encoded data removed]",
      "text/plain": [
       "<Figure size 640x480 with 1 Axes>"
      ]
     },
     "metadata": {},
     "output_type": "display_data"
    }
   ],
   "source": [
    "plt.plot(range(len(history.history['dice_coef'])), history.history['dice_coef'], '-') #TODO: plot the training dice_coef learning curve\n",
    "\n",
    "plt.plot(range(len(history.history['val_dice_coef'])), history.history['val_dice_coef'], '-') #TODO: plot the validation dice_coef learning curve\n",
    "plt.xlabel('epoch')\n",
    "plt.xlabel('Dice coefficient')"
   ]
  },
  {
   "cell_type": "code",
   "execution_count": 54,
   "id": "2c1f2028",
   "metadata": {},
   "outputs": [
    {
     "data": {
      "image/png": "[encoded data removed]",
      "text/plain": [
       "<Figure size 640x480 with 1 Axes>"
      ]
     },
     "metadata": {},
     "output_type": "display_data"
    }
   ],
   "source": [
    "%matplotlib inline\n",
    "plt.plot(range(len(DF['loss'])), DF['loss'], '-') #TODO: plot the training loss learning curve\n",
    "plt.plot(range(len(DF['val_loss'])), DF['val_loss'], '-') #TODO: plot the validation loss learning curve\n",
    "plt.xlabel('epoch')\n",
    "plt.xlabel('Jaccard loss')\n",
    "\n",
    "plt.show()"
   ]
  },
  {
   "cell_type": "code",
   "execution_count": 55,
   "id": "01db2dda",
   "metadata": {},
   "outputs": [
    {
     "data": {
      "text/plain": [
       "Text(0.5, 0, 'Dice coefficient')"
      ]
     },
     "execution_count": 55,
     "metadata": {},
     "output_type": "execute_result"
    },
    {
     "data": {
      "image/png": "[encoded data removed]",
      "text/plain": [
       "<Figure size 640x480 with 1 Axes>"
      ]
     },
     "metadata": {},
     "output_type": "display_data"
    }
   ],
   "source": [
    "plt.plot(range(len(df['dice_coef'])), df['dice_coef'], '-') #TODO: plot the training dice_coef learning curve\n",
    "\n",
    "plt.plot(range(len(df['val_dice_coef'])), df['val_dice_coef'], '-') #TODO: plot the validation dice_coef learning curve\n",
    "plt.xlabel('epoch')\n",
    "plt.xlabel('Dice coefficient')"
   ]
  },
  {
   "cell_type": "code",
   "execution_count": 49,
   "id": "41168688",
   "metadata": {},
   "outputs": [],
   "source": []
  },
  {
   "cell_type": "code",
   "execution_count": null,
   "id": "50c44dc6",
   "metadata": {},
   "outputs": [],
   "source": []
  }
 ],
 "metadata": {
  "kernelspec": {
   "display_name": "TF23",
   "language": "python",
   "name": "tf23"
  },
  "language_info": {
   "codemirror_mode": {
    "name": "ipython",
    "version": 3
   },
   "file_extension": ".py",
   "mimetype": "text/x-python",
   "name": "python",
   "nbconvert_exporter": "python",
   "pygments_lexer": "ipython3",
   "version": "3.8.5"
  }
 },
 "nbformat": 4,
 "nbformat_minor": 5
}
