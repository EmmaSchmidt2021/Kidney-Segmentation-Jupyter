{
 "cells": [
  {
   "cell_type": "markdown",
   "id": "df9f41aa",
   "metadata": {},
   "source": [
    "# This code will train the model and save weights  using a data generator"
   ]
  },
  {
   "cell_type": "markdown",
   "id": "af1d7deb",
   "metadata": {},
   "source": [
    "First Import libraries"
   ]
  },
  {
   "cell_type": "code",
   "execution_count": 1,
   "id": "ead55dba",
   "metadata": {},
   "outputs": [
    {
     "name": "stdout",
     "output_type": "stream",
     "text": [
      "-----------------------------------------\n",
      "keras-unet init: TF version is >= 2.0.0 - using `tf.keras` instead of `Keras`\n",
      "-----------------------------------------\n"
     ]
    }
   ],
   "source": [
    "import os\n",
    "import numpy as np\n",
    "import keras\n",
    "import tensorflow\n",
    "from sklearn.model_selection import train_test_split\n",
    "import nibabel as nib\n",
    "import tensorflow as tf\n",
    "from tensorflow.python.keras.utils.data_utils import Sequence\n",
    "from keras.utils import np_utils\n",
    "from tensorflow.keras.utils import to_categorical\n",
    "import matplotlib.pyplot as plt\n",
    "from skimage import measure\n",
    "from skimage.transform import resize\n",
    "from keras_unet.metrics import dice_coef\n",
    "from keras_unet.models import custom_unet\n",
    "from keras_unet.losses import jaccard_distance\n",
    "from sklearn.model_selection import train_test_split\n",
    "from PIL import Image\n",
    "from PIL import ImageOps\n",
    "import fnmatch\n",
    "import nibabel as nib\n",
    "import shutil"
   ]
  },
  {
   "cell_type": "code",
   "execution_count": 2,
   "id": "4b653625",
   "metadata": {},
   "outputs": [
    {
     "data": {
      "text/plain": [
       "[PhysicalDevice(name='/physical_device:GPU:0', device_type='GPU')]"
      ]
     },
     "execution_count": 2,
     "metadata": {},
     "output_type": "execute_result"
    }
   ],
   "source": [
    "from tensorflow.python.client import device_lib\n",
    "tensorflow.config.list_physical_devices('GPU')"
   ]
  },
  {
   "cell_type": "markdown",
   "id": "4479fed1",
   "metadata": {},
   "source": [
    "Define our Data Generator and other functions to be used later"
   ]
  },
  {
   "cell_type": "code",
   "execution_count": 3,
   "id": "bbce0c39",
   "metadata": {},
   "outputs": [],
   "source": [
    "def gather_set(data_path, phrase):\n",
    "    set_of = []\n",
    "    path = data_path + '\\\\'\n",
    "    for f in os.listdir(data_path):\n",
    "      if phrase in f:\n",
    "        set_of.append(f)\n",
    "      else:\n",
    "        continue\n",
    "    #set_of = np.array(set_of)\n",
    "\n",
    "    indices = np.array(range(len(set_of))) # we will use this in the next step.\n",
    "\n",
    "    return set_of"
   ]
  },
  {
   "cell_type": "code",
   "execution_count": 4,
   "id": "f825451d",
   "metadata": {},
   "outputs": [],
   "source": [
    "def gather_set_and_path(data_path, phrase):\n",
    "    set_of = []\n",
    "    path = data_path + '\\\\'\n",
    "    for f in os.listdir(data_path):\n",
    "      if phrase in f:\n",
    "        set_of.append(str(data_path+f))\n",
    "      else:\n",
    "        continue\n",
    "    #set_of = np.array(set_of)\n",
    "\n",
    "    indices = np.array(range(len(set_of))) # we will use this in the next step.\n",
    "\n",
    "    return set_of"
   ]
  },
  {
   "cell_type": "markdown",
   "id": "7cbe24c3",
   "metadata": {},
   "source": [
    "Define the paths where images and segmentations are located. Gather into groups and arrange into a dictionary that can be split up for training, testing, and validation for the model\n",
    "\n",
    "## Expected Dimmentions\n",
    "\n",
    "Image: (512,512) range: 0:255\n",
    "\n",
    "Label: (512,512) range: 0:1"
   ]
  },
  {
   "cell_type": "code",
   "execution_count": 5,
   "id": "a5640bb7",
   "metadata": {},
   "outputs": [
    {
     "name": "stdout",
     "output_type": "stream",
     "text": [
      "77885\n"
     ]
    }
   ],
   "source": [
    "data_path_1 = r\"C:\\Users\\UAB\\data\\Emory\\data\\\\\"\n",
    "data_path_2 = r\"C:\\Users\\UAB\\data\\KU\\data\\\\\"\n",
    "data_path_3 = r\"C:\\Users\\UAB\\data\\Mayo\\data\\\\\"\n",
    "data_path_4 = r\"C:\\Users\\UAB\\data\\UAB\\data\\\\\"\n",
    "\n",
    "images_1 = gather_set_and_path(data_path_1, '_M')\n",
    "images_2 = gather_set_and_path(data_path_2, '_M')\n",
    "images_3 = gather_set_and_path(data_path_3, '_M')\n",
    "images_4 = gather_set_and_path(data_path_4, '_M')\n",
    "\n",
    "\n",
    "images = images_1+images_2+images_3+images_4\n",
    "\n",
    "\n",
    "print(len(images))\n",
    "\n"
   ]
  },
  {
   "cell_type": "code",
   "execution_count": 6,
   "id": "4561eb39",
   "metadata": {},
   "outputs": [
    {
     "name": "stdout",
     "output_type": "stream",
     "text": [
      "23488\n",
      "26082\n",
      "21037\n",
      "7278\n"
     ]
    }
   ],
   "source": [
    "print(len(images_1))\n",
    "print(len(images_2))\n",
    "print(len(images_3))\n",
    "print(len(images_4))\n"
   ]
  },
  {
   "cell_type": "code",
   "execution_count": 7,
   "id": "4e5e293b",
   "metadata": {},
   "outputs": [
    {
     "data": {
      "text/plain": [
       "<matplotlib.image.AxesImage at 0x15b19f30df0>"
      ]
     },
     "execution_count": 7,
     "metadata": {},
     "output_type": "execute_result"
    },
    {
     "data": {
      "image/png": "[encoded data removed]",
      "text/plain": [
       "<Figure size 640x480 with 1 Axes>"
      ]
     },
     "metadata": {},
     "output_type": "display_data"
    }
   ],
   "source": [
    "%matplotlib inline\n",
    "\n",
    "image = np.load(images[-150])\n",
    "plt.imshow(image, cmap='gray')"
   ]
  },
  {
   "cell_type": "code",
   "execution_count": 8,
   "id": "6ea6ad25",
   "metadata": {},
   "outputs": [
    {
     "name": "stdout",
     "output_type": "stream",
     "text": [
      "77885\n"
     ]
    }
   ],
   "source": [
    "#kdata_path_1 = r\"D:\\EKS-predicted\\80-10\\\\\" \n",
    "masks_1 = gather_set_and_path(data_path_1, 'ep_K')\n",
    "masks_2 = gather_set_and_path(data_path_2, 'ep_K')\n",
    "masks_3 = gather_set_and_path(data_path_3, 'ep_K')\n",
    "masks_4 = gather_set_and_path(data_path_4, 'ep_K')\n",
    "\n",
    "masks = masks_1 + masks_2 + masks_3 + masks_4\n",
    "#masks = gather_set_and_path(kdata_path_1, '_K')\n",
    "print(len(masks))"
   ]
  },
  {
   "cell_type": "code",
   "execution_count": 9,
   "id": "135cb1be",
   "metadata": {},
   "outputs": [
    {
     "data": {
      "text/plain": [
       "<matplotlib.image.AxesImage at 0x15b1a9593a0>"
      ]
     },
     "execution_count": 9,
     "metadata": {},
     "output_type": "execute_result"
    },
    {
     "data": {
      "image/png": "[encoded data removed]",
      "text/plain": [
       "<Figure size 640x480 with 1 Axes>"
      ]
     },
     "metadata": {},
     "output_type": "display_data"
    }
   ],
   "source": [
    "mask = np.load(masks[-150])\n",
    "plt.imshow(mask, cmap='gray')"
   ]
  },
  {
   "cell_type": "code",
   "execution_count": 10,
   "id": "fda92b79",
   "metadata": {},
   "outputs": [
    {
     "name": "stdout",
     "output_type": "stream",
     "text": [
      "78257\n"
     ]
    }
   ],
   "source": [
    "\n",
    "labels_1 = gather_set_and_path(data_path_1, '_C')\n",
    "labels_2 = gather_set_and_path(data_path_2, '_C')\n",
    "labels_3 = gather_set_and_path(data_path_3, '_C')\n",
    "labels_4 = gather_set_and_path(data_path_4, '_C')\n",
    "\n",
    "labels = labels_1 + labels_2 + labels_3 + labels_4\n",
    "\n",
    "print(len(labels))\n"
   ]
  },
  {
   "cell_type": "code",
   "execution_count": 11,
   "id": "842cb74c",
   "metadata": {},
   "outputs": [
    {
     "data": {
      "text/plain": [
       "<matplotlib.image.AxesImage at 0x15b192f7c10>"
      ]
     },
     "execution_count": 11,
     "metadata": {},
     "output_type": "execute_result"
    },
    {
     "data": {
      "image/png": "[encoded data removed]",
      "text/plain": [
       "<Figure size 640x480 with 1 Axes>"
      ]
     },
     "metadata": {},
     "output_type": "display_data"
    }
   ],
   "source": [
    "label = np.load(labels[-150])\n",
    "plt.imshow(label, cmap='gray')"
   ]
  },
  {
   "cell_type": "code",
   "execution_count": 12,
   "id": "22de95ad",
   "metadata": {},
   "outputs": [
    {
     "name": "stdout",
     "output_type": "stream",
     "text": [
      "C:\\Users\\UAB\\data\\UAB\\data\\\\UB_479334_1_93_L_57_M.npy\n",
      "C:\\Users\\UAB\\data\\UAB\\data\\\\UB_479334_1_93_L_57_C.npy\n",
      "(512, 512) 129 0\n",
      "(512, 512) 1 0\n"
     ]
    }
   ],
   "source": [
    "#print(masks[-1500])\n",
    "print(images[-1500])\n",
    "print(labels[-1500])\n",
    "test_img = np.load(images[100])\n",
    "print(test_img.shape, test_img.max(), test_img.min())\n",
    "#test_msk = np.load(masks[100])\n",
    "#print(test_msk.shape, test_msk.max(), test_msk.min())\n",
    "test_lab = np.load(labels[100])\n",
    "print(test_lab.shape, test_lab.max(), test_lab.min())\n"
   ]
  },
  {
   "cell_type": "markdown",
   "id": "325bbedb",
   "metadata": {},
   "source": [
    "## Define Image and Label ID for data generator\n",
    "\n",
    "Here the \"test train split\" will need to be replaced so we have the whole patient in one or the other\"\n"
   ]
  },
  {
   "cell_type": "code",
   "execution_count": 13,
   "id": "6251de22",
   "metadata": {},
   "outputs": [],
   "source": [
    "d = {}\n",
    "for i in images:\n",
    "    if i not in d:\n",
    "        d[i] = len(d)\n",
    "\n",
    "labels_mapping = list(map(d.get, images))\n",
    "#print(labels_mapping)\n",
    "\n",
    "labels = {images[i]:labels_mapping[i] for i in range(len(images))}"
   ]
  },
  {
   "cell_type": "code",
   "execution_count": 14,
   "id": "d469958c",
   "metadata": {},
   "outputs": [
    {
     "name": "stdout",
     "output_type": "stream",
     "text": [
      "77885\n"
     ]
    }
   ],
   "source": [
    "print(len(labels))"
   ]
  },
  {
   "cell_type": "code",
   "execution_count": 15,
   "id": "d7c27810",
   "metadata": {},
   "outputs": [
    {
     "name": "stdout",
     "output_type": "stream",
     "text": [
      "EM_200922_0\n"
     ]
    }
   ],
   "source": [
    "import os\n",
    "img_name = os.path.basename(images[0])[0:11]\n",
    "print(img_name)"
   ]
  },
  {
   "cell_type": "markdown",
   "id": "68495280",
   "metadata": {},
   "source": [
    "## Image separation for entire patient in training or validation - use with single set of images\n"
   ]
  },
  {
   "cell_type": "code",
   "execution_count": 14,
   "id": "dbf10728",
   "metadata": {},
   "outputs": [],
   "source": [
    "from sklearn.model_selection import train_test_split\n",
    "\n",
    "\n",
    "id_list = []   \n",
    "for i in range(len(images)):\n",
    "    image_name = os.path.basename(images[i])\n",
    "    unique_id =  image_name[0:11]\n",
    "    id_list.append(unique_id)\n",
    "\n",
    "unique_ids = list(set(id_list))"
   ]
  },
  {
   "cell_type": "code",
   "execution_count": 15,
   "id": "6b8dac9c",
   "metadata": {},
   "outputs": [
    {
     "name": "stdout",
     "output_type": "stream",
     "text": [
      "350\n"
     ]
    }
   ],
   "source": [
    "print(len(unique_ids))"
   ]
  },
  {
   "cell_type": "code",
   "execution_count": 16,
   "id": "6b271e3e",
   "metadata": {},
   "outputs": [],
   "source": [
    "train, val = train_test_split(unique_ids, train_size = 0.8)"
   ]
  },
  {
   "cell_type": "code",
   "execution_count": 17,
   "id": "ec177310",
   "metadata": {},
   "outputs": [
    {
     "name": "stdout",
     "output_type": "stream",
     "text": [
      "280\n",
      "70\n"
     ]
    }
   ],
   "source": [
    "print(len(train))\n",
    "print(len(val))"
   ]
  },
  {
   "cell_type": "code",
   "execution_count": 18,
   "id": "026c2dcc",
   "metadata": {},
   "outputs": [
    {
     "name": "stdout",
     "output_type": "stream",
     "text": [
      "['MA_300641_0', 'MA_318562_0']\n"
     ]
    }
   ],
   "source": [
    "print(train[0:2])"
   ]
  },
  {
   "cell_type": "code",
   "execution_count": 29,
   "id": "77296814",
   "metadata": {},
   "outputs": [],
   "source": [
    "#use this when images do not contain filepath:\n",
    "#train_list = [image for image in images if image[0:8] in train]\n",
    "#val_list = [image for image in images if image[0:8] in val] "
   ]
  },
  {
   "cell_type": "code",
   "execution_count": 30,
   "id": "a69dda70",
   "metadata": {},
   "outputs": [],
   "source": [
    "train_list = []\n",
    "for i in range(len(images)):\n",
    "    if any(phrase in images[i] for phrase in train):\n",
    "        train_list.append(images[i])"
   ]
  },
  {
   "cell_type": "code",
   "execution_count": 31,
   "id": "6e496b92",
   "metadata": {},
   "outputs": [],
   "source": [
    "val_list = [] \n",
    "for i in range(len(images)):\n",
    "    if any(phrase in images[i] for phrase in val):\n",
    "        val_list.append(images[i])"
   ]
  },
  {
   "cell_type": "code",
   "execution_count": 32,
   "id": "948d0805",
   "metadata": {},
   "outputs": [
    {
     "name": "stdout",
     "output_type": "stream",
     "text": [
      "62495\n",
      "15390\n",
      "77885\n",
      "77885\n"
     ]
    }
   ],
   "source": [
    "print(len(train_list))\n",
    "print(len(val_list))\n",
    "print(len(train_list)+len(val_list))\n",
    "print(len(images))"
   ]
  },
  {
   "cell_type": "code",
   "execution_count": 33,
   "id": "7a909436",
   "metadata": {},
   "outputs": [],
   "source": [
    "partition = {'train':train_list, 'validation':val_list}"
   ]
  },
  {
   "cell_type": "markdown",
   "id": "b19460d0",
   "metadata": {},
   "source": [
    "# Use for given csv file\n"
   ]
  },
  {
   "cell_type": "code",
   "execution_count": 34,
   "id": "2dc03ee7",
   "metadata": {},
   "outputs": [],
   "source": [
    "import pandas as pd\n",
    "df = pd.read_excel (r\"C:\\Users\\UAB\\Kidney-Segmentation-Jupyter\\Data for AI development.xlsx\", engine='openpyxl')"
   ]
  },
  {
   "cell_type": "code",
   "execution_count": 35,
   "id": "d4acf89e",
   "metadata": {},
   "outputs": [],
   "source": [
    "df = df.iloc[1: , 0:4]\n",
    "df. columns=df. iloc[0] "
   ]
  },
  {
   "cell_type": "code",
   "execution_count": 36,
   "id": "242c85af",
   "metadata": {},
   "outputs": [],
   "source": [
    "df2 = df.filter(regex='Validation')\n",
    "df2 = df2.iloc[:,0].dropna()\n",
    "val_csv_list = df2.values.tolist()\n",
    "val_csv_list = val_csv_list[1:]"
   ]
  },
  {
   "cell_type": "code",
   "execution_count": 37,
   "id": "1a5059e6",
   "metadata": {},
   "outputs": [],
   "source": [
    "df3 = df.filter(regex='Training')\n",
    "df3 = df3.iloc[:,0].dropna()\n",
    "train_csv_list = df3.values.tolist()\n",
    "train_csv_list = train_csv_list[1:]"
   ]
  },
  {
   "cell_type": "code",
   "execution_count": 38,
   "id": "e3409065",
   "metadata": {},
   "outputs": [
    {
     "name": "stdout",
     "output_type": "stream",
     "text": [
      "151\n",
      "439240L\n",
      "19\n",
      "419258L\n"
     ]
    }
   ],
   "source": [
    "print(len(train_csv_list))\n",
    "print(train_csv_list[0])\n",
    "print(len(val_csv_list))\n",
    "print(val_csv_list[0])"
   ]
  },
  {
   "cell_type": "code",
   "execution_count": 39,
   "id": "5e10f2f1",
   "metadata": {},
   "outputs": [],
   "source": [
    "d = {}\n",
    "for i in images:\n",
    "    if i not in d:\n",
    "        d[i] = len(d)\n",
    "\n",
    "labels_mapping = list(map(d.get, images))\n",
    "#print(labels_mapping)\n",
    "\n",
    "labels = {images[i]:labels_mapping[i] for i in range(len(images))}"
   ]
  },
  {
   "cell_type": "code",
   "execution_count": 40,
   "id": "51c8bb1f",
   "metadata": {},
   "outputs": [],
   "source": [
    "id_list = []   \n",
    "for i in range(len(images)):\n",
    "    image_name = os.path.basename(images[i])\n",
    "    unique_id =  image_name[0:17]\n",
    "    id_list.append(unique_id)\n",
    "\n",
    "unique_ids = list(set(id_list))"
   ]
  },
  {
   "cell_type": "code",
   "execution_count": 41,
   "id": "05ba15ae",
   "metadata": {},
   "outputs": [],
   "source": [
    "train_sets=[]\n",
    "for i in range(len(train_csv_list)):\n",
    "    phrase1 = train_csv_list[i][:-2]\n",
    "    phrase2 = train_csv_list[i][-1]\n",
    "    #print(phrase1, phrase2)\n",
    "    for z in range(len(unique_ids)):\n",
    "        name = unique_ids[z]\n",
    "        if phrase1 in name:\n",
    "            if phrase2 in name:\n",
    "                train_sets.append(name)\n",
    "            else:\n",
    "                continue\n",
    "        else:\n",
    "            continue"
   ]
  },
  {
   "cell_type": "code",
   "execution_count": 42,
   "id": "99c82bb1",
   "metadata": {},
   "outputs": [
    {
     "name": "stdout",
     "output_type": "stream",
     "text": [
      "41925 L\n",
      "41925 R\n",
      "26434 R\n",
      "26517 L\n",
      "26517 R\n",
      "27168 L\n",
      "27168 R\n",
      "28393 L\n",
      "37468 R\n",
      "37625 L\n",
      "37625 R\n",
      "38016 L\n",
      "17079 L\n",
      "17079 R\n",
      "17320 L\n",
      "17320 R\n",
      "17875 L\n",
      "17875 R\n",
      "18341 L\n"
     ]
    }
   ],
   "source": [
    "val_sets=[]\n",
    "for i in range(len(val_csv_list)):\n",
    "    phrase1 = val_csv_list[i][:-2]\n",
    "    phrase2 = val_csv_list[i][-1]\n",
    "    print(phrase1, phrase2)\n",
    "    for z in range(len(unique_ids)):\n",
    "        name = unique_ids[z]\n",
    "        if phrase1 in name:\n",
    "            if phrase2 in name:\n",
    "                val_sets.append(name)\n",
    "            else:\n",
    "                continue\n",
    "        else:\n",
    "            continue"
   ]
  },
  {
   "cell_type": "code",
   "execution_count": 43,
   "id": "b30079d7",
   "metadata": {},
   "outputs": [],
   "source": [
    "train_list = []\n",
    "for i in range(len(images)):\n",
    "    if any(phrase in images[i] for phrase in train_sets):\n",
    "        train_list.append(images[i])\n"
   ]
  },
  {
   "cell_type": "code",
   "execution_count": 44,
   "id": "ac5ce99a",
   "metadata": {},
   "outputs": [],
   "source": [
    "val_list = [] \n",
    "for i in range(len(images)):\n",
    "    if any(phrase in images[i] for phrase in val_sets):\n",
    "        val_list.append(images[i])"
   ]
  },
  {
   "cell_type": "code",
   "execution_count": 45,
   "id": "d6b8ee31",
   "metadata": {},
   "outputs": [
    {
     "name": "stdout",
     "output_type": "stream",
     "text": [
      "60327\n",
      "8516\n"
     ]
    }
   ],
   "source": [
    "print(len(train_list))\n",
    "print(len(val_list))"
   ]
  },
  {
   "cell_type": "code",
   "execution_count": 28,
   "id": "c506f19c",
   "metadata": {},
   "outputs": [],
   "source": [
    "partition = {'train':train_list, 'validation':val_list}"
   ]
  },
  {
   "cell_type": "markdown",
   "id": "cac6d568",
   "metadata": {},
   "source": [
    "## Use for crossfold validation:"
   ]
  },
  {
   "cell_type": "code",
   "execution_count": 46,
   "id": "dcc3248c",
   "metadata": {},
   "outputs": [],
   "source": [
    "d = {}\n",
    "for i in images:\n",
    "    if i not in d:\n",
    "        d[i] = len(d)\n",
    "\n",
    "labels_mapping = list(map(d.get, images))\n",
    "#print(labels_mapping)\n",
    "\n",
    "labels = {images[i]:labels_mapping[i] for i in range(len(images))}"
   ]
  },
  {
   "cell_type": "code",
   "execution_count": 47,
   "id": "f6984d9c",
   "metadata": {},
   "outputs": [],
   "source": [
    "train_sets = [\"EM_\"]\n",
    "val_sets = [\"EM_\"]\n",
    "\n",
    "train_list_new = []\n",
    "for i in range(len(train_list)):\n",
    "    if any(phrase in train_list[i] for phrase in train_sets):\n",
    "        train_list_new.append(train_list[i])\n"
   ]
  },
  {
   "cell_type": "code",
   "execution_count": 30,
   "id": "69b5ee6a",
   "metadata": {},
   "outputs": [
    {
     "name": "stdout",
     "output_type": "stream",
     "text": [
      "C:\\Users\\UAB\\data\\Emory\\data\\\\EM_200922_0_144_L_60_M.npy\n"
     ]
    }
   ],
   "source": [
    "print(train_list[100])"
   ]
  },
  {
   "cell_type": "code",
   "execution_count": 48,
   "id": "14b766a5",
   "metadata": {},
   "outputs": [],
   "source": [
    "val_list_new = [] \n",
    "for i in range(len(val_list)):\n",
    "    if any(phrase in val_list[i] for phrase in val_sets):\n",
    "        val_list_new.append(val_list[i])\n"
   ]
  },
  {
   "cell_type": "code",
   "execution_count": 50,
   "id": "68ef4983",
   "metadata": {},
   "outputs": [
    {
     "name": "stdout",
     "output_type": "stream",
     "text": [
      "C:\\Users\\UAB\\data\\Emory\\data\\\\EM_264348_0_108_R_93_M.npy\n",
      "18816\n",
      "2326\n"
     ]
    }
   ],
   "source": [
    "print(val_list[100])\n",
    "print(len(train_list_new))\n",
    "print(len(val_list_new))"
   ]
  },
  {
   "cell_type": "code",
   "execution_count": 51,
   "id": "975fa011",
   "metadata": {},
   "outputs": [],
   "source": [
    "partition = {'train':train_list_new, 'validation':val_list_new}\n"
   ]
  },
  {
   "cell_type": "markdown",
   "id": "421286ae",
   "metadata": {},
   "source": [
    "# Create our data generators "
   ]
  },
  {
   "cell_type": "code",
   "execution_count": 52,
   "id": "6b5858fa",
   "metadata": {},
   "outputs": [],
   "source": [
    "\n",
    "from Data_Gen_Mask_PREDICTION import DataGeneratorK_Emory"
   ]
  },
  {
   "cell_type": "code",
   "execution_count": 53,
   "id": "400a7e1d",
   "metadata": {},
   "outputs": [],
   "source": [
    "params = {'dim': (512,512),\n",
    "          'batch_size': 32,\n",
    "          'n_classes': 2,\n",
    "          'n_channels': 2,\n",
    "          'shuffle': True}\n",
    "training_generator = DataGeneratorK_Emory(partition['train'], labels, **params)\n",
    "validation_generator = DataGeneratorK_Emory(partition['validation'], labels, **params)"
   ]
  },
  {
   "cell_type": "code",
   "execution_count": 54,
   "id": "ec9cbe50",
   "metadata": {
    "scrolled": true
   },
   "outputs": [
    {
     "name": "stdout",
     "output_type": "stream",
     "text": [
      "(32, 512, 512, 2) (32, 512, 512, 2)\n"
     ]
    }
   ],
   "source": [
    "X, y = training_generator[8]\n",
    "print(X.shape, y.shape)"
   ]
  },
  {
   "cell_type": "markdown",
   "id": "173ff990",
   "metadata": {},
   "source": [
    "## View output"
   ]
  },
  {
   "cell_type": "code",
   "execution_count": 55,
   "id": "d45b529d",
   "metadata": {},
   "outputs": [
    {
     "name": "stdout",
     "output_type": "stream",
     "text": [
      "(512, 512) 168.0 0.0\n",
      "(512, 512) 1.0 0.0\n"
     ]
    },
    {
     "data": {
      "text/plain": [
       "<matplotlib.image.AxesImage at 0x15b25d44e80>"
      ]
     },
     "execution_count": 55,
     "metadata": {},
     "output_type": "execute_result"
    },
    {
     "data": {
      "image/png": "[encoded data removed]",
      "text/plain": [
       "<Figure size 640x480 with 1 Axes>"
      ]
     },
     "metadata": {},
     "output_type": "display_data"
    }
   ],
   "source": [
    "n=5\n",
    "X_img = X[n,:,:,0]\n",
    "X_msk =X[n,:,:,1] \n",
    "print(X_img.shape, X_img.max(), X_img.min())\n",
    "print(X_msk.shape, X_msk.max(), X_msk.min())\n",
    "\n",
    "import matplotlib.pyplot as plt\n",
    "%matplotlib inline\n",
    "plt.imshow(X_img, cmap=\"gray\")"
   ]
  },
  {
   "cell_type": "code",
   "execution_count": 56,
   "id": "7f09b7b3",
   "metadata": {},
   "outputs": [
    {
     "data": {
      "text/plain": [
       "1.0"
      ]
     },
     "execution_count": 56,
     "metadata": {},
     "output_type": "execute_result"
    },
    {
     "data": {
      "image/png": "[encoded data removed]",
      "text/plain": [
       "<Figure size 640x480 with 1 Axes>"
      ]
     },
     "metadata": {},
     "output_type": "display_data"
    }
   ],
   "source": [
    "%matplotlib inline\n",
    "plt.imshow(X_msk, cmap=\"gray\")\n",
    "X_msk.max()"
   ]
  },
  {
   "cell_type": "code",
   "execution_count": 57,
   "id": "a93acd97",
   "metadata": {},
   "outputs": [
    {
     "name": "stdout",
     "output_type": "stream",
     "text": [
      "(512, 512) 1.0 0.0\n"
     ]
    },
    {
     "data": {
      "text/plain": [
       "<Figure size 640x480 with 0 Axes>"
      ]
     },
     "metadata": {},
     "output_type": "display_data"
    },
    {
     "data": {
      "image/png": "[encoded data removed]",
      "text/plain": [
       "<Figure size 640x480 with 2 Axes>"
      ]
     },
     "metadata": {},
     "output_type": "display_data"
    }
   ],
   "source": [
    "y_batch = y[n,:,:,:]\n",
    "y_batch.shape\n",
    "y_img_0 = y_batch[:,:,0]\n",
    "y_img_1 = y_batch[:,:,1]\n",
    "print(y_img_0.shape, y_img_0.max(), y_img_0.min())\n",
    "\n",
    "\n",
    "plt.figure()\n",
    "f, axarr = plt.subplots(1,2)\n",
    "axarr[0].imshow(y_img_0, cmap=\"gray\")\n",
    "axarr[0].title.set_text('First Axis')\n",
    "axarr[1].imshow(y_img_1, cmap='gray')\n",
    "axarr[1].title.set_text('Second Axis')"
   ]
  },
  {
   "cell_type": "code",
   "execution_count": 70,
   "id": "84ce4c11",
   "metadata": {},
   "outputs": [],
   "source": [
    "model = custom_unet(input_shape=(512,512,2), num_classes=2)\n",
    "#model.summary()"
   ]
  },
  {
   "cell_type": "code",
   "execution_count": 71,
   "id": "d52ccaa6",
   "metadata": {},
   "outputs": [],
   "source": [
    "from timeit import default_timer as timer\n",
    "\n",
    "class TimingCallback(keras.callbacks.Callback):\n",
    "    def __init__(self, logs={}):\n",
    "        self.logs=[]\n",
    "    def on_epoch_begin(self, epoch, logs={}):\n",
    "        self.starttime = timer()\n",
    "    def on_epoch_end(self, epoch, logs={}):\n",
    "        self.logs.append(timer()-self.starttime)"
   ]
  },
  {
   "cell_type": "code",
   "execution_count": 72,
   "id": "2f604f0b",
   "metadata": {},
   "outputs": [],
   "source": [
    "# define the checkpoint\n",
    "from keras.callbacks import ModelCheckpoint\n",
    "model_name = \"cyst_seg_emory_10epoch.h5\"\n",
    "filepath = model_name\n",
    "checkpoint = ModelCheckpoint(filepath, monitor='loss', verbose=1, save_best_only=True, mode='min')\n",
    "callbacks_list = [checkpoint]\n",
    "cb = TimingCallback()"
   ]
  },
  {
   "cell_type": "code",
   "execution_count": 73,
   "id": "6c38ba48",
   "metadata": {},
   "outputs": [],
   "source": [
    "model.compile(\n",
    "  optimizer=tf.keras.optimizers.Adam(learning_rate=3e-4),\n",
    "  loss=jaccard_distance,\n",
    "  metrics=[dice_coef])"
   ]
  },
  {
   "cell_type": "code",
   "execution_count": 74,
   "id": "81680cd8",
   "metadata": {
    "scrolled": true
   },
   "outputs": [
    {
     "name": "stdout",
     "output_type": "stream",
     "text": [
      "Epoch 1/10\n",
      "588/588 [==============================] - 908s 2s/step - loss: 0.4615 - dice_coef: 0.7624 - val_loss: 0.2540 - val_dice_coef: 0.8684\n",
      "Epoch 2/10\n",
      "588/588 [==============================] - 939s 2s/step - loss: 0.1554 - dice_coef: 0.9205 - val_loss: 0.0306 - val_dice_coef: 0.9844\n",
      "Epoch 3/10\n",
      "588/588 [==============================] - 985s 2s/step - loss: 0.0599 - dice_coef: 0.9695 - val_loss: 0.0157 - val_dice_coef: 0.9920\n",
      "Epoch 4/10\n",
      "588/588 [==============================] - 986s 2s/step - loss: 0.0274 - dice_coef: 0.9861 - val_loss: 0.0048 - val_dice_coef: 0.9975\n",
      "Epoch 5/10\n",
      "588/588 [==============================] - 994s 2s/step - loss: 0.0133 - dice_coef: 0.9932 - val_loss: 0.0031 - val_dice_coef: 0.9984\n",
      "Epoch 6/10\n",
      "588/588 [==============================] - 985s 2s/step - loss: 0.0080 - dice_coef: 0.9960 - val_loss: 0.0032 - val_dice_coef: 0.9984\n",
      "Epoch 7/10\n",
      "588/588 [==============================] - 996s 2s/step - loss: 0.0057 - dice_coef: 0.9971 - val_loss: 0.0045 - val_dice_coef: 0.9977\n",
      "Epoch 8/10\n",
      "588/588 [==============================] - 1005s 2s/step - loss: 0.0044 - dice_coef: 0.9977 - val_loss: 0.0027 - val_dice_coef: 0.9986\n",
      "Epoch 9/10\n",
      "588/588 [==============================] - 991s 2s/step - loss: 0.0037 - dice_coef: 0.9981 - val_loss: 0.0031 - val_dice_coef: 0.9984\n",
      "Epoch 10/10\n",
      "588/588 [==============================] - 986s 2s/step - loss: 0.0032 - dice_coef: 0.9984 - val_loss: 0.0025 - val_dice_coef: 0.9987\n"
     ]
    }
   ],
   "source": [
    "# Train model on dataset\n",
    "history = model.fit(training_generator, epochs = 10,\n",
    "                    validation_data = validation_generator,\n",
    "                    use_multiprocessing=False,\n",
    "                    workers=6, batch_size = 32,callbacks=[cb])"
   ]
  },
  {
   "cell_type": "code",
   "execution_count": 75,
   "id": "4df13ea8",
   "metadata": {},
   "outputs": [],
   "source": [
    "from keras.models import Sequential, load_model\n",
    "model.save(model_name)    "
   ]
  },
  {
   "cell_type": "code",
   "execution_count": 76,
   "id": "5627945e",
   "metadata": {},
   "outputs": [
    {
     "name": "stdout",
     "output_type": "stream",
     "text": [
      "[908.3671646, 939.4497795000002, 985.1738448000001, 986.3499025000001, 994.4447211999995, 985.4760434999998, 995.8791885, 1004.7695168999999, 990.6087187000012, 985.6839285000005]\n",
      "9776.202808700002\n"
     ]
    }
   ],
   "source": [
    "print(cb.logs)\n",
    "print(sum(cb.logs))"
   ]
  },
  {
   "cell_type": "code",
   "execution_count": 77,
   "id": "8e31cd6a",
   "metadata": {},
   "outputs": [
    {
     "data": {
      "text/plain": [
       "2.715611891305556"
      ]
     },
     "execution_count": 77,
     "metadata": {},
     "output_type": "execute_result"
    }
   ],
   "source": [
    "sum(cb.logs)/3600"
   ]
  },
  {
   "cell_type": "code",
   "execution_count": 78,
   "id": "e1991d88",
   "metadata": {},
   "outputs": [
    {
     "name": "stdout",
     "output_type": "stream",
     "text": [
      "[908.3671646, 939.4497795000002, 985.1738448000001, 986.3499025000001, 994.4447211999995, 985.4760434999998, 995.8791885, 1004.7695168999999, 990.6087187000012, 985.6839285000005]\n"
     ]
    }
   ],
   "source": [
    "time = list(cb.logs)\n",
    "print(time)"
   ]
  },
  {
   "cell_type": "code",
   "execution_count": 79,
   "id": "b04ad4b2",
   "metadata": {},
   "outputs": [],
   "source": [
    "import pandas as pd\n",
    "df = pd.DataFrame.from_dict(history.history)"
   ]
  },
  {
   "cell_type": "code",
   "execution_count": 80,
   "id": "3b596fc1",
   "metadata": {},
   "outputs": [],
   "source": [
    "df['epoch_time'] = np.array(cb.logs)"
   ]
  },
  {
   "cell_type": "code",
   "execution_count": 81,
   "id": "b8869fa5",
   "metadata": {},
   "outputs": [],
   "source": [
    "df.to_csv('cyst_seg_emory_10epoch_1.4.23.csv')"
   ]
  },
  {
   "cell_type": "code",
   "execution_count": 101,
   "id": "57ab27cf",
   "metadata": {},
   "outputs": [
    {
     "name": "stdout",
     "output_type": "stream",
     "text": [
      "   Unnamed: 0      loss  dice_coef  val_loss  val_dice_coef   epoch_time\n",
      "0           0  0.007210   0.996340  0.003129       0.998404  4154.639533\n",
      "1           1  0.002634   0.998659  0.002642       0.998656  4223.788455\n",
      "2           2  0.002152   0.998902  0.002333       0.998815  4199.334583\n",
      "3           3  0.001924   0.999020  0.002151       0.998901  4191.150456\n",
      "4           4  0.001789   0.999086  0.002163       0.998897  4247.354233\n",
      "5           5  0.001698   0.999133  0.002295       0.998829  4310.740140\n",
      "6           6  0.001601   0.999184  0.002091       0.998933  4360.766564\n",
      "7           7  0.001553   0.999208  0.002402       0.998775  4291.958326\n",
      "8           8  0.001493   0.999238  0.002306       0.998824  4246.068701\n",
      "9           9  0.001445   0.999263  0.002183       0.998886  4336.769740\n"
     ]
    }
   ],
   "source": [
    "import pandas as pd\n",
    "\n",
    "DF = pd.read_csv('cyst_seg_80-10_split_10epoch_corrected.csv')\n",
    "\n",
    "print(DF) "
   ]
  },
  {
   "cell_type": "code",
   "execution_count": 102,
   "id": "f63e7e21",
   "metadata": {},
   "outputs": [
    {
     "data": {
      "image/png": "[encoded data removed]",
      "text/plain": [
       "<Figure size 640x480 with 1 Axes>"
      ]
     },
     "metadata": {},
     "output_type": "display_data"
    }
   ],
   "source": [
    "%matplotlib inline\n",
    "plt.plot(range(len(history.history['loss'])), history.history['loss'], '-') #TODO: plot the training loss learning curve\n",
    "plt.plot(range(len(history.history['val_loss'])), history.history['val_loss'], '-') #TODO: plot the validation loss learning curve\n",
    "plt.xlabel('epoch')\n",
    "plt.xlabel('Jaccard loss')\n",
    "\n",
    "plt.show()"
   ]
  },
  {
   "cell_type": "code",
   "execution_count": 103,
   "id": "b50acca1",
   "metadata": {},
   "outputs": [
    {
     "data": {
      "text/plain": [
       "Text(0.5, 0, 'Dice coefficient')"
      ]
     },
     "execution_count": 103,
     "metadata": {},
     "output_type": "execute_result"
    },
    {
     "data": {
      "image/png": "[encoded data removed]",
      "text/plain": [
       "<Figure size 640x480 with 1 Axes>"
      ]
     },
     "metadata": {},
     "output_type": "display_data"
    }
   ],
   "source": [
    "plt.plot(range(len(history.history['dice_coef'])), history.history['dice_coef'], '-') #TODO: plot the training dice_coef learning curve\n",
    "\n",
    "plt.plot(range(len(history.history['val_dice_coef'])), history.history['val_dice_coef'], '-') #TODO: plot the validation dice_coef learning curve\n",
    "plt.xlabel('epoch')\n",
    "plt.xlabel('Dice coefficient')"
   ]
  },
  {
   "cell_type": "code",
   "execution_count": 49,
   "id": "41168688",
   "metadata": {},
   "outputs": [],
   "source": []
  },
  {
   "cell_type": "code",
   "execution_count": null,
   "id": "50c44dc6",
   "metadata": {},
   "outputs": [],
   "source": []
  }
 ],
 "metadata": {
  "kernelspec": {
   "display_name": "TF23",
   "language": "python",
   "name": "tf23"
  },
  "language_info": {
   "codemirror_mode": {
    "name": "ipython",
    "version": 3
   },
   "file_extension": ".py",
   "mimetype": "text/x-python",
   "name": "python",
   "nbconvert_exporter": "python",
   "pygments_lexer": "ipython3",
   "version": "3.8.5"
  }
 },
 "nbformat": 4,
 "nbformat_minor": 5
}
