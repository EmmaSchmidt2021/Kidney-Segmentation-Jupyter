{
 "cells": [
  {
   "cell_type": "markdown",
   "id": "d068d387",
   "metadata": {},
   "source": [
    "# This code is meant to take the ImageJ raw files and convert them to .nii files\n",
    "## It will walk you through opening the files, zero padding them, renaming, and saving\n"
   ]
  },
  {
   "cell_type": "markdown",
   "id": "c676108c",
   "metadata": {},
   "source": [
    "### First import libraries\n",
    " For those new to Jupyter Notebook, use shift + enter to run the cell or the play button in the toolbar above\n"
   ]
  },
  {
   "cell_type": "code",
   "execution_count": 1,
   "id": "ca701563",
   "metadata": {},
   "outputs": [
    {
     "name": "stdout",
     "output_type": "stream",
     "text": [
      "-----------------------------------------\n",
      "keras-unet init: TF version is >= 2.0.0 - using `tf.keras` instead of `Keras`\n",
      "-----------------------------------------\n"
     ]
    }
   ],
   "source": [
    "import os\n",
    "import numpy as np\n",
    "import nibabel as nib\n",
    "import tensorflow as tf\n",
    "import matplotlib.pyplot as plt\n",
    "from skimage import measure\n",
    "from skimage.transform import resize\n",
    "from keras_unet.metrics import dice_coef\n",
    "from keras_unet.models import custom_unet\n",
    "from keras_unet.losses import jaccard_distance\n",
    "from sklearn.model_selection import train_test_split\n",
    "from PIL import Image\n",
    "from PIL import ImageOps\n",
    "import fnmatch\n",
    "import nibabel as nib\n",
    "import shutil"
   ]
  },
  {
   "cell_type": "markdown",
   "id": "4e6959f6",
   "metadata": {},
   "source": [
    "Here we are pre-defining some functions to use later"
   ]
  },
  {
   "cell_type": "code",
   "execution_count": 2,
   "id": "6c332f4b",
   "metadata": {},
   "outputs": [],
   "source": [
    "# figure out difference that needs to be made up in rows/columns\n",
    "def padding(img, expected_size):\n",
    "    desired_size = expected_size\n",
    "    delta_width = desired_size - img.size[0]\n",
    "    delta_height = desired_size - img.size[1]\n",
    "    pad_width = delta_width // 2\n",
    "    pad_height = delta_height // 2\n",
    "    padding = (pad_width, pad_height, delta_width - pad_width, delta_height - pad_height)\n",
    "    return ImageOps.expand(img, padding)\n",
    "\n",
    "#after calculating the padding, add in the padding to rows and columns to meet new expected size\n",
    "def resize_with_padding(img, expected_size):\n",
    "    img.thumbnail((expected_size[0], expected_size[1]))\n",
    "    # print(img.size)\n",
    "    delta_width = expected_size[0] - img.size[0]\n",
    "    delta_height = expected_size[1] - img.size[1]\n",
    "    pad_width = delta_width // 2\n",
    "    pad_height = delta_height // 2\n",
    "    padding = (pad_width, pad_height, delta_width - pad_width, delta_height - pad_height)\n",
    "    return ImageOps.expand(img, padding)"
   ]
  },
  {
   "cell_type": "code",
   "execution_count": 3,
   "id": "950cef0c",
   "metadata": {},
   "outputs": [],
   "source": [
    "def gather_by_name(orignal_path, new_path, phrase):\n",
    "    n=0\n",
    "    file_list=[]\n",
    "    for root, dirs, files in os.walk(os.path.normpath(original_path), topdown=True):\n",
    "        for name in files:\n",
    "            if phrase in name:\n",
    "                file_list.append(os.path.join(root,name))                \n",
    "                \n",
    "    for j in range(len(file_list)):\n",
    "        filename = file_list[j]\n",
    "        shutil.copy(filename, new_path)\n",
    "\n",
    "   \n",
    "\n",
    "    print('copied and moved '+ str(len(file_list))+' files')"
   ]
  },
  {
   "cell_type": "code",
   "execution_count": 4,
   "id": "f6bc8eb3",
   "metadata": {},
   "outputs": [],
   "source": [
    "def gather_filenames(path):\n",
    "    raw_path = path\n",
    "    patient_folders = []\n",
    "    pt_fnames = []\n",
    "\n",
    "    import os\n",
    "    for root, dirs, files in os.walk(os.path.normpath(raw_path), topdown=True):\n",
    "        for name in files: \n",
    "            #print(os.path.join(root, name))\n",
    "            pt_fnames.append(os.path.join(root, name))\n",
    "    print('\\nPatient Folders have been identified\\n')\n",
    "    #sort through and get only the files with ROI in them\n",
    "    #this eliminates the tiff and 3D files \n",
    "    #%%\n",
    "    ROI_list = []\n",
    "    for j in range(len(pt_fnames)):\n",
    "        ROI_name = 'ROI'\n",
    "        filename = os.path.basename(pt_fnames[j])\n",
    "        if ROI_name in filename:\n",
    "            ROI_list.append(pt_fnames[j])\n",
    "    print('\\nFilenames have been found and added\\n')\n",
    "    print('copied and moved '+ str(len(ROI_list))+' files')\n",
    "    \n",
    "    return ROI_list"
   ]
  },
  {
   "cell_type": "code",
   "execution_count": 5,
   "id": "f3be0fa2",
   "metadata": {},
   "outputs": [],
   "source": [
    "def convert_NPY_NII(ROI_list):\n",
    "    #new_size= new_size\n",
    "    print('Converting', str(len(ROI_list)), 'files')\n",
    "    for i in range(len(ROI_list)): # loop through all the available files from the list that had our keyword\n",
    "        orig_fname = os.path.basename(ROI_list[i])# grab the ith filename in the list\n",
    "        print(orig_fname)\n",
    "        #extract information from the filename\n",
    "        if orig_fname[0].isdigit(): \n",
    "            orig_fname = orig_fname\n",
    "        else:\n",
    "            orig_fname = orig_fname[3:]\n",
    "        num_slice = int(orig_fname[-3:])\n",
    "        #print(num_slice)\n",
    "        if num_slice < 15:\n",
    "            orig_fname = this_list[2]\n",
    "            num_slice = int(orig_fname[-3:])\n",
    "            num_width = int((orig_fname[-7:-4]))\n",
    "            #print(num_width)\n",
    "            num_height = int((orig_fname[-11:-8]))\n",
    "        elif num_slice < 50:\n",
    "            #print('over 99')\n",
    "            num_slice = int(orig_fname[-3:])\n",
    "            num_width = int((orig_fname[-8:-4]))\n",
    "            #print(num_width)\n",
    "            num_height = int((orig_fname[-12:-8]))\n",
    "            #print(num_height)\n",
    "        else:\n",
    "            #print('less than 99')\n",
    "            num_width = int((orig_fname[-7:-3]))\n",
    "            #print(num_width)\n",
    "            num_height = int((orig_fname[-11:-7]))\n",
    "            #print(num_height)\n",
    "        pt_numb =(orig_fname[0:6])\n",
    "        if orig_fname[8].isdigit():\n",
    "            yr_numb = (orig_fname[8])\n",
    "        else:\n",
    "            yr_numb = orig_fname[7]\n",
    "        if 'Cyst' in orig_fname:\n",
    "            img_type = 'C'\n",
    "        elif 'Kidney' in orig_fname:\n",
    "            img_type = 'M_K'\n",
    "        elif 'Image' in orig_fname:\n",
    "            img_type = 'M'\n",
    "        if 'Right' in orig_fname:\n",
    "            side = 'R'\n",
    "        elif 'Left' in orig_fname:\n",
    "            side = 'L'\n",
    "        call_file = str(ROI_list[i]) #define our filename with path to open (working_path+'/'+orig_fname)\n",
    "        resized = np.zeros((num_slice,new_size,new_size), dtype ='uint8')\n",
    "        transposed = np.zeros((new_size, new_size, num_slice), dtype='uint8')\n",
    "        with open(r'%s' %call_file, 'rb') as file: #read in raw uint8 and resize correctly\n",
    "             data = np.fromfile(file, dtype = 'uint8').reshape(num_slice,num_width,num_height)\n",
    "             for j in range(num_slice):\n",
    "                 orig_slice = data[j]\n",
    "                 re_slice = Image.fromarray(orig_slice)\n",
    "                 resized[j] = resize_with_padding(re_slice, (new_size, new_size))\n",
    "             for i in range(resized.shape[0]):\n",
    "                 old_slice = resized[i,:,:]\n",
    "                 transposed[:,:,i] = old_slice\n",
    "\n",
    "                 # now we need to rename this resized array and save it as a .npy\n",
    "        #new_fname = str('%s' %orig_fname + '_RESIZED_') #keep the original name for now \n",
    "        new_fname = str(pt_numb +'_'+ yr_numb +'_'+ str(num_slice) +'_'+ side + '_' +  img_type )\n",
    "        file_name = \"%s\" %new_fname # add our extension\n",
    "        np.save(os.path.join(new_path, file_name), transposed) # save in the new file folder\n",
    "        converted_array = np.array(transposed, dtype=np.float32)\n",
    "        affine = np.eye(4)\n",
    "        nifti_file = nib.Nifti1Image(converted_array, affine)\n",
    "        nib.save(nifti_file, os.path.join(final_path, \"%s\" %new_fname))\n",
    "\n",
    "\n",
    "    print(\"complete --- nice job\")"
   ]
  },
  {
   "cell_type": "code",
   "execution_count": 6,
   "id": "df5ac474",
   "metadata": {},
   "outputs": [],
   "source": [
    "img = np.load(r\"C:\\Users\\UAB\\data\\Emory\\data\\EM_200922_0_144_L_29_M.npy\")"
   ]
  },
  {
   "cell_type": "code",
   "execution_count": 7,
   "id": "a7e0f814",
   "metadata": {},
   "outputs": [
    {
     "data": {
      "text/plain": [
       "dtype('uint8')"
      ]
     },
     "execution_count": 7,
     "metadata": {},
     "output_type": "execute_result"
    }
   ],
   "source": [
    "img.dtype"
   ]
  },
  {
   "cell_type": "markdown",
   "id": "40a8c7fd",
   "metadata": {},
   "source": [
    "## FilePath Input\n",
    "Fill in the filepaths for the raw data, the new path to store the npy files, and the final path for the images and annotations \n",
    "Make sure to fill out the new sizing as the complete size with zero padding"
   ]
  },
  {
   "cell_type": "code",
   "execution_count": 55,
   "id": "c6bfc69b",
   "metadata": {},
   "outputs": [],
   "source": [
    "raw_path = r'C:\\Users\\UAB\\data\\Emory\\Original'\n",
    "new_path = r'C:\\Users\\UAB\\data\\Emory\\em_npy'\n",
    "final_path = r\"C:\\Users\\UAB\\data\\Emory\\em_nii\"\n",
    "#cyst_path = r\"C:\\Users\\UAB\\data\\UAB\\UAB_nii\"\n",
    "new_size = 256"
   ]
  },
  {
   "cell_type": "code",
   "execution_count": 56,
   "id": "d78f67ab",
   "metadata": {},
   "outputs": [],
   "source": [
    "#remove .tif files"
   ]
  },
  {
   "cell_type": "code",
   "execution_count": 57,
   "id": "91e0e233",
   "metadata": {},
   "outputs": [
    {
     "name": "stdout",
     "output_type": "stream",
     "text": [
      "\n",
      "Patient Folders have been identified\n",
      "\n",
      "\n",
      "Filenames have been found and added\n",
      "\n",
      "copied and moved 630 files\n"
     ]
    }
   ],
   "source": [
    "this_list = gather_filenames(raw_path)"
   ]
  },
  {
   "cell_type": "code",
   "execution_count": 58,
   "id": "87b8c414",
   "metadata": {},
   "outputs": [
    {
     "name": "stdout",
     "output_type": "stream",
     "text": [
      "144 142 115\n"
     ]
    }
   ],
   "source": [
    "orig_fname = this_list[2]\n",
    "num_slice = int(orig_fname[-3:])\n",
    "num_width = int((orig_fname[-7:-4]))\n",
    "            #print(num_width)\n",
    "num_height = int((orig_fname[-11:-8]))\n",
    "\n",
    "print(num_slice, num_width, num_height)"
   ]
  },
  {
   "cell_type": "code",
   "execution_count": 59,
   "id": "a295cd97",
   "metadata": {
    "scrolled": true
   },
   "outputs": [
    {
     "name": "stdout",
     "output_type": "stream",
     "text": [
      "630\n",
      "C:\\Users\\UAB\\data\\Emory\\Original\\200922\\200922\\0 yr\\200922 0yr Cyst ROI Right 8bit 112 165 144\n"
     ]
    }
   ],
   "source": [
    "print(len(this_list))\n",
    "print(this_list[1])"
   ]
  },
  {
   "cell_type": "code",
   "execution_count": 60,
   "id": "1398627b",
   "metadata": {
    "scrolled": true
   },
   "outputs": [
    {
     "name": "stdout",
     "output_type": "stream",
     "text": [
      "Converting 630 files\n",
      "200922 0yr Cyst ROI Left 8bit 115 142 144\n",
      "200922 0yr Cyst ROI Right 8bit 112 165 144\n",
      "200922 0yr Image ROI Left 8bit 115 142 144\n",
      "200922 0yr Image ROI Right 8bit 112 165 144\n",
      "200922 0yr Kidney ROI Left 8bit 115 142 144\n",
      "200922 0yr Kidney ROI Right 8bit 112 165 144\n",
      "200922 1yr Cyst ROI Left 8bit 122 162 138\n",
      "200922 1yr Cyst ROI Right 8bit 120 184 138\n",
      "200922 1yr Image ROI Left 8bit 122 162 138\n",
      "200922 1yr Image ROI Right 8bit 120 184 138\n",
      "200922 1yr Kidney ROI Left 8bit 122 162 138\n",
      "200922 1yr Kidney ROI Right 8bit 120 184 138\n",
      "200922 2yr Cyst ROI Left 8bit 137 171 144\n",
      "200922 2yr Cyst ROI Right 8bit 119 200 144\n",
      "200922 2yr Image ROI Left 8bit 137 171 144\n",
      "200922 2yr Image ROI Right 8bit 119 200 144\n",
      "200922 2yr Kidney ROI Left 8bit 137 171 144\n",
      "200922 2yr Kidney ROI Right 8bit 119 200 144\n",
      "200922 3yr Cyst ROI Left 8bit 138 180 144\n",
      "200922 3yr Cyst ROI Right 8bit 129 206 144\n",
      "200922 3yr Image ROI Left 8bit 138 180 144\n",
      "200922 3yr Image ROI Right 8bit 129 206 144\n",
      "200922 3yr Kidney ROI Left 8bit 138 180 144\n",
      "200922 3yr Kidney ROI Right 8bit 129 206 144\n",
      "201877 0yr Cyst ROI Left 8bit 122 159 108\n",
      "201877 0yr Cyst ROI Right 8bit 116 179 108\n",
      "201877 0yr Image ROI Left 8bit 122 159 108\n",
      "201877 0yr Image ROI Right 8bit 116 179 108\n",
      "201877 0yr Kidney ROI Left 8bit 122 159 108\n",
      "201877 0yr Kidney ROI Right 8bit 116 179 108\n",
      "201877 1yr Cyst ROI Left 8bit 118 174 108\n",
      "201877 1yr Cyst ROI Right 8bit 131 212 108\n",
      "201877 1yr Image ROI Left 8bit 118 174 108\n",
      "201877 1yr Image ROI Right 8bit 131 212 108\n",
      "201877 1yr Kidney ROI Left 8bit 118 174 108\n",
      "201877 1yr Kidney ROI Right 8bit 131 212 108\n",
      "201877 2yr Cyst ROI Left 8bit 110 164 108\n",
      "201877 2yr Cyst ROI Right 8bit 119 182 108\n",
      "201877 2yr Image ROI Left 8bit 110 164 108\n",
      "201877 2yr Image ROI Right 8bit 119 182 108\n",
      "201877 2yr Kidney ROI Left 8bit 110 164 108\n",
      "201877 2yr Kidney ROI Right 8bit 119 182 108\n",
      "201877 3yr Cyst ROI Left 8bit 118 212 108\n",
      "201877 3yr Cyst ROI Right 8bit 126 208 108\n",
      "201877 3yr Image ROI Left 8bit 118 212 108\n",
      "201877 3yr Image ROI Right 8bit 126 208 108\n",
      "201877 3yr Kidney ROI Left 8bit 118 212 108\n",
      "201877 3yr Kidney ROI Right 8bit 126 208 108\n",
      "256171 0yr Cyst ROI Left 8bit 139 170 108\n",
      "256171 0yr Cyst ROI Right 8bit 122 168 108\n",
      "256171 0yr Image ROI Left 8bit 139 170 108\n",
      "256171 0yr Image ROI Right 8bit 122 168 108\n",
      "256171 0yr Kidney ROI Left 8bit 139 170 108\n",
      "256171 0yr Kidney ROI Right 8bit 122 168 108\n",
      "256171 1yr Cyst ROI Left 8bit 139 165 108\n",
      "256171 1yr Cyst ROI Right 8bit 125 165 108\n",
      "256171 1yr Image ROI Left 8bit 139 165 108\n",
      "256171 1yr Image ROI Right 8bit 125 165 108\n",
      "256171 1yr Kidney ROI Left 8bit 139 165 108\n",
      "256171 1yr Kidney ROI Right 8bit 125 165 108\n",
      "256171 2yr Cyst ROI Left 8bit 139 171 113\n",
      "256171 2yr Cyst ROI Right 8bit 126 172 113\n",
      "256171 2yr Image ROI Left 8bit 139 171 113\n",
      "256171 2yr Image ROI Right 8bit 126 172 113\n",
      "256171 2yr Kidney ROI Left 8bit 139 171 113\n",
      "256171 2yr Kidney ROI Right 8bit 126 172 113\n",
      "256171 3yr Cyst ROI Left 8bit 141 182 108\n",
      "256171 3yr Cyst ROI Right 8bit 130 183 108\n",
      "256171 3yr Image ROI Left 8bit 141 182 108\n",
      "256171 3yr Image ROI Right 8bit 130 183 108\n",
      "256171 3yr Kidney ROI Left 8bit 141 182 108\n",
      "256171 3yr Kidney ROI Right 8bit 130 183 108\n",
      "283935 0yr Cyst ROI Left 8bit 116 172 135\n",
      "283935 0yr Cyst ROI Right 8bit 127 178 135\n",
      "283935 0yr Image ROI Left 8bit 116 172 135\n",
      "283935 0yr Image ROI Right 8bit 127 178 135\n",
      "283935 0yr Kidney ROI Left 8bit 116 172 135\n",
      "283935 0yr Kidney ROI Right 8bit 127 178 135\n",
      "283935 1yr Cyst ROI Left 8bit 118 162 135\n",
      "283935 1yr Cyst ROI Right 8bit 124 180 135\n",
      "283935 1yr Image ROI Left 8bit 118 162 135\n",
      "283935 1yr Image ROI Right 8bit 124 180 135\n",
      "283935 1yr Kidney ROI Left 8bit 118 162 135\n",
      "283935 1yr Kidney ROI Right 8bit 124 180 135\n",
      "283935 2yr Cyst ROI Left 8bit 118 162 126\n",
      "283935 2yr Cyst ROI Right 8bit 131 184 126\n",
      "283935 2yr Image ROI Left 8bit 118 162 126\n",
      "283935 2yr Image ROI Right 8bit 131 184 126\n",
      "283935 2yr Kidney ROI Left 8bit 118 162 126\n",
      "283935 2yr Kidney ROI Right 8bit 131 184 126\n",
      "283935 3yr Cyst ROI Left 8bit 126 170 114\n",
      "283935 3yr Cyst ROI Right 8bit 133 182 114\n",
      "283935 3yr Image ROI Left 8bit 126 170 114\n",
      "283935 3yr Image ROI Right 8bit 133 182 114\n",
      "283935 3yr Kidney ROI Left 8bit 126 170 114\n",
      "283935 3yr Kidney ROI Right 8bit 133 182 114\n",
      "208280 y0 Cyst ROI Left 8bit 113 175 108\n",
      "208280 y0 Cyst ROI Right 8bit 119 153 108\n",
      "208280 y0 Image ROI Left 8bit 113 175 108\n",
      "208280 y0 Image ROI Right 8bit 119 153 108\n",
      "208280 y0 Kidney ROI Left 8bit 113 175 108\n",
      "208280 y0 Kidney ROI Right 8bit 119 153 108\n",
      "208280 y1 Cyst ROI Left 8bit 111 154 108\n",
      "208280 y1 Cyst ROI Right 8bit 131 153 108\n",
      "208280 y1 Image ROI Left 8bit 111 154 108\n",
      "208280 y1 Image ROI Right 8bit 131 153 108\n",
      "208280 y1 Kidney ROI Left 8bit 111 154 108\n",
      "208280 y1 Kidney ROI Right 8bit 131 153 108\n",
      "208280 y2 Cyst ROI Left 8bit 108 157 132\n",
      "208280 y2 Cyst ROI Right 8bit 126 167 132\n",
      "208280 y2 Image ROI Left 8bit 108 157 132\n",
      "208280 y2 Image ROI Right 8bit 126 167 132\n",
      "208280 y2 Kidney ROI Left 8bit 108 157 132\n",
      "208280 y2 Kidney ROI Right 8bit 126 167 132\n",
      "208280 y3 Cyst ROI Left 8bit 114 168 114\n",
      "208280 y3 Cyst ROI Right 8bit 124 165 114\n",
      "208280 y3 Image ROI Left 8bit 114 168 114\n",
      "208280 y3 Image ROI Right 8bit 124 165 114\n",
      "208280 y3 Kidney ROI Left 8bit 114 168 114\n",
      "208280 y3 Kidney ROI Right 8bit 124 165 114\n",
      "209281 y0 Cyst ROI Left 8bit 108 148 110\n",
      "209281 y0 Cyst ROI Right 8bit 123 179 110\n",
      "209281 y0 Image ROI Left 8bit 108 148 110\n",
      "209281 y0 Image ROI Right 8bit 123 179 110\n",
      "209281 y0 Kidney ROI Left 8bit 108 148 110\n",
      "209281 y0 Kidney ROI Right 8bit 123 179 110\n",
      "209281 y1 Cyst ROI Left 8bit 106 141 108\n",
      "209281 y1 Cyst ROI Right 8bit 121 181 108\n",
      "209281 y1 Image ROI Left 8bit 106 141 108\n",
      "209281 y1 Image ROI Right 8bit 121 181 108\n",
      "209281 y1 Kidney ROI Left 8bit 106 141 108\n",
      "209281 y1 Kidney ROI Right 8bit 121 181 108\n",
      "209281 y2 Cyst ROI Left 8bit 108 141 108\n",
      "209281 y2 Cyst ROI Right 8bit 116 172 108\n",
      "209281 y2 Image ROI Left 8bit 108 141 108\n",
      "209281 y2 Image ROI Right 8bit 116 172 108\n",
      "209281 y2 Kidney ROI Left 8bit 108 141 108\n",
      "209281 y2 Kidney ROI Right 8bit 116 172 108\n",
      "209281 y3 Cyst ROI Left 8bit 116 154 108\n",
      "209281 y3 Cyst ROI Right 8bit 126 188 108\n",
      "209281 y3 Image ROI Left 8bit 116 154 108\n",
      "209281 y3 Image ROI Right 8bit 126 188 108\n",
      "209281 y3 Kidney ROI Left 8bit 116 154 108\n",
      "209281 y3 Kidney ROI Right 8bit 126 188 108\n",
      "213454 y0 Cyst ROI Left 8bit 105 141 100\n",
      "213454 y0 Cyst ROI Right 8bit 113 139 100\n",
      "213454 y0 Image ROI Left 8bit 105 141 100\n",
      "213454 y0 Image ROI Right 8bit 113 139 100\n",
      "213454 y0 Kidney ROI Left 8bit 105 141 100\n",
      "213454 y0 Kidney ROI Right 8bit 113 139 100\n",
      "213454 y1 Cyst ROI Left 8bit 110 138 84\n",
      "213454 y1 Cyst ROI Left 8bit 115 145 84\n",
      "213454 y1 Image ROI Left 8bit 110 138 84\n",
      "213454 y1 Image ROI Left 8bit 115 145 84\n",
      "213454 y1 Kidney ROI Left 8bit 110 138 84\n",
      "213454 y1 Kidney ROI Left 8bit 115 145 84\n",
      "213454 y2 Cyst ROI Left 8bit 108 155 114\n",
      "213454 y2 Cyst ROI Right 8bit 114 145 114\n",
      "213454 y2 Image ROI Left 8bit 108 155 114\n",
      "213454 y2 Image ROI Right 8bit 114 145 114\n",
      "213454 y2 Kidney ROI Left 8bit 108 155 114\n",
      "213454 y2 Kidney ROI Right 8bit 114 145 114\n",
      "213454 y3 Cyst ROI Left 8bit 104 144 114\n",
      "213454 y3 Cyst ROI Right 8bit 112 136 114\n",
      "213454 y3 Image ROI Left 8bit 104 144 114\n",
      "213454 y3 Image ROI Right 8bit 112 136 114\n",
      "213454 y3 Kidney ROI Left 8bit 104 144 114\n",
      "213454 y3 Kidney ROI Right 8bit 112 136 114\n",
      "214376 y0 Cyst ROI Left 8bit 133 182 108\n",
      "214376 y0 Cyst ROI Right 8bit 137 170 108\n",
      "214376 y0 Image ROI Left 8bit 133 182 108\n",
      "214376 y0 Image ROI Right 8bit 137 170 108\n",
      "214376 y0 Kidney ROI Left 8bit 133 182 108\n",
      "214376 y0 Kidney ROI Right 8bit 137 170 108\n",
      "214376 y1 Cyst ROI Left 8bit 130 175 108\n",
      "214376 y1 Cyst ROI Right 8bit 124 178 108\n",
      "214376 y1 Image ROI Left 8bit 130 175 108\n",
      "214376 y1 Image ROI Right 8bit 124 178 108\n",
      "214376 y1 Kidney ROI Left 8bit 130 175 108\n",
      "214376 y1 Kidney ROI Right 8bit 124 178 108\n",
      "214376 y2 Cyst ROI Left 8bit 124 180 108\n",
      "214376 y2 Cyst ROI Right 8bit 129 175 108\n",
      "214376 y2 Image ROI Left 8bit 124 180 108\n",
      "214376 y2 Image ROI Right 8bit 129 175 108\n",
      "214376 y2 Kidney ROI Left 8bit 124 180 108\n",
      "214376 y2 Kidney ROI Right 8bit 129 175 108\n",
      "214376 y3 Cyst ROI Left 8bit 129 182 140\n",
      "214376 y3 Cyst ROI Right 8bit 140 181 140\n",
      "214376 y3 Image ROI Left 8bit 129 182 140\n",
      "214376 y3 Image ROI Right 8bit 140 181 140\n",
      "214376 y3 Kidney ROI Left 8bit 129 182 140\n"
     ]
    },
    {
     "name": "stdout",
     "output_type": "stream",
     "text": [
      "214376 y3 Kidney ROI Right 8bit 140 181 140\n",
      "223635 y0 Cyst ROI Left 8bit 111 170 108\n",
      "223635 y0 Cyst ROI Right 8bit 125 198 108\n",
      "223635 y0 Image ROI Left 8bit 111 170 108\n",
      "223635 y0 Image ROI Right 8bit 125 198 108\n",
      "223635 y0 Kidney ROI Left 8bit 111 170 108\n",
      "223635 y0 Kidney ROI Right 8bit 125 198 108\n",
      "223635 y1 Cyst ROI Left 8bit 104 163 176\n",
      "223635 y1 Cyst ROI Right 8bit 120 192 176\n",
      "223635 y1 Image ROI Left 8bit 104 163 176\n",
      "223635 y1 Image ROI Right 8bit 120 192 176\n",
      "223635 y1 Kidney ROI Left 8bit 104 163 176\n",
      "223635 y1 Kidney ROI Right 8bit 120 192 176\n",
      "223635 y2 Cyst ROI Left 8bit 115 164 112\n",
      "223635 y2 Cyst ROI Right 8bit 122 201 112\n",
      "223635 y2 Image ROI Left 8bit 115 164 112\n",
      "223635 y2 Image ROI Right 8bit 122 201 112\n",
      "223635 y2 Kidney ROI Left 8bit 115 164 112\n",
      "223635 y2 Kidney ROI Right 8bit 122 201 112\n",
      "223635 y3 Cyst ROI Left 8bit 125 181 120\n",
      "223635 y3 Cyst ROI Right 8bit 124 201 120\n",
      "223635 y3 Image ROI Left 8bit 125 181 120\n",
      "223635 y3 Image ROI Right 8bit 124 201 120\n",
      "223635 y3 Kidney ROI Left 8bit 125 181 120\n",
      "223635 y3 Kidney ROI Right 8bit 124 201 120\n",
      "235752 y0 Cyst ROI Left 8bit 122 146 108\n",
      "235752 y0 Cyst ROI Right 8bit 118 171 108\n",
      "235752 y0 Image ROI Left 8bit 122 146 108\n",
      "235752 y0 Image ROI Right 8bit 118 171 108\n",
      "235752 y0 Kidney ROI Left 8bit 122 146 108\n",
      "235752 y0 Kidney ROI Right 8bit 118 171 108\n",
      "235752 y1 Cyst ROI Left 8bit 118 175 108\n",
      "235752 y1 Cyst ROI Right 8bit 120 176 108\n",
      "235752 y1 Image ROI Left 8bit 118 175 108\n",
      "235752 y1 Image ROI Right 8bit 120 176 108\n",
      "235752 y1 Kidney ROI Left 8bit 118 175 108\n",
      "235752 y1 Kidney ROI Right 8bit 120 176 108\n",
      "235752 y2 Cyst ROI Left 8bit 115 161 132\n",
      "235752 y2 Cyst ROI Right 8bit 116 178 132\n",
      "235752 y2 Image ROI Left 8bit 115 161 132\n",
      "235752 y2 Image ROI Right 8bit 116 178 132\n",
      "235752 y2 Kidney ROI Left 8bit 115 161 132\n",
      "235752 y2 Kidney ROI Right 8bit 116 178 132\n",
      "235752 y3 Cyst ROI Left 8bit 124 168 126\n",
      "235752 y3 Cyst ROI Right 8bit 134 185 126\n",
      "235752 y3 Image ROI Left 8bit 124 168 126\n",
      "235752 y3 Image ROI Right 8bit 134 185 126\n",
      "235752 y3 Kidney ROI Left 8bit 124 168 126\n",
      "235752 y3 Kidney ROI Right 8bit 134 185 126\n",
      "241501 y0 Cyst ROI Left 8bit 109 146 108\n",
      "241501 y0 Cyst ROI Right 8bit 119 149 108\n",
      "241501 y0 Image ROI Left 8bit 109 146 108\n",
      "241501 y0 Image ROI Right 8bit 119 149 108\n",
      "241501 y0 Kidney ROI Left 8bit 109 146 108\n",
      "241501 y0 Kidney ROI Right 8bit 119 149 108\n",
      "241501 y1 Cyst ROI Left 8bit 110 151 108\n",
      "241501 y1 Cyst ROI Right 8bit 106 156 108\n",
      "241501 y1 Image ROI Left 8bit 110 151 108\n",
      "241501 y1 Image ROI Right 8bit 106 156 108\n",
      "241501 y1 Kidney ROI Left 8bit 110 151 108\n",
      "241501 y1 Kidney ROI Right 8bit 106 156 108\n",
      "241501 y2 Cyst ROI Left 8bit 111 148 108\n",
      "241501 y2 Cyst ROI Right 8bit 115 159 108\n",
      "241501 y2 Image ROI Left 8bit 111 148 108\n",
      "241501 y2 Image ROI Right 8bit 115 159 108\n",
      "241501 y2 Kidney ROI Left 8bit 111 148 108\n",
      "241501 y2 Kidney ROI Right 8bit 115 159 108\n",
      "241501 y3 Cyst ROI Left 8bit 107 163 114\n",
      "241501 y3 Cyst ROI Right 8bit 120 165 114\n",
      "241501 y3 Image ROI Left 8bit 107 163 114\n",
      "241501 y3 Image ROI Right 8bit 120 165 114\n",
      "241501 y3 Kidney ROI Left 8bit 107 163 114\n",
      "241501 y3 Kidney ROI Right 8bit 120 165 114\n",
      "242715 y0 Cyst ROI Left 8bit 133 172 99\n",
      "242715 y0 Cyst ROI Right 8bit 129 174 99\n",
      "242715 y0 Image ROI Left 8bit 133 172 99\n",
      "242715 y0 Image ROI Right 8bit 129 174 99\n",
      "242715 y0 Kidney ROI Left 8bit 133 172 99\n",
      "242715 y0 Kidney ROI Right 8bit 129 174 99\n",
      "242715 y1 Cyst ROI Left 8bit 125 174 144\n",
      "242715 y1 Cyst ROI Right 8bit 124 171 144\n",
      "242715 y1 Image ROI Left 8bit 125 174 144\n",
      "242715 y1 Image ROI Right 8bit 124 171 144\n",
      "242715 y1 Kidney ROI Left 8bit 125 174 144\n",
      "242715 y1 Kidney ROI Right 8bit 124 171 144\n",
      "242715 y2 Cyst ROI Left 8bit 124 161 108\n",
      "242715 y2 Cyst ROI Right 8bit 122 168 108\n",
      "242715 y2 Image ROI Left 8bit 124 161 108\n",
      "242715 y2 Image ROI Right 8bit 122 168 108\n",
      "242715 y2 Kidney ROI Left 8bit 124 161 108\n",
      "242715 y2 Kidney ROI Right 8bit 122 168 108\n",
      "242715 y3 Cyst ROI Left 8bit 134 191 114\n",
      "242715 y3 Cyst ROI Right 8bit 134 189 114\n",
      "242715 y3 Image ROI Left 8bit 134 191 114\n",
      "242715 y3 Image ROI Right 8bit 134 189 114\n",
      "242715 y3 Kidney ROI Left 8bit 134 191 114\n",
      "242715 y3 Kidney ROI Right 8bit 134 189 114\n",
      "243560 y0 Cyst ROI Left 8bit 92 142 110\n",
      "243560 y0 Cyst ROI Right 8bit 115 141 110\n",
      "243560 y0 Image ROI Left 8bit 92 142 110\n",
      "243560 y0 Image ROI Right 8bit 115 141 110\n",
      "243560 y0 Kidney ROI Left 8bit 92 142 110\n",
      "243560 y0 Kidney ROI Right 8bit 115 141 110\n",
      "243560 y1 Cyst ROI Left 8bit 95 138 108\n",
      "243560 y1 Cyst ROI Right 8bit 110 140 108\n",
      "243560 y1 Image ROI Left 8bit 95 138 108\n",
      "243560 y1 Image ROI Right 8bit 110 140 108\n",
      "243560 y1 Kidney ROI Left 8bit 95 138 108\n",
      "243560 y1 Kidney ROI Right 8bit 110 140 108\n",
      "243560 y2 Cyst ROI Left 8bit 101 140 108\n",
      "243560 y2 Cyst ROI Right 8bit 114 140 108\n",
      "243560 y2 Image ROI Left 8bit 101 140 108\n",
      "243560 y2 Image ROI Right 8bit 114 140 108\n",
      "243560 y2 Kidney ROI Left 8bit 101 140 108\n",
      "243560 y2 Kidney ROI Right 8bit 114 140 108\n",
      "243560 y3 Cyst ROI Left 8bit 105 139 114\n",
      "243560 y3 Cyst ROI Right 8bit 116 149 114\n",
      "243560 y3 Image ROI Left 8bit 105 139 114\n",
      "243560 y3 Image ROI Right 8bit 116 149 114\n",
      "243560 y3 Kidney ROI Left 8bit 105 139 114\n",
      "243560 y3 Kidney ROI Right 8bit 116 149 114\n",
      "244111 y0 Cyst ROI Left 8bit 116 137 126\n",
      "244111 y0 Cyst ROI Right 8bit 116 148 126\n",
      "244111 y0 Image ROI Left 8bit 116 137 126\n",
      "244111 y0 Image ROI Right 8bit 116 148 126\n",
      "244111 y0 Kidney ROI Left 8bit 116 137 126\n",
      "244111 y0 Kidney ROI Right 8bit 116 148 126\n",
      "244111 y1 Cyst ROI Left 8bit 118 142 114\n",
      "244111 y1 Cyst ROI Right 8bit 112 155 114\n",
      "244111 y1 Image ROI Left 8bit 118 142 114\n",
      "244111 y1 Image ROI Right 8bit 112 155 114\n",
      "244111 y1 Kidney ROI Left 8bit 118 142 114\n",
      "244111 y1 Kidney ROI Right 8bit 112 155 114\n",
      "244111 y2 Cyst ROI Left 8bit 117 150 126\n",
      "244111 y2 Cyst ROI Right 8bit 128 157 126\n",
      "244111 y2 Image ROI Left 8bit 117 150 126\n",
      "244111 y2 Image ROI Right 8bit 128 157 126\n",
      "244111 y2 Kidney ROI Left 8bit 117 150 126\n",
      "244111 y2 Kidney ROI Right 8bit 128 157 126\n",
      "244111 y3 Cyst ROI Left 8bit 126 159 136\n",
      "244111 y3 Cyst ROI Right 8bit 132 157 136\n",
      "244111 y3 Image ROI Left 8bit 126 159 136\n",
      "244111 y3 Image ROI Right 8bit 132 157 136\n",
      "244111 y3 Kidney ROI Left 8bit 126 159 136\n",
      "244111 y3 Kidney ROI Right 8bit 132 157 136\n",
      "244831 y0 Cyst ROI Left 8bit 95 149 108\n",
      "244831 y0 Cyst ROI Right 8bit 121 169 108\n",
      "244831 y0 Image ROI Left 8bit 95 149 108\n",
      "244831 y0 Image ROI Right 8bit 121 169 108\n",
      "244831 y0 Kidney ROI Left 8bit 95 149 108\n",
      "244831 y0 Kidney ROI Right 8bit 121 169 108\n",
      "244831 y1 Cyst ROI Left 8bit 112 141 108\n",
      "244831 y1 Cyst ROI Right 8bit 126 156 108\n",
      "244831 y1 Image ROI Left 8bit 112 141 108\n",
      "244831 y1 Image ROI Right 8bit 126 156 108\n",
      "244831 y1 Kidney ROI Left 8bit 112 141 108\n",
      "244831 y1 Kidney ROI Right 8bit 126 156 108\n",
      "244831 y2 Cyst ROI Left 8bit 119 148 108\n",
      "244831 y2 Cyst ROI Right 8bit 131 176 108\n",
      "244831 y2 Image ROI Left 8bit 119 148 108\n",
      "244831 y2 Image ROI Right 8bit 131 176 108\n",
      "244831 y2 Kidney ROI Left 8bit 119 148 108\n",
      "244831 y2 Kidney ROI Right 8bit 131 176 108\n",
      "244831 y3 Cyst ROI Left 8bit 103 143 108\n",
      "244831 y3 Cyst ROI Right 8bit 129 166 108\n",
      "244831 y3 Image ROI Left 8bit 103 143 108\n",
      "244831 y3 Image ROI Right 8bit 129 166 108\n",
      "244831 y3 Kidney ROI Left 8bit 103 143 108\n",
      "244831 y3 Kidney ROI Right 8bit 129 166 108\n",
      "245990 y0 Cyst ROI Left 8bit 95 139 108\n",
      "245990 y0 Cyst ROI Right 8bit 114 150 108\n",
      "245990 y0 Image ROI Left 8bit 95 139 108\n",
      "245990 y0 Image ROI Right 8bit 114 150 108\n",
      "245990 y0 Kidney ROI Left 8bit 95 139 108\n",
      "245990 y0 Kidney ROI Right 8bit 114 150 108\n",
      "245990 y1 Cyst ROI Left 8bit 109 150 96\n",
      "245990 y1 Cyst ROI Right 8bit 122 162 96\n",
      "245990 y1 Image ROI Left 8bit 109 150 96\n",
      "245990 y1 Image ROI Right 8bit 122 162 96\n",
      "245990 y1 Kidney ROI Left 8bit 109 150 96\n",
      "245990 y1 Kidney ROI Right 8bit 122 162 96\n",
      "245990 y2 Cyst ROI Left 8bit 101 146 96\n",
      "245990 y2 Cyst ROI Right 8bit 109 156 96\n",
      "245990 y2 Image ROI Left 8bit 101 146 96\n",
      "245990 y2 Image ROI Right 8bit 109 156 96\n",
      "245990 y2 Kidney ROI Left 8bit 101 146 96\n",
      "245990 y2 Kidney ROI Right 8bit 109 156 96\n",
      "245990 y3 Cyst ROI Left 8bit 104 148 96\n",
      "245990 y3 Cyst ROI Right 8bit 111 159 96\n",
      "245990 y3 Image ROI Left 8bit 104 148 96\n",
      "245990 y3 Image ROI Right 8bit 111 159 96\n",
      "245990 y3 Kidney ROI Left 8bit 104 148 96\n",
      "245990 y3 Kidney ROI Right 8bit 111 159 96\n",
      "246620 y0 Cyst ROI Right 8bit 101 131 90\n"
     ]
    },
    {
     "name": "stdout",
     "output_type": "stream",
     "text": [
      "246620 y0 Image ROI Right 8bit 101 131 90\n",
      "246620 y0 Kidney ROI Right 8bit 101 131 90\n",
      "246620 y1 Cyst ROI Right 8bit 116 144 90\n",
      "246620 y1 Image ROI Right 8bit 116 144 90\n",
      "246620 y1 Kidney ROI Right 8bit 116 144 90\n",
      "246620 y2 Cyst ROI Left 8bit 100 128 90\n",
      "246620 y2 Cyst ROI Right 8bit 114 150 90\n",
      "246620 y2 Image ROI Left 8bit 100 128 90\n",
      "246620 y2 Image ROI Right 8bit 114 150 90\n",
      "246620 y2 Kidney ROI Left 8bit 100 128 90\n",
      "246620 y2 Kidney ROI Right 8bit 114 150 90\n",
      "246620 y3 Cyst ROI Right 8bit 109 135 90\n",
      "246620 y3 Image ROI Right 8bit 109 135 90\n",
      "246620 y3 Kidney ROI Right 8bit 109 135 90\n",
      "247880 y0 Cyst ROI Left 8bit 183 253 108\n",
      "247880 y0 Cyst ROI Right 8bit 224 312 108\n",
      "247880 y0 Image ROI Left 8bit 183 253 108\n",
      "247880 y0 Image ROI Right 8bit 224 312 108\n",
      "247880 y0 Kidney ROI Left 8bit 183 253 108\n",
      "247880 y0 Kidney ROI Right 8bit 224 312 108\n",
      "247880 y1 Cyst ROI Left 8bit 189 260 108\n",
      "247880 y1 Cyst ROI Right 8bit 218 315 108\n",
      "247880 y1 Image ROI Left 8bit 189 260 108\n",
      "247880 y1 Image ROI Right 8bit 218 315 108\n",
      "247880 y1 Kidney ROI Left 8bit 189 260 108\n",
      "247880 y1 Kidney ROI Right 8bit 218 315 108\n",
      "247880 y2 Cyst ROI Left 8bit 120 149 132\n",
      "247880 y2 Cyst ROI Right 8bit 128 159 132\n",
      "247880 y2 Image ROI Left 8bit 120 149 132\n",
      "247880 y2 Image ROI Right 8bit 128 159 132\n",
      "247880 y2 Kidney ROI Left 8bit 120 149 132\n",
      "247880 y2 Kidney ROI Right 8bit 128 159 132\n",
      "247880 y3 Cyst ROI Left 8bit 183 276 114\n",
      "247880 y3 Cyst ROI Right 8bit 231 279 114\n",
      "247880 y3 Image ROI Left 8bit 183 276 114\n",
      "247880 y3 Image ROI Right 8bit 231 279 114\n",
      "247880 y3 Kidney ROI Left 8bit 183 276 114\n",
      "247880 y3 Kidney ROI Right 8bit 231 279 114\n",
      "248712 y0 Cyst ROI Left 8bit 111 168 120\n",
      "248712 y0 Cyst ROI Right 8bit 119 160 120\n",
      "248712 y0 Image ROI Left 8bit 111 168 120\n",
      "248712 y0 Image ROI Right 8bit 119 160 120\n",
      "248712 y0 Kidney ROI Left 8bit 111 168 120\n",
      "248712 y0 Kidney ROI Right 8bit 119 160 120\n",
      "248712 y1 Cyst ROI Left 8bit 105 169 108\n",
      "248712 y1 Cyst ROI Right 8bit 129 164 108\n",
      "248712 y1 Image ROI Left 8bit 105 169 108\n",
      "248712 y1 Image ROI Right 8bit 129 164 108\n",
      "248712 y1 Kidney ROI Left 8bit 105 169 108\n",
      "248712 y1 Kidney ROI Right 8bit 129 164 108\n",
      "248712 y2 Cyst ROI Left 8bit 110 160 114\n",
      "248712 y2 Cyst ROI Right 8bit 118 161 114\n",
      "248712 y2 Image ROI Left 8bit 110 160 114\n",
      "248712 y2 Image ROI Right 8bit 118 161 114\n",
      "248712 y2 Kidney ROI Left 8bit 110 160 114\n",
      "248712 y2 Kidney ROI Right 8bit 118 161 114\n",
      "248712 y3 Cyst ROI Left 8bit 111 169 120\n",
      "248712 y3 Cyst ROI Right 8bit 125 174 120\n",
      "248712 y3 Image ROI Left 8bit 111 169 120\n",
      "248712 y3 Image ROI Right 8bit 125 174 120\n",
      "248712 y3 Kidney ROI Left 8bit 111 169 120\n",
      "248712 y3 Kidney ROI Right 8bit 125 174 120\n",
      "263617 y0 Cyst ROI Left 8bit 104 153 108\n",
      "263617 y0 Cyst ROI Right 8bit 115 168 108\n",
      "263617 y0 Image ROI Left 8bit 104 153 108\n",
      "263617 y0 Image ROI Right 8bit 115 168 108\n",
      "263617 y0 Kidney ROI Left 8bit 104 153 108\n",
      "263617 y0 Kidney ROI Right 8bit 115 168 108\n",
      "263617 y1 Cyst ROI Left 8bit 102 156 108\n",
      "263617 y1 Cyst ROI Right 8bit 111 164 108\n",
      "263617 y1 Image ROI Left 8bit 102 156 108\n",
      "263617 y1 Image ROI Right 8bit 111 164 108\n",
      "263617 y1 Kidney ROI Left 8bit 102 156 108\n",
      "263617 y1 Kidney ROI Right 8bit 111 164 108\n",
      "263617 y2 Cyst ROI Left 8bit 98 153 114\n",
      "263617 y2 Cyst ROI Right 8bit 118 174 114\n",
      "263617 y2 Image ROI Left 8bit 98 153 114\n",
      "263617 y2 Image ROI Right 8bit 118 174 114\n",
      "263617 y2 Kidney ROI Left 8bit 98 153 114\n",
      "263617 y2 Kidney ROI Right 8bit 118 174 114\n",
      "263617 y3 Cyst ROI Left 8bit 120 156 114\n",
      "263617 y3 Cyst ROI Right 8bit 120 170 114\n",
      "263617 y3 Image ROI Left 8bit 120 156 114\n",
      "263617 y3 Image ROI Right 8bit 120 170 114\n",
      "263617 y3 Kidney ROI Left 8bit 120 156 114\n",
      "263617 y3 Kidney ROI Right 8bit 120 170 114\n",
      "264348 y0 Cyst ROI Left 8bit 109 145 108\n",
      "264348 y0 Cyst ROI Right 8bit 108 146 108\n",
      "264348 y0 Image ROI Left 8bit 109 145 108\n",
      "264348 y0 Image ROI Right 8bit 108 146 108\n",
      "264348 y0 Kidney ROI Left 8bit 109 145 108\n",
      "264348 y0 Kidney ROI Right 8bit 108 146 108\n",
      "264348 y1 Cyst ROI Left 8bit 116 151 108\n",
      "264348 y1 Cyst ROI Right 8bit 130 156 108\n",
      "264348 y1 Image ROI Left 8bit 116 151 108\n",
      "264348 y1 Image ROI Right 8bit 130 156 108\n",
      "264348 y1 Kidney ROI Left 8bit 116 151 108\n",
      "264348 y1 Kidney ROI Right 8bit 130 156 108\n",
      "264348 y2 Cyst ROI Left 8bit 120 159 108\n",
      "264348 y2 Cyst ROI Right 8bit 122 161 108\n",
      "264348 y2 Image ROI Left 8bit 120 159 108\n",
      "264348 y2 Image ROI Right 8bit 122 161 108\n",
      "264348 y2 Kidney ROI Left 8bit 120 159 108\n",
      "264348 y2 Kidney ROI Right 8bit 122 161 108\n",
      "264348 y3 Cyst ROI Left 8bit 126 162 114\n",
      "264348 y3 Cyst ROI Right 8bit 125 166 114\n",
      "264348 y3 Image ROI Left 8bit 126 162 114\n",
      "264348 y3 Image ROI Right 8bit 125 166 114\n",
      "264348 y3 Kidney ROI Left 8bit 126 162 114\n",
      "264348 y3 Kidney ROI Right 8bit 125 166 114\n",
      "265171 y0 Cyst ROI Left 8bit 100 142 110\n",
      "265171 y0 Cyst ROI Right 8bit 105 137 110\n",
      "265171 y0 Image ROI Left 8bit 100 142 110\n",
      "265171 y0 Image ROI Right 8bit 105 137 110\n",
      "265171 y0 Kidney ROI Left 8bit 100 142 110\n",
      "265171 y0 Kidney ROI Right 8bit 105 137 110\n",
      "265171 y1 Cyst ROI Left 8bit 101 142 108\n",
      "265171 y1 Cyst ROI Right 8bit 110 138 108\n",
      "265171 y1 Image ROI Left 8bit 101 142 108\n",
      "265171 y1 Image ROI Right 8bit 110 138 108\n",
      "265171 y1 Kidney ROI Left 8bit 101 142 108\n",
      "265171 y1 Kidney ROI Right 8bit 110 138 108\n",
      "265171 y3 Cyst ROI Right 8bit 104 139 96\n",
      "265171 y3 Image ROI Right 8bit 104 139 96\n",
      "265171 y3 Kidney ROI Right 8bit 104 139 96\n",
      "271043 y0 Cyst ROI Left 8bit 100 139 110\n",
      "271043 y0 Cyst ROI Right 8bit 112 183 110\n",
      "271043 y0 Image ROI Left 8bit 100 139 110\n",
      "271043 y0 Image ROI Right 8bit 112 183 110\n",
      "271043 y0 Kidney ROI Left 8bit 100 139 110\n",
      "271043 y0 Kidney ROI Right 8bit 112 183 110\n",
      "271043 y1 Cyst ROI Left 8bit 192 270 75\n",
      "271043 y1 Cyst ROI Right 8bit 232 332 75\n",
      "271043 y1 Image ROI Left 8bit 192 270 75\n",
      "271043 y1 Image ROI Right 8bit 232 332 75\n",
      "271043 y1 Kidney ROI Left 8bit 192 270 75\n",
      "271043 y1 Kidney ROI Right 8bit 232 332 75\n",
      "271043 y2 Cyst ROI Left 8bit 118 146 84\n",
      "271043 y2 Cyst ROI Right 8bit 115 172 84\n",
      "271043 y2 Image ROI Left 8bit 118 146 84\n",
      "271043 y2 Image ROI Right 8bit 115 172 84\n",
      "271043 y2 Kidney ROI Left 8bit 118 146 84\n",
      "271043 y2 Kidney ROI Right 8bit 115 172 84\n",
      "271043 y3 Cyst ROI Left 8bit 101 142 84\n",
      "271043 y3 Cyst ROI Right 8bit 125 209 84\n",
      "271043 y3 Image ROI Left 8bit 101 142 84\n",
      "271043 y3 Image ROI Right 8bit 125 209 84\n",
      "271043 y3 Kidney ROI Left 8bit 101 142 84\n",
      "271043 y3 Kidney ROI Right 8bit 125 209 84\n",
      "271460 y0 Cyst ROI Left 8bit 133 139 96\n",
      "271460 y0 Cyst ROI Right 8bit 123 146 96\n",
      "271460 y0 Image ROI Left 8bit 133 139 96\n",
      "271460 y0 Image ROI Right 8bit 123 146 96\n",
      "271460 y0 Kidney ROI Left 8bit 133 139 96\n",
      "271460 y0 Kidney ROI Right 8bit 123 146 96\n",
      "271460 y1 Cyst ROI Left 8bit 120 141 99\n",
      "271460 y1 Cyst ROI Right 8bit 122 150 99\n",
      "271460 y1 Image ROI Left 8bit 120 141 99\n",
      "271460 y1 Image ROI Right 8bit 122 150 99\n",
      "271460 y1 Kidney ROI Left 8bit 120 141 99\n",
      "271460 y1 Kidney ROI Right 8bit 122 150 99\n",
      "271460 y2 Cyst ROI Left 8bit 118 141 102\n",
      "271460 y2 Cyst ROI Right 8bit 129 149 102\n",
      "271460 y2 Image ROI Left 8bit 118 141 102\n",
      "271460 y2 Image ROI Right 8bit 129 149 102\n",
      "271460 y2 Kidney ROI Left 8bit 118 141 102\n",
      "271460 y2 Kidney ROI Right 8bit 129 149 102\n",
      "271460 y3 Cyst ROI Left 8bit 208 253 114\n",
      "271460 y3 Cyst ROI Right 8bit 219 288 114\n",
      "271460 y3 Image ROI Left 8bit 208 253 114\n",
      "271460 y3 Image ROI Right 8bit 219 288 114\n",
      "271460 y3 Kidney ROI Left 8bit 208 253 114\n",
      "271460 y3 Kidney ROI Right 8bit 219 288 114\n",
      "271684 y0 Cyst ROI Left 8bit 106 130 108\n",
      "271684 y0 Cyst ROI Right 8bit 108 162 108\n",
      "271684 y0 Image ROI Left 8bit 106 130 108\n",
      "271684 y0 Image ROI Right 8bit 108 162 108\n",
      "271684 y0 Kidney ROI Left 8bit 106 130 108\n",
      "271684 y0 Kidney ROI Right 8bit 108 162 108\n",
      "271684 y1 Cyst ROI Left 8bit 112 139 108\n",
      "271684 y1 Cyst ROI Right 8bit 114 156 108\n",
      "271684 y1 Image ROI Left 8bit 112 139 108\n",
      "271684 y1 Image ROI Right 8bit 114 156 108\n",
      "271684 y1 Kidney ROI Left 8bit 112 139 108\n",
      "271684 y1 Kidney ROI Right 8bit 114 156 108\n",
      "271684 y2 Cyst ROI Left 8bit 115 141 108\n",
      "271684 y2 Cyst ROI Right 8bit 112 162 108\n",
      "271684 y2 Image ROI Left 8bit 115 141 108\n",
      "271684 y2 Image ROI Right 8bit 112 162 108\n",
      "271684 y2 Kidney ROI Left 8bit 115 141 108\n",
      "271684 y2 Kidney ROI Right 8bit 112 162 108\n",
      "271684 y3 Cyst ROI Left 8bit 116 157 99\n",
      "271684 y3 Cyst ROI Right 8bit 119 167 99\n",
      "271684 y3 Image ROI Left 8bit 116 157 99\n"
     ]
    },
    {
     "name": "stdout",
     "output_type": "stream",
     "text": [
      "271684 y3 Image ROI Right 8bit 119 167 99\n",
      "271684 y3 Kidney ROI Left 8bit 116 157 99\n",
      "271684 y3 Kidney ROI Right 8bit 119 167 99\n",
      "290336 y0 Cyst ROI Left 8bit 115 170 120\n",
      "290336 y0 Cyst ROI Right 8bit 121 178 120\n",
      "290336 y0 Image ROI Left 8bit 115 170 120\n",
      "290336 y0 Image ROI Right 8bit 121 178 120\n",
      "290336 y0 Kidney ROI Left 8bit 115 170 120\n",
      "290336 y0 Kidney ROI Right 8bit 121 178 120\n",
      "290336 y1 Cyst ROI Left 8bit 115 168 114\n",
      "290336 y1 Cyst ROI Right 8bit 118 174 114\n",
      "290336 y1 Image ROI Left 8bit 115 168 114\n",
      "290336 y1 Image ROI Right 8bit 118 174 114\n",
      "290336 y1 Kidney ROI Left 8bit 115 168 114\n",
      "290336 y1 Kidney ROI Right 8bit 118 174 114\n",
      "290336 y2 Cyst ROI Left 8bit 118 165 114\n",
      "290336 y2 Cyst ROI Right 8bit 124 174 114\n",
      "290336 y2 Image ROI Left 8bit 118 165 114\n",
      "290336 y2 Image ROI Right 8bit 124 174 114\n",
      "290336 y2 Kidney ROI Left 8bit 118 165 114\n",
      "290336 y2 Kidney ROI Right 8bit 124 174 114\n",
      "290336 y3 Cyst ROI Left 8bit 119 170 114\n",
      "290336 y3 Cyst ROI Right 8bit 123 176 114\n",
      "290336 y3 Image ROI Left 8bit 119 170 114\n",
      "290336 y3 Image ROI Right 8bit 123 176 114\n",
      "290336 y3 Kidney ROI Left 8bit 119 170 114\n",
      "290336 y3 Kidney ROI Right 8bit 123 176 114\n",
      "295106 y0 Cyst ROI Left 8bit 109 144 108\n",
      "295106 y0 Cyst ROI Right 8bit 118 164 108\n",
      "295106 y0 Image ROI Left 8bit 109 144 108\n",
      "295106 y0 Image ROI Right 8bit 118 164 108\n",
      "295106 y0 Kidney ROI Left 8bit 109 144 108\n",
      "295106 y0 Kidney ROI Right 8bit 118 164 108\n",
      "295106 y1 Cyst ROI Left 8bit 108 151 108\n",
      "295106 y1 Cyst ROI Right 8bit 114 165 108\n",
      "295106 y1 Image ROI Left 8bit 108 151 108\n",
      "295106 y1 Image ROI Right 8bit 114 165 108\n",
      "295106 y1 Kidney ROI Left 8bit 108 151 108\n",
      "295106 y1 Kidney ROI Right 8bit 114 165 108\n",
      "295106 y2 Cyst ROI Left 8bit 109 154 120\n",
      "295106 y2 Cyst ROI Right 8bit 115 159 120\n",
      "295106 y2 Image ROI Left 8bit 109 154 120\n",
      "295106 y2 Image ROI Right 8bit 115 159 120\n",
      "295106 y2 Kidney ROI Left 8bit 109 154 120\n",
      "295106 y2 Kidney ROI Right 8bit 115 159 120\n",
      "295106 y3 Cyst ROI Left 8bit 109 157 120\n",
      "295106 y3 Cyst ROI Right 8bit 119 167 120\n",
      "295106 y3 Image ROI Left 8bit 109 157 120\n",
      "295106 y3 Image ROI Right 8bit 119 167 120\n",
      "295106 y3 Kidney ROI Left 8bit 109 157 120\n",
      "295106 y3 Kidney ROI Right 8bit 119 167 120\n",
      "complete --- nice job\n"
     ]
    }
   ],
   "source": [
    "convert_NPY_NII(this_list) "
   ]
  },
  {
   "cell_type": "markdown",
   "id": "f781ee2f",
   "metadata": {},
   "source": [
    "## Re-assign Masks\n",
    "Move the masks to a new location in the file structure desired"
   ]
  },
  {
   "cell_type": "code",
   "execution_count": 13,
   "id": "500fea14",
   "metadata": {},
   "outputs": [],
   "source": [
    "path = r\"C:\\Users\\UAB\\data\\KU\\KU_NII\"\n",
    "cyst_path = cyst_path\n",
    "cyst_names=[]\n",
    "for root, dirs, files in os.walk(os.path.normpath(path), topdown=True):\n",
    "    for name in files:\n",
    "        #print(os.path.join(root, name))\n",
    "        cyst_names.append(os.path.join(root, name))\n",
    "\n",
    "C_list = []\n",
    "for j in range(len(cyst_names)):\n",
    "    C_name = '_C'\n",
    "    filename = os.path.basename(cyst_names[j])\n",
    "    if C_name in filename:\n",
    "        C_list.append(cyst_names[j])\n",
    "\n",
    "for i in range(len(C_list)):\n",
    "    shutil.move(C_list[i],cyst_path )"
   ]
  },
  {
   "cell_type": "markdown",
   "id": "121d1532",
   "metadata": {},
   "source": [
    "# Save as single slices\n"
   ]
  },
  {
   "cell_type": "code",
   "execution_count": 16,
   "id": "f5b0cf05",
   "metadata": {},
   "outputs": [],
   "source": [
    "def gather_set(data_path, phrase):\n",
    "    set_of = []\n",
    "    path = data_path + '\\\\'\n",
    "    for f in os.listdir(data_path):\n",
    "      if phrase in f:\n",
    "        set_of.append(f)\n",
    "      else:\n",
    "        continue\n",
    "    set_of = np.array(set_of)\n",
    "\n",
    "    indices = np.array(range(len(set_of))) # we will use this in the next step.\n",
    "\n",
    "    return set_of\n",
    "\n"
   ]
  },
  {
   "cell_type": "markdown",
   "id": "b0c3f570",
   "metadata": {},
   "source": [
    "Use next two for NPY files"
   ]
  },
  {
   "cell_type": "code",
   "execution_count": 17,
   "id": "554b07b5",
   "metadata": {},
   "outputs": [],
   "source": [
    "data_path = r\"C:\\Users\\UAB\\data\\KU\\re-do\"\n",
    "new_path = r\"C:\\Users\\UAB\\data\\KU\\re-do\"\n",
    "\n",
    "\n",
    "labels = gather_set(data_path, '_K')\n",
    "\n",
    "\n",
    "for i in range(len(labels)):\n",
    "    working_img = np.load(data_path + '\\\\' + labels[i])\n",
    "    file_name = labels[i][:-7]\n",
    "    for j in range(working_img.shape[-1]):\n",
    "        save_slice = working_img[:,:,j]\n",
    "        new_fname = str(file_name + str(j) +'_K')\n",
    "        np.save(os.path.join(new_path, new_fname), save_slice)\n"
   ]
  },
  {
   "cell_type": "code",
   "execution_count": 13,
   "id": "43fb30ff",
   "metadata": {},
   "outputs": [
    {
     "name": "stdout",
     "output_type": "stream",
     "text": [
      "101934_0_96_L\n"
     ]
    }
   ],
   "source": [
    "data_path = r\"C:\\Users\\UAB\\data\\KU\\KU_NPY\"\n",
    "new_path = r\"C:\\Users\\UAB\\data\\KU\\npy-slice\"\n",
    "\n",
    "labels = gather_set(data_path, '_C')\n",
    "print(labels[0][:-6])"
   ]
  },
  {
   "cell_type": "code",
   "execution_count": 14,
   "id": "9cc41084",
   "metadata": {},
   "outputs": [],
   "source": [
    "for i in range(len(labels)):\n",
    "    working_img = np.load(data_path + '\\\\' + labels[i])\n",
    "    file_name = labels[i][:-5]\n",
    "    for j in range(working_img.shape[-1]):\n",
    "        save_slice = working_img[:,:,j]\n",
    "        new_fname = str(file_name + str(j) +'_C')\n",
    "        np.save(os.path.join(new_path, new_fname), save_slice)"
   ]
  },
  {
   "cell_type": "code",
   "execution_count": 18,
   "id": "316d7157",
   "metadata": {},
   "outputs": [],
   "source": [
    "images = gather_set(data_path, '_M.')\n",
    "for i in range(len(images)):\n",
    "    working_img = np.load(data_path + '\\\\' + images[i])\n",
    "    file_name = images[i][:-5]\n",
    "    for j in range(working_img.shape[-1]):\n",
    "        save_slice = working_img[:,:,j]\n",
    "        new_fname = str(file_name + str(j) +'_M')\n",
    "        np.save(os.path.join(new_path, new_fname), save_slice)"
   ]
  },
  {
   "cell_type": "markdown",
   "id": "923a2316",
   "metadata": {},
   "source": [
    "Use for NII files"
   ]
  },
  {
   "cell_type": "code",
   "execution_count": 3,
   "id": "3e28d459",
   "metadata": {},
   "outputs": [],
   "source": [
    "data_path = r'C:\\Users\\UAB\\data\\KU\\KU_NII'\n",
    "final_path = r'C:\\Users\\UAB\\data\\KU\\KU_NII'\n",
    "kidney_non = gather_set(data_path, '_K')"
   ]
  },
  {
   "cell_type": "code",
   "execution_count": 4,
   "id": "098fd9bd",
   "metadata": {},
   "outputs": [],
   "source": [
    "import nibabel as nib\n",
    "data_path = r\"C:\\Users\\UAB\\data\\KU\\KU_NII\"\n",
    "new_path = r\"C:\\Users\\UAB\\data\\KU\\KU_nii_single\"\n",
    "images = gather_set(data_path, '_M.')"
   ]
  },
  {
   "cell_type": "code",
   "execution_count": 10,
   "id": "e6fa7c9e",
   "metadata": {},
   "outputs": [
    {
     "name": "stdout",
     "output_type": "stream",
     "text": [
      "249\n",
      "248\n"
     ]
    }
   ],
   "source": [
    "print(len(images))\n",
    "print(len(kidney_non))\n",
    "images = images[1:]"
   ]
  },
  {
   "cell_type": "code",
   "execution_count": 14,
   "id": "c7a0ac59",
   "metadata": {},
   "outputs": [
    {
     "name": "stdout",
     "output_type": "stream",
     "text": [
      "248\n",
      "248\n",
      "101934_0_96_L_M.nii\n",
      "101934_0_96_L_M_K.nii\n"
     ]
    }
   ],
   "source": [
    "print(len(images))\n",
    "print(len(kidney_non))\n",
    "print(images[0])\n",
    "print(kidney_non[0])"
   ]
  },
  {
   "cell_type": "code",
   "execution_count": 13,
   "id": "8d1db7f0",
   "metadata": {},
   "outputs": [],
   "source": [
    "for i in range(len(images)):\n",
    "    working_img = nib.load(data_path + '\\\\' + images[i])\n",
    "    working_img = working_img.get_fdata()\n",
    "    file_name = images[i][:-5]\n",
    "    for j in range(working_img.shape[-1]):\n",
    "        save_slice = working_img[:,:,j]\n",
    "        new_fname = str(file_name + str(j) +'_M')\n",
    "        affine = np.eye(4)\n",
    "        nifti_file = nib.Nifti1Image(save_slice, affine)\n",
    "        nib.save(nifti_file, os.path.join(new_path, \"%s\" %new_fname))"
   ]
  },
  {
   "cell_type": "code",
   "execution_count": 15,
   "id": "8112b45b",
   "metadata": {},
   "outputs": [
    {
     "name": "stdout",
     "output_type": "stream",
     "text": [
      "(512, 512)\n"
     ]
    },
    {
     "data": {
      "text/plain": [
       "<matplotlib.image.AxesImage at 0x1668ef7d100>"
      ]
     },
     "execution_count": 15,
     "metadata": {},
     "output_type": "execute_result"
    },
    {
     "data": {
      "image/png": "[encoded data removed]",
      "text/plain": [
       "<Figure size 640x480 with 1 Axes>"
      ]
     },
     "metadata": {},
     "output_type": "display_data"
    }
   ],
   "source": [
    "img = nib.load(r\"C:\\Users\\UAB\\data\\KU\\KU_nii_single\\101934_0_96_L_50_M.nii\").get_fdata()\n",
    "print(img.shape)\n",
    "%matplotlib inline\n",
    "plt.imshow(img)\n"
   ]
  },
  {
   "cell_type": "code",
   "execution_count": 20,
   "id": "8331ece0",
   "metadata": {},
   "outputs": [],
   "source": [
    "for i in range(len(kidney_non)):\n",
    "    working_img = nib.load(data_path + '\\\\' + kidney_non[i])\n",
    "    working_img = working_img.get_fdata()\n",
    "    file_name = images[i][:-5]\n",
    "    for j in range(working_img.shape[-1]):\n",
    "        save_slice = working_img[:,:,j]\n",
    "        new_fname = str(file_name + str(j) +'_K')\n",
    "        affine = np.eye(4)\n",
    "        nifti_file = nib.Nifti1Image(save_slice, affine)\n",
    "        nib.save(nifti_file, os.path.join(new_path, \"%s\" %new_fname))"
   ]
  },
  {
   "cell_type": "code",
   "execution_count": 30,
   "id": "5cd55373",
   "metadata": {},
   "outputs": [
    {
     "name": "stdout",
     "output_type": "stream",
     "text": [
      "26454\n",
      "101934_0_96_L_0_K.nii\n"
     ]
    }
   ],
   "source": [
    "data_path = r'C:\\Users\\UAB\\data\\KU\\KU_nii_single'\n",
    "bin_path =r'D:\\data\\KU\\KU_nii_binarized'\n",
    "seg_list = gather_set(data_path, '_K')\n",
    "print(len(seg_list))\n",
    "print(seg_list[0])"
   ]
  },
  {
   "cell_type": "code",
   "execution_count": 31,
   "id": "efec6e3d",
   "metadata": {},
   "outputs": [],
   "source": [
    "for i in range(len(seg_list)):\n",
    "    segment = nib.load(data_path+\"\\\\\"+seg_list[i])\n",
    "    seg_data = segment.get_fdata()\n",
    "    binarized = np.where(seg_data>1,1,seg_data)\n",
    "    affine = np.eye(4)\n",
    "    nifti_file = nib.Nifti1Image(binarized, affine)\n",
    "    nib.save(nifti_file, os.path.join(bin_path, \"%s\" %seg_list[i]))"
   ]
  },
  {
   "cell_type": "code",
   "execution_count": 21,
   "id": "891dc295",
   "metadata": {},
   "outputs": [
    {
     "name": "stdout",
     "output_type": "stream",
     "text": [
      "(512, 512)\n"
     ]
    },
    {
     "data": {
      "text/plain": [
       "<matplotlib.image.AxesImage at 0x1668cb0c700>"
      ]
     },
     "execution_count": 21,
     "metadata": {},
     "output_type": "execute_result"
    },
    {
     "data": {
      "image/png": "[encoded data removed]",
      "text/plain": [
       "<Figure size 640x480 with 1 Axes>"
      ]
     },
     "metadata": {},
     "output_type": "display_data"
    }
   ],
   "source": [
    "img = nib.load(r\"C:\\Users\\UAB\\data\\KU\\KU_nii_single\\101934_0_96_L_50_K.nii\").get_fdata()\n",
    "print(img.shape)\n",
    "%matplotlib inline\n",
    "plt.imshow(img)"
   ]
  },
  {
   "cell_type": "code",
   "execution_count": 19,
   "id": "aeb0d0c7",
   "metadata": {},
   "outputs": [],
   "source": [
    "\n",
    "\n"
   ]
  },
  {
   "cell_type": "code",
   "execution_count": 20,
   "id": "dcd29a63",
   "metadata": {},
   "outputs": [
    {
     "name": "stdout",
     "output_type": "stream",
     "text": [
      "248\n"
     ]
    }
   ],
   "source": [
    "print(len(images))"
   ]
  },
  {
   "cell_type": "code",
   "execution_count": null,
   "id": "2becc54a",
   "metadata": {},
   "outputs": [],
   "source": [
    "for i in range(len(labels)):\n",
    "    working_img = nib.load(data_path + '\\\\' + labels[i])\n",
    "    working_img = working_img.get_fdata()\n",
    "    file_name = labels[i][:-7]\n",
    "    for j in range(working_img.shape[-1]):\n",
    "        save_slice = working_img[:,:,j]\n",
    "        new_fname = str(file_name + str(j) +'_K')\n",
    "        np.save(os.path.join(new_path, new_fname), save_slice)"
   ]
  },
  {
   "cell_type": "code",
   "execution_count": 62,
   "id": "f8b804f5",
   "metadata": {},
   "outputs": [],
   "source": [
    "data_path = r\"C:\\Users\\UAB\\data\\UAB\\AllNPY\"\n",
    "\n",
    "images = gather_set(data_path, '_M.')\n",
    "labels = gather_set(data_path, '_K')\n"
   ]
  },
  {
   "cell_type": "markdown",
   "id": "f65d6500",
   "metadata": {},
   "source": [
    "## Binarize masks\n",
    "first gather the set based on the naming convention above, then binarize and save in a different location"
   ]
  },
  {
   "cell_type": "code",
   "execution_count": 19,
   "id": "873ac98b",
   "metadata": {},
   "outputs": [],
   "source": [
    "final_path = r\"C:\\Users\\UAB\\data\\KU\\re-do\"\n",
    "new_path = r\"C:\\Users\\UAB\\data\\KU\\re-do\"\n",
    "seg_list = gather_set(final_path, '_K')\n",
    "\n",
    "\n",
    "for i in range(len(seg_list)):\n",
    "    seg_data = np.load(final_path+\"\\\\\"+seg_list[i])\n",
    "    file_name = seg_list[i][:-4]\n",
    "    binarized = np.where(seg_data>1,1,seg_data)\n",
    "    np.save(os.path.join(new_path, file_name), binarized)"
   ]
  },
  {
   "cell_type": "code",
   "execution_count": 18,
   "id": "fcd3c175",
   "metadata": {},
   "outputs": [
    {
     "name": "stdout",
     "output_type": "stream",
     "text": [
      "864\n"
     ]
    }
   ],
   "source": [
    "print(len(seg_list))"
   ]
  },
  {
   "cell_type": "markdown",
   "id": "348d4bb2",
   "metadata": {},
   "source": [
    "check sizes and range\n"
   ]
  },
  {
   "cell_type": "code",
   "execution_count": 69,
   "id": "9b64c744",
   "metadata": {},
   "outputs": [
    {
     "name": "stdout",
     "output_type": "stream",
     "text": [
      "137 (512, 512)\n",
      "1 (512, 512)\n",
      "1 (512, 512)\n"
     ]
    }
   ],
   "source": [
    "image_test = np.load(r\"C:\\Users\\UAB\\data\\Emory\\new_npyslice\\200922_0_144_L_55_M.npy\")\n",
    "print(image_test.max(), image_test.shape)\n",
    "label_test = np.load(r\"C:\\Users\\UAB\\data\\Emory\\new_npyslice\\200922_0_144_L_55_K.npy\")\n",
    "print(label_test.max(), label_test.shape)\n",
    "cyst_test = np.load(r\"C:\\Users\\UAB\\data\\Emory\\new_npyslice\\200922_0_144_L_55_C.npy\")\n",
    "print(cyst_test.max(), cyst_test.shape)\n"
   ]
  },
  {
   "cell_type": "code",
   "execution_count": 70,
   "id": "81563495",
   "metadata": {},
   "outputs": [
    {
     "data": {
      "text/plain": [
       "<matplotlib.image.AxesImage at 0x173b2f8ff10>"
      ]
     },
     "execution_count": 70,
     "metadata": {},
     "output_type": "execute_result"
    },
    {
     "data": {
      "image/png": "[encoded data removed]",
      "text/plain": [
       "<Figure size 640x480 with 1 Axes>"
      ]
     },
     "metadata": {},
     "output_type": "display_data"
    }
   ],
   "source": [
    "%matplotlib inline\n",
    "\n",
    "plt.imshow(image_test, cmap='gray')"
   ]
  },
  {
   "cell_type": "code",
   "execution_count": 71,
   "id": "9b358474",
   "metadata": {},
   "outputs": [
    {
     "data": {
      "text/plain": [
       "<matplotlib.image.AxesImage at 0x173b2fddd30>"
      ]
     },
     "execution_count": 71,
     "metadata": {},
     "output_type": "execute_result"
    },
    {
     "data": {
      "image/png": "[encoded data removed]",
      "text/plain": [
       "<Figure size 640x480 with 1 Axes>"
      ]
     },
     "metadata": {},
     "output_type": "display_data"
    }
   ],
   "source": [
    "plt.imshow(label_test, cmap='gray')"
   ]
  },
  {
   "cell_type": "code",
   "execution_count": 72,
   "id": "426f7f23",
   "metadata": {},
   "outputs": [
    {
     "data": {
      "text/plain": [
       "<matplotlib.image.AxesImage at 0x173b3030a90>"
      ]
     },
     "execution_count": 72,
     "metadata": {},
     "output_type": "execute_result"
    },
    {
     "data": {
      "image/png": "[encoded data removed]",
      "text/plain": [
       "<Figure size 640x480 with 1 Axes>"
      ]
     },
     "metadata": {},
     "output_type": "display_data"
    }
   ],
   "source": [
    "plt.imshow(cyst_test, cmap='gray')"
   ]
  },
  {
   "cell_type": "code",
   "execution_count": 119,
   "id": "f03d87a7",
   "metadata": {},
   "outputs": [],
   "source": [
    "def convert_NPY_NII_small(ROI_list):\n",
    "    #new_size= new_size\n",
    "    print('Converting', str(len(ROI_list)), 'files')\n",
    "    for i in range(len(ROI_list)): # loop through all the available files from the list that had our keyword\n",
    "        orig_fname = os.path.basename(ROI_list[i])# grab the ith filename in the list\n",
    "        print(orig_fname)\n",
    "        #extract information from the filename\n",
    "        if orig_fname[0].isdigit(): \n",
    "            orig_fname = orig_fname\n",
    "        else:\n",
    "            orig_fname = orig_fname[3:]\n",
    "        num_slice = int(orig_fname[-3:])\n",
    "        #print(num_slice)\n",
    "        if num_slice < 15:\n",
    "            orig_fname = this_list[2]\n",
    "            num_slice = int(orig_fname[-3:])\n",
    "            num_width = int((orig_fname[-7:-4]))\n",
    "            #print(num_width)\n",
    "            num_height = int((orig_fname[-11:-8]))\n",
    "        elif num_slice < 50:\n",
    "            #print('over 99')\n",
    "            num_slice = int(orig_fname[-3:])\n",
    "            num_width = int((orig_fname[-8:-4]))\n",
    "            #print(num_width)\n",
    "            num_height = int((orig_fname[-12:-8]))\n",
    "            #print(num_height)\n",
    "        else:\n",
    "            #print('less than 99')\n",
    "            num_width = int((orig_fname[-7:-3]))\n",
    "            #print(num_width)\n",
    "            num_height = int((orig_fname[-10:-7]))\n",
    "            #print(num_height)\n",
    "        pt_numb =(orig_fname[0:6])\n",
    "        yr_numb = (orig_fname[8])\n",
    "        if 'Cyst' in orig_fname:\n",
    "            img_type = 'C'\n",
    "        elif 'Kidney' in orig_fname:\n",
    "            img_type = 'M_K'\n",
    "        elif 'Image' in orig_fname:\n",
    "            img_type = 'M'\n",
    "        if 'Right' in orig_fname:\n",
    "            side = 'R'\n",
    "        elif 'Left' in orig_fname:\n",
    "            side = 'L'\n",
    "        call_file = str(ROI_list[i]) #define our filename with path to open (working_path+'/'+orig_fname)\n",
    "        resized = np.zeros((num_slice,new_size,new_size), dtype ='uint8')\n",
    "        transposed = np.zeros((new_size, new_size, num_slice), dtype='uint8')\n",
    "        with open(r'%s' %call_file, 'rb') as file: #read in raw uint8 and resize correctly\n",
    "             data = np.fromfile(file, dtype = 'uint8').reshape(num_slice,num_width,num_height)\n",
    "             for j in range(num_slice):\n",
    "                 orig_slice = data[j]\n",
    "                 re_slice = Image.fromarray(orig_slice)\n",
    "                 resized[j] = resize_with_padding(re_slice, (new_size, new_size))\n",
    "             for i in range(resized.shape[0]):\n",
    "                 old_slice = resized[i,:,:]\n",
    "                 transposed[:,:,i] = old_slice\n",
    "\n",
    "                 # now we need to rename this resized array and save it as a .npy\n",
    "        #new_fname = str('%s' %orig_fname + '_RESIZED_') #keep the original name for now \n",
    "        new_fname = str(pt_numb +'_'+ yr_numb +'_'+ str(num_slice) +'_'+ side + '_' +  img_type )\n",
    "        file_name = \"%s\" %new_fname # add our extension\n",
    "        np.save(os.path.join(new_path, file_name), transposed) # save in the new file folder\n",
    "        converted_array = np.array(transposed, dtype=np.float32)\n",
    "        affine = np.eye(4)\n",
    "        nifti_file = nib.Nifti1Image(converted_array, affine)\n",
    "        nib.save(nifti_file, os.path.join(final_path, \"%s\" %new_fname))\n",
    "\n",
    "\n",
    "    print(\"complete --- nice job\")"
   ]
  },
  {
   "cell_type": "code",
   "execution_count": 120,
   "id": "40a15ec2",
   "metadata": {
    "scrolled": false
   },
   "outputs": [
    {
     "name": "stdout",
     "output_type": "stream",
     "text": [
      "\n",
      "Patient Folders have been identified\n",
      "\n",
      "\n",
      "Filenames have been found and added\n",
      "\n",
      "copied and moved 18 files\n",
      "Converting 18 files\n",
      "246620 y0 Cyst ROI Left 8bit 98 131 90\n",
      "246620 y0 Image ROI Left 8bit 98 131 90\n",
      "246620 y0 Kidney ROI Left 8bit 98 131 90\n",
      "246620 y1 Cyst ROI Left 8bit 99 130 90\n",
      "246620 y1 Image ROI Left 8bit 99 130 90\n",
      "246620 y1 Kidney ROI Left 8bit 99 130 90\n",
      "246620 y3 Cyst ROI Left 8bit 94 131 90\n",
      "246620 y3 Image ROI Left 8bit 94 131 90\n",
      "246620 y3 Kidney ROI Left 8bit 94 131 90\n",
      "265171 y2 Cyst ROI Left 8bit 98 142 90\n",
      "265171 y2 Cyst ROI Right 8bit 99 146 90\n",
      "265171 y2 Image ROI Left 8bit 98 142 90\n",
      "265171 y2 Image ROI Right 8bit 99 146 90\n",
      "265171 y2 Kidney ROI Left 8bit 98 142 90\n",
      "265171 y2 Kidney ROI Right 8bit 99 146 90\n",
      "265171 y3 Cyst ROI Left 8bit 95 141 96\n",
      "265171 y3 Image ROI Left 8bit 95 141 96\n",
      "265171 y3 Kidney ROI Left 8bit 95 141 96\n",
      "complete --- nice job\n"
     ]
    }
   ],
   "source": [
    "raw_path = r'C:\\Users\\UAB\\data\\Emory\\issues'\n",
    "new_path = r'C:\\Users\\UAB\\data\\Emory\\npy'\n",
    "final_path = r'C:\\Users\\UAB\\data\\Emory\\nii'\n",
    "cyst_path = r'C:\\Users\\UAB\\data\\Emory\\c'\n",
    "new_size = 512\n",
    "\n",
    "this_list = gather_filenames(raw_path)\n",
    "\n",
    "\n",
    "convert_NPY_NII_small(this_list) \n"
   ]
  },
  {
   "cell_type": "code",
   "execution_count": 121,
   "id": "9cd2d9e3",
   "metadata": {},
   "outputs": [],
   "source": [
    "\n",
    "    \n",
    "data_path = r\"C:\\Users\\UAB\\data\\Emory\\npy\"\n",
    "new_path = r\"C:\\Users\\UAB\\data\\Emory\\new\"\n",
    "\n",
    "\n",
    "labels = gather_set(data_path, '_K')\n",
    "\n",
    "\n",
    "for i in range(len(labels)):\n",
    "    working_img = np.load(data_path + '\\\\' + labels[i])\n",
    "    file_name = labels[i][:-7]\n",
    "    for j in range(working_img.shape[-1]):\n",
    "        save_slice = working_img[:,:,j]\n",
    "        new_fname = str(file_name + str(j) +'_K')\n",
    "        np.save(os.path.join(new_path, new_fname), save_slice)"
   ]
  },
  {
   "cell_type": "code",
   "execution_count": 122,
   "id": "d5a06286",
   "metadata": {},
   "outputs": [],
   "source": [
    "images = gather_set(data_path, '_M.')\n",
    "for i in range(len(images)):\n",
    "    working_img = np.load(data_path + '\\\\' + images[i])\n",
    "    file_name = images[i][:-5]\n",
    "    for j in range(working_img.shape[-1]):\n",
    "        save_slice = working_img[:,:,j]\n",
    "        new_fname = str(file_name + str(j) +'_M')\n",
    "        np.save(os.path.join(new_path, new_fname), save_slice)"
   ]
  },
  {
   "cell_type": "code",
   "execution_count": null,
   "id": "67c6e357",
   "metadata": {},
   "outputs": [],
   "source": [
    "final_path = r\"C:\\Users\\UAB\\data\\Emory\\new\"\n",
    "seg_list = gather_set(final_path, '_K')\n",
    "\n",
    "\n",
    "for i in range(len(seg_list)):\n",
    "    seg_data = np.load(final_path+\"\\\\\"+seg_list[i])\n",
    "    file_name = seg_list[i][:-4]\n",
    "    binarized = np.where(seg_data>1,1,seg_data)\n",
    "    np.save(os.path.join(final_path, file_name), binarized)"
   ]
  },
  {
   "cell_type": "code",
   "execution_count": 80,
   "id": "3c82eb03",
   "metadata": {},
   "outputs": [
    {
     "name": "stdout",
     "output_type": "stream",
     "text": [
      "249 (512, 512)\n",
      "1 (512, 512)\n"
     ]
    }
   ],
   "source": [
    "image_test = np.load(r\"C:\\Users\\UAB\\data\\Mayo\\Original\\Pt 303868\\new\\303868_0_87_L_30_M.npy\")\n",
    "print(image_test.max(), image_test.shape)\n",
    "label_test = np.load(r\"C:\\Users\\UAB\\data\\Mayo\\Original\\Pt 303868\\new\\303868_0_87_L_30_K.npy\")\n",
    "print(label_test.max(), label_test.shape)"
   ]
  },
  {
   "cell_type": "code",
   "execution_count": 84,
   "id": "b6ceacdc",
   "metadata": {},
   "outputs": [
    {
     "data": {
      "text/plain": [
       "<matplotlib.image.AxesImage at 0x20e003eaeb0>"
      ]
     },
     "execution_count": 84,
     "metadata": {},
     "output_type": "execute_result"
    },
    {
     "data": {
      "image/png": "[encoded data removed]",
      "text/plain": [
       "<Figure size 640x480 with 1 Axes>"
      ]
     },
     "metadata": {},
     "output_type": "display_data"
    }
   ],
   "source": [
    "plt.imshow(image_test, cmap='gray')\n"
   ]
  },
  {
   "cell_type": "code",
   "execution_count": 83,
   "id": "fa3a2c0b",
   "metadata": {},
   "outputs": [
    {
     "data": {
      "text/plain": [
       "<matplotlib.image.AxesImage at 0x20e00396f70>"
      ]
     },
     "execution_count": 83,
     "metadata": {},
     "output_type": "execute_result"
    },
    {
     "data": {
      "image/png": "[encoded data removed]",
      "text/plain": [
       "<Figure size 640x480 with 1 Axes>"
      ]
     },
     "metadata": {},
     "output_type": "display_data"
    }
   ],
   "source": [
    "plt.imshow(label_test, cmap='gray')"
   ]
  },
  {
   "cell_type": "code",
   "execution_count": 73,
   "id": "0ead8c39",
   "metadata": {},
   "outputs": [],
   "source": [
    "import os \n",
    "\n",
    "path = os.path.abspath(r'C:\\Users\\UAB\\data\\Emory\\data')\n",
    "files = os.listdir(path)\n",
    "for index, file in enumerate(files):\n",
    "    os.rename(os.path.join(path, file), os.path.join(path, ''.join(['EM_', str(file)])))"
   ]
  },
  {
   "cell_type": "code",
   "execution_count": null,
   "id": "64449687",
   "metadata": {},
   "outputs": [],
   "source": []
  }
 ],
 "metadata": {
  "kernelspec": {
   "display_name": "Python 3",
   "language": "python",
   "name": "python3"
  },
  "language_info": {
   "codemirror_mode": {
    "name": "ipython",
    "version": 3
   },
   "file_extension": ".py",
   "mimetype": "text/x-python",
   "name": "python",
   "nbconvert_exporter": "python",
   "pygments_lexer": "ipython3",
   "version": "3.8.5"
  }
 },
 "nbformat": 4,
 "nbformat_minor": 5
}
