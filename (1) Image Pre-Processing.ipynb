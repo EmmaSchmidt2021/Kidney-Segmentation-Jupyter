{
 "cells": [
  {
   "cell_type": "markdown",
   "id": "d068d387",
   "metadata": {},
   "source": [
    "# This code is meant to take the ImageJ raw files and convert them to .nii files\n",
    "## It will walk you through opening the files, zero padding them, renaming, and saving\n"
   ]
  },
  {
   "cell_type": "markdown",
   "id": "c676108c",
   "metadata": {},
   "source": [
    "### First import libraries\n",
    " For those new to Jupyter Notebook, use shift + enter to run the cell or the play button in the toolbar above\n"
   ]
  },
  {
   "cell_type": "code",
   "execution_count": 2,
   "id": "ca701563",
   "metadata": {},
   "outputs": [
    {
     "name": "stdout",
     "output_type": "stream",
     "text": [
      "-----------------------------------------\n",
      "keras-unet init: TF version is >= 2.0.0 - using `tf.keras` instead of `Keras`\n",
      "-----------------------------------------\n"
     ]
    }
   ],
   "source": [
    "import os\n",
    "import numpy as np\n",
    "import nibabel as nib\n",
    "import tensorflow as tf\n",
    "import matplotlib.pyplot as plt\n",
    "from skimage import measure\n",
    "from skimage.transform import resize\n",
    "from keras_unet.metrics import dice_coef\n",
    "from keras_unet.models import custom_unet\n",
    "from keras_unet.losses import jaccard_distance\n",
    "from sklearn.model_selection import train_test_split\n",
    "from PIL import Image\n",
    "from PIL import ImageOps\n",
    "import fnmatch\n",
    "import nibabel as nib\n",
    "import shutil"
   ]
  },
  {
   "cell_type": "markdown",
   "id": "4e6959f6",
   "metadata": {},
   "source": [
    "Here we are pre-defining some functions to use later"
   ]
  },
  {
   "cell_type": "code",
   "execution_count": 3,
   "id": "6c332f4b",
   "metadata": {},
   "outputs": [],
   "source": [
    "# figure out difference that needs to be made up in rows/columns\n",
    "def padding(img, expected_size):\n",
    "    desired_size = expected_size\n",
    "    delta_width = desired_size - img.size[0]\n",
    "    delta_height = desired_size - img.size[1]\n",
    "    pad_width = delta_width // 2\n",
    "    pad_height = delta_height // 2\n",
    "    padding = (pad_width, pad_height, delta_width - pad_width, delta_height - pad_height)\n",
    "    return ImageOps.expand(img, padding)\n",
    "\n",
    "#after calculating the padding, add in the padding to rows and columns to meet new expected size\n",
    "def resize_with_padding(img, expected_size):\n",
    "    img.thumbnail((expected_size[0], expected_size[1]))\n",
    "    # print(img.size)\n",
    "    delta_width = expected_size[0] - img.size[0]\n",
    "    delta_height = expected_size[1] - img.size[1]\n",
    "    pad_width = delta_width // 2\n",
    "    pad_height = delta_height // 2\n",
    "    padding = (pad_width, pad_height, delta_width - pad_width, delta_height - pad_height)\n",
    "    return ImageOps.expand(img, padding)"
   ]
  },
  {
   "cell_type": "code",
   "execution_count": 4,
   "id": "950cef0c",
   "metadata": {},
   "outputs": [],
   "source": [
    "def gather_by_name(orignal_path, new_path, phrase):\n",
    "    n=0\n",
    "    file_list=[]\n",
    "    for root, dirs, files in os.walk(os.path.normpath(original_path), topdown=True):\n",
    "        for name in files:\n",
    "            if phrase in name:\n",
    "                file_list.append(os.path.join(root,name))                \n",
    "                \n",
    "    for j in range(len(file_list)):\n",
    "        filename = file_list[j]\n",
    "        shutil.copy(filename, new_path)\n",
    "\n",
    "   \n",
    "\n",
    "    print('copied and moved '+ str(len(file_list))+' files')"
   ]
  },
  {
   "cell_type": "code",
   "execution_count": 5,
   "id": "f6bc8eb3",
   "metadata": {},
   "outputs": [],
   "source": [
    "def gather_filenames(path):\n",
    "    raw_path = path\n",
    "    patient_folders = []\n",
    "    pt_fnames = []\n",
    "\n",
    "    import os\n",
    "    for root, dirs, files in os.walk(os.path.normpath(raw_path), topdown=True):\n",
    "        for name in files: \n",
    "            #print(os.path.join(root, name))\n",
    "            pt_fnames.append(os.path.join(root, name))\n",
    "    print('\\nPatient Folders have been identified\\n')\n",
    "    #sort through and get only the files with ROI in them\n",
    "    #this eliminates the tiff and 3D files \n",
    "    #%%\n",
    "    ROI_list = []\n",
    "    for j in range(len(pt_fnames)):\n",
    "        ROI_name = 'ROI'\n",
    "        filename = os.path.basename(pt_fnames[j])\n",
    "        if ROI_name in filename:\n",
    "            ROI_list.append(pt_fnames[j])\n",
    "    print('\\nFilenames have been found and added\\n')\n",
    "    print('copied and moved '+ str(len(ROI_list))+' files')\n",
    "    \n",
    "    return ROI_list"
   ]
  },
  {
   "cell_type": "code",
   "execution_count": 6,
   "id": "f3be0fa2",
   "metadata": {},
   "outputs": [],
   "source": [
    "def convert_NPY_NII(ROI_list):\n",
    "    #new_size= new_size\n",
    "    print('Converting', str(len(ROI_list)), 'files')\n",
    "    for i in range(len(ROI_list)): # loop through all the available files from the list that had our keyword\n",
    "        orig_fname = os.path.basename(ROI_list[i])# grab the ith filename in the list\n",
    "        print(orig_fname)\n",
    "        #extract information from the filename\n",
    "        if orig_fname[0].isdigit(): \n",
    "            orig_fname = orig_fname\n",
    "        else:\n",
    "            orig_fname = orig_fname[3:]\n",
    "        num_slice = int(orig_fname[-3:])\n",
    "        #print(num_slice)\n",
    "        if num_slice < 15:\n",
    "            orig_fname = this_list[2]\n",
    "            num_slice = int(orig_fname[-3:])\n",
    "            num_width = int((orig_fname[-7:-4]))\n",
    "            #print(num_width)\n",
    "            num_height = int((orig_fname[-11:-8]))\n",
    "        elif num_slice < 50:\n",
    "            #print('over 99')\n",
    "            num_slice = int(orig_fname[-3:])\n",
    "            num_width = int((orig_fname[-8:-4]))\n",
    "            #print(num_width)\n",
    "            num_height = int((orig_fname[-12:-8]))\n",
    "            #print(num_height)\n",
    "        else:\n",
    "            #print('less than 99')\n",
    "            num_width = int((orig_fname[-7:-3]))\n",
    "            #print(num_width)\n",
    "            num_height = int((orig_fname[-11:-7]))\n",
    "            #print(num_height)\n",
    "        pt_numb =(orig_fname[0:6])\n",
    "        if orig_fname[8].isdigit():\n",
    "            yr_numb = (orig_fname[8])\n",
    "        else:\n",
    "            yr_numb = orig_fname[7]\n",
    "        if 'Cyst' in orig_fname:\n",
    "            img_type = 'C'\n",
    "        elif 'Kidney' in orig_fname:\n",
    "            img_type = 'M_K'\n",
    "        elif 'Image' in orig_fname:\n",
    "            img_type = 'M'\n",
    "        if 'Right' in orig_fname:\n",
    "            side = 'R'\n",
    "        elif 'Left' in orig_fname:\n",
    "            side = 'L'\n",
    "        call_file = str(ROI_list[i]) #define our filename with path to open (working_path+'/'+orig_fname)\n",
    "        resized = np.zeros((num_slice,new_size,new_size), dtype ='uint8')\n",
    "        transposed = np.zeros((new_size, new_size, num_slice), dtype='uint8')\n",
    "        with open(r'%s' %call_file, 'rb') as file: #read in raw uint8 and resize correctly\n",
    "             data = np.fromfile(file, dtype = 'uint8').reshape(num_slice,num_width,num_height)\n",
    "             for j in range(num_slice):\n",
    "                 orig_slice = data[j]\n",
    "                 re_slice = Image.fromarray(orig_slice)\n",
    "                 resized[j] = resize_with_padding(re_slice, (new_size, new_size))\n",
    "             for i in range(resized.shape[0]):\n",
    "                 old_slice = resized[i,:,:]\n",
    "                 transposed[:,:,i] = old_slice\n",
    "\n",
    "                 # now we need to rename this resized array and save it as a .npy\n",
    "        #new_fname = str('%s' %orig_fname + '_RESIZED_') #keep the original name for now \n",
    "        new_fname = str(pt_numb +'_'+ yr_numb +'_'+ str(num_slice) +'_'+ side + '_' +  img_type )\n",
    "        file_name = \"%s\" %new_fname # add our extension\n",
    "        np.save(os.path.join(new_path, file_name), transposed) # save in the new file folder\n",
    "        converted_array = np.array(transposed, dtype=np.float32)\n",
    "        affine = np.eye(4)\n",
    "        nifti_file = nib.Nifti1Image(converted_array, affine)\n",
    "        nib.save(nifti_file, os.path.join(final_path, \"%s\" %new_fname))\n",
    "\n",
    "\n",
    "    print(\"complete --- nice job\")"
   ]
  },
  {
   "cell_type": "markdown",
   "id": "40a8c7fd",
   "metadata": {},
   "source": [
    "## FilePath Input\n",
    "Fill in the filepaths for the raw data, the new path to store the npy files, and the final path for the images and annotations \n",
    "Make sure to fill out the new sizing as the complete size with zero padding"
   ]
  },
  {
   "cell_type": "code",
   "execution_count": 7,
   "id": "c6bfc69b",
   "metadata": {},
   "outputs": [],
   "source": [
    "raw_path = r'C:\\Users\\UAB\\data\\Mayo\\Original\\issues solved'\n",
    "new_path = r'C:\\Users\\UAB\\data\\Mayo\\Original\\issues converted'\n",
    "final_path = r'C:\\Users\\UAB\\data\\Mayo\\AllNII'\n",
    "cyst_path = r'C:\\Users\\UAB\\data\\Mayo\\Cyst'\n",
    "new_size = 512"
   ]
  },
  {
   "cell_type": "code",
   "execution_count": 8,
   "id": "d78f67ab",
   "metadata": {},
   "outputs": [],
   "source": [
    "#remove .tif files"
   ]
  },
  {
   "cell_type": "code",
   "execution_count": 9,
   "id": "91e0e233",
   "metadata": {},
   "outputs": [
    {
     "name": "stdout",
     "output_type": "stream",
     "text": [
      "\n",
      "Patient Folders have been identified\n",
      "\n",
      "\n",
      "Filenames have been found and added\n",
      "\n",
      "copied and moved 192 files\n"
     ]
    }
   ],
   "source": [
    "this_list = gather_filenames(raw_path)"
   ]
  },
  {
   "cell_type": "code",
   "execution_count": 10,
   "id": "87b8c414",
   "metadata": {},
   "outputs": [
    {
     "name": "stdout",
     "output_type": "stream",
     "text": [
      "133 175 128\n"
     ]
    }
   ],
   "source": [
    "orig_fname = this_list[2]\n",
    "num_slice = int(orig_fname[-3:])\n",
    "num_width = int((orig_fname[-7:-4]))\n",
    "            #print(num_width)\n",
    "num_height = int((orig_fname[-11:-8]))\n",
    "\n",
    "print(num_slice, num_width, num_height)"
   ]
  },
  {
   "cell_type": "code",
   "execution_count": 11,
   "id": "a295cd97",
   "metadata": {
    "scrolled": true
   },
   "outputs": [
    {
     "name": "stdout",
     "output_type": "stream",
     "text": [
      "192\n",
      "C:\\Users\\UAB\\data\\Mayo\\Original\\issues solved\\313307 0  Cyst ROI Right 8bit 125 168 133\n"
     ]
    }
   ],
   "source": [
    "print(len(this_list))\n",
    "print(this_list[1])"
   ]
  },
  {
   "cell_type": "code",
   "execution_count": 12,
   "id": "1398627b",
   "metadata": {
    "scrolled": true
   },
   "outputs": [
    {
     "name": "stdout",
     "output_type": "stream",
     "text": [
      "Converting 192 files\n",
      "313307 0  Cyst ROI Left 8bit 128 175 133\n",
      "313307 0  Cyst ROI Right 8bit 125 168 133\n",
      "313307 0  Image ROI Left 8bit 128 175 133\n",
      "313307 0  Image ROI Right 8bit 125 168 133\n",
      "313307 0  Kidney ROI Left 8bit 128 175 133\n",
      "313307 0  Kidney ROI Right 8bit 125 168 133\n",
      "313307 1  Cyst ROI Left 8bit 133 188 140\n",
      "313307 1  Cyst ROI Right 8bit 127 173 140\n",
      "313307 1  Image ROI Left 8bit 133 188 140\n",
      "313307 1  Image ROI Right 8bit 127 173 140\n",
      "313307 1  Kidney ROI Left 8bit 133 188 140\n",
      "313307 1  Kidney ROI Right 8bit 127 173 140\n",
      "313307 2 Cyst ROI Left 8bit 147 200 147\n",
      "313307 2 Cyst ROI Right 8bit 126 171 147\n",
      "313307 2 Image ROI Left 8bit 147 200 147\n",
      "313307 2 Image ROI Right 8bit 126 171 147\n",
      "313307 2 Kidney ROI Left 8bit 147 200 147\n",
      "313307 2 Kidney ROI Right 8bit 126 171 147\n",
      "313307 3 Cyst ROI Left 8bit 138 195 161\n",
      "313307 3 Cyst ROI Right 8bit 124 176 161\n",
      "313307 3 Image ROI Left 8bit 138 195 161\n",
      "313307 3 Image ROI Right 8bit 124 176 161\n",
      "313307 3 Kidney ROI Left 8bit 138 195 161\n",
      "313307 3 Kidney ROI Right 8bit 124 176 161\n",
      "313893 0 Cyst ROI Left 8bit 112 138 112\n",
      "313893 0 Cyst ROI Right 8bit 114 152 112\n",
      "313893 0 Image ROI Left 8bit 112 138 112\n",
      "313893 0 Image ROI Right 8bit 114 152 112\n",
      "313893 0 Kidney ROI Left 8bit 112 138 112\n",
      "313893 0 Kidney ROI Right 8bit 114 152 112\n",
      "313893 1  Kidney ROI Left 8bit 114 130 138\n",
      "313893 1  Kidney ROI Right 8bit 131 152 138\n",
      "313893 1 Cyst ROI Left 8bit 114 130 138\n",
      "313893 1 Cyst ROI Right 8bit 131 152 138\n",
      "313893 1 Image ROI Left 8bit 114 130 138\n",
      "313893 1 Image ROI Right 8bit 131 152 138\n",
      "313893 2 Cyst ROI Left 8bit 135 137 102\n",
      "313893 2 Cyst ROI Right 8bit 131 151 102\n",
      "313893 2 Image ROI Left 8bit 135 137 102\n",
      "313893 2 Image ROI Right 8bit 131 151 102\n",
      "313893 2 Kidney ROI Left 8bit 135 137 102\n",
      "313893 2 Kidney ROI Right 8bit 131 151 102\n",
      "313893 3 Cyst ROI Left 8bit 162 156 126\n",
      "313893 3 Cyst ROI Right 8bit 116 150 126\n",
      "313893 3 Image ROI Left 8bit 162 156 126\n",
      "313893 3 Image ROI Right 8bit 116 150 126\n",
      "313893 3 Kidney ROI Left 8bit 162 156 126\n",
      "313893 3 Kidney ROI Right 8bit 116 150 126\n",
      "316110 0 Cyst ROI Left 8bit 128 189 110\n",
      "316110 0 Cyst ROI Right 8bit 119 198 110\n",
      "316110 0 Image ROI Left 8bit 128 189 110\n",
      "316110 0 Image ROI Right 8bit 119 198 110\n",
      "316110 0 Kidney ROI Left 8bit 128 189 110\n",
      "316110 0 Kidney ROI Right 8bit 119 198 110\n",
      "316110 1  Cyst ROI Left 8bit 120 191 108\n",
      "316110 1  Cyst ROI Right 8bit 120 218 108\n",
      "316110 1  Image ROI Left 8bit 120 191 108\n",
      "316110 1  Image ROI Right 8bit 120 218 108\n",
      "316110 1  Kidney ROI Left 8bit 120 191 108\n",
      "316110 1  Kidney ROI Right 8bit 120 218 108\n",
      "316110 2 Cyst ROI Left 8bit 120 181 126\n",
      "316110 2 Cyst ROI Right 8bit 122 210 126\n",
      "316110 2 Image ROI Left 8bit 120 181 126\n",
      "316110 2 Image ROI Right 8bit 122 210 126\n",
      "316110 2 Kidney ROI Left 8bit 120 181 126\n",
      "316110 2 Kidney ROI Right 8bit 122 210 126\n",
      "316110 3 Cyst ROI Left 8bit 120 166 126\n",
      "316110 3 Cyst ROI Right 8bit 119 202 126\n",
      "316110 3 Image ROI Left 8bit 120 166 126\n",
      "316110 3 Image ROI Right 8bit 119 202 126\n",
      "316110 3 Kidney ROI Left 8bit 120 166 126\n",
      "316110 3 Kidney ROI Right 8bit 119 202 126\n",
      "318562 0 Cyst ROI Left 8bit 96 131 132\n",
      "318562 0 Cyst ROI Right 8bit 110 158 132\n",
      "318562 0 Image ROI Left 8bit 96 131 132\n",
      "318562 0 Image ROI Right 8bit 110 158 132\n",
      "318562 0 Kidney ROI Left 8bit 96 131 132\n",
      "318562 0 Kidney ROI Right 8bit 110 158 132\n",
      "318562 1  Cyst ROI Left 8bit 106 130 144\n",
      "318562 1  Cyst ROI Right 8bit 112 161 144\n",
      "318562 1  Image ROI Left 8bit 106 130 144\n",
      "318562 1  Image ROI Right 8bit 112 161 144\n",
      "318562 1  Kidney ROI Left 8bit 106 130 144\n",
      "318562 1  Kidney ROI Right 8bit 112 161 144\n",
      "318562 2  Cyst ROI Left 8bit 101 130 133\n",
      "318562 2 Cyst ROI Right 8bit 116 166 133\n",
      "318562 2 Image ROI Left 8bit 101 130 133\n",
      "318562 2 Image ROI Right 8bit 116 166 133\n",
      "318562 2 Kidney ROI Left 8bit 101 130 133\n",
      "318562 2 Kidney ROI Right 8bit 116 166 133\n",
      "318562 3 Cyst ROI Left 8bit 101 129 133\n",
      "318562 3 Cyst ROI Right 8bit 114 169 133\n",
      "318562 3 Image ROI Left 8bit 101 129 133\n",
      "318562 3 Image ROI Right 8bit 114 169 133\n",
      "318562 3 Kidney ROI Left 8bit 101 129 133\n",
      "318562 3 Kidney ROI Right 8bit 114 169 133\n",
      "327055 0 Cyst ROI Left 8bit 117 169 85\n",
      "327055 0 Cyst ROI Right 8bit 108 165 85\n",
      "327055 0 Image ROI Left 8bit 117 169 85\n",
      "327055 0 Image ROI Right 8bit 108 165 85\n",
      "327055 0 Kidney ROI Left 8bit 117 169 85\n",
      "327055 0 Kidney ROI Right 8bit 108 165 85\n",
      "327055 1  Cyst ROI Left 8bit 114 172 108\n",
      "327055 1  Cyst ROI Right 8bit 105 162 108\n",
      "327055 1  Image ROI Left 8bit 114 172 108\n",
      "327055 1  Image ROI Right 8bit 105 162 108\n",
      "327055 1  Kidney ROI Left 8bit 114 172 108\n",
      "327055 1  Kidney ROI Right 8bit 105 162 108\n",
      "327055 2  Cyst ROI Left 8bit 118 153 140\n",
      "327055 2  Cyst ROI Right 8bit 107 170 140\n",
      "327055 2  Image ROI Left 8bit 118 153 140\n",
      "327055 2  Image ROI Right 8bit 107 170 140\n",
      "327055 2  Kidney ROI Left 8bit 118 153 140\n",
      "327055 2  Kidney ROI Right 8bit 107 170 140\n",
      "327055 3 Cyst ROI Left 8bit 122 160 112\n",
      "327055 3 Cyst ROI Right 8bit 103 166 112\n",
      "327055 3 Image ROI Left 8bit 122 160 112\n",
      "327055 3 Image ROI Right 8bit 103 166 112\n",
      "327055 3 Kidney ROI Left 8bit 122 160 112\n",
      "327055 3 Kidney ROI Right 8bit 103 166 112\n",
      "359308 0 Cyst ROI Left 8bit 158 206 130\n",
      "359308 0 Cyst ROI Right 8bit 130 195 130\n",
      "359308 0 Image ROI Left 8bit 158 206 130\n",
      "359308 0 Image ROI Right 8bit 130 195 130\n",
      "359308 0 Kidney ROI Left 8bit 158 206 130\n",
      "359308 0 Kidney ROI Right 8bit 130 195 130\n",
      "359308 1 Cyst ROI Left 8bit 131 209 120\n",
      "359308 1 Cyst ROI Right 8bit 125 194 120\n",
      "359308 1 Image ROI Left 8bit 131 211 120\n",
      "359308 1 Image ROI Right 8bit 125 194 120\n",
      "359308 1 Kidney ROI Left 8bit 131 211 120\n",
      "359308 1 Kidney ROI Right 8bit 125 194 120\n",
      "359308 2 Cyst ROI Left 8bit 140 184 126\n",
      "359308 2 Cyst ROI Right 8bit 125 179 126\n",
      "359308 2 Image ROI Left 8bit 140 184 126\n",
      "359308 2 Image ROI Right 8bit 125 179 126\n",
      "359308 2 Kidney ROI Left 8bit 140 184 126\n",
      "359308 2 Kidney ROI Right 8bit 125 179 126\n",
      "359308 3 Cyst ROI Left 8bit 136 201 177\n",
      "359308 3 Cyst ROI Right 8bit 127 184 177\n",
      "359308 3 Image ROI Left 8bit 136 201 177\n",
      "359308 3 Image ROI Right 8bit 127 184 177\n",
      "359308 3 Kidney ROI Left 8bit 136 201 177\n",
      "359308 3 Kidney ROI Right 8bit 127 184 177\n",
      "364664 0 Cyst ROI Left 8bit 104 141 80\n",
      "364664 0 Cyst ROI Right 8bit 104 141 80\n",
      "364664 0 Image ROI Left 8bit 104 141 80\n",
      "364664 0 Image ROI Right 8bit 104 141 80\n",
      "364664 0 Kidney ROI Left 8bit 104 141 80\n",
      "364664 0 Kidney ROI Right 8bit 104 141 80\n",
      "364664 1  Cyst ROI Left 8bit 111 134 84\n",
      "364664 1  Cyst ROI Right 8bit 105 138 84\n",
      "364664 1  Image ROI Left 8bit 111 134 84\n",
      "364664 1  Image ROI Right 8bit 105 138 84\n",
      "364664 1  Kidney ROI Left 8bit 111 134 84\n",
      "364664 1  Kidney ROI Right 8bit 105 138 84\n",
      "364664 2 Cyst ROI Left 8bit 104 138 84\n",
      "364664 2 Cyst ROI Right 8bit 104 141 84\n",
      "364664 2 Image ROI Left 8bit 104 138 84\n",
      "364664 2 Image ROI Right 8bit 104 141 84\n",
      "364664 2 Kidney ROI Left 8bit 104 138 84\n",
      "364664 2 Kidney ROI Right 8bit 104 141 84\n",
      "364664 3 Cyst ROI Left 8bit 101 138 80\n",
      "364664 3 Cyst ROI Right 8bit 110 141 80\n",
      "364664 3 Image ROI Left 8bit 101 138 80\n",
      "364664 3 Image ROI Right 8bit 110 141 80\n",
      "364664 3 Kidney ROI Left 8bit 101 138 80\n",
      "364664 3 Kidney ROI Right 8bit 110 141 80\n",
      "371021 0 Cyst ROI Left 8bit 112 139 108\n",
      "371021 0 Cyst ROI Right 8bit 115 152 108\n",
      "371021 0 Image ROI Left 8bit 112 139 108\n",
      "371021 0 Image ROI Right 8bit 115 152 108\n",
      "371021 0 Kidney ROI Left 8bit 112 139 108\n",
      "371021 0 Kidney ROI Right 8bit 115 152 108\n",
      "371021 1 Cyst ROI Left 8bit 117 153 108\n",
      "371021 1 Cyst ROI Right 8bit 117 149 108\n",
      "371021 1 Image ROI Left 8bit 117 153 108\n",
      "371021 1 Image ROI Right 8bit 117 149 108\n",
      "371021 1 Kidney ROI Left 8bit 117 153 108\n",
      "371021 1 Kidney ROI Right 8bit 117 149 108\n",
      "371021 2 Cyst ROI Left 8bit 114 141 133\n",
      "371021 2 Cyst ROI Right 8bit 120 159 133\n",
      "371021 2 Image ROI Left 8bit 114 141 133\n",
      "371021 2 Image ROI Right 8bit 120 159 133\n",
      "371021 2 Kidney ROI Left 8bit 114 141 133\n",
      "371021 2 Kidney ROI Right 8bit 120 159 133\n",
      "371021 3 Cyst ROI Left 8bit 118 146 105\n",
      "371021 3 Cyst ROI Right 8bit 127 155 105\n",
      "371021 3 Image ROI Left 8bit 118 146 105\n",
      "371021 3 Image ROI Right 8bit 127 155 105\n",
      "371021 3 Kidney ROI Left 8bit 118 146 105\n",
      "371021 3 Kidney ROI Right 8bit 127 155 105\n",
      "complete --- nice job\n"
     ]
    }
   ],
   "source": [
    "convert_NPY_NII(this_list) "
   ]
  },
  {
   "cell_type": "markdown",
   "id": "f781ee2f",
   "metadata": {},
   "source": [
    "## Re-assign Masks\n",
    "Move the masks to a new location in the file structure desired"
   ]
  },
  {
   "cell_type": "code",
   "execution_count": 13,
   "id": "500fea14",
   "metadata": {},
   "outputs": [],
   "source": [
    "path = new_path\n",
    "cyst_path = cyst_path\n",
    "cyst_names=[]\n",
    "for root, dirs, files in os.walk(os.path.normpath(path), topdown=True):\n",
    "    for name in files:\n",
    "        #print(os.path.join(root, name))\n",
    "        cyst_names.append(os.path.join(root, name))\n",
    "\n",
    "C_list = []\n",
    "for j in range(len(cyst_names)):\n",
    "    C_name = '_C'\n",
    "    filename = os.path.basename(cyst_names[j])\n",
    "    if C_name in filename:\n",
    "        C_list.append(cyst_names[j])\n",
    "\n",
    "for i in range(len(C_list)):\n",
    "    shutil.move(C_list[i],cyst_path )"
   ]
  },
  {
   "cell_type": "markdown",
   "id": "121d1532",
   "metadata": {},
   "source": [
    "# Save as single slices\n"
   ]
  },
  {
   "cell_type": "code",
   "execution_count": 14,
   "id": "f5b0cf05",
   "metadata": {},
   "outputs": [],
   "source": [
    "def gather_set(data_path, phrase):\n",
    "    set_of = []\n",
    "    path = data_path + '\\\\'\n",
    "    for f in os.listdir(data_path):\n",
    "      if phrase in f:\n",
    "        set_of.append(f)\n",
    "      else:\n",
    "        continue\n",
    "    set_of = np.array(set_of)\n",
    "\n",
    "    indices = np.array(range(len(set_of))) # we will use this in the next step.\n",
    "\n",
    "    return set_of\n",
    "\n"
   ]
  },
  {
   "cell_type": "code",
   "execution_count": 15,
   "id": "554b07b5",
   "metadata": {},
   "outputs": [],
   "source": [
    "data_path = r\"C:\\Users\\UAB\\data\\Mayo\\Original\\issues converted\"\n",
    "new_path = r\"C:\\Users\\UAB\\data\\Mayo\\data\"\n",
    "\n",
    "\n",
    "labels = gather_set(data_path, '_K')\n",
    "\n",
    "\n",
    "for i in range(len(labels)):\n",
    "    working_img = np.load(data_path + '\\\\' + labels[i])\n",
    "    file_name = labels[i][:-7]\n",
    "    for j in range(working_img.shape[-1]):\n",
    "        save_slice = working_img[:,:,j]\n",
    "        new_fname = str(file_name + str(j) +'_K')\n",
    "        np.save(os.path.join(new_path, new_fname), save_slice)\n",
    "        \n"
   ]
  },
  {
   "cell_type": "code",
   "execution_count": 16,
   "id": "316d7157",
   "metadata": {},
   "outputs": [],
   "source": [
    "images = gather_set(data_path, '_M.')\n",
    "for i in range(len(images)):\n",
    "    working_img = np.load(data_path + '\\\\' + images[i])\n",
    "    file_name = images[i][:-5]\n",
    "    for j in range(working_img.shape[-1]):\n",
    "        save_slice = working_img[:,:,j]\n",
    "        new_fname = str(file_name + str(j) +'_M')\n",
    "        np.save(os.path.join(new_path, new_fname), save_slice)"
   ]
  },
  {
   "cell_type": "code",
   "execution_count": 17,
   "id": "3e28d459",
   "metadata": {},
   "outputs": [],
   "source": [
    "data_path = r'C:\\Users\\UAB\\data\\Mayo\\data'\n",
    "final_path = r'C:\\Users\\UAB\\data\\Mayo\\data'\n",
    "kidney_non = gather_set(data_path, '_K')"
   ]
  },
  {
   "cell_type": "code",
   "execution_count": null,
   "id": "5cd55373",
   "metadata": {},
   "outputs": [],
   "source": [
    "seg_list=kidney_non\n",
    "\n",
    "for i in range(len(seg_list)):\n",
    "    segment = nib.load(data_path+\"\\\\\"+seg_list[i])\n",
    "    seg_data = segment.get_fdata()\n",
    "    binarized = np.where(seg_data>1,1,seg_data)\n",
    "    affine = np.eye(4)\n",
    "    nifti_file = nib.Nifti1Image(binarized, affine)\n",
    "    nib.save(nifti_file, os.path.join(final_path, \"%s\" %seg_list[i]))\n",
    "    "
   ]
  },
  {
   "cell_type": "code",
   "execution_count": null,
   "id": "aeb0d0c7",
   "metadata": {},
   "outputs": [],
   "source": [
    "import nibabel as nib\n",
    "new_path = r\"C:\\Users\\UAB\\Kidney-Segmentation-Jupyter\\data\\TwoDim\"\n",
    "for i in range(len(images)):\n",
    "    working_img = nib.load(data_path + '\\\\' + images[i])\n",
    "    working_img = working_img.get_fdata()\n",
    "    file_name = images[i][:-5]\n",
    "    for j in range(working_img.shape[-1]):\n",
    "        save_slice = working_img[:,:,j]\n",
    "        new_fname = str(file_name + str(j) +'_M')\n",
    "        np.save(os.path.join(new_path, new_fname), save_slice)"
   ]
  },
  {
   "cell_type": "code",
   "execution_count": null,
   "id": "2becc54a",
   "metadata": {},
   "outputs": [],
   "source": [
    "for i in range(len(labels)):\n",
    "    working_img = nib.load(data_path + '\\\\' + labels[i])\n",
    "    working_img = working_img.get_fdata()\n",
    "    file_name = labels[i][:-7]\n",
    "    for j in range(working_img.shape[-1]):\n",
    "        save_slice = working_img[:,:,j]\n",
    "        new_fname = str(file_name + str(j) +'_K')\n",
    "        np.save(os.path.join(new_path, new_fname), save_slice)"
   ]
  },
  {
   "cell_type": "code",
   "execution_count": 62,
   "id": "f8b804f5",
   "metadata": {},
   "outputs": [],
   "source": [
    "data_path = r\"C:\\Users\\UAB\\data\\UAB\\AllNPY\"\n",
    "\n",
    "images = gather_set(data_path, '_M.')\n",
    "labels = gather_set(data_path, '_K')\n"
   ]
  },
  {
   "cell_type": "markdown",
   "id": "f65d6500",
   "metadata": {},
   "source": [
    "## Binarize masks\n",
    "first gather the set based on the naming convention above, then binarize and save in a different location"
   ]
  },
  {
   "cell_type": "code",
   "execution_count": 18,
   "id": "873ac98b",
   "metadata": {},
   "outputs": [],
   "source": [
    "final_path = r\"C:\\Users\\UAB\\data\\Mayo\\data\"\n",
    "seg_list = gather_set(final_path, '_K')\n",
    "\n",
    "\n",
    "for i in range(len(seg_list)):\n",
    "    seg_data = np.load(final_path+\"\\\\\"+seg_list[i])\n",
    "    file_name = seg_list[i][:-4]\n",
    "    binarized = np.where(seg_data>1,1,seg_data)\n",
    "    np.save(os.path.join(final_path, file_name), binarized)"
   ]
  },
  {
   "cell_type": "code",
   "execution_count": 18,
   "id": "fcd3c175",
   "metadata": {},
   "outputs": [
    {
     "name": "stdout",
     "output_type": "stream",
     "text": [
      "864\n"
     ]
    }
   ],
   "source": [
    "print(len(seg_list))"
   ]
  },
  {
   "cell_type": "markdown",
   "id": "348d4bb2",
   "metadata": {},
   "source": [
    "check sizes and range\n"
   ]
  },
  {
   "cell_type": "code",
   "execution_count": 19,
   "id": "9b64c744",
   "metadata": {},
   "outputs": [
    {
     "name": "stdout",
     "output_type": "stream",
     "text": [
      "93 (512, 512)\n",
      "1 (512, 512)\n"
     ]
    }
   ],
   "source": [
    "image_test = np.load(r\"C:\\Users\\UAB\\data\\Mayo\\data\\359308_2_126_R_66_M.npy\")\n",
    "print(image_test.max(), image_test.shape)\n",
    "label_test = np.load(r\"C:\\Users\\UAB\\data\\Mayo\\data\\359308_2_126_R_66_K.npy\")\n",
    "print(label_test.max(), label_test.shape)"
   ]
  },
  {
   "cell_type": "code",
   "execution_count": 20,
   "id": "81563495",
   "metadata": {},
   "outputs": [
    {
     "data": {
      "text/plain": [
       "<matplotlib.image.AxesImage at 0x2b0ccc1b790>"
      ]
     },
     "execution_count": 20,
     "metadata": {},
     "output_type": "execute_result"
    },
    {
     "data": {
      "image/png": "[encoded data removed]",
      "text/plain": [
       "<Figure size 640x480 with 1 Axes>"
      ]
     },
     "metadata": {},
     "output_type": "display_data"
    }
   ],
   "source": [
    "%matplotlib inline\n",
    "\n",
    "plt.imshow(image_test, cmap='gray')"
   ]
  },
  {
   "cell_type": "code",
   "execution_count": 21,
   "id": "9b358474",
   "metadata": {},
   "outputs": [
    {
     "data": {
      "text/plain": [
       "<matplotlib.image.AxesImage at 0x2b0cce2d580>"
      ]
     },
     "execution_count": 21,
     "metadata": {},
     "output_type": "execute_result"
    },
    {
     "data": {
      "image/png": "[encoded data removed]",
      "text/plain": [
       "<Figure size 640x480 with 1 Axes>"
      ]
     },
     "metadata": {},
     "output_type": "display_data"
    }
   ],
   "source": [
    "plt.imshow(label_test, cmap='gray')"
   ]
  },
  {
   "cell_type": "code",
   "execution_count": 119,
   "id": "f03d87a7",
   "metadata": {},
   "outputs": [],
   "source": [
    "def convert_NPY_NII_small(ROI_list):\n",
    "    #new_size= new_size\n",
    "    print('Converting', str(len(ROI_list)), 'files')\n",
    "    for i in range(len(ROI_list)): # loop through all the available files from the list that had our keyword\n",
    "        orig_fname = os.path.basename(ROI_list[i])# grab the ith filename in the list\n",
    "        print(orig_fname)\n",
    "        #extract information from the filename\n",
    "        if orig_fname[0].isdigit(): \n",
    "            orig_fname = orig_fname\n",
    "        else:\n",
    "            orig_fname = orig_fname[3:]\n",
    "        num_slice = int(orig_fname[-3:])\n",
    "        #print(num_slice)\n",
    "        if num_slice < 15:\n",
    "            orig_fname = this_list[2]\n",
    "            num_slice = int(orig_fname[-3:])\n",
    "            num_width = int((orig_fname[-7:-4]))\n",
    "            #print(num_width)\n",
    "            num_height = int((orig_fname[-11:-8]))\n",
    "        elif num_slice < 50:\n",
    "            #print('over 99')\n",
    "            num_slice = int(orig_fname[-3:])\n",
    "            num_width = int((orig_fname[-8:-4]))\n",
    "            #print(num_width)\n",
    "            num_height = int((orig_fname[-12:-8]))\n",
    "            #print(num_height)\n",
    "        else:\n",
    "            #print('less than 99')\n",
    "            num_width = int((orig_fname[-7:-3]))\n",
    "            #print(num_width)\n",
    "            num_height = int((orig_fname[-10:-7]))\n",
    "            #print(num_height)\n",
    "        pt_numb =(orig_fname[0:6])\n",
    "        yr_numb = (orig_fname[8])\n",
    "        if 'Cyst' in orig_fname:\n",
    "            img_type = 'C'\n",
    "        elif 'Kidney' in orig_fname:\n",
    "            img_type = 'M_K'\n",
    "        elif 'Image' in orig_fname:\n",
    "            img_type = 'M'\n",
    "        if 'Right' in orig_fname:\n",
    "            side = 'R'\n",
    "        elif 'Left' in orig_fname:\n",
    "            side = 'L'\n",
    "        call_file = str(ROI_list[i]) #define our filename with path to open (working_path+'/'+orig_fname)\n",
    "        resized = np.zeros((num_slice,new_size,new_size), dtype ='uint8')\n",
    "        transposed = np.zeros((new_size, new_size, num_slice), dtype='uint8')\n",
    "        with open(r'%s' %call_file, 'rb') as file: #read in raw uint8 and resize correctly\n",
    "             data = np.fromfile(file, dtype = 'uint8').reshape(num_slice,num_width,num_height)\n",
    "             for j in range(num_slice):\n",
    "                 orig_slice = data[j]\n",
    "                 re_slice = Image.fromarray(orig_slice)\n",
    "                 resized[j] = resize_with_padding(re_slice, (new_size, new_size))\n",
    "             for i in range(resized.shape[0]):\n",
    "                 old_slice = resized[i,:,:]\n",
    "                 transposed[:,:,i] = old_slice\n",
    "\n",
    "                 # now we need to rename this resized array and save it as a .npy\n",
    "        #new_fname = str('%s' %orig_fname + '_RESIZED_') #keep the original name for now \n",
    "        new_fname = str(pt_numb +'_'+ yr_numb +'_'+ str(num_slice) +'_'+ side + '_' +  img_type )\n",
    "        file_name = \"%s\" %new_fname # add our extension\n",
    "        np.save(os.path.join(new_path, file_name), transposed) # save in the new file folder\n",
    "        converted_array = np.array(transposed, dtype=np.float32)\n",
    "        affine = np.eye(4)\n",
    "        nifti_file = nib.Nifti1Image(converted_array, affine)\n",
    "        nib.save(nifti_file, os.path.join(final_path, \"%s\" %new_fname))\n",
    "\n",
    "\n",
    "    print(\"complete --- nice job\")"
   ]
  },
  {
   "cell_type": "code",
   "execution_count": 120,
   "id": "40a15ec2",
   "metadata": {
    "scrolled": false
   },
   "outputs": [
    {
     "name": "stdout",
     "output_type": "stream",
     "text": [
      "\n",
      "Patient Folders have been identified\n",
      "\n",
      "\n",
      "Filenames have been found and added\n",
      "\n",
      "copied and moved 18 files\n",
      "Converting 18 files\n",
      "246620 y0 Cyst ROI Left 8bit 98 131 90\n",
      "246620 y0 Image ROI Left 8bit 98 131 90\n",
      "246620 y0 Kidney ROI Left 8bit 98 131 90\n",
      "246620 y1 Cyst ROI Left 8bit 99 130 90\n",
      "246620 y1 Image ROI Left 8bit 99 130 90\n",
      "246620 y1 Kidney ROI Left 8bit 99 130 90\n",
      "246620 y3 Cyst ROI Left 8bit 94 131 90\n",
      "246620 y3 Image ROI Left 8bit 94 131 90\n",
      "246620 y3 Kidney ROI Left 8bit 94 131 90\n",
      "265171 y2 Cyst ROI Left 8bit 98 142 90\n",
      "265171 y2 Cyst ROI Right 8bit 99 146 90\n",
      "265171 y2 Image ROI Left 8bit 98 142 90\n",
      "265171 y2 Image ROI Right 8bit 99 146 90\n",
      "265171 y2 Kidney ROI Left 8bit 98 142 90\n",
      "265171 y2 Kidney ROI Right 8bit 99 146 90\n",
      "265171 y3 Cyst ROI Left 8bit 95 141 96\n",
      "265171 y3 Image ROI Left 8bit 95 141 96\n",
      "265171 y3 Kidney ROI Left 8bit 95 141 96\n",
      "complete --- nice job\n"
     ]
    }
   ],
   "source": [
    "raw_path = r'C:\\Users\\UAB\\data\\Emory\\issues'\n",
    "new_path = r'C:\\Users\\UAB\\data\\Emory\\npy'\n",
    "final_path = r'C:\\Users\\UAB\\data\\Emory\\nii'\n",
    "cyst_path = r'C:\\Users\\UAB\\data\\Emory\\c'\n",
    "new_size = 512\n",
    "\n",
    "this_list = gather_filenames(raw_path)\n",
    "\n",
    "\n",
    "convert_NPY_NII_small(this_list) \n"
   ]
  },
  {
   "cell_type": "code",
   "execution_count": 121,
   "id": "9cd2d9e3",
   "metadata": {},
   "outputs": [],
   "source": [
    "\n",
    "    \n",
    "data_path = r\"C:\\Users\\UAB\\data\\Emory\\npy\"\n",
    "new_path = r\"C:\\Users\\UAB\\data\\Emory\\new\"\n",
    "\n",
    "\n",
    "labels = gather_set(data_path, '_K')\n",
    "\n",
    "\n",
    "for i in range(len(labels)):\n",
    "    working_img = np.load(data_path + '\\\\' + labels[i])\n",
    "    file_name = labels[i][:-7]\n",
    "    for j in range(working_img.shape[-1]):\n",
    "        save_slice = working_img[:,:,j]\n",
    "        new_fname = str(file_name + str(j) +'_K')\n",
    "        np.save(os.path.join(new_path, new_fname), save_slice)"
   ]
  },
  {
   "cell_type": "code",
   "execution_count": 122,
   "id": "d5a06286",
   "metadata": {},
   "outputs": [],
   "source": [
    "images = gather_set(data_path, '_M.')\n",
    "for i in range(len(images)):\n",
    "    working_img = np.load(data_path + '\\\\' + images[i])\n",
    "    file_name = images[i][:-5]\n",
    "    for j in range(working_img.shape[-1]):\n",
    "        save_slice = working_img[:,:,j]\n",
    "        new_fname = str(file_name + str(j) +'_M')\n",
    "        np.save(os.path.join(new_path, new_fname), save_slice)"
   ]
  },
  {
   "cell_type": "code",
   "execution_count": null,
   "id": "67c6e357",
   "metadata": {},
   "outputs": [],
   "source": [
    "final_path = r\"C:\\Users\\UAB\\data\\Emory\\new\"\n",
    "seg_list = gather_set(final_path, '_K')\n",
    "\n",
    "\n",
    "for i in range(len(seg_list)):\n",
    "    seg_data = np.load(final_path+\"\\\\\"+seg_list[i])\n",
    "    file_name = seg_list[i][:-4]\n",
    "    binarized = np.where(seg_data>1,1,seg_data)\n",
    "    np.save(os.path.join(final_path, file_name), binarized)"
   ]
  },
  {
   "cell_type": "code",
   "execution_count": 80,
   "id": "3c82eb03",
   "metadata": {},
   "outputs": [
    {
     "name": "stdout",
     "output_type": "stream",
     "text": [
      "249 (512, 512)\n",
      "1 (512, 512)\n"
     ]
    }
   ],
   "source": [
    "image_test = np.load(r\"C:\\Users\\UAB\\data\\Mayo\\Original\\Pt 303868\\new\\303868_0_87_L_30_M.npy\")\n",
    "print(image_test.max(), image_test.shape)\n",
    "label_test = np.load(r\"C:\\Users\\UAB\\data\\Mayo\\Original\\Pt 303868\\new\\303868_0_87_L_30_K.npy\")\n",
    "print(label_test.max(), label_test.shape)"
   ]
  },
  {
   "cell_type": "code",
   "execution_count": 84,
   "id": "b6ceacdc",
   "metadata": {},
   "outputs": [
    {
     "data": {
      "text/plain": [
       "<matplotlib.image.AxesImage at 0x20e003eaeb0>"
      ]
     },
     "execution_count": 84,
     "metadata": {},
     "output_type": "execute_result"
    },
    {
     "data": {
      "image/png": "[encoded data removed]",
      "text/plain": [
       "<Figure size 640x480 with 1 Axes>"
      ]
     },
     "metadata": {},
     "output_type": "display_data"
    }
   ],
   "source": [
    "plt.imshow(image_test, cmap='gray')\n"
   ]
  },
  {
   "cell_type": "code",
   "execution_count": 83,
   "id": "fa3a2c0b",
   "metadata": {},
   "outputs": [
    {
     "data": {
      "text/plain": [
       "<matplotlib.image.AxesImage at 0x20e00396f70>"
      ]
     },
     "execution_count": 83,
     "metadata": {},
     "output_type": "execute_result"
    },
    {
     "data": {
      "image/png": "[encoded data removed]",
      "text/plain": [
       "<Figure size 640x480 with 1 Axes>"
      ]
     },
     "metadata": {},
     "output_type": "display_data"
    }
   ],
   "source": [
    "plt.imshow(label_test, cmap='gray')"
   ]
  },
  {
   "cell_type": "code",
   "execution_count": 3,
   "id": "0ead8c39",
   "metadata": {},
   "outputs": [],
   "source": [
    "import os\n",
    "\n",
    "directory = os.path.abspath(r'')\n",
    "\n",
    "for files in os.listdir(directory):\n",
    "    os.rename(files, str('MA_'+files))"
   ]
  },
  {
   "cell_type": "code",
   "execution_count": 4,
   "id": "a78af4e4",
   "metadata": {},
   "outputs": [
    {
     "ename": "FileNotFoundError",
     "evalue": "[WinError 2] The system cannot find the file specified: '200922_0_144_L_0_K.npy' -> 'EM_200922_0_144_L_0_K.npy'",
     "output_type": "error",
     "traceback": [
      "\u001b[1;31m---------------------------------------------------------------------------\u001b[0m",
      "\u001b[1;31mFileNotFoundError\u001b[0m                         Traceback (most recent call last)",
      "\u001b[1;32m<ipython-input-4-a40d1d45e38b>\u001b[0m in \u001b[0;36m<module>\u001b[1;34m\u001b[0m\n\u001b[0;32m      1\u001b[0m \u001b[1;32mfor\u001b[0m \u001b[0mfilename\u001b[0m \u001b[1;32min\u001b[0m \u001b[0mos\u001b[0m\u001b[1;33m.\u001b[0m\u001b[0mlistdir\u001b[0m\u001b[1;33m(\u001b[0m\u001b[0mdirectory\u001b[0m\u001b[1;33m)\u001b[0m\u001b[1;33m:\u001b[0m\u001b[1;33m\u001b[0m\u001b[1;33m\u001b[0m\u001b[0m\n\u001b[1;32m----> 2\u001b[1;33m     \u001b[0mos\u001b[0m\u001b[1;33m.\u001b[0m\u001b[0mrename\u001b[0m\u001b[1;33m(\u001b[0m\u001b[0mfilename\u001b[0m\u001b[1;33m,\u001b[0m \u001b[0mstr\u001b[0m\u001b[1;33m(\u001b[0m\u001b[1;34m'EM_'\u001b[0m\u001b[1;33m+\u001b[0m \u001b[0mfilename\u001b[0m\u001b[1;33m)\u001b[0m\u001b[1;33m)\u001b[0m\u001b[1;33m\u001b[0m\u001b[1;33m\u001b[0m\u001b[0m\n\u001b[0m",
      "\u001b[1;31mFileNotFoundError\u001b[0m: [WinError 2] The system cannot find the file specified: '200922_0_144_L_0_K.npy' -> 'EM_200922_0_144_L_0_K.npy'"
     ]
    }
   ],
   "source": [
    "\n"
   ]
  },
  {
   "cell_type": "code",
   "execution_count": null,
   "id": "28ba0556",
   "metadata": {},
   "outputs": [],
   "source": []
  }
 ],
 "metadata": {
  "kernelspec": {
   "display_name": "Python 3",
   "language": "python",
   "name": "python3"
  },
  "language_info": {
   "codemirror_mode": {
    "name": "ipython",
    "version": 3
   },
   "file_extension": ".py",
   "mimetype": "text/x-python",
   "name": "python",
   "nbconvert_exporter": "python",
   "pygments_lexer": "ipython3",
   "version": "3.8.5"
  }
 },
 "nbformat": 4,
 "nbformat_minor": 5
}
