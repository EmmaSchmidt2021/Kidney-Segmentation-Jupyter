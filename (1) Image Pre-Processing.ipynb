{
 "cells": [
  {
   "cell_type": "markdown",
   "id": "d068d387",
   "metadata": {},
   "source": [
    "# This code is meant to take the ImageJ raw files and convert them to .nii files\n",
    "## It will walk you through opening the files, zero padding them, renaming, and saving\n"
   ]
  },
  {
   "cell_type": "markdown",
   "id": "c676108c",
   "metadata": {},
   "source": [
    "### First import libraries\n",
    " For those new to Jupyter Notebook, use shift + enter to run the cell or the play button in the toolbar above\n"
   ]
  },
  {
   "cell_type": "code",
   "execution_count": 1,
   "id": "ca701563",
   "metadata": {},
   "outputs": [
    {
     "name": "stdout",
     "output_type": "stream",
     "text": [
      "-----------------------------------------\n",
      "keras-unet init: TF version is >= 2.0.0 - using `tf.keras` instead of `Keras`\n",
      "-----------------------------------------\n"
     ]
    }
   ],
   "source": [
    "import os\n",
    "import numpy as np\n",
    "import nibabel as nib\n",
    "import tensorflow as tf\n",
    "import matplotlib.pyplot as plt\n",
    "from skimage import measure\n",
    "from skimage.transform import resize\n",
    "from keras_unet.metrics import dice_coef\n",
    "from keras_unet.models import custom_unet\n",
    "from keras_unet.losses import jaccard_distance\n",
    "from sklearn.model_selection import train_test_split\n",
    "from PIL import Image\n",
    "from PIL import ImageOps\n",
    "import fnmatch\n",
    "import nibabel as nib\n",
    "import shutil"
   ]
  },
  {
   "cell_type": "markdown",
   "id": "4e6959f6",
   "metadata": {},
   "source": [
    "Here we are pre-defining some functions to use later"
   ]
  },
  {
   "cell_type": "code",
   "execution_count": 2,
   "id": "6c332f4b",
   "metadata": {},
   "outputs": [],
   "source": [
    "# figure out difference that needs to be made up in rows/columns\n",
    "def padding(img, expected_size):\n",
    "    desired_size = expected_size\n",
    "    delta_width = desired_size - img.size[0]\n",
    "    delta_height = desired_size - img.size[1]\n",
    "    pad_width = delta_width // 2\n",
    "    pad_height = delta_height // 2\n",
    "    padding = (pad_width, pad_height, delta_width - pad_width, delta_height - pad_height)\n",
    "    return ImageOps.expand(img, padding)\n",
    "\n",
    "#after calculating the padding, add in the padding to rows and columns to meet new expected size\n",
    "def resize_with_padding(img, expected_size):\n",
    "    img.thumbnail((expected_size[0], expected_size[1]))\n",
    "    # print(img.size)\n",
    "    delta_width = expected_size[0] - img.size[0]\n",
    "    delta_height = expected_size[1] - img.size[1]\n",
    "    pad_width = delta_width // 2\n",
    "    pad_height = delta_height // 2\n",
    "    padding = (pad_width, pad_height, delta_width - pad_width, delta_height - pad_height)\n",
    "    return ImageOps.expand(img, padding)"
   ]
  },
  {
   "cell_type": "code",
   "execution_count": 3,
   "id": "950cef0c",
   "metadata": {},
   "outputs": [],
   "source": [
    "def gather_by_name(orignal_path, new_path, phrase):\n",
    "    n=0\n",
    "    file_list=[]\n",
    "    for root, dirs, files in os.walk(os.path.normpath(original_path), topdown=True):\n",
    "        for name in files:\n",
    "            if phrase in name:\n",
    "                file_list.append(os.path.join(root,name))                \n",
    "                \n",
    "    for j in range(len(file_list)):\n",
    "        filename = file_list[j]\n",
    "        shutil.copy(filename, new_path)\n",
    "\n",
    "   \n",
    "\n",
    "    print('copied and moved '+ str(len(file_list))+' files')"
   ]
  },
  {
   "cell_type": "code",
   "execution_count": 4,
   "id": "f6bc8eb3",
   "metadata": {},
   "outputs": [],
   "source": [
    "def gather_filenames(path):\n",
    "    raw_path = path\n",
    "    patient_folders = []\n",
    "    pt_fnames = []\n",
    "\n",
    "    import os\n",
    "    for root, dirs, files in os.walk(os.path.normpath(raw_path), topdown=True):\n",
    "        for name in files: \n",
    "            #print(os.path.join(root, name))\n",
    "            pt_fnames.append(os.path.join(root, name))\n",
    "    print('\\nPatient Folders have been identified\\n')\n",
    "    #sort through and get only the files with ROI in them\n",
    "    #this eliminates the tiff and 3D files \n",
    "    #%%\n",
    "    ROI_list = []\n",
    "    for j in range(len(pt_fnames)):\n",
    "        ROI_name = 'ROI'\n",
    "        filename = os.path.basename(pt_fnames[j])\n",
    "        if ROI_name in filename:\n",
    "            ROI_list.append(pt_fnames[j])\n",
    "    print('\\nFilenames have been found and added\\n')\n",
    "    print('copied and moved '+ str(len(ROI_list))+' files')\n",
    "    \n",
    "    return ROI_list"
   ]
  },
  {
   "cell_type": "code",
   "execution_count": 5,
   "id": "f3be0fa2",
   "metadata": {},
   "outputs": [],
   "source": [
    "def convert_NPY_NII(ROI_list):\n",
    "    #new_size= new_size\n",
    "    print('Converting', str(len(ROI_list)), 'files')\n",
    "    for i in range(len(ROI_list)): # loop through all the available files from the list that had our keyword\n",
    "        orig_fname = os.path.basename(ROI_list[i])# grab the ith filename in the list\n",
    "        print(orig_fname)\n",
    "        #extract information from the filename\n",
    "        if orig_fname[0].isdigit(): \n",
    "            orig_fname = orig_fname\n",
    "        else:\n",
    "            orig_fname = orig_fname[3:]\n",
    "        num_slice = int(orig_fname[-3:])\n",
    "        #print(num_slice)\n",
    "        if num_slice < 15:\n",
    "            orig_fname = this_list[2]\n",
    "            num_slice = int(orig_fname[-3:])\n",
    "            num_width = int((orig_fname[-7:-4]))\n",
    "            #print(num_width)\n",
    "            num_height = int((orig_fname[-11:-8]))\n",
    "        elif num_slice < 50:\n",
    "            #print('over 99')\n",
    "            num_slice = int(orig_fname[-3:])\n",
    "            num_width = int((orig_fname[-8:-4]))\n",
    "            #print(num_width)\n",
    "            num_height = int((orig_fname[-12:-8]))\n",
    "            #print(num_height)\n",
    "        else:\n",
    "            #print('less than 99')\n",
    "            num_width = int((orig_fname[-7:-3]))\n",
    "            #print(num_width)\n",
    "            num_height = int((orig_fname[-11:-7]))\n",
    "            #print(num_height)\n",
    "        pt_numb =(orig_fname[0:6])\n",
    "        if orig_fname[8].isdigit():\n",
    "            yr_numb = (orig_fname[8])\n",
    "        else:\n",
    "            yr_numb = orig_fname[7]\n",
    "        if 'Cyst' in orig_fname:\n",
    "            img_type = 'C'\n",
    "        elif 'Kidney' in orig_fname:\n",
    "            img_type = 'M_K'\n",
    "        elif 'Image' in orig_fname:\n",
    "            img_type = 'M'\n",
    "        if 'Right' in orig_fname:\n",
    "            side = 'R'\n",
    "        elif 'Left' in orig_fname:\n",
    "            side = 'L'\n",
    "        call_file = str(ROI_list[i]) #define our filename with path to open (working_path+'/'+orig_fname)\n",
    "        resized = np.zeros((num_slice,new_size,new_size), dtype ='uint8')\n",
    "        transposed = np.zeros((new_size, new_size, num_slice), dtype='uint8')\n",
    "        with open(r'%s' %call_file, 'rb') as file: #read in raw uint8 and resize correctly\n",
    "             data = np.fromfile(file, dtype = 'uint8').reshape(num_slice,num_width,num_height)\n",
    "             for j in range(num_slice):\n",
    "                 orig_slice = data[j]\n",
    "                 re_slice = Image.fromarray(orig_slice)\n",
    "                 resized[j] = resize_with_padding(re_slice, (new_size, new_size))\n",
    "             for i in range(resized.shape[0]):\n",
    "                 old_slice = resized[i,:,:]\n",
    "                 transposed[:,:,i] = old_slice\n",
    "\n",
    "                 # now we need to rename this resized array and save it as a .npy\n",
    "        #new_fname = str('%s' %orig_fname + '_RESIZED_') #keep the original name for now \n",
    "        new_fname = str(pt_numb +'_'+ yr_numb +'_'+ str(num_slice) +'_'+ side + '_' +  img_type )\n",
    "        file_name = \"%s\" %new_fname # add our extension\n",
    "        np.save(os.path.join(new_path, file_name), transposed) # save in the new file folder\n",
    "        converted_array = np.array(transposed, dtype=np.float32)\n",
    "        affine = np.eye(4)\n",
    "        nifti_file = nib.Nifti1Image(converted_array, affine)\n",
    "        nib.save(nifti_file, os.path.join(final_path, \"%s\" %new_fname))\n",
    "\n",
    "\n",
    "    print(\"complete --- nice job\")"
   ]
  },
  {
   "cell_type": "markdown",
   "id": "40a8c7fd",
   "metadata": {},
   "source": [
    "## FilePath Input\n",
    "Fill in the filepaths for the raw data, the new path to store the npy files, and the final path for the images and annotations \n",
    "Make sure to fill out the new sizing as the complete size with zero padding"
   ]
  },
  {
   "cell_type": "code",
   "execution_count": 6,
   "id": "c6bfc69b",
   "metadata": {},
   "outputs": [],
   "source": [
    "raw_path = r'C:\\Users\\UAB\\data\\KU\\KU Original'\n",
    "new_path = r'C:\\Users\\UAB\\data\\KU\\KU_NPY'\n",
    "final_path = r'C:\\Users\\UAB\\data\\KU\\KU_NII'\n",
    "cyst_path = r'C:\\Users\\UAB\\data\\KU\\KU_512_Cyst'\n",
    "new_size = 512"
   ]
  },
  {
   "cell_type": "code",
   "execution_count": 8,
   "id": "d78f67ab",
   "metadata": {},
   "outputs": [],
   "source": [
    "#remove .tif files"
   ]
  },
  {
   "cell_type": "code",
   "execution_count": 7,
   "id": "91e0e233",
   "metadata": {},
   "outputs": [
    {
     "name": "stdout",
     "output_type": "stream",
     "text": [
      "\n",
      "Patient Folders have been identified\n",
      "\n",
      "\n",
      "Filenames have been found and added\n",
      "\n",
      "copied and moved 744 files\n"
     ]
    }
   ],
   "source": [
    "this_list = gather_filenames(raw_path)"
   ]
  },
  {
   "cell_type": "code",
   "execution_count": 8,
   "id": "87b8c414",
   "metadata": {},
   "outputs": [
    {
     "name": "stdout",
     "output_type": "stream",
     "text": [
      "96 17 13\n"
     ]
    }
   ],
   "source": [
    "orig_fname = this_list[2]\n",
    "num_slice = int(orig_fname[-3:])\n",
    "num_width = int((orig_fname[-7:-4]))\n",
    "            #print(num_width)\n",
    "num_height = int((orig_fname[-11:-8]))\n",
    "\n",
    "print(num_slice, num_width, num_height)"
   ]
  },
  {
   "cell_type": "code",
   "execution_count": 9,
   "id": "a295cd97",
   "metadata": {
    "scrolled": true
   },
   "outputs": [
    {
     "name": "stdout",
     "output_type": "stream",
     "text": [
      "744\n",
      "C:\\Users\\UAB\\data\\KU\\KU Original\\Pt 101934\\Pt 101934\\dciaca\\101934 y0 t3 Cyst ROI Right 8bit 125 221 96\n"
     ]
    }
   ],
   "source": [
    "print(len(this_list))\n",
    "print(this_list[1])"
   ]
  },
  {
   "cell_type": "code",
   "execution_count": 11,
   "id": "1398627b",
   "metadata": {
    "scrolled": true
   },
   "outputs": [
    {
     "name": "stdout",
     "output_type": "stream",
     "text": [
      "Converting 744 files\n",
      "101934 y0 t3 Cyst ROI Left 8bit 137 178 96\n",
      "101934 y0 t3 Cyst ROI Right 8bit 125 221 96\n",
      "101934 y0 t3 Image ROI Left 8bit 137 178 96\n",
      "101934 y0 t3 Image ROI Right 8bit 125 221 96\n",
      "101934 y0 t3 Kidney ROI Left 8bit 137 178 96\n",
      "101934 y0 t3 Kidney ROI Right 8bit 125 221 96\n",
      "101934 y1 t3 Cyst ROI Left 8bit 134 167 96\n",
      "101934 y1 t3 Cyst ROI Right 8bit 119 205 96\n",
      "101934 y1 t3 Image ROI Left 8bit 134 167 96\n",
      "101934 y1 t3 Image ROI Right 8bit 119 205 96\n",
      "101934 y1 t3 Kidney ROI Left 8bit 134 167 96\n",
      "101934 y1 t3 Kidney ROI Right 8bit 119 205 96\n",
      "101934 y2 t3 Cyst ROI Left 8bit 142 202 96\n",
      "101934 y2 t3 Cyst ROI Right 8bit 125 221 96\n",
      "101934 y2 t3 Image ROI Left 8bit 142 202 96\n",
      "101934 y2 t3 Image ROI Right 8bit 125 221 96\n",
      "101934 y2 t3 Kidney ROI Left 8bit 142 202 96\n",
      "101934 y2 t3 Kidney ROI Right 8bit 125 221 96\n",
      "101934 y3 t3 Cyst ROI Left 8bit 153 186 96\n",
      "101934 y3 t3 Cyst ROI Right 8bit 130 214 96\n",
      "101934 y3 t3 Image ROI Left 8bit 153 186 96\n",
      "101934 y3 t3 Image ROI Right 8bit 130 214 96\n",
      "101934 y3 t3 Kidney ROI Left 8bit 153 186 96\n",
      "101934 y3 t3 Kidney ROI Right 8bit 130 214 96\n",
      "105005 y0 3t Cyst ROI Left 8bit 153 181 84\n",
      "105005 y0 3t Cyst ROI Right 8bit 139 200 84\n",
      "105005 y0 3t Image ROI Left 8bit 153 181 84\n",
      "105005 y0 3t Image ROI Right 8bit 139 200 84\n",
      "105005 y0 3t Kidney ROI Left 8bit 153 181 84\n",
      "105005 y0 3t Kidney ROI Right 8bit 139 200 84\n",
      "105005 y1 3t Cyst ROI Left 8bit 233 180 99\n",
      "105005 y1 3t Cyst ROI Right 8bit 131 186 99\n",
      "105005 y1 3t Image ROI Left 8bit 233 180 99\n",
      "105005 y1 3t Image ROI Right 8bit 131 186 99\n",
      "105005 y1 3t Kidney ROI Left 8bit 233 180 99\n",
      "105005 y1 3t Kidney ROI Right 8bit 131 186 99\n",
      "105005 y2 3t Cyst ROI Left 8bit 152 220 102\n",
      "105005 y2 3t Cyst ROI Right 8bit 142 192 102\n",
      "105005 y2 3t Image ROI Left 8bit 152 220 102\n",
      "105005 y2 3t Image ROI Right 8bit 142 192 102\n",
      "105005 y2 3t Kidney ROI Left 8bit 152 220 102\n",
      "105005 y2 3t Kidney ROI Right 8bit 142 192 102\n",
      "105005 y3 3t Cyst ROI Left 8bit 153 186 105\n",
      "105005 y3 3t Cyst ROI Right 8bit 142 188 105\n",
      "105005 y3 3t Image ROI Left 8bit 153 186 105\n",
      "105005 y3 3t Image ROI Right 8bit 142 188 105\n",
      "105005 y3 3t Kidney ROI Left 8bit 153 186 105\n",
      "105005 y3 3t Kidney ROI Right 8bit 142 188 105\n",
      "110080 0y t3 Cyst ROI Left 8bit 141 191 90\n",
      "110080 0y t3 Cyst ROI Right 8bit 126 174 90\n",
      "110080 0y t3 Image ROI Left 8bit 141 191 90\n",
      "110080 0y t3 Image ROI Right 8bit 126 174 90\n",
      "110080 0y t3 Kidney ROI Left 8bit 141 191 90\n",
      "110080 0y t3 Kidney ROI Right 8bit 126 174 90\n",
      "110080 1y t3 Cyst ROI Left 8bit 146 186 96\n",
      "110080 1y t3 Cyst ROI Right 8bit 130 174 96\n",
      "110080 1y t3 Image ROI Left 8bit 146 186 96\n",
      "110080 1y t3 Image ROI Right 8bit 130 174 96\n",
      "110080 1y t3 Kidney ROI Left 8bit 146 186 96\n",
      "110080 1y t3 Kidney ROI Right 8bit 130 174 96\n",
      "110080 y2 t3 Cyst ROI Left 8bit 138 189 87\n",
      "110080 y2 t3 Cyst ROI Right 8bit 124 171 87\n",
      "110080 y2 t3 Image ROI Left 8bit 138 189 87\n",
      "110080 y2 t3 Image ROI Right 8bit 124 171 87\n",
      "110080 y2 t3 Kidney ROI Left 8bit 138 189 87\n",
      "110080 y2 t3 Kidney ROI Right 8bit 124 171 87\n",
      "110080 y3 t3 Cyst ROI Left 8bit 142 186 78\n",
      "110080 y3 t3 Cyst ROI Right 8bit 126 177 78\n",
      "110080 y3 t3 Image ROI Left 8bit 142 186 78\n",
      "110080 y3 t3 Image ROI Right 8bit 126 177 78\n",
      "110080 y3 t3 Kidney ROI Left 8bit 142 186 78\n",
      "110080 y3 t3 Kidney ROI Right 8bit 126 177 78\n",
      "110890 y0 t3 Cyst ROI Left 8bit 101 156 99\n",
      "110890 y0 t3 Cyst ROI Right 8bit 131 175 99\n",
      "110890 y0 t3 Image ROI Left 8bit 101 156 99\n",
      "110890 y0 t3 Image ROI Right 8bit 131 175 99\n",
      "110890 y0 t3 Kidney ROI Left 8bit 101 156 99\n",
      "110890 y0 t3 Kidney ROI Right 8bit 131 175 99\n",
      "110890 y1 t3 Cyst ROI Left 8bit 103 153 105\n",
      "110890 y1 t3 Cyst ROI Right 8bit 133 193 105\n",
      "110890 y1 t3 Image ROI Left 8bit 103 153 105\n",
      "110890 y1 t3 Image ROI Right 8bit 133 193 105\n",
      "110890 y1 t3 Kidney ROI Left 8bit 103 153 105\n",
      "110890 y1 t3 Kidney ROI Right 8bit 133 193 105\n",
      "110890 y2 t3 Cyst ROI Left 8bit 126 159 111\n",
      "110890 y2 t3 Cyst ROI Right 8bit 135 189 111\n",
      "110890 y2 t3 Image ROI Left 8bit 126 159 111\n",
      "110890 y2 t3 Image ROI Right 8bit 135 189 111\n",
      "110890 y2 t3 Kidney ROI Left 8bit 126 159 111\n",
      "110890 y2 t3 Kidney ROI Right 8bit 135 189 111\n",
      "110890 y3 t3 Cyst ROI Left 8bit 112 161 123\n",
      "110890 y3 t3 Cyst ROI Right 8bit 138 183 123\n",
      "110890 y3 t3 Image ROI Left 8bit 112 161 123\n",
      "110890 y3 t3 Image ROI Right 8bit 138 183 123\n",
      "110890 y3 t3 Kidney ROI Left 8bit 112 161 123\n",
      "110890 y3 t3 Kidney ROI Right 8bit 138 183 123\n",
      "112396 y0 t3 Cyst ROI Left 8bit 108 156 84\n",
      "112396 y0 t3 Cyst ROI Right 8bit 106 155 84\n",
      "112396 y0 t3 Image ROI Left 8bit 108 156 84\n",
      "112396 y0 t3 Image ROI Right 8bit 106 155 84\n",
      "112396 y0 t3 Kidney ROI Left 8bit 108 156 84\n",
      "112396 y0 t3 Kidney ROI Right 8bit 106 155 84\n",
      "112396 y1 t3 Cyst ROI Left 8bit 111 146 87\n",
      "112396 y1 t3 Cyst ROI Right 8bit 113 160 87\n",
      "112396 y1 t3 Image ROI Left 8bit 111 146 87\n",
      "112396 y1 t3 Image ROI Right 8bit 113 160 87\n",
      "112396 y1 t3 Kidney ROI Left 8bit 111 146 87\n",
      "112396 y1 t3 Kidney ROI Right 8bit 113 160 87\n",
      "112396 y2 t3 Cyst ROI Left 8bit 115 148 99\n",
      "112396 y2 t3 Cyst ROI Right 8bit 112 154 99\n",
      "112396 y2 t3 Image ROI Left 8bit 115 148 99\n",
      "112396 y2 t3 Image ROI Right 8bit 112 154 99\n",
      "112396 y2 t3 Kidney ROI Left 8bit 115 148 99\n",
      "112396 y2 t3 Kidney ROI Right 8bit 112 154 99\n",
      "112396 y3 t3 Cyst ROI Left 8bit 123 156 99\n",
      "112396 y3 t3 Cyst ROI Right 8bit 109 156 99\n",
      "112396 y3 t3 Image ROI Left 8bit 123 156 99\n",
      "112396 y3 t3 Image ROI Right 8bit 109 156 99\n",
      "112396 y3 t3 Kidney ROI Left 8bit 123 156 99\n",
      "112396 y3 t3 Kidney ROI Right 8bit 109 156 99\n",
      "113994 y0 t3 Cyst ROI Left 8bit 116 154 87\n",
      "113994 y0 t3 Cyst ROI Right 8bit 112 176 87\n",
      "113994 y0 t3 Image ROI Left 8bit 116 154 87\n",
      "113994 y0 t3 Image ROI Right 8bit 112 176 87\n",
      "113994 y0 t3 Kidney ROI Left 8bit 116 154 87\n",
      "113994 y0 t3 Kidney ROI Right 8bit 112 176 87\n",
      "113994 y1 t3 Cyst ROI Left 8bit 123 172 99\n",
      "113994 y1 t3 Cyst ROI Right 8bit 118 174 99\n",
      "113994 y1 t3 Image ROI Left 8bit 123 172 99\n",
      "113994 y1 t3 Image ROI Right 8bit 118 174 99\n",
      "113994 y1 t3 Kidney ROI Left 8bit 123 172 99\n",
      "113994 y1 t3 Kidney ROI Right 8bit 118 174 99\n",
      "113994 y2 t3 Cyst ROI Left 8bit 123 163 99\n",
      "113994 y2 t3 Cyst ROI Right 8bit 120 180 99\n",
      "113994 y2 t3 Image ROI Left 8bit 123 163 99\n",
      "113994 y2 t3 Image ROI Right 8bit 120 180 99\n",
      "113994 y2 t3 Kidney ROI Left 8bit 123 163 99\n",
      "113994 y2 t3 Kidney ROI Right 8bit 120 180 99\n",
      "113994 y3 t3 Cyst ROI Left 8bit 124 164 108\n",
      "113994 y3 t3 Cyst ROI Right 8bit 119 183 108\n",
      "113994 y3 t3 Image ROI Left 8bit 124 164 108\n",
      "113994 y3 t3 Image ROI Right 8bit 119 183 108\n",
      "113994 y3 t3 Kidney ROI Left 8bit 124 164 108\n",
      "113994 y3 t3 Kidney ROI Right 8bit 119 183 108\n",
      "119045 y0 t3 Cyst ROI Left 8bit 119 152 96\n",
      "119045 y0 t3 Cyst ROI Right 8bit 121 174 96\n",
      "119045 y0 t3 Image ROI Left 8bit 119 152 96\n",
      "119045 y0 t3 Image ROI Right 8bit 121 174 96\n",
      "119045 y0 t3 Kidney ROI Left 8bit 119 152 96\n",
      "119045 y0 t3 Kidney ROI Right 8bit 121 174 96\n",
      "119045 y1 t3 Cyst ROI Left 8bit 119 167 99\n",
      "119045 y1 t3 Cyst ROI Right 8bit 123 179 99\n",
      "119045 y1 t3 Image ROI Left 8bit 119 167 99\n",
      "119045 y1 t3 Image ROI Right 8bit 123 179 99\n",
      "119045 y1 t3 Kidney ROI Left 8bit 119 167 99\n",
      "119045 y1 t3 Kidney ROI Right 8bit 123 179 99\n",
      "119045 y2 t3 Cyst ROI Left 8bit 113 160 102\n",
      "119045 y2 t3 Cyst ROI Right 8bit 134 185 102\n",
      "119045 y2 t3 Image ROI Left 8bit 113 160 102\n",
      "119045 y2 t3 Image ROI Right 8bit 134 185 102\n",
      "119045 y2 t3 Kidney ROI Left 8bit 113 160 102\n",
      "119045 y2 t3 Kidney ROI Right 8bit 134 185 102\n",
      "119045 y3 t3 Cyst ROI Left 8bit 129 160 114\n",
      "119045 y3 t3 Cyst ROI Right 8bit 127 175 114\n",
      "119045 y3 t3 Image ROI Left 8bit 129 160 114\n",
      "119045 y3 t3 Image ROI Right 8bit 127 175 114\n",
      "119045 y3 t3 Kidney ROI Left 8bit 129 160 114\n",
      "119045 y3 t3 Kidney ROI Right 8bit 127 175 114\n",
      "120395 y0 t3 Cyst ROI Left 8bit 135 201 105\n",
      "120395 y0 t3 Cyst ROI Right 8bit 127 168 105\n",
      "120395 y0 t3 Image ROI Left 8bit 135 201 105\n",
      "120395 y0 t3 Image ROI Right 8bit 127 168 105\n",
      "120395 y0 t3 Kidney ROI Left 8bit 135 201 105\n",
      "120395 y0 t3 Kidney ROI Right 8bit 127 168 105\n",
      "120395 y1 t3 Cyst ROI Left 8bit 138 232 144\n",
      "120395 y1 t3 Cyst ROI Right 8bit 124 175 144\n",
      "120395 y1 t3 Image ROI Left 8bit 138 232 144\n",
      "120395 y1 t3 Image ROI Right 8bit 124 175 144\n",
      "120395 y1 t3 Kidney ROI Left 8bit 138 232 144\n",
      "120395 y1 t3 Kidney ROI Right 8bit 124 175 144\n",
      "120395 y2 t3 Cyst ROI Left 8bit 135 206 111\n",
      "120395 y2 t3 Cyst ROI Right 8bit 130 179 111\n",
      "120395 y2 t3 Image ROI Left 8bit 135 206 111\n"
     ]
    },
    {
     "name": "stdout",
     "output_type": "stream",
     "text": [
      "120395 y2 t3 Image ROI Right 8bit 130 179 111\n",
      "120395 y2 t3 Kidney ROI Left 8bit 135 206 111\n",
      "120395 y2 t3 Kidney ROI Right 8bit 130 179 111\n",
      "120395 y3 t3 Cyst ROI Left 8bit 146 208 120\n",
      "120395 y3 t3 Cyst ROI Right 8bit 134 179 120\n",
      "120395 y3 t3 Image ROI Left 8bit 146 208 120\n",
      "120395 y3 t3 Image ROI Right 8bit 134 179 120\n",
      "120395 y3 t3 Kidney ROI Left 8bit 146 208 120\n",
      "120395 y3 t3 Kidney ROI Right 8bit 134 179 120\n",
      "120777 y0 t3 Cyst ROI Left 8bit 142 177 87\n",
      "120777 y0 t3 Cyst ROI Right 8bit 138 186 87\n",
      "120777 y0 t3 Image ROI Left 8bit 142 177 87\n",
      "120777 y0 t3 Image ROI Right 8bit 138 186 87\n",
      "120777 y0 t3 Kidney ROI Left 8bit 142 177 87\n",
      "120777 y0 t3 Kidney ROI Right 8bit 138 186 87\n",
      "120777 y1 t3 Cyst ROI Left 8bit 155 198 99\n",
      "120777 y1 t3 Cyst ROI Right 8bit 144 184 99\n",
      "120777 y1 t3 Image ROI Left 8bit 155 198 99\n",
      "120777 y1 t3 Image ROI Right 8bit 144 184 99\n",
      "120777 y1 t3 Kidney ROI Left 8bit 155 198 99\n",
      "120777 y1 t3 Kidney ROI Right 8bit 144 184 99\n",
      "120777 y2 t3 Cyst ROI Left 8bit 148 195 93\n",
      "120777 y2 t3 Cyst ROI Right 8bit 139 183 93\n",
      "120777 y2 t3 Image ROI Left 8bit 148 195 93\n",
      "120777 y2 t3 Image ROI Right 8bit 139 183 93\n",
      "120777 y2 t3 Kidney ROI Left 8bit 148 195 93\n",
      "120777 y2 t3 Kidney ROI Right 8bit 139 183 93\n",
      "120777 y3 t3 Cyst ROI Left 8bit 142 183 96\n",
      "120777 y3 t3 Cyst ROI Right 8bit 134 184 96\n",
      "120777 y3 t3 Image ROI Left 8bit 142 183 96\n",
      "120777 y3 t3 Image ROI Right 8bit 134 184 96\n",
      "120777 y3 t3 Kidney ROI Left 8bit 142 183 96\n",
      "120777 y3 t3 Kidney ROI Right 8bit 134 184 96\n",
      "120801 y0 t3 Cyst ROI Left 8bit 130 168 84\n",
      "120801 y0 t3 Cyst ROI Right 8bit 116 157 84\n",
      "120801 y0 t3 Image ROI Left 8bit 130 168 84\n",
      "120801 y0 t3 Image ROI Right 8bit 116 157 84\n",
      "120801 y0 t3 Kidney ROI Left 8bit 130 168 84\n",
      "120801 y0 t3 Kidney ROI Right 8bit 116 157 84\n",
      "120801 y1 t3 Cyst ROI Left 8bit 122 167 96\n",
      "120801 y1 t3 Cyst ROI Right 8bit 124 149 96\n",
      "120801 y1 t3 Image ROI Left 8bit 122 167 96\n",
      "120801 y1 t3 Image ROI Right 8bit 124 149 96\n",
      "120801 y1 t3 Kidney ROI Left 8bit 122 167 96\n",
      "120801 y1 t3 Kidney ROI Right 8bit 124 149 96\n",
      "120801 y2 t3 Cyst ROI Left 8bit 131 163 96\n",
      "120801 y2 t3 Cyst ROI Right 8bit 130 153 96\n",
      "120801 y2 t3 Image ROI Left 8bit 131 163 96\n",
      "120801 y2 t3 Image ROI Right 8bit 130 153 96\n",
      "120801 y2 t3 Kidney ROI Left 8bit 131 163 96\n",
      "120801 y2 t3 Kidney ROI Right 8bit 130 153 96\n",
      "120801 y3 t3 Cyst ROI Left 8bit 135 164 99\n",
      "120801 y3 t3 Cyst ROI Right 8bit 141 154 99\n",
      "120801 y3 t3 Image ROI Left 8bit 135 164 99\n",
      "120801 y3 t3 Image ROI Right 8bit 141 154 99\n",
      "120801 y3 t3 Kidney ROI Left 8bit 135 164 99\n",
      "120801 y3 t3 Kidney ROI Right 8bit 141 154 99\n",
      "124952 y0 t3 Cyst ROI Left 8bit 117 143 78\n",
      "124952 y0 t3 Cyst ROI Right 8bit 112 156 78\n",
      "124952 y0 t3 Image ROI Left 8bit 117 143 78\n",
      "124952 y0 t3 Image ROI Right 8bit 112 156 78\n",
      "124952 y0 t3 Kidney ROI Left 8bit 117 143 78\n",
      "124952 y0 t3 Kidney ROI Right 8bit 112 156 78\n",
      "124952 y1 t3 Cyst ROI Left 8bit 126 195 93\n",
      "124952 y1 t3 Cyst ROI Right 8bit 117 184 93\n",
      "124952 y1 t3 Image ROI Left 8bit 126 195 93\n",
      "124952 y1 t3 Image ROI Right 8bit 117 184 93\n",
      "124952 y1 t3 Kidney ROI Left 8bit 126 195 93\n",
      "124952 y1 t3 Kidney ROI Right 8bit 117 184 93\n",
      "124952 y2 t3 Cyst ROI Left 8bit 115 153 96\n",
      "124952 y2 t3 Cyst ROI Right 8bit 113 160 96\n",
      "124952 y2 t3 Image ROI Left 8bit 115 153 96\n",
      "124952 y2 t3 Image ROI Right 8bit 113 160 96\n",
      "124952 y2 t3 Kidney ROI Left 8bit 115 153 96\n",
      "124952 y2 t3 Kidney ROI Right 8bit 113 160 96\n",
      "124952 y3 t3 Cyst ROI Left 8bit 106 159 96\n",
      "124952 y3 t3 Cyst ROI Right 8bit 113 165 96\n",
      "124952 y3 t3 Image ROI Left 8bit 106 159 96\n",
      "124952 y3 t3 Image ROI Right 8bit 113 165 96\n",
      "124952 y3 t3 Kidney ROI Left 8bit 106 159 96\n",
      "124952 y3 t3 Kidney ROI Right 8bit 113 165 96\n",
      "128596 y0 t3 Cyst ROI Left 8bit 136 197 123\n",
      "128596 y0 t3 Cyst ROI Right 8bit 142 205 123\n",
      "128596 y0 t3 Image ROI Left 8bit 136 197 123\n",
      "128596 y0 t3 Image ROI Right 8bit 142 205 123\n",
      "128596 y0 t3 Kidney ROI Left 8bit 136 197 123\n",
      "128596 y0 t3 Kidney ROI Right 8bit 142 205 123\n",
      "128596 y1 t3 Cyst ROI Left 8bit 141 208 144\n",
      "128596 y1 t3 Cyst ROI Right 8bit 136 250 144\n",
      "128596 y1 t3 Image ROI Left 8bit 141 208 144\n",
      "128596 y1 t3 Image ROI Right 8bit 136 250 144\n",
      "128596 y1 t3 Kidney ROI Left 8bit 141 208 144\n",
      "128596 y1 t3 Kidney ROI Right 8bit 136 250 144\n",
      "128596 y2 t3 Cyst ROI Left 8bit 145 211 144\n",
      "128596 y2 t3 Cyst ROI Right 8bit 134 216 144\n",
      "128596 y2 t3 Image ROI Left 8bit 145 211 144\n",
      "128596 y2 t3 Image ROI Right 8bit 134 216 144\n",
      "128596 y2 t3 Kidney ROI Left 8bit 145 211 144\n",
      "128596 y2 t3 Kidney ROI Right 8bit 134 216 144\n",
      "128596 y3 t3 Cyst ROI Left 8bit 142 208 141\n",
      "128596 y3 t3 Cyst ROI Right 8bit 145 203 141\n",
      "128596 y3 t3 Image ROI Left 8bit 142 208 141\n",
      "128596 y3 t3 Image ROI Right 8bit 145 203 141\n",
      "128596 y3 t3 Kidney ROI Left 8bit 142 208 141\n",
      "128596 y3 t3 Kidney ROI Right 8bit 145 203 141\n",
      "139486 y0 t3 Cyst ROI Left 8bit 115 190 126\n",
      "139486 y0 t3 Cyst ROI Right 8bit 137 198 126\n",
      "139486 y0 t3 Image ROI Left 8bit 115 190 126\n",
      "139486 y0 t3 Image ROI Right 8bit 137 198 126\n",
      "139486 y0 t3 Kidney ROI Left 8bit 115 190 126\n",
      "139486 y0 t3 Kidney ROI Right 8bit 137 198 126\n",
      "139486 y1 t3 Cyst ROI Left 8bit 120 193 99\n",
      "139486 y1 t3 Cyst ROI Right 8bit 141 171 99\n",
      "139486 y1 t3 Image ROI Left 8bit 120 193 99\n",
      "139486 y1 t3 Image ROI Right 8bit 141 171 99\n",
      "139486 y1 t3 Kidney ROI Left 8bit 120 193 99\n",
      "139486 y1 t3 Kidney ROI Right 8bit 141 171 99\n",
      "139486 y2 t3 Cyst ROI Left 8bit 124 198 99\n",
      "139486 y2 t3 Cyst ROI Right 8bit 135 168 99\n",
      "139486 y2 t3 Image ROI Left 8bit 124 198 99\n",
      "139486 y2 t3 Image ROI Right 8bit 135 168 99\n",
      "139486 y2 t3 Kidney ROI Left 8bit 124 198 99\n",
      "139486 y2 t3 Kidney ROI Right 8bit 135 168 99\n",
      "139486 y3 t3 Cyst ROI Left 8bit 118 185 111\n",
      "139486 y3 t3 Cyst ROI Right 8bit 134 167 111\n",
      "139486 y3 t3 Image ROI Left 8bit 118 185 111\n",
      "139486 y3 t3 Image ROI Right 8bit 134 167 111\n",
      "139486 y3 t3 Kidney ROI Left 8bit 118 185 111\n",
      "139486 y3 t3 Kidney ROI Right 8bit 134 167 111\n",
      "140353 y0 t3 Cyst ROI Left 8bit 126 148 84\n",
      "140353 y0 t3 Cyst ROI Right 8bit 113 148 84\n",
      "140353 y0 t3 Image ROI Left 8bit 126 148 84\n",
      "140353 y0 t3 Image ROI Right 8bit 113 148 84\n",
      "140353 y0 t3 Kidney ROI Left 8bit 126 148 84\n",
      "140353 y0 t3 Kidney ROI Right 8bit 113 148 84\n",
      "140353 y1 t3 Cyst ROI Left 8bit 131 154 99\n",
      "140353 y1 t3 Cyst ROI Right 8bit 119 163 99\n",
      "140353 y1 t3 Image ROI Left 8bit 131 154 99\n",
      "140353 y1 t3 Image ROI Right 8bit 119 163 99\n",
      "140353 y1 t3 Kidney ROI Left 8bit 131 154 99\n",
      "140353 y1 t3 Kidney ROI Right 8bit 119 163 99\n",
      "140353 y2 t3 Cyst ROI Left 8bit 127 154 93\n",
      "140353 y2 t3 Cyst ROI Right 8bit 124 149 93\n",
      "140353 y2 t3 Image ROI Left 8bit 127 154 93\n",
      "140353 y2 t3 Image ROI Right 8bit 124 149 93\n",
      "140353 y2 t3 Kidney ROI Left 8bit 127 154 93\n",
      "140353 y2 t3 Kidney ROI Right 8bit 124 149 93\n",
      "140353 y3 t3 Cyst ROI Left 8bit 133 159 93\n",
      "140353 y3 t3 Cyst ROI Right 8bit 138 183 93\n",
      "140353 y3 t3 Image ROI Left 8bit 133 159 93\n",
      "140353 y3 t3 Image ROI Right 8bit 138 183 93\n",
      "140353 y3 t3 Kidney ROI Left 8bit 133 159 93\n",
      "140353 y3 t3 Kidney ROI Right 8bit 138 183 93\n",
      "145854 y0 t3 Cyst ROI Left 8bit 120 189 105\n",
      "145854 y0 t3 Cyst ROI Right 8bit 130 183 105\n",
      "145854 y0 t3 Image ROI Left 8bit 120 189 105\n",
      "145854 y0 t3 Image ROI Right 8bit 130 183 105\n",
      "145854 y0 t3 Kidney ROI Left 8bit 120 189 105\n",
      "145854 y0 t3 Kidney ROI Right 8bit 130 183 105\n",
      "145854 y1 t3 Cyst ROI Left 8bit 122 191 99\n",
      "145854 y1 t3 Cyst ROI Right 8bit 122 187 99\n",
      "145854 y1 t3 Image ROI Left 8bit 122 191 99\n",
      "145854 y1 t3 Image ROI Right 8bit 122 187 99\n",
      "145854 y1 t3 Kidney ROI Left 8bit 122 191 99\n",
      "145854 y1 t3 Kidney ROI Right 8bit 122 187 99\n",
      "145854 y2 y3 Cyst ROI Left 8bit 130 194 99\n",
      "145854 y2 y3 Cyst ROI Right 8bit 124 187 99\n",
      "145854 y2 y3 Image ROI Left 8bit 130 194 99\n",
      "145854 y2 y3 Image ROI Right 8bit 124 187 99\n",
      "145854 y2 y3 Kidney ROI Left 8bit 130 194 99\n",
      "145854 y2 y3 Kidney ROI Right 8bit 124 187 99\n",
      "145854 y3 t3 Cyst ROI Left 8bit 129 196 99\n",
      "145854 y3 t3 Cyst ROI Right 8bit 123 189 99\n",
      "145854 y3 t3 Image ROI Left 8bit 129 196 99\n",
      "145854 y3 t3 Image ROI Right 8bit 123 189 99\n",
      "145854 y3 t3 Kidney ROI Left 8bit 129 196 99\n",
      "145854 y3 t3 Kidney ROI Right 8bit 123 189 99\n",
      "146563 y0 t3 Cyst ROI Left 8bit 117 169 87\n",
      "146563 y0 t3 Cyst ROI Right 8bit 117 147 87\n",
      "146563 y0 t3 Image ROI Left 8bit 117 169 87\n",
      "146563 y0 t3 Image ROI Right 8bit 117 147 87\n",
      "146563 y0 t3 Kidney ROI Left 8bit 117 169 87\n",
      "146563 y0 t3 Kidney ROI Right 8bit 117 147 87\n"
     ]
    },
    {
     "name": "stdout",
     "output_type": "stream",
     "text": [
      "146563 y1 t3 Cyst ROI Left 8bit 118 141 99\n",
      "146563 y1 t3 Cyst ROI Right 8bit 124 139 99\n",
      "146563 y1 t3 Image ROI Left 8bit 118 141 99\n",
      "146563 y1 t3 Image ROI Right 8bit 124 139 99\n",
      "146563 y1 t3 Kidney ROI Left 8bit 118 141 99\n",
      "146563 y1 t3 Kidney ROI Right 8bit 124 139 99\n",
      "146563 y2 t3 Cyst ROI Left 8bit 120 138 93\n",
      "146563 y2 t3 Cyst ROI Right 8bit 128 148 93\n",
      "146563 y2 t3 Image ROI Left 8bit 120 138 93\n",
      "146563 y2 t3 Image ROI Right 8bit 128 148 93\n",
      "146563 y2 t3 Kidney ROI Left 8bit 120 138 93\n",
      "146563 y2 t3 Kidney ROI Right 8bit 128 148 93\n",
      "146563 y3 t3 Cyst ROI Left 8bit 125 152 99\n",
      "146563 y3 t3 Cyst ROI Right 8bit 125 139 99\n",
      "146563 y3 t3 Image ROI Left 8bit 125 152 99\n",
      "146563 y3 t3 Image ROI Right 8bit 125 139 99\n",
      "146563 y3 t3 Kidney ROI Left 8bit 125 152 99\n",
      "146563 y3 t3 Kidney ROI Right 8bit 125 139 99\n",
      "148014 y0 t3 Cyst ROI Left 8bit 115 145 84\n",
      "148014 y0 t3 Cyst ROI Right 8bit 119 186 84\n",
      "148014 y0 t3 Image ROI Left 8bit 115 145 84\n",
      "148014 y0 t3 Image ROI Right 8bit 119 186 84\n",
      "148014 y0 t3 Kidney ROI Left 8bit 115 145 84\n",
      "148014 y0 t3 Kidney ROI Right 8bit 119 186 84\n",
      "148014 y1 t3 Cyst ROI Left 8bit 112 145 96\n",
      "148014 y1 t3 Cyst ROI Right 8bit 126 179 96\n",
      "148014 y1 t3 Image ROI Left 8bit 112 145 96\n",
      "148014 y1 t3 Image ROI Right 8bit 126 179 96\n",
      "148014 y1 t3 Kidney ROI Left 8bit 112 145 96\n",
      "148014 y1 t3 Kidney ROI Right 8bit 126 179 96\n",
      "148014 y2 t3 Cyst ROI Left 8bit 113 152 96\n",
      "148014 y2 t3 Cyst ROI Right 8bit 118 183 96\n",
      "148014 y2 t3 Image ROI Left 8bit 113 152 96\n",
      "148014 y2 t3 Image ROI Right 8bit 118 183 96\n",
      "148014 y2 t3 Kidney ROI Left 8bit 113 152 96\n",
      "148014 y2 t3 Kidney ROI Right 8bit 118 183 96\n",
      "148014 y3 t3 Cyst ROI Left 8bit 111 150 96\n",
      "148014 y3 t3 Cyst ROI Right 8bit 113 183 96\n",
      "148014 y3 t3 Image ROI Left 8bit 111 150 96\n",
      "148014 y3 t3 Image ROI Right 8bit 113 183 96\n",
      "148014 y3 t3 Kidney ROI Left 8bit 111 150 96\n",
      "148014 y3 t3 Kidney ROI Right 8bit 113 183 96\n",
      "150534 y0 t3 Cyst ROI Left 8bit 138 158 123\n",
      "150534 y0 t3 Cyst ROI Right 8bit 134 170 123\n",
      "150534 y0 t3 Image ROI Left 8bit 138 158 123\n",
      "150534 y0 t3 Image ROI Right 8bit 134 170 123\n",
      "150534 y0 t3 Kidney ROI Left 8bit 138 158 123\n",
      "150534 y0 t3 Kidney ROI Right 8bit 134 170 123\n",
      "150534 y1 t3 Cyst ROI Left 8bit 136 150 132\n",
      "150534 y1 t3 Cyst ROI Right 8bit 144 177 132\n",
      "150534 y1 t3 Image ROI Left 8bit 136 150 132\n",
      "150534 y1 t3 Image ROI Right 8bit 144 177 132\n",
      "150534 y1 t3 Kidney ROI Left 8bit 136 150 132\n",
      "150534 y1 t3 Kidney ROI Right 8bit 144 177 132\n",
      "150534 y2 t3 Cyst ROI Left 8bit 138 156 141\n",
      "150534 y2 t3 Cyst ROI Right 8bit 147 180 141\n",
      "150534 y2 t3 Image ROI Left 8bit 138 156 141\n",
      "150534 y2 t3 Image ROI Right 8bit 147 180 141\n",
      "150534 y2 t3 Kidney ROI Left 8bit 138 156 141\n",
      "150534 y2 t3 Kidney ROI Right 8bit 147 180 141\n",
      "150534 y3 t3 Cyst ROI Left 8bit 153 159 141\n",
      "150534 y3 t3 Cyst ROI Right 8bit 145 180 141\n",
      "150534 y3 t3 Image ROI Left 8bit 153 159 141\n",
      "150534 y3 t3 Image ROI Right 8bit 145 180 141\n",
      "150534 y3 t3 Kidney ROI Left 8bit 153 159 141\n",
      "150534 y3 t3 Kidney ROI Right 8bit 145 180 141\n",
      "151030 y0 t3 Cyst ROI Left 8bit 103 139 87\n",
      "151030 y0 t3 Cyst ROI Right 8bit 116 145 87\n",
      "151030 y0 t3 Image ROI Left 8bit 103 139 87\n",
      "151030 y0 t3 Image ROI Right 8bit 116 145 87\n",
      "151030 y0 t3 Kidney ROI Left 8bit 103 139 87\n",
      "151030 y0 t3 Kidney ROI Right 8bit 116 145 87\n",
      "151030 y1 t3 Cyst ROI Left 8bit 101 142 99\n",
      "151030 y1 t3 Cyst ROI Right 8bit 109 145 99\n",
      "151030 y1 t3 Image ROI Left 8bit 101 142 99\n",
      "151030 y1 t3 Image ROI Right 8bit 109 145 99\n",
      "151030 y1 t3 Kidney ROI Left 8bit 101 142 99\n",
      "151030 y1 t3 Kidney ROI Right 8bit 109 145 99\n",
      "151030 y2 t3 Cyst ROI Left 8bit 104 154 99\n",
      "151030 y2 t3 Cyst ROI Right 8bit 108 145 99\n",
      "151030 y2 t3 Image ROI Left 8bit 104 154 99\n",
      "151030 y2 t3 Image ROI Right 8bit 108 145 99\n",
      "151030 y2 t3 Kidney ROI Left 8bit 104 154 99\n",
      "151030 y2 t3 Kidney ROI Right 8bit 108 145 99\n",
      "151030 y3 t3 Cyst ROI Left 8bit 120 141 144\n",
      "151030 y3 t3 Cyst ROI Right 8bit 103 145 144\n",
      "151030 y3 t3 Image ROI Left 8bit 120 141 144\n",
      "151030 y3 t3 Image ROI Right 8bit 103 145 144\n",
      "151030 y3 t3 Kidney ROI Left 8bit 120 141 144\n",
      "151030 y3 t3 Kidney ROI Right 8bit 103 145 144\n",
      "154595 y0 t3 Cyst ROI Left 8bit 129 187 123\n",
      "154595 y0 t3 Cyst ROI Right 8bit 126 187 123\n",
      "154595 y0 t3 Image ROI Left 8bit 129 187 123\n",
      "154595 y0 t3 Image ROI Right 8bit 126 187 123\n",
      "154595 y0 t3 Kidney ROI Left 8bit 129 187 123\n",
      "154595 y0 t3 Kidney ROI Right 8bit 126 187 123\n",
      "154595 y1 t3 Cyst ROI Left 8bit 135 204 111\n",
      "154595 y1 t3 Cyst ROI Right 8bit 120 200 111\n",
      "154595 y1 t3 Image ROI Left 8bit 135 204 111\n",
      "154595 y1 t3 Image ROI Right 8bit 120 200 111\n",
      "154595 y1 t3 Kidney ROI Left 8bit 135 204 111\n",
      "154595 y1 t3 Kidney ROI Right 8bit 120 200 111\n",
      "154595 y2 t3 Cyst ROI Left 8bit 134 186 117\n",
      "154595 y2 t3 Cyst ROI Right 8bit 119 198 117\n",
      "154595 y2 t3 Image ROI Left 8bit 134 186 117\n",
      "154595 y2 t3 Image ROI Right 8bit 119 198 117\n",
      "154595 y2 t3 Kidney ROI Left 8bit 134 186 117\n",
      "154595 y2 t3 Kidney ROI Right 8bit 119 198 117\n",
      "154595 y3 t3 Cyst ROI Left 8bit 130 190 117\n",
      "154595 y3 t3 Cyst ROI Right 8bit 126 194 117\n",
      "154595 y3 t3 Image ROI Left 8bit 130 190 117\n",
      "154595 y3 t3 Image ROI Right 8bit 126 194 117\n",
      "154595 y3 t3 Kidney ROI Left 8bit 130 190 117\n",
      "154595 y3 t3 Kidney ROI Right 8bit 126 194 117\n",
      "154887 y0 t3 Cyst ROI Left 8bit 127 172 102\n",
      "154887 y0 t3 Cyst ROI Right 8bit 124 174 102\n",
      "154887 y0 t3 Image ROI Left 8bit 127 172 102\n",
      "154887 y0 t3 Image ROI Right 8bit 124 174 102\n",
      "154887 y0 t3 Kidney ROI Left 8bit 127 172 102\n",
      "154887 y0 t3 Kidney ROI Right 8bit 124 174 102\n",
      "154887 y1 t3 Cyst ROI Left 8bit 125 166 99\n",
      "154887 y1 t3 Cyst ROI Right 8bit 129 174 99\n",
      "154887 y1 t3 Image ROI Left 8bit 125 166 99\n",
      "154887 y1 t3 Image ROI Right 8bit 129 174 99\n",
      "154887 y1 t3 Kidney ROI Left 8bit 125 166 99\n",
      "154887 y1 t3 Kidney ROI Right 8bit 129 174 99\n",
      "154887 y2 t3 Cyst ROI Left 8bit 126 163 99\n",
      "154887 y2 t3 Cyst ROI Right 8bit 135 200 99\n",
      "154887 y2 t3 Image ROI Left 8bit 126 163 99\n",
      "154887 y2 t3 Image ROI Right 8bit 135 200 99\n",
      "154887 y2 t3 Kidney ROI Left 8bit 126 163 99\n",
      "154887 y2 t3 Kidney ROI Right 8bit 135 200 99\n",
      "154887 y3 t3 Cyst ROI Left 8bit 131 171 111\n",
      "154887 y3 t3 Cyst ROI Right 8bit 140 187 111\n",
      "154887 y3 t3 Image ROI Left 8bit 131 171 111\n",
      "154887 y3 t3 Image ROI Right 8bit 140 187 111\n",
      "154887 y3 t3 Kidney ROI Left 8bit 131 171 111\n",
      "154887 y3 t3 Kidney ROI Right 8bit 140 187 111\n",
      "157925 y0 t3 Cyst ROI Left 8bit 145 165 126\n",
      "157925 y0 t3 Cyst ROI Right 8bit 124 175 126\n",
      "157925 y0 t3 Image ROI Left 8bit 145 165 126\n",
      "157925 y0 t3 Image ROI Right 8bit 124 175 126\n",
      "157925 y0 t3 Kidney ROI Left 8bit 145 165 126\n",
      "157925 y0 t3 Kidney ROI Right 8bit 124 175 126\n",
      "157925 y1 t3 Cyst ROI Left 8bit 130 165 141\n",
      "157925 y1 t3 Cyst ROI Right 8bit 129 174 141\n",
      "157925 y1 t3 Image ROI Left 8bit 130 165 141\n",
      "157925 y1 t3 Image ROI Right 8bit 129 174 141\n",
      "157925 y1 t3 Kidney ROI Left 8bit 130 165 141\n",
      "157925 y1 t3 Kidney ROI Right 8bit 129 174 141\n",
      "157925 y2 t3 Cyst ROI Left 8bit 124 160 144\n",
      "157925 y2 t3 Cyst ROI Right 8bit 131 180 144\n",
      "157925 y2 t3 Image ROI Left 8bit 124 160 144\n",
      "157925 y2 t3 Image ROI Right 8bit 131 180 144\n",
      "157925 y2 t3 Kidney ROI Left 8bit 124 160 144\n",
      "157925 y2 t3 Kidney ROI Right 8bit 131 180 144\n",
      "157925 y3 t3 Cyst ROI Left 8bit 141 165 144\n",
      "157925 y3 t3 Cyst ROI Right 8bit 138 172 144\n",
      "157925 y3 t3 Image ROI Left 8bit 141 165 144\n",
      "157925 y3 t3 Image ROI Right 8bit 138 172 144\n",
      "157925 y3 t3 Kidney ROI Left 8bit 141 165 144\n",
      "157925 y3 t3 Kidney ROI Right 8bit 138 172 144\n",
      "160928 y0 t3 Cyst ROI Left 8bit 113 138 87\n",
      "160928 y0 t3 Cyst ROI Right 8bit 120 129 87\n",
      "160928 y0 t3 Image ROI Left 8bit 113 138 87\n",
      "160928 y0 t3 Image ROI Right 8bit 120 129 87\n",
      "160928 y0 t3 Kidney ROI Left 8bit 113 138 87\n",
      "160928 y0 t3 Kidney ROI Right 8bit 120 129 87\n",
      "160928 y1 t3 Cyst ROI Left 8bit 115 131 99\n",
      "160928 y1 t3 Cyst ROI Right 8bit 123 144 99\n",
      "160928 y1 t3 Image ROI Left 8bit 115 131 99\n",
      "160928 y1 t3 Image ROI Right 8bit 123 144 99\n",
      "160928 y1 t3 Kidney ROI Left 8bit 115 131 99\n",
      "160928 y1 t3 Kidney ROI Right 8bit 123 144 99\n",
      "160928 y2 t3 Cyst ROI Left 8bit 120 134 99\n",
      "160928 y2 t3 Cyst ROI Right 8bit 118 135 99\n",
      "160928 y2 t3 Image ROI Left 8bit 120 134 99\n",
      "160928 y2 t3 Image ROI Right 8bit 118 135 99\n",
      "160928 y2 t3 Kidney ROI Left 8bit 120 134 99\n",
      "160928 y2 t3 Kidney ROI Right 8bit 118 135 99\n",
      "160928 y3 t3 Cyst ROI Left 8bit 108 130 96\n",
      "160928 y3 t3 Cyst ROI Right 8bit 118 135 96\n",
      "160928 y3 t3 Image ROI Left 8bit 108 130 96\n"
     ]
    },
    {
     "name": "stdout",
     "output_type": "stream",
     "text": [
      "160928 y3 t3 Image ROI Right 8bit 118 135 96\n",
      "160928 y3 t3 Kidney ROI Left 8bit 108 130 96\n",
      "160928 y3 t3 Kidney ROI Right 8bit 118 135 96\n",
      "161547 y0 t3 Cyst ROI Left 8bit 144 170 117\n",
      "161547 y0 t3 Cyst ROI Right 8bit 133 173 117\n",
      "161547 y0 t3 Image ROI Left 8bit 144 170 117\n",
      "161547 y0 t3 Image ROI Right 8bit 133 173 117\n",
      "161547 y0 t3 Kidney ROI Left 8bit 144 170 117\n",
      "161547 y0 t3 Kidney ROI Right 8bit 133 173 117\n",
      "161547 y1 t3 Cyst ROI Left 8bit 150 173 135\n",
      "161547 y1 t3 Cyst ROI Right 8bit 138 180 135\n",
      "161547 y1 t3 Image ROI Left 8bit 150 173 135\n",
      "161547 y1 t3 Image ROI Right 8bit 138 180 135\n",
      "161547 y1 t3 Kidney ROI Left 8bit 150 173 135\n",
      "161547 y1 t3 Kidney ROI Right 8bit 138 180 135\n",
      "161547 y2 t3 Cyst ROI Left 8bit 139 166 132\n",
      "161547 y2 t3 Cyst ROI Right 8bit 138 181 132\n",
      "161547 y2 t3 Image ROI Left 8bit 139 166 132\n",
      "161547 y2 t3 Image ROI Right 8bit 138 181 132\n",
      "161547 y2 t3 Kidney ROI Left 8bit 139 166 132\n",
      "161547 y2 t3 Kidney ROI Right 8bit 138 181 132\n",
      "161547 y3 t3 Cyst ROI Left 8bit 142 167 135\n",
      "161547 y3 t3 Cyst ROI Right 8bit 144 200 135\n",
      "161547 y3 t3 Image ROI Left 8bit 142 167 135\n",
      "161547 y3 t3 Image ROI Right 8bit 144 200 135\n",
      "161547 y3 t3 Kidney ROI Left 8bit 142 167 135\n",
      "161547 y3 t3 Kidney ROI Right 8bit 144 200 135\n",
      "170795 y0 t3 Cyst ROI Left 8bit 131 145 81\n",
      "170795 y0 t3 Cyst ROI Right 8bit 136 150 81\n",
      "170795 y0 t3 Image ROI Left 8bit 131 145 81\n",
      "170795 y0 t3 Image ROI Right 8bit 136 150 81\n",
      "170795 y0 t3 Kidney ROI Left 8bit 131 145 81\n",
      "170795 y0 t3 Kidney ROI Right 8bit 136 150 81\n",
      "170795 y1 t3 Cyst ROI Left 8bit 135 154 96\n",
      "170795 y1 t3 Cyst ROI Right 8bit 127 182 96\n",
      "170795 y1 t3 Image ROI Left 8bit 135 154 96\n",
      "170795 y1 t3 Image ROI Right 8bit 127 182 96\n",
      "170795 y1 t3 Kidney ROI Left 8bit 135 154 96\n",
      "170795 y1 t3 Kidney ROI Right 8bit 127 182 96\n",
      "170795 y2 t3 Cyst ROI Left 8bit 145 133 93\n",
      "170795 y2 t3 Cyst ROI Right 8bit 152 148 93\n",
      "170795 y2 t3 Image ROI Left 8bit 145 133 93\n",
      "170795 y2 t3 Image ROI Right 8bit 152 148 93\n",
      "170795 y2 t3 Kidney ROI Left 8bit 145 133 93\n",
      "170795 y2 t3 Kidney ROI Right 8bit 152 148 93\n",
      "170795 y3 t3 Cyst ROI Left 8bit 138 134 93\n",
      "170795 y3 t3 Cyst ROI Right 8bit 116 152 93\n",
      "170795 y3 t3 Image ROI Left 8bit 138 134 93\n",
      "170795 y3 t3 Image ROI Right 8bit 116 152 93\n",
      "170795 y3 t3 Kidney ROI Left 8bit 138 134 93\n",
      "170795 y3 t3 Kidney ROI Right 8bit 116 152 93\n",
      "173203 y0 t3 Cyst ROI Left 8bit 129 167 87\n",
      "173203 y0 t3 Cyst ROI Right 8bit 123 163 87\n",
      "173203 y0 t3 Image ROI Left 8bit 129 167 87\n",
      "173203 y0 t3 Image ROI Right 8bit 123 163 87\n",
      "173203 y0 t3 Kidney ROI Left 8bit 129 167 87\n",
      "173203 y0 t3 Kidney ROI Right 8bit 123 163 87\n",
      "173203 y1 t3 Cyst ROI Left 8bit 131 165 99\n",
      "173203 y1 t3 Cyst ROI Right 8bit 142 167 99\n",
      "173203 y1 t3 Image ROI Left 8bit 131 165 99\n",
      "173203 y1 t3 Image ROI Right 8bit 142 167 99\n",
      "173203 y1 t3 Kidney ROI Left 8bit 131 165 99\n",
      "173203 y1 t3 Kidney ROI Right 8bit 142 167 99\n",
      "173203 y2 t3 Cyst ROI Left 8bit 133 179 93\n",
      "173203 y2 t3 Cyst ROI Right 8bit 139 163 93\n",
      "173203 y2 t3 Image ROI Left 8bit 133 179 93\n",
      "173203 y2 t3 Image ROI Right 8bit 139 163 93\n",
      "173203 y2 t3 Kidney ROI Left 8bit 133 179 93\n",
      "173203 y2 t3 Kidney ROI Right 8bit 139 163 93\n",
      "173203 y3 t3 Cyst ROI Left 8bit 134 186 99\n",
      "173203 y3 t3 Cyst ROI Right 8bit 144 176 99\n",
      "173203 y3 t3 Image ROI Left 8bit 134 186 99\n",
      "173203 y3 t3 Image ROI Right 8bit 144 176 99\n",
      "173203 y3 t3 Kidney ROI Left 8bit 134 186 99\n",
      "173203 y3 t3 Kidney ROI Right 8bit 144 176 99\n",
      "178750 y0 t3 Cyst ROI Left 8bit 123 167 129\n",
      "178750 y0 t3 Cyst ROI Right 8bit 133 232 129\n",
      "178750 y0 t3 Image ROI Left 8bit 123 167 129\n",
      "178750 y0 t3 Image ROI Right 8bit 133 232 129\n",
      "178750 y0 t3 Kidney ROI Left 8bit 123 167 129\n",
      "178750 y0 t3 Kidney ROI Right 8bit 133 232 129\n",
      "178750 y1 t3 Cyst ROI Left 8bit 126 172 144\n",
      "178750 y1 t3 Cyst ROI Right 8bit 126 232 144\n",
      "178750 y1 t3 Image ROI Left 8bit 126 172 144\n",
      "178750 y1 t3 Image ROI Right 8bit 126 232 144\n",
      "178750 y1 t3 Kidney ROI Left 8bit 126 172 144\n",
      "178750 y1 t3 Kidney ROI Right 8bit 126 232 144\n",
      "178750 y2 t3 Cyst ROI Left 8bit 129 165 144\n",
      "178750 y2 t3 Cyst ROI Right 8bit 138 237 144\n",
      "178750 y2 t3 Image ROI Left 8bit 129 165 144\n",
      "178750 y2 t3 Image ROI Right 8bit 138 237 144\n",
      "178750 y2 t3 Kidney ROI Left 8bit 129 165 144\n",
      "178750 y2 t3 Kidney ROI Right 8bit 138 237 144\n",
      "178750 y3 t3 Cyst ROI Left 8bit 127 176 144\n",
      "178750 y3 t3 Cyst ROI Right 8bit 133 231 144\n",
      "178750 y3 t3 Image ROI Left 8bit 127 176 144\n",
      "178750 y3 t3 Image ROI Right 8bit 133 231 144\n",
      "178750 y3 t3 Kidney ROI Left 8bit 127 176 144\n",
      "178750 y3 t3 Kidney ROI Right 8bit 133 231 144\n",
      "183417 y0 t3 Cyst ROI Left 8bit 123 194 129\n",
      "183417 y0 t3 Cyst ROI Right 8bit 122 182 129\n",
      "183417 y0 t3 Image ROI Left 8bit 123 194 129\n",
      "183417 y0 t3 Image ROI Right 8bit 122 182 129\n",
      "183417 y0 t3 Kidney ROI Left 8bit 123 194 129\n",
      "183417 y0 t3 Kidney ROI Right 8bit 122 182 129\n",
      "183417 y1 t3 Cyst ROI Left 8bit 126 191 144\n",
      "183417 y1 t3 Cyst ROI Right 8bit 120 175 144\n",
      "183417 y1 t3 Image ROI Left 8bit 126 191 144\n",
      "183417 y1 t3 Image ROI Right 8bit 120 175 144\n",
      "183417 y1 t3 Kidney ROI Left 8bit 126 191 144\n",
      "183417 y1 t3 Kidney ROI Right 8bit 120 175 144\n",
      "183417 y2 t3 Cyst ROI Left 8bit 131 197 144\n",
      "183417 y2 t3 Cyst ROI Right 8bit 129 183 144\n",
      "183417 y2 t3 Image ROI Left 8bit 131 197 144\n",
      "183417 y2 t3 Image ROI Right 8bit 129 183 144\n",
      "183417 y2 t3 Kidney ROI Left 8bit 131 197 144\n",
      "183417 y2 t3 Kidney ROI Right 8bit 129 183 144\n",
      "183417 y3 t3 Cyst ROI Left 8bit 126 217 144\n",
      "183417 y3 t3 Cyst ROI Right 8bit 133 186 144\n",
      "183417 y3 t3 Image ROI Left 8bit 126 217 144\n",
      "183417 y3 t3 Image ROI Right 8bit 133 186 144\n",
      "183417 y3 t3 Kidney ROI Left 8bit 126 217 144\n",
      "183417 y3 t3 Kidney ROI Right 8bit 133 186 144\n",
      "186714 y0 t3 Cyst ROI Left 8bit 123 161 78\n",
      "186714 y0 t3 Cyst ROI Right 8bit 133 170 78\n",
      "186714 y0 t3 Image ROI Left 8bit 123 161 78\n",
      "186714 y0 t3 Image ROI Right 8bit 133 170 78\n",
      "186714 y0 t3 Kidney ROI Left 8bit 123 161 78\n",
      "186714 y0 t3 Kidney ROI Right 8bit 133 170 78\n",
      "186714 y1 t3 Cyst ROI Left 8bit 129 167 93\n",
      "186714 y1 t3 Cyst ROI Right 8bit 134 175 93\n",
      "186714 y1 t3 Image ROI Left 8bit 129 167 93\n",
      "186714 y1 t3 Image ROI Right 8bit 134 175 93\n",
      "186714 y1 t3 Kidney ROI Left 8bit 129 167 93\n",
      "186714 y1 t3 Kidney ROI Right 8bit 134 175 93\n",
      "186714 y2 t3 Cyst ROI Left 8bit 133 159 96\n",
      "186714 y2 t3 Cyst ROI Right 8bit 135 179 96\n",
      "186714 y2 t3 Image ROI Left 8bit 133 159 96\n",
      "186714 y2 t3 Image ROI Right 8bit 135 179 96\n",
      "186714 y2 t3 Kidney ROI Left 8bit 133 159 96\n",
      "186714 y2 t3 Kidney ROI Right 8bit 135 179 96\n",
      "186714 y3 t3 Cyst ROI Left 8bit 130 165 96\n",
      "186714 y3 t3 Cyst ROI Right 8bit 138 180 96\n",
      "186714 y3 t3 Image ROI Left 8bit 130 165 96\n",
      "186714 y3 t3 Image ROI Right 8bit 138 180 96\n",
      "186714 y3 t3 Kidney ROI Left 8bit 130 165 96\n",
      "186714 y3 t3 Kidney ROI Right 8bit 138 180 96\n",
      "187456 y0 t3 Cyst ROI Left 8bit 135 165 87\n",
      "187456 y0 t3 Cyst ROI Right 8bit 137 206 87\n",
      "187456 y0 t3 Image ROI Left 8bit 135 165 87\n",
      "187456 y0 t3 Image ROI Right 8bit 137 206 87\n",
      "187456 y0 t3 Kidney ROI Left 8bit 135 165 87\n",
      "187456 y0 t3 Kidney ROI Right 8bit 137 206 87\n",
      "187456 y1 t3 Cyst ROI Left 8bit 138 161 120\n",
      "187456 y1 t3 Cyst ROI Right 8bit 129 204 120\n",
      "187456 y1 t3 Image ROI Left 8bit 138 161 120\n",
      "187456 y1 t3 Image ROI Right 8bit 129 204 120\n",
      "187456 y1 t3 Kidney ROI Left 8bit 138 161 120\n",
      "187456 y1 t3 Kidney ROI Right 8bit 129 204 120\n",
      "187456 y2 t3 Cyst ROI Left 8bit 127 168 120\n",
      "187456 y2 t3 Cyst ROI Right 8bit 130 205 120\n",
      "187456 y2 t3 Image ROI Left 8bit 127 168 120\n",
      "187456 y2 t3 Image ROI Right 8bit 130 205 120\n",
      "187456 y2 t3 Kidney ROI Left 8bit 127 168 120\n",
      "187456 y2 t3 Kidney ROI Right 8bit 130 205 120\n",
      "187456 y3 t3 Cyst ROI Left 8bit 142 154 120\n",
      "187456 y3 t3 Cyst ROI Right 8bit 139 197 120\n",
      "187456 y3 t3 Image ROI Left 8bit 142 154 120\n",
      "187456 y3 t3 Image ROI Right 8bit 139 197 120\n",
      "187456 y3 t3 Kidney ROI Left 8bit 142 154 120\n",
      "187456 y3 t3 Kidney ROI Right 8bit 139 197 120\n",
      "193273 y0 t3 Cyst ROI Left 8bit 116 150 96\n",
      "193273 y0 t3 Cyst ROI Right 8bit 128 153 96\n",
      "193273 y0 t3 Image ROI Left 8bit 116 150 96\n",
      "193273 y0 t3 Image ROI Right 8bit 128 153 96\n",
      "193273 y0 t3 Kidney ROI Left 8bit 116 150 96\n",
      "193273 y0 t3 Kidney ROI Right 8bit 128 153 96\n",
      "193273 y1 t3 Cyst ROI Left 8bit 111 153 99\n",
      "193273 y1 t3 Cyst ROI Right 8bit 128 161 99\n",
      "193273 y1 t3 Image ROI Left 8bit 111 153 99\n",
      "193273 y1 t3 Image ROI Right 8bit 128 161 99\n",
      "193273 y1 t3 Kidney ROI Left 8bit 111 153 99\n",
      "193273 y1 t3 Kidney ROI Right 8bit 128 161 99\n"
     ]
    },
    {
     "name": "stdout",
     "output_type": "stream",
     "text": [
      "193273 y2 t3 Cyst ROI Left 8bit 120 152 111\n",
      "193273 y2 t3 Cyst ROI Right 8bit 136 156 111\n",
      "193273 y2 t3 Image ROI Left 8bit 120 152 111\n",
      "193273 y2 t3 Image ROI Right 8bit 136 156 111\n",
      "193273 y2 t3 Kidney ROI Left 8bit 120 152 111\n",
      "193273 y2 t3 Kidney ROI Right 8bit 136 156 111\n",
      "193273 y3 t3 Cyst ROI Left 8bit 125 150 111\n",
      "193273 y3 t3 Cyst ROI Right 8bit 131 156 111\n",
      "193273 y3 t3 Image ROI Left 8bit 125 150 111\n",
      "193273 y3 t3 Image ROI Right 8bit 131 156 111\n",
      "193273 y3 t3 Kidney ROI Left 8bit 125 150 111\n",
      "193273 y3 t3 Kidney ROI Right 8bit 131 156 111\n",
      "complete --- nice job\n"
     ]
    }
   ],
   "source": [
    "convert_NPY_NII(this_list) "
   ]
  },
  {
   "cell_type": "markdown",
   "id": "f781ee2f",
   "metadata": {},
   "source": [
    "## Re-assign Masks\n",
    "Move the masks to a new location in the file structure desired"
   ]
  },
  {
   "cell_type": "code",
   "execution_count": 13,
   "id": "500fea14",
   "metadata": {},
   "outputs": [],
   "source": [
    "path = r\"C:\\Users\\UAB\\data\\KU\\KU_NII\"\n",
    "cyst_path = cyst_path\n",
    "cyst_names=[]\n",
    "for root, dirs, files in os.walk(os.path.normpath(path), topdown=True):\n",
    "    for name in files:\n",
    "        #print(os.path.join(root, name))\n",
    "        cyst_names.append(os.path.join(root, name))\n",
    "\n",
    "C_list = []\n",
    "for j in range(len(cyst_names)):\n",
    "    C_name = '_C'\n",
    "    filename = os.path.basename(cyst_names[j])\n",
    "    if C_name in filename:\n",
    "        C_list.append(cyst_names[j])\n",
    "\n",
    "for i in range(len(C_list)):\n",
    "    shutil.move(C_list[i],cyst_path )"
   ]
  },
  {
   "cell_type": "markdown",
   "id": "121d1532",
   "metadata": {},
   "source": [
    "# Save as single slices\n"
   ]
  },
  {
   "cell_type": "code",
   "execution_count": 2,
   "id": "f5b0cf05",
   "metadata": {},
   "outputs": [],
   "source": [
    "def gather_set(data_path, phrase):\n",
    "    set_of = []\n",
    "    path = data_path + '\\\\'\n",
    "    for f in os.listdir(data_path):\n",
    "      if phrase in f:\n",
    "        set_of.append(f)\n",
    "      else:\n",
    "        continue\n",
    "    set_of = np.array(set_of)\n",
    "\n",
    "    indices = np.array(range(len(set_of))) # we will use this in the next step.\n",
    "\n",
    "    return set_of\n",
    "\n"
   ]
  },
  {
   "cell_type": "markdown",
   "id": "b0c3f570",
   "metadata": {},
   "source": [
    "Use next two for NPY files"
   ]
  },
  {
   "cell_type": "code",
   "execution_count": null,
   "id": "554b07b5",
   "metadata": {},
   "outputs": [],
   "source": [
    "data_path = r\"C:\\Users\\UAB\\data\\Mayo\\Original\\issues converted\"\n",
    "new_path = r\"C:\\Users\\UAB\\data\\Mayo\\data\"\n",
    "\n",
    "\n",
    "labels = gather_set(data_path, '_K')\n",
    "\n",
    "\n",
    "for i in range(len(labels)):\n",
    "    working_img = np.load(data_path + '\\\\' + labels[i])\n",
    "    file_name = labels[i][:-7]\n",
    "    for j in range(working_img.shape[-1]):\n",
    "        save_slice = working_img[:,:,j]\n",
    "        new_fname = str(file_name + str(j) +'_K')\n",
    "        np.save(os.path.join(new_path, new_fname), save_slice)\n"
   ]
  },
  {
   "cell_type": "code",
   "execution_count": 16,
   "id": "316d7157",
   "metadata": {},
   "outputs": [],
   "source": [
    "images = gather_set(data_path, '_M.')\n",
    "for i in range(len(images)):\n",
    "    working_img = np.load(data_path + '\\\\' + images[i])\n",
    "    file_name = images[i][:-5]\n",
    "    for j in range(working_img.shape[-1]):\n",
    "        save_slice = working_img[:,:,j]\n",
    "        new_fname = str(file_name + str(j) +'_M')\n",
    "        np.save(os.path.join(new_path, new_fname), save_slice)"
   ]
  },
  {
   "cell_type": "markdown",
   "id": "923a2316",
   "metadata": {},
   "source": [
    "Use for NII files"
   ]
  },
  {
   "cell_type": "code",
   "execution_count": 3,
   "id": "3e28d459",
   "metadata": {},
   "outputs": [],
   "source": [
    "data_path = r'C:\\Users\\UAB\\data\\KU\\KU_NII'\n",
    "final_path = r'C:\\Users\\UAB\\data\\KU\\KU_NII'\n",
    "kidney_non = gather_set(data_path, '_K')"
   ]
  },
  {
   "cell_type": "code",
   "execution_count": 4,
   "id": "098fd9bd",
   "metadata": {},
   "outputs": [],
   "source": [
    "import nibabel as nib\n",
    "data_path = r\"C:\\Users\\UAB\\data\\KU\\KU_NII\"\n",
    "new_path = r\"C:\\Users\\UAB\\data\\KU\\KU_nii_single\"\n",
    "images = gather_set(data_path, '_M.')"
   ]
  },
  {
   "cell_type": "code",
   "execution_count": 10,
   "id": "e6fa7c9e",
   "metadata": {},
   "outputs": [
    {
     "name": "stdout",
     "output_type": "stream",
     "text": [
      "249\n",
      "248\n"
     ]
    }
   ],
   "source": [
    "print(len(images))\n",
    "print(len(kidney_non))\n",
    "images = images[1:]"
   ]
  },
  {
   "cell_type": "code",
   "execution_count": 14,
   "id": "c7a0ac59",
   "metadata": {},
   "outputs": [
    {
     "name": "stdout",
     "output_type": "stream",
     "text": [
      "248\n",
      "248\n",
      "101934_0_96_L_M.nii\n",
      "101934_0_96_L_M_K.nii\n"
     ]
    }
   ],
   "source": [
    "print(len(images))\n",
    "print(len(kidney_non))\n",
    "print(images[0])\n",
    "print(kidney_non[0])"
   ]
  },
  {
   "cell_type": "code",
   "execution_count": 13,
   "id": "8d1db7f0",
   "metadata": {},
   "outputs": [],
   "source": [
    "for i in range(len(images)):\n",
    "    working_img = nib.load(data_path + '\\\\' + images[i])\n",
    "    working_img = working_img.get_fdata()\n",
    "    file_name = images[i][:-5]\n",
    "    for j in range(working_img.shape[-1]):\n",
    "        save_slice = working_img[:,:,j]\n",
    "        new_fname = str(file_name + str(j) +'_M')\n",
    "        affine = np.eye(4)\n",
    "        nifti_file = nib.Nifti1Image(save_slice, affine)\n",
    "        nib.save(nifti_file, os.path.join(new_path, \"%s\" %new_fname))"
   ]
  },
  {
   "cell_type": "code",
   "execution_count": 15,
   "id": "8112b45b",
   "metadata": {},
   "outputs": [
    {
     "name": "stdout",
     "output_type": "stream",
     "text": [
      "(512, 512)\n"
     ]
    },
    {
     "data": {
      "text/plain": [
       "<matplotlib.image.AxesImage at 0x1668ef7d100>"
      ]
     },
     "execution_count": 15,
     "metadata": {},
     "output_type": "execute_result"
    },
    {
     "data": {
      "image/png": "[encoded data removed]",
      "text/plain": [
       "<Figure size 640x480 with 1 Axes>"
      ]
     },
     "metadata": {},
     "output_type": "display_data"
    }
   ],
   "source": [
    "img = nib.load(r\"C:\\Users\\UAB\\data\\KU\\KU_nii_single\\101934_0_96_L_50_M.nii\").get_fdata()\n",
    "print(img.shape)\n",
    "%matplotlib inline\n",
    "plt.imshow(img)\n"
   ]
  },
  {
   "cell_type": "code",
   "execution_count": 20,
   "id": "8331ece0",
   "metadata": {},
   "outputs": [],
   "source": [
    "for i in range(len(kidney_non)):\n",
    "    working_img = nib.load(data_path + '\\\\' + kidney_non[i])\n",
    "    working_img = working_img.get_fdata()\n",
    "    file_name = images[i][:-5]\n",
    "    for j in range(working_img.shape[-1]):\n",
    "        save_slice = working_img[:,:,j]\n",
    "        new_fname = str(file_name + str(j) +'_K')\n",
    "        affine = np.eye(4)\n",
    "        nifti_file = nib.Nifti1Image(save_slice, affine)\n",
    "        nib.save(nifti_file, os.path.join(new_path, \"%s\" %new_fname))"
   ]
  },
  {
   "cell_type": "code",
   "execution_count": 30,
   "id": "5cd55373",
   "metadata": {},
   "outputs": [
    {
     "name": "stdout",
     "output_type": "stream",
     "text": [
      "26454\n",
      "101934_0_96_L_0_K.nii\n"
     ]
    }
   ],
   "source": [
    "data_path = r'C:\\Users\\UAB\\data\\KU\\KU_nii_single'\n",
    "bin_path =r'D:\\data\\KU\\KU_nii_binarized'\n",
    "seg_list = gather_set(data_path, '_K')\n",
    "print(len(seg_list))\n",
    "print(seg_list[0])"
   ]
  },
  {
   "cell_type": "code",
   "execution_count": 31,
   "id": "efec6e3d",
   "metadata": {},
   "outputs": [],
   "source": [
    "for i in range(len(seg_list)):\n",
    "    segment = nib.load(data_path+\"\\\\\"+seg_list[i])\n",
    "    seg_data = segment.get_fdata()\n",
    "    binarized = np.where(seg_data>1,1,seg_data)\n",
    "    affine = np.eye(4)\n",
    "    nifti_file = nib.Nifti1Image(binarized, affine)\n",
    "    nib.save(nifti_file, os.path.join(bin_path, \"%s\" %seg_list[i]))"
   ]
  },
  {
   "cell_type": "code",
   "execution_count": 21,
   "id": "891dc295",
   "metadata": {},
   "outputs": [
    {
     "name": "stdout",
     "output_type": "stream",
     "text": [
      "(512, 512)\n"
     ]
    },
    {
     "data": {
      "text/plain": [
       "<matplotlib.image.AxesImage at 0x1668cb0c700>"
      ]
     },
     "execution_count": 21,
     "metadata": {},
     "output_type": "execute_result"
    },
    {
     "data": {
      "image/png": "[encoded data removed]",
      "text/plain": [
       "<Figure size 640x480 with 1 Axes>"
      ]
     },
     "metadata": {},
     "output_type": "display_data"
    }
   ],
   "source": [
    "img = nib.load(r\"C:\\Users\\UAB\\data\\KU\\KU_nii_single\\101934_0_96_L_50_K.nii\").get_fdata()\n",
    "print(img.shape)\n",
    "%matplotlib inline\n",
    "plt.imshow(img)"
   ]
  },
  {
   "cell_type": "code",
   "execution_count": 19,
   "id": "aeb0d0c7",
   "metadata": {},
   "outputs": [],
   "source": [
    "\n",
    "\n"
   ]
  },
  {
   "cell_type": "code",
   "execution_count": 20,
   "id": "dcd29a63",
   "metadata": {},
   "outputs": [
    {
     "name": "stdout",
     "output_type": "stream",
     "text": [
      "248\n"
     ]
    }
   ],
   "source": [
    "print(len(images))"
   ]
  },
  {
   "cell_type": "code",
   "execution_count": null,
   "id": "2becc54a",
   "metadata": {},
   "outputs": [],
   "source": [
    "for i in range(len(labels)):\n",
    "    working_img = nib.load(data_path + '\\\\' + labels[i])\n",
    "    working_img = working_img.get_fdata()\n",
    "    file_name = labels[i][:-7]\n",
    "    for j in range(working_img.shape[-1]):\n",
    "        save_slice = working_img[:,:,j]\n",
    "        new_fname = str(file_name + str(j) +'_K')\n",
    "        np.save(os.path.join(new_path, new_fname), save_slice)"
   ]
  },
  {
   "cell_type": "code",
   "execution_count": 62,
   "id": "f8b804f5",
   "metadata": {},
   "outputs": [],
   "source": [
    "data_path = r\"C:\\Users\\UAB\\data\\UAB\\AllNPY\"\n",
    "\n",
    "images = gather_set(data_path, '_M.')\n",
    "labels = gather_set(data_path, '_K')\n"
   ]
  },
  {
   "cell_type": "markdown",
   "id": "f65d6500",
   "metadata": {},
   "source": [
    "## Binarize masks\n",
    "first gather the set based on the naming convention above, then binarize and save in a different location"
   ]
  },
  {
   "cell_type": "code",
   "execution_count": 18,
   "id": "873ac98b",
   "metadata": {},
   "outputs": [],
   "source": [
    "final_path = r\"C:\\Users\\UAB\\data\\Mayo\\data\"\n",
    "seg_list = gather_set(final_path, '_K')\n",
    "\n",
    "\n",
    "for i in range(len(seg_list)):\n",
    "    seg_data = np.load(final_path+\"\\\\\"+seg_list[i])\n",
    "    file_name = seg_list[i][:-4]\n",
    "    binarized = np.where(seg_data>1,1,seg_data)\n",
    "    np.save(os.path.join(final_path, file_name), binarized)"
   ]
  },
  {
   "cell_type": "code",
   "execution_count": 18,
   "id": "fcd3c175",
   "metadata": {},
   "outputs": [
    {
     "name": "stdout",
     "output_type": "stream",
     "text": [
      "864\n"
     ]
    }
   ],
   "source": [
    "print(len(seg_list))"
   ]
  },
  {
   "cell_type": "markdown",
   "id": "348d4bb2",
   "metadata": {},
   "source": [
    "check sizes and range\n"
   ]
  },
  {
   "cell_type": "code",
   "execution_count": 19,
   "id": "9b64c744",
   "metadata": {},
   "outputs": [
    {
     "name": "stdout",
     "output_type": "stream",
     "text": [
      "93 (512, 512)\n",
      "1 (512, 512)\n"
     ]
    }
   ],
   "source": [
    "image_test = np.load(r\"C:\\Users\\UAB\\data\\Mayo\\data\\359308_2_126_R_66_M.npy\")\n",
    "print(image_test.max(), image_test.shape)\n",
    "label_test = np.load(r\"C:\\Users\\UAB\\data\\Mayo\\data\\359308_2_126_R_66_K.npy\")\n",
    "print(label_test.max(), label_test.shape)"
   ]
  },
  {
   "cell_type": "code",
   "execution_count": 20,
   "id": "81563495",
   "metadata": {},
   "outputs": [
    {
     "data": {
      "text/plain": [
       "<matplotlib.image.AxesImage at 0x2b0ccc1b790>"
      ]
     },
     "execution_count": 20,
     "metadata": {},
     "output_type": "execute_result"
    },
    {
     "data": {
      "image/png": "[encoded data removed]",
      "text/plain": [
       "<Figure size 640x480 with 1 Axes>"
      ]
     },
     "metadata": {},
     "output_type": "display_data"
    }
   ],
   "source": [
    "%matplotlib inline\n",
    "\n",
    "plt.imshow(image_test, cmap='gray')"
   ]
  },
  {
   "cell_type": "code",
   "execution_count": 21,
   "id": "9b358474",
   "metadata": {},
   "outputs": [
    {
     "data": {
      "text/plain": [
       "<matplotlib.image.AxesImage at 0x2b0cce2d580>"
      ]
     },
     "execution_count": 21,
     "metadata": {},
     "output_type": "execute_result"
    },
    {
     "data": {
      "image/png": "[encoded data removed]",
      "text/plain": [
       "<Figure size 640x480 with 1 Axes>"
      ]
     },
     "metadata": {},
     "output_type": "display_data"
    }
   ],
   "source": [
    "plt.imshow(label_test, cmap='gray')"
   ]
  },
  {
   "cell_type": "code",
   "execution_count": 119,
   "id": "f03d87a7",
   "metadata": {},
   "outputs": [],
   "source": [
    "def convert_NPY_NII_small(ROI_list):\n",
    "    #new_size= new_size\n",
    "    print('Converting', str(len(ROI_list)), 'files')\n",
    "    for i in range(len(ROI_list)): # loop through all the available files from the list that had our keyword\n",
    "        orig_fname = os.path.basename(ROI_list[i])# grab the ith filename in the list\n",
    "        print(orig_fname)\n",
    "        #extract information from the filename\n",
    "        if orig_fname[0].isdigit(): \n",
    "            orig_fname = orig_fname\n",
    "        else:\n",
    "            orig_fname = orig_fname[3:]\n",
    "        num_slice = int(orig_fname[-3:])\n",
    "        #print(num_slice)\n",
    "        if num_slice < 15:\n",
    "            orig_fname = this_list[2]\n",
    "            num_slice = int(orig_fname[-3:])\n",
    "            num_width = int((orig_fname[-7:-4]))\n",
    "            #print(num_width)\n",
    "            num_height = int((orig_fname[-11:-8]))\n",
    "        elif num_slice < 50:\n",
    "            #print('over 99')\n",
    "            num_slice = int(orig_fname[-3:])\n",
    "            num_width = int((orig_fname[-8:-4]))\n",
    "            #print(num_width)\n",
    "            num_height = int((orig_fname[-12:-8]))\n",
    "            #print(num_height)\n",
    "        else:\n",
    "            #print('less than 99')\n",
    "            num_width = int((orig_fname[-7:-3]))\n",
    "            #print(num_width)\n",
    "            num_height = int((orig_fname[-10:-7]))\n",
    "            #print(num_height)\n",
    "        pt_numb =(orig_fname[0:6])\n",
    "        yr_numb = (orig_fname[8])\n",
    "        if 'Cyst' in orig_fname:\n",
    "            img_type = 'C'\n",
    "        elif 'Kidney' in orig_fname:\n",
    "            img_type = 'M_K'\n",
    "        elif 'Image' in orig_fname:\n",
    "            img_type = 'M'\n",
    "        if 'Right' in orig_fname:\n",
    "            side = 'R'\n",
    "        elif 'Left' in orig_fname:\n",
    "            side = 'L'\n",
    "        call_file = str(ROI_list[i]) #define our filename with path to open (working_path+'/'+orig_fname)\n",
    "        resized = np.zeros((num_slice,new_size,new_size), dtype ='uint8')\n",
    "        transposed = np.zeros((new_size, new_size, num_slice), dtype='uint8')\n",
    "        with open(r'%s' %call_file, 'rb') as file: #read in raw uint8 and resize correctly\n",
    "             data = np.fromfile(file, dtype = 'uint8').reshape(num_slice,num_width,num_height)\n",
    "             for j in range(num_slice):\n",
    "                 orig_slice = data[j]\n",
    "                 re_slice = Image.fromarray(orig_slice)\n",
    "                 resized[j] = resize_with_padding(re_slice, (new_size, new_size))\n",
    "             for i in range(resized.shape[0]):\n",
    "                 old_slice = resized[i,:,:]\n",
    "                 transposed[:,:,i] = old_slice\n",
    "\n",
    "                 # now we need to rename this resized array and save it as a .npy\n",
    "        #new_fname = str('%s' %orig_fname + '_RESIZED_') #keep the original name for now \n",
    "        new_fname = str(pt_numb +'_'+ yr_numb +'_'+ str(num_slice) +'_'+ side + '_' +  img_type )\n",
    "        file_name = \"%s\" %new_fname # add our extension\n",
    "        np.save(os.path.join(new_path, file_name), transposed) # save in the new file folder\n",
    "        converted_array = np.array(transposed, dtype=np.float32)\n",
    "        affine = np.eye(4)\n",
    "        nifti_file = nib.Nifti1Image(converted_array, affine)\n",
    "        nib.save(nifti_file, os.path.join(final_path, \"%s\" %new_fname))\n",
    "\n",
    "\n",
    "    print(\"complete --- nice job\")"
   ]
  },
  {
   "cell_type": "code",
   "execution_count": 120,
   "id": "40a15ec2",
   "metadata": {
    "scrolled": false
   },
   "outputs": [
    {
     "name": "stdout",
     "output_type": "stream",
     "text": [
      "\n",
      "Patient Folders have been identified\n",
      "\n",
      "\n",
      "Filenames have been found and added\n",
      "\n",
      "copied and moved 18 files\n",
      "Converting 18 files\n",
      "246620 y0 Cyst ROI Left 8bit 98 131 90\n",
      "246620 y0 Image ROI Left 8bit 98 131 90\n",
      "246620 y0 Kidney ROI Left 8bit 98 131 90\n",
      "246620 y1 Cyst ROI Left 8bit 99 130 90\n",
      "246620 y1 Image ROI Left 8bit 99 130 90\n",
      "246620 y1 Kidney ROI Left 8bit 99 130 90\n",
      "246620 y3 Cyst ROI Left 8bit 94 131 90\n",
      "246620 y3 Image ROI Left 8bit 94 131 90\n",
      "246620 y3 Kidney ROI Left 8bit 94 131 90\n",
      "265171 y2 Cyst ROI Left 8bit 98 142 90\n",
      "265171 y2 Cyst ROI Right 8bit 99 146 90\n",
      "265171 y2 Image ROI Left 8bit 98 142 90\n",
      "265171 y2 Image ROI Right 8bit 99 146 90\n",
      "265171 y2 Kidney ROI Left 8bit 98 142 90\n",
      "265171 y2 Kidney ROI Right 8bit 99 146 90\n",
      "265171 y3 Cyst ROI Left 8bit 95 141 96\n",
      "265171 y3 Image ROI Left 8bit 95 141 96\n",
      "265171 y3 Kidney ROI Left 8bit 95 141 96\n",
      "complete --- nice job\n"
     ]
    }
   ],
   "source": [
    "raw_path = r'C:\\Users\\UAB\\data\\Emory\\issues'\n",
    "new_path = r'C:\\Users\\UAB\\data\\Emory\\npy'\n",
    "final_path = r'C:\\Users\\UAB\\data\\Emory\\nii'\n",
    "cyst_path = r'C:\\Users\\UAB\\data\\Emory\\c'\n",
    "new_size = 512\n",
    "\n",
    "this_list = gather_filenames(raw_path)\n",
    "\n",
    "\n",
    "convert_NPY_NII_small(this_list) \n"
   ]
  },
  {
   "cell_type": "code",
   "execution_count": 121,
   "id": "9cd2d9e3",
   "metadata": {},
   "outputs": [],
   "source": [
    "\n",
    "    \n",
    "data_path = r\"C:\\Users\\UAB\\data\\Emory\\npy\"\n",
    "new_path = r\"C:\\Users\\UAB\\data\\Emory\\new\"\n",
    "\n",
    "\n",
    "labels = gather_set(data_path, '_K')\n",
    "\n",
    "\n",
    "for i in range(len(labels)):\n",
    "    working_img = np.load(data_path + '\\\\' + labels[i])\n",
    "    file_name = labels[i][:-7]\n",
    "    for j in range(working_img.shape[-1]):\n",
    "        save_slice = working_img[:,:,j]\n",
    "        new_fname = str(file_name + str(j) +'_K')\n",
    "        np.save(os.path.join(new_path, new_fname), save_slice)"
   ]
  },
  {
   "cell_type": "code",
   "execution_count": 122,
   "id": "d5a06286",
   "metadata": {},
   "outputs": [],
   "source": [
    "images = gather_set(data_path, '_M.')\n",
    "for i in range(len(images)):\n",
    "    working_img = np.load(data_path + '\\\\' + images[i])\n",
    "    file_name = images[i][:-5]\n",
    "    for j in range(working_img.shape[-1]):\n",
    "        save_slice = working_img[:,:,j]\n",
    "        new_fname = str(file_name + str(j) +'_M')\n",
    "        np.save(os.path.join(new_path, new_fname), save_slice)"
   ]
  },
  {
   "cell_type": "code",
   "execution_count": null,
   "id": "67c6e357",
   "metadata": {},
   "outputs": [],
   "source": [
    "final_path = r\"C:\\Users\\UAB\\data\\Emory\\new\"\n",
    "seg_list = gather_set(final_path, '_K')\n",
    "\n",
    "\n",
    "for i in range(len(seg_list)):\n",
    "    seg_data = np.load(final_path+\"\\\\\"+seg_list[i])\n",
    "    file_name = seg_list[i][:-4]\n",
    "    binarized = np.where(seg_data>1,1,seg_data)\n",
    "    np.save(os.path.join(final_path, file_name), binarized)"
   ]
  },
  {
   "cell_type": "code",
   "execution_count": 80,
   "id": "3c82eb03",
   "metadata": {},
   "outputs": [
    {
     "name": "stdout",
     "output_type": "stream",
     "text": [
      "249 (512, 512)\n",
      "1 (512, 512)\n"
     ]
    }
   ],
   "source": [
    "image_test = np.load(r\"C:\\Users\\UAB\\data\\Mayo\\Original\\Pt 303868\\new\\303868_0_87_L_30_M.npy\")\n",
    "print(image_test.max(), image_test.shape)\n",
    "label_test = np.load(r\"C:\\Users\\UAB\\data\\Mayo\\Original\\Pt 303868\\new\\303868_0_87_L_30_K.npy\")\n",
    "print(label_test.max(), label_test.shape)"
   ]
  },
  {
   "cell_type": "code",
   "execution_count": 84,
   "id": "b6ceacdc",
   "metadata": {},
   "outputs": [
    {
     "data": {
      "text/plain": [
       "<matplotlib.image.AxesImage at 0x20e003eaeb0>"
      ]
     },
     "execution_count": 84,
     "metadata": {},
     "output_type": "execute_result"
    },
    {
     "data": {
      "image/png": "[encoded data removed]",
      "text/plain": [
       "<Figure size 640x480 with 1 Axes>"
      ]
     },
     "metadata": {},
     "output_type": "display_data"
    }
   ],
   "source": [
    "plt.imshow(image_test, cmap='gray')\n"
   ]
  },
  {
   "cell_type": "code",
   "execution_count": 83,
   "id": "fa3a2c0b",
   "metadata": {},
   "outputs": [
    {
     "data": {
      "text/plain": [
       "<matplotlib.image.AxesImage at 0x20e00396f70>"
      ]
     },
     "execution_count": 83,
     "metadata": {},
     "output_type": "execute_result"
    },
    {
     "data": {
      "image/png": "[encoded data removed]",
      "text/plain": [
       "<Figure size 640x480 with 1 Axes>"
      ]
     },
     "metadata": {},
     "output_type": "display_data"
    }
   ],
   "source": [
    "plt.imshow(label_test, cmap='gray')"
   ]
  },
  {
   "cell_type": "code",
   "execution_count": 3,
   "id": "0ead8c39",
   "metadata": {},
   "outputs": [],
   "source": [
    "import os\n",
    "\n",
    "directory = os.path.abspath(r'')\n",
    "\n",
    "for files in os.listdir(directory):\n",
    "    os.rename(files, str('MA_'+files))"
   ]
  },
  {
   "cell_type": "code",
   "execution_count": 4,
   "id": "a78af4e4",
   "metadata": {},
   "outputs": [
    {
     "ename": "FileNotFoundError",
     "evalue": "[WinError 2] The system cannot find the file specified: '200922_0_144_L_0_K.npy' -> 'EM_200922_0_144_L_0_K.npy'",
     "output_type": "error",
     "traceback": [
      "\u001b[1;31m---------------------------------------------------------------------------\u001b[0m",
      "\u001b[1;31mFileNotFoundError\u001b[0m                         Traceback (most recent call last)",
      "\u001b[1;32m<ipython-input-4-a40d1d45e38b>\u001b[0m in \u001b[0;36m<module>\u001b[1;34m\u001b[0m\n\u001b[0;32m      1\u001b[0m \u001b[1;32mfor\u001b[0m \u001b[0mfilename\u001b[0m \u001b[1;32min\u001b[0m \u001b[0mos\u001b[0m\u001b[1;33m.\u001b[0m\u001b[0mlistdir\u001b[0m\u001b[1;33m(\u001b[0m\u001b[0mdirectory\u001b[0m\u001b[1;33m)\u001b[0m\u001b[1;33m:\u001b[0m\u001b[1;33m\u001b[0m\u001b[1;33m\u001b[0m\u001b[0m\n\u001b[1;32m----> 2\u001b[1;33m     \u001b[0mos\u001b[0m\u001b[1;33m.\u001b[0m\u001b[0mrename\u001b[0m\u001b[1;33m(\u001b[0m\u001b[0mfilename\u001b[0m\u001b[1;33m,\u001b[0m \u001b[0mstr\u001b[0m\u001b[1;33m(\u001b[0m\u001b[1;34m'EM_'\u001b[0m\u001b[1;33m+\u001b[0m \u001b[0mfilename\u001b[0m\u001b[1;33m)\u001b[0m\u001b[1;33m)\u001b[0m\u001b[1;33m\u001b[0m\u001b[1;33m\u001b[0m\u001b[0m\n\u001b[0m",
      "\u001b[1;31mFileNotFoundError\u001b[0m: [WinError 2] The system cannot find the file specified: '200922_0_144_L_0_K.npy' -> 'EM_200922_0_144_L_0_K.npy'"
     ]
    }
   ],
   "source": [
    "\n"
   ]
  },
  {
   "cell_type": "code",
   "execution_count": null,
   "id": "28ba0556",
   "metadata": {},
   "outputs": [],
   "source": []
  }
 ],
 "metadata": {
  "kernelspec": {
   "display_name": "Python 3",
   "language": "python",
   "name": "python3"
  },
  "language_info": {
   "codemirror_mode": {
    "name": "ipython",
    "version": 3
   },
   "file_extension": ".py",
   "mimetype": "text/x-python",
   "name": "python",
   "nbconvert_exporter": "python",
   "pygments_lexer": "ipython3",
   "version": "3.8.5"
  }
 },
 "nbformat": 4,
 "nbformat_minor": 5
}
