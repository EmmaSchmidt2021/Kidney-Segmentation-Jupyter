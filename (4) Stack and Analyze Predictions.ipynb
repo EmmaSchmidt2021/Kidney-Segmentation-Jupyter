{
 "cells": [
  {
   "cell_type": "markdown",
   "id": "76a6e692",
   "metadata": {},
   "source": [
    "The purpose of this code is to gather the predicted images, load them into their original volume and calculate the dice\n"
   ]
  },
  {
   "cell_type": "code",
   "execution_count": 1,
   "id": "6064f73f",
   "metadata": {},
   "outputs": [
    {
     "name": "stdout",
     "output_type": "stream",
     "text": [
      "-----------------------------------------\n",
      "keras-unet init: TF version is >= 2.0.0 - using `tf.keras` instead of `Keras`\n",
      "-----------------------------------------\n"
     ]
    }
   ],
   "source": [
    "from keras.models import Sequential, load_model\n",
    "import os\n",
    "import numpy as np\n",
    "import nibabel as nib\n",
    "import tensorflow as tf\n",
    "import matplotlib.pyplot as plt\n",
    "from skimage import measure\n",
    "from skimage.transform import resize\n",
    "from keras_unet.metrics import dice_coef\n",
    "from keras_unet.models import custom_unet\n",
    "from keras_unet.losses import jaccard_distance\n",
    "from sklearn.model_selection import train_test_split\n",
    "from PIL import Image\n",
    "from PIL import ImageOps\n",
    "import fnmatch\n",
    "import nibabel as nib\n",
    "import shutil\n",
    "import re\n",
    "import pandas as pd\n",
    "%matplotlib inline"
   ]
  },
  {
   "cell_type": "code",
   "execution_count": 2,
   "id": "802c37ff",
   "metadata": {},
   "outputs": [],
   "source": [
    "import numpy as np\n",
    "from keras import backend as K\n",
    "smooth = 1\n",
    "\n",
    "def jaccard_distance_loss(y_true, y_pred, smooth=100): \n",
    "    y_true_f = K.flatten(y_true)\n",
    "    y_pred_f = K.flatten(y_pred)\n",
    "    intersection = K.sum(K.abs(y_true_f * y_pred_f)) \n",
    "    sum_ = K.sum(K.abs(y_true_f) + K.abs(y_pred_f)) \n",
    "    jac = (intersection + smooth) / (sum_ - intersection + smooth) \n",
    "    return (1 - jac) * smooth \n",
    "\n",
    "def mean_length_error(y_true, y_pred):\n",
    "    y_true_f = K.sum(K.round(K.flatten(y_true)))\n",
    "    y_pred_f = K.sum(K.round(K.flatten(y_pred)))\n",
    "    delta = (y_pred_f - y_true_f)\n",
    "    return K.mean(K.tanh(delta))\n",
    "\n",
    "def dice_coef(y_true, y_pred):\n",
    "    y_true_f = K.flatten(y_true)\n",
    "    y_pred_f = K.flatten(y_pred)\n",
    "    intersection = K.sum(y_true_f * y_pred_f)\n",
    "    return (2. * intersection + smooth) / (K.sum(y_true_f) + K.sum(y_pred_f) + smooth)\n",
    "\n",
    "def dice_coef_loss(y_true, y_pred):\n",
    "    return -dice_coef(y_true, y_pred)\n",
    "\n",
    "def np_dice_coef(y_true, y_pred):\n",
    "    tr = y_true.flatten()\n",
    "    pr = y_pred.flatten()\n",
    "    return (2. * np.sum(tr * pr) + smooth) / (np.sum(tr) + np.sum(pr) + smooth)"
   ]
  },
  {
   "cell_type": "code",
   "execution_count": 3,
   "id": "5cb67528",
   "metadata": {},
   "outputs": [],
   "source": [
    "def gather_set(data_path, phrase):\n",
    "    set_of = []\n",
    "    path = data_path + '\\\\'\n",
    "    for f in os.listdir(data_path):\n",
    "      if phrase in f:\n",
    "        set_of.append(f)\n",
    "      else:\n",
    "        continue\n",
    "    set_of = np.array(set_of)\n",
    "\n",
    "    indices = np.array(range(len(set_of))) # we will use this in the next step.\n",
    "\n",
    "    return set_of\n"
   ]
  },
  {
   "cell_type": "code",
   "execution_count": 51,
   "id": "f0158d35",
   "metadata": {},
   "outputs": [],
   "source": [
    "filepath_predictions = r\"D:\\EKS-predicted\\KU\\UB-cyst\"\n",
    "filepath_tensors = r\"D:\\EKS-predicted\\Tensors\\KU\\Tensors\"\n",
    "filepath_data = filepath_predictions\n",
    "images = gather_set(filepath_predictions, 'UAB_cyst_35ep')\n",
    "model_name = 'UAB_cyst_35ep'"
   ]
  },
  {
   "cell_type": "code",
   "execution_count": 52,
   "id": "2cf5f4a9",
   "metadata": {},
   "outputs": [
    {
     "name": "stdout",
     "output_type": "stream",
     "text": [
      "11399 L\n",
      "13948 R\n",
      "15792 R\n",
      "18341 R\n",
      "18671 L\n",
      "18671 R\n",
      "18745 L\n"
     ]
    }
   ],
   "source": [
    "image_list = []\n",
    "\n",
    "#Emory\n",
    "#phrase_list = ['283935R','290336L','290336R','295106L','295106R']\n",
    "#Mayo\n",
    "#phrase_list = ['380166R','383193L','383193R','385151L','385151R']\n",
    "#UAB\n",
    "#phrase_list = ['457036L','457036R']\n",
    "#KU\n",
    "phrase_list = ['113994L','139486R','157925R','183417R','186714L','186714R','187456L']\n",
    "\n",
    "for i in range(len(phrase_list)):\n",
    "    phrase1 = phrase_list[i][:-2]\n",
    "    phrase2 = phrase_list[i][-1]\n",
    "    print(phrase1, phrase2)\n",
    "    for z in range(len(images)):\n",
    "        name = images[z]\n",
    "        if phrase1 in name:\n",
    "            if phrase2 in name:\n",
    "                image_list.append(name)\n",
    "            else:\n",
    "                continue\n",
    "        else:\n",
    "            continue"
   ]
  },
  {
   "cell_type": "code",
   "execution_count": 53,
   "id": "cb1b4f47",
   "metadata": {},
   "outputs": [],
   "source": [
    "id_list = []   \n",
    "for i in range(len(image_list)):\n",
    "    image_name = image_list[i]\n",
    "    unique_id =  image_name[0:17]\n",
    "    id_list.append(unique_id)\n",
    "unique_ids = list(set(id_list))"
   ]
  },
  {
   "cell_type": "code",
   "execution_count": 54,
   "id": "597e91c3",
   "metadata": {},
   "outputs": [
    {
     "name": "stdout",
     "output_type": "stream",
     "text": [
      "['KU_186714_2_96_R_', 'KU_186714_0_78_R_', 'KU_113994_2_99_L_', 'KU_187456_2_120_L', 'KU_113994_3_108_L', 'KU_157925_0_126_R', 'KU_157925_2_144_R', 'KU_139486_1_99_R_', 'KU_139486_0_126_R', 'KU_157925_1_141_R', 'KU_139486_3_111_R', 'KU_183417_0_129_R', 'KU_186714_2_96_L_', 'KU_113994_0_87_L_', 'KU_186714_3_96_L_', 'KU_186714_3_96_R_', 'KU_183417_3_144_R', 'KU_186714_1_93_R_', 'KU_183417_1_144_R', 'KU_187456_1_120_L', 'KU_186714_1_93_L_', 'KU_187456_3_120_L', 'KU_139486_2_99_R_', 'KU_183417_2_144_R', 'KU_157925_3_144_R', 'KU_187456_0_87_L_', 'KU_186714_0_78_L_', 'KU_113994_1_99_L_']\n"
     ]
    }
   ],
   "source": [
    "print(unique_ids)"
   ]
  },
  {
   "cell_type": "code",
   "execution_count": 55,
   "id": "5f55bd1a",
   "metadata": {},
   "outputs": [],
   "source": [
    "for i in range(len(unique_ids)):\n",
    "    name = unique_ids[i]\n",
    "    if not name.endswith('_'):\n",
    "        name = name+'_'\n",
    "        unique_ids[i]=name"
   ]
  },
  {
   "cell_type": "code",
   "execution_count": 56,
   "id": "6b25c5f0",
   "metadata": {},
   "outputs": [
    {
     "name": "stdout",
     "output_type": "stream",
     "text": [
      "['KU_186714_2_96_R_', 'KU_186714_0_78_R_', 'KU_113994_2_99_L_', 'KU_187456_2_120_L_', 'KU_113994_3_108_L_', 'KU_157925_0_126_R_', 'KU_157925_2_144_R_', 'KU_139486_1_99_R_', 'KU_139486_0_126_R_', 'KU_157925_1_141_R_', 'KU_139486_3_111_R_', 'KU_183417_0_129_R_', 'KU_186714_2_96_L_', 'KU_113994_0_87_L_', 'KU_186714_3_96_L_', 'KU_186714_3_96_R_', 'KU_183417_3_144_R_', 'KU_186714_1_93_R_', 'KU_183417_1_144_R_', 'KU_187456_1_120_L_', 'KU_186714_1_93_L_', 'KU_187456_3_120_L_', 'KU_139486_2_99_R_', 'KU_183417_2_144_R_', 'KU_157925_3_144_R_', 'KU_187456_0_87_L_', 'KU_186714_0_78_L_', 'KU_113994_1_99_L_']\n"
     ]
    }
   ],
   "source": [
    "print(unique_ids)"
   ]
  },
  {
   "cell_type": "markdown",
   "id": "8055505a",
   "metadata": {},
   "source": [
    "## Stack original and predicted images into a tensor for metric calculations"
   ]
  },
  {
   "cell_type": "code",
   "execution_count": null,
   "id": "7f538ea5",
   "metadata": {},
   "outputs": [],
   "source": [
    "for i in range(len(unique_ids)):\n",
    "    pt_info = unique_ids[i]\n",
    "    pt_num, yr_num, num_slices = re.findall(r'\\d+', pt_info)\n",
    "    tensor = np.zeros((512,512,int(num_slices)))\n",
    "    for x in range(int(num_slices)):\n",
    "        img_name = unique_ids[i]+str(x)+'_K.npy'\n",
    "        image = np.load(filepath_data + '\\\\' + img_name)\n",
    "        img_slice = image\n",
    "        tensor[:,:,x] = img_slice\n",
    "        x = x+1\n",
    "    new_fname = unique_ids[i]+'K.npy'\n",
    "    np.save(os.path.join(filepath_tensors, new_fname), tensor)"
   ]
  },
  {
   "cell_type": "code",
   "execution_count": 57,
   "id": "b5628fd0",
   "metadata": {},
   "outputs": [],
   "source": [
    "for i in range(len(unique_ids)):\n",
    "    pt_info = unique_ids[i]\n",
    "    pt_num, yr_num, num_slices = re.findall(r'\\d+', pt_info)\n",
    "    tensor = np.zeros((512,512,int(num_slices)))\n",
    "    for x in range(int(num_slices)):\n",
    "        img_name = unique_ids[i]+str(x)+ '_' + model_name +'_C.npy'\n",
    "        image = np.load(filepath_predictions + '\\\\' + img_name)\n",
    "        img_slice = image[:,:,1]\n",
    "        tensor[:,:,x] = img_slice\n",
    "        x = x+1\n",
    "    new_fname = unique_ids[i]+ model_name +'_Cpred.npy'\n",
    "    np.save(os.path.join(filepath_tensors, new_fname), tensor)"
   ]
  },
  {
   "cell_type": "markdown",
   "id": "a19659c4",
   "metadata": {},
   "source": [
    "# Gather prediction tensors and calculate stats\n"
   ]
  },
  {
   "cell_type": "code",
   "execution_count": 58,
   "id": "4bca7ce5",
   "metadata": {},
   "outputs": [
    {
     "name": "stdout",
     "output_type": "stream",
     "text": [
      "['KU_113994_0_87_L_UAB_cyst_35ep_Cpred.npy'\n",
      " 'KU_113994_1_99_L_UAB_cyst_35ep_Cpred.npy'\n",
      " 'KU_113994_2_99_L_UAB_cyst_35ep_Cpred.npy'\n",
      " 'KU_113994_3_108_L_UAB_cyst_35ep_Cpred.npy'\n",
      " 'KU_139486_0_126_R_UAB_cyst_35ep_Cpred.npy'\n",
      " 'KU_139486_1_99_R_UAB_cyst_35ep_Cpred.npy'\n",
      " 'KU_139486_2_99_R_UAB_cyst_35ep_Cpred.npy'\n",
      " 'KU_139486_3_111_R_UAB_cyst_35ep_Cpred.npy'\n",
      " 'KU_157925_0_126_R_UAB_cyst_35ep_Cpred.npy'\n",
      " 'KU_157925_1_141_R_UAB_cyst_35ep_Cpred.npy'\n",
      " 'KU_157925_2_144_R_UAB_cyst_35ep_Cpred.npy'\n",
      " 'KU_157925_3_144_R_UAB_cyst_35ep_Cpred.npy'\n",
      " 'KU_183417_0_129_R_UAB_cyst_35ep_Cpred.npy'\n",
      " 'KU_183417_1_144_R_UAB_cyst_35ep_Cpred.npy'\n",
      " 'KU_183417_2_144_R_UAB_cyst_35ep_Cpred.npy'\n",
      " 'KU_183417_3_144_R_UAB_cyst_35ep_Cpred.npy'\n",
      " 'KU_186714_0_78_L_UAB_cyst_35ep_Cpred.npy'\n",
      " 'KU_186714_0_78_R_UAB_cyst_35ep_Cpred.npy'\n",
      " 'KU_186714_1_93_L_UAB_cyst_35ep_Cpred.npy'\n",
      " 'KU_186714_1_93_R_UAB_cyst_35ep_Cpred.npy'\n",
      " 'KU_186714_2_96_L_UAB_cyst_35ep_Cpred.npy'\n",
      " 'KU_186714_2_96_R_UAB_cyst_35ep_Cpred.npy'\n",
      " 'KU_186714_3_96_L_UAB_cyst_35ep_Cpred.npy'\n",
      " 'KU_186714_3_96_R_UAB_cyst_35ep_Cpred.npy'\n",
      " 'KU_187456_0_87_L_UAB_cyst_35ep_Cpred.npy'\n",
      " 'KU_187456_1_120_L_UAB_cyst_35ep_Cpred.npy'\n",
      " 'KU_187456_2_120_L_UAB_cyst_35ep_Cpred.npy'\n",
      " 'KU_187456_3_120_L_UAB_cyst_35ep_Cpred.npy']\n",
      "['KU_113994_0_87_L_C.npy' 'KU_113994_0_87_R_C.npy'\n",
      " 'KU_113994_1_99_L_C.npy' 'KU_113994_1_99_R_C.npy'\n",
      " 'KU_113994_2_99_L_C.npy' 'KU_113994_2_99_R_C.npy'\n",
      " 'KU_113994_3_108_L_C.npy' 'KU_113994_3_108_R_C.npy'\n",
      " 'KU_139486_0_126_R_C.npy' 'KU_139486_1_99_R_C.npy'\n",
      " 'KU_139486_2_99_R_C.npy' 'KU_139486_3_111_R_C.npy'\n",
      " 'KU_157925_0_126_R_C.npy' 'KU_157925_1_141_R_C.npy'\n",
      " 'KU_157925_2_144_R_C.npy' 'KU_157925_3_144_R_C.npy'\n",
      " 'KU_183417_0_129_R_C.npy' 'KU_183417_1_144_R_C.npy'\n",
      " 'KU_183417_2_144_R_C.npy' 'KU_183417_3_144_R_C.npy'\n",
      " 'KU_186714_0_78_L_C.npy' 'KU_186714_0_78_R_C.npy'\n",
      " 'KU_186714_1_93_L_C.npy' 'KU_186714_1_93_R_C.npy'\n",
      " 'KU_186714_2_96_L_C.npy' 'KU_186714_2_96_R_C.npy'\n",
      " 'KU_186714_3_96_L_C.npy' 'KU_186714_3_96_R_C.npy'\n",
      " 'KU_187456_0_87_L_C.npy' 'KU_187456_0_87_R_C.npy'\n",
      " 'KU_187456_1_120_L_C.npy' 'KU_187456_1_120_R_C.npy'\n",
      " 'KU_187456_2_120_L_C.npy' 'KU_187456_2_120_R_C.npy'\n",
      " 'KU_187456_3_120_L_C.npy' 'KU_187456_3_120_R_C.npy']\n"
     ]
    }
   ],
   "source": [
    "filepath_tensors = r'D:\\EKS-predicted\\Tensors\\KU\\Tensors'\n",
    "pred_list = gather_set(filepath_tensors, 'UAB_cyst_35ep')\n",
    "true_list = gather_set(filepath_tensors, '_C.')\n",
    "print(pred_list)\n",
    "print(true_list)"
   ]
  },
  {
   "cell_type": "code",
   "execution_count": 59,
   "id": "39843b2a",
   "metadata": {},
   "outputs": [
    {
     "name": "stdout",
     "output_type": "stream",
     "text": [
      "UAB_cyst_35ep\n",
      "KU_113994_3_108_L_C.npy\n"
     ]
    }
   ],
   "source": [
    "name =pred_list[3]\n",
    "print(name[-23:-10])\n",
    "test = pred_list[3][:-23]+'C.npy'\n",
    "print(test)"
   ]
  },
  {
   "cell_type": "code",
   "execution_count": 60,
   "id": "362ff557",
   "metadata": {},
   "outputs": [],
   "source": [
    "results = []\n",
    "for i in range(len(pred_list)):\n",
    "    prediction = np.load(filepath_tensors + '\\\\'+ pred_list[i])\n",
    "    true = np.load(filepath_tensors + '\\\\'+pred_list[i][:-23]+'C.npy')\n",
    "    dice_calc = dice_coef(true,prediction)\n",
    "    model = pred_list[i][-23:-10]\n",
    "    patient = pred_list[i][:-23]\n",
    "    new_calc = [patient, model, dice_calc.numpy()]\n",
    "    results.append(new_calc)\n",
    "    "
   ]
  },
  {
   "cell_type": "code",
   "execution_count": 61,
   "id": "ba0e9e5f",
   "metadata": {},
   "outputs": [
    {
     "name": "stdout",
     "output_type": "stream",
     "text": [
      "[['KU_113994_0_87_L_', 'UAB_cyst_35ep', 0.7387246021537239], ['KU_113994_1_99_L_', 'UAB_cyst_35ep', 0.7485357092776166], ['KU_113994_2_99_L_', 'UAB_cyst_35ep', 0.7109652364938729], ['KU_113994_3_108_L_', 'UAB_cyst_35ep', 0.7366829706578635], ['KU_139486_0_126_R_', 'UAB_cyst_35ep', 0.8032065047860396], ['KU_139486_1_99_R_', 'UAB_cyst_35ep', 0.7958216703453889], ['KU_139486_2_99_R_', 'UAB_cyst_35ep', 0.8306714329618426], ['KU_139486_3_111_R_', 'UAB_cyst_35ep', 0.7820194874271506], ['KU_157925_0_126_R_', 'UAB_cyst_35ep', 0.7841782541768734], ['KU_157925_1_141_R_', 'UAB_cyst_35ep', 0.6846033186670086], ['KU_157925_2_144_R_', 'UAB_cyst_35ep', 0.6720328638497652], ['KU_157925_3_144_R_', 'UAB_cyst_35ep', 0.6904262656279653], ['KU_183417_0_129_R_', 'UAB_cyst_35ep', 0.7367050832705145], ['KU_183417_1_144_R_', 'UAB_cyst_35ep', 0.6671403010209451], ['KU_183417_2_144_R_', 'UAB_cyst_35ep', 0.7143693730997196], ['KU_183417_3_144_R_', 'UAB_cyst_35ep', 0.6198035052662254], ['KU_186714_0_78_L_', 'UAB_cyst_35ep', 0.8401467261267468], ['KU_186714_0_78_R_', 'UAB_cyst_35ep', 0.7787571976257086], ['KU_186714_1_93_L_', 'UAB_cyst_35ep', 0.8512967703976975], ['KU_186714_1_93_R_', 'UAB_cyst_35ep', 0.7395340136493234], ['KU_186714_2_96_L_', 'UAB_cyst_35ep', 0.8458565937743674], ['KU_186714_2_96_R_', 'UAB_cyst_35ep', 0.7612321377095087], ['KU_186714_3_96_L_', 'UAB_cyst_35ep', 0.8789679743647871], ['KU_186714_3_96_R_', 'UAB_cyst_35ep', 0.817416929382904], ['KU_187456_0_87_L_', 'UAB_cyst_35ep', 0.693955646029478], ['KU_187456_1_120_L_', 'UAB_cyst_35ep', 0.41475703515712475], ['KU_187456_2_120_L_', 'UAB_cyst_35ep', 0.7691941146152425], ['KU_187456_3_120_L_', 'UAB_cyst_35ep', 0.6535697862813656]]\n"
     ]
    }
   ],
   "source": [
    "print(results)"
   ]
  },
  {
   "cell_type": "code",
   "execution_count": 62,
   "id": "e273351a",
   "metadata": {},
   "outputs": [],
   "source": [
    "df = pd.DataFrame(results)\n",
    "df.columns =['Patient Number', 'Model', 'Dice Score']\n",
    "filepath = r\"C:\\Users\\UAB\\data\\excel results\\KU-uab-model-cyst-results.xlsx\"\n",
    "df.to_excel(filepath, index=False)"
   ]
  },
  {
   "cell_type": "markdown",
   "id": "ea8f29ad",
   "metadata": {},
   "source": [
    "Compute mean square distance\n"
   ]
  },
  {
   "cell_type": "code",
   "execution_count": 14,
   "id": "bff7d9be",
   "metadata": {},
   "outputs": [],
   "source": [
    "import numpy as np\n",
    "from scipy.ndimage import morphology\n",
    "#https://mlnotebook.github.io/post/surface-distance-function/\n",
    "def surfd(input1, input2, sampling=1, connectivity=1):\n",
    "    \n",
    "    input_1 = np.atleast_1d(input1.astype(np.bool))\n",
    "    input_2 = np.atleast_1d(input2.astype(np.bool))\n",
    "    \n",
    "\n",
    "    conn = morphology.generate_binary_structure(input_1.ndim, connectivity)\n",
    "\n",
    "    S = input_1 - morphology.binary_erosion(input_1, conn)\n",
    "    Sprime = input_2 - morphology.binary_erosion(input_2, conn)\n",
    "\n",
    "    \n",
    "    dta = morphology.distance_transform_edt(~S,sampling)\n",
    "    dtb = morphology.distance_transform_edt(~Sprime,sampling)\n",
    "    \n",
    "    sds = np.concatenate([np.ravel(dta[Sprime!=0]), np.ravel(dtb[S!=0])])\n",
    "       \n",
    "    \n",
    "    return sds"
   ]
  },
  {
   "cell_type": "code",
   "execution_count": 16,
   "id": "08fae247",
   "metadata": {},
   "outputs": [
    {
     "name": "stderr",
     "output_type": "stream",
     "text": [
      "<ipython-input-14-a5e6382c6382>:6: DeprecationWarning: `np.bool` is a deprecated alias for the builtin `bool`. To silence this warning, use `bool` by itself. Doing this will not modify any behavior and is safe. If you specifically wanted the numpy scalar type, use `np.bool_` here.\n",
      "Deprecated in NumPy 1.20; for more details and guidance: https://numpy.org/devdocs/release/1.20.0-notes.html#deprecations\n",
      "  input_1 = np.atleast_1d(input1.astype(np.bool))\n",
      "<ipython-input-14-a5e6382c6382>:7: DeprecationWarning: `np.bool` is a deprecated alias for the builtin `bool`. To silence this warning, use `bool` by itself. Doing this will not modify any behavior and is safe. If you specifically wanted the numpy scalar type, use `np.bool_` here.\n",
      "Deprecated in NumPy 1.20; for more details and guidance: https://numpy.org/devdocs/release/1.20.0-notes.html#deprecations\n",
      "  input_2 = np.atleast_1d(input2.astype(np.bool))\n"
     ]
    },
    {
     "ename": "TypeError",
     "evalue": "numpy boolean subtract, the `-` operator, is not supported, use the bitwise_xor, the `^` operator, or the logical_xor function instead.",
     "output_type": "error",
     "traceback": [
      "\u001b[1;31m---------------------------------------------------------------------------\u001b[0m",
      "\u001b[1;31mTypeError\u001b[0m                                 Traceback (most recent call last)",
      "\u001b[1;32m<ipython-input-16-55684d780e48>\u001b[0m in \u001b[0;36m<module>\u001b[1;34m\u001b[0m\n\u001b[1;32m----> 1\u001b[1;33m \u001b[0mresults_srf\u001b[0m \u001b[1;33m=\u001b[0m \u001b[0msurfd\u001b[0m\u001b[1;33m(\u001b[0m\u001b[0mdice_test_true\u001b[0m\u001b[1;33m,\u001b[0m\u001b[0mdice_test_pred\u001b[0m\u001b[1;33m,\u001b[0m\u001b[0msampling\u001b[0m\u001b[1;33m=\u001b[0m\u001b[1;36m1\u001b[0m\u001b[1;33m,\u001b[0m \u001b[0mconnectivity\u001b[0m\u001b[1;33m=\u001b[0m\u001b[1;36m1\u001b[0m\u001b[1;33m)\u001b[0m\u001b[1;33m\u001b[0m\u001b[1;33m\u001b[0m\u001b[0m\n\u001b[0m",
      "\u001b[1;32m<ipython-input-14-a5e6382c6382>\u001b[0m in \u001b[0;36msurfd\u001b[1;34m(input1, input2, sampling, connectivity)\u001b[0m\n\u001b[0;32m     10\u001b[0m     \u001b[0mconn\u001b[0m \u001b[1;33m=\u001b[0m \u001b[0mmorphology\u001b[0m\u001b[1;33m.\u001b[0m\u001b[0mgenerate_binary_structure\u001b[0m\u001b[1;33m(\u001b[0m\u001b[0minput_1\u001b[0m\u001b[1;33m.\u001b[0m\u001b[0mndim\u001b[0m\u001b[1;33m,\u001b[0m \u001b[0mconnectivity\u001b[0m\u001b[1;33m)\u001b[0m\u001b[1;33m\u001b[0m\u001b[1;33m\u001b[0m\u001b[0m\n\u001b[0;32m     11\u001b[0m \u001b[1;33m\u001b[0m\u001b[0m\n\u001b[1;32m---> 12\u001b[1;33m     \u001b[0mS\u001b[0m \u001b[1;33m=\u001b[0m \u001b[0minput_1\u001b[0m \u001b[1;33m-\u001b[0m \u001b[0mmorphology\u001b[0m\u001b[1;33m.\u001b[0m\u001b[0mbinary_erosion\u001b[0m\u001b[1;33m(\u001b[0m\u001b[0minput_1\u001b[0m\u001b[1;33m,\u001b[0m \u001b[0mconn\u001b[0m\u001b[1;33m)\u001b[0m\u001b[1;33m\u001b[0m\u001b[1;33m\u001b[0m\u001b[0m\n\u001b[0m\u001b[0;32m     13\u001b[0m     \u001b[0mSprime\u001b[0m \u001b[1;33m=\u001b[0m \u001b[0minput_2\u001b[0m \u001b[1;33m-\u001b[0m \u001b[0mmorphology\u001b[0m\u001b[1;33m.\u001b[0m\u001b[0mbinary_erosion\u001b[0m\u001b[1;33m(\u001b[0m\u001b[0minput_2\u001b[0m\u001b[1;33m,\u001b[0m \u001b[0mconn\u001b[0m\u001b[1;33m)\u001b[0m\u001b[1;33m\u001b[0m\u001b[1;33m\u001b[0m\u001b[0m\n\u001b[0;32m     14\u001b[0m \u001b[1;33m\u001b[0m\u001b[0m\n",
      "\u001b[1;31mTypeError\u001b[0m: numpy boolean subtract, the `-` operator, is not supported, use the bitwise_xor, the `^` operator, or the logical_xor function instead."
     ]
    }
   ],
   "source": [
    "results_srf = surfd(dice_test_true,dice_test_pred,sampling=1, connectivity=1)\n"
   ]
  },
  {
   "cell_type": "code",
   "execution_count": null,
   "id": "9f0348bc",
   "metadata": {},
   "outputs": [],
   "source": [
    "#gather images that have _K and _P \n",
    "\n",
    "\n",
    "#gather groups that have the first xx number of characters the same\n",
    "\n",
    "#loop through to put all into a 3D tensor\n",
    "#analyze with dice_coef \n",
    "#analyze with surfd"
   ]
  }
 ],
 "metadata": {
  "kernelspec": {
   "display_name": "TF23",
   "language": "python",
   "name": "tf23"
  },
  "language_info": {
   "codemirror_mode": {
    "name": "ipython",
    "version": 3
   },
   "file_extension": ".py",
   "mimetype": "text/x-python",
   "name": "python",
   "nbconvert_exporter": "python",
   "pygments_lexer": "ipython3",
   "version": "3.8.5"
  }
 },
 "nbformat": 4,
 "nbformat_minor": 5
}
