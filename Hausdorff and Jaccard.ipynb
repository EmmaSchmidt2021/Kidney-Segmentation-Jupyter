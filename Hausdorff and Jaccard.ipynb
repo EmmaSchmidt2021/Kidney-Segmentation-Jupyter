{
 "cells": [
  {
   "cell_type": "code",
   "execution_count": 1,
   "id": "38c906c5",
   "metadata": {},
   "outputs": [
    {
     "name": "stdout",
     "output_type": "stream",
     "text": [
      "-----------------------------------------\n",
      "keras-unet init: TF version is >= 2.0.0 - using `tf.keras` instead of `Keras`\n",
      "-----------------------------------------\n"
     ]
    }
   ],
   "source": [
    "from keras.models import Sequential, load_model\n",
    "import os\n",
    "import numpy as np\n",
    "import nibabel as nib\n",
    "import tensorflow as tf\n",
    "import matplotlib.pyplot as plt\n",
    "from skimage import measure\n",
    "from skimage.transform import resize\n",
    "from keras_unet.metrics import dice_coef\n",
    "from keras_unet.models import custom_unet\n",
    "from keras_unet.losses import jaccard_distance\n",
    "from sklearn.model_selection import train_test_split\n",
    "from PIL import Image\n",
    "from PIL import ImageOps\n",
    "import fnmatch\n",
    "import nibabel as nib\n",
    "import shutil\n",
    "import re\n",
    "import pandas as pd\n",
    "%matplotlib inline"
   ]
  },
  {
   "cell_type": "code",
   "execution_count": 2,
   "id": "3510f181",
   "metadata": {},
   "outputs": [],
   "source": [
    "import numpy as np\n",
    "from keras import backend as K\n",
    "smooth = 1\n",
    "\n",
    "def jaccard_distance_loss(y_true, y_pred, smooth=100): \n",
    "    y_true_f = K.flatten(y_true)\n",
    "    y_pred_f = K.flatten(y_pred)\n",
    "    intersection = K.sum(K.abs(y_true_f * y_pred_f)) \n",
    "    sum_ = K.sum(K.abs(y_true_f) + K.abs(y_pred_f)) \n",
    "    jac = (intersection + smooth) / (sum_ - intersection + smooth) \n",
    "    return (1 - jac) * smooth \n"
   ]
  },
  {
   "cell_type": "code",
   "execution_count": 3,
   "id": "d5364c83",
   "metadata": {},
   "outputs": [],
   "source": [
    "def jaccard_coef(y_true, y_pred):\n",
    "    intersection = K.sum(y_true * y_pred)\n",
    "    union = K.sum(y_true + y_pred)\n",
    "    jac = (intersection + 1.) / (union - intersection + 1.)\n",
    "    return K.mean(jac)"
   ]
  },
  {
   "cell_type": "code",
   "execution_count": 4,
   "id": "b7a70669",
   "metadata": {},
   "outputs": [],
   "source": [
    "def iou(y_true, y_pred, smooth=1.):\n",
    "    y_true_f = K.flatten(y_true)\n",
    "    y_pred_f = K.flatten(y_pred)\n",
    "    intersection = K.sum(y_true_f * y_pred_f)\n",
    "    return (intersection + smooth) / (K.sum(y_true_f) + K.sum(y_pred_f) - intersection + smooth)\n"
   ]
  },
  {
   "cell_type": "code",
   "execution_count": 5,
   "id": "5580381b",
   "metadata": {},
   "outputs": [],
   "source": [
    "def gather_set(data_path, phrase):\n",
    "    set_of = []\n",
    "    path = data_path + '\\\\'\n",
    "    for f in os.listdir(data_path):\n",
    "      if phrase in f:\n",
    "        set_of.append(f)\n",
    "      else:\n",
    "        continue\n",
    "    set_of = np.array(set_of)\n",
    "\n",
    "    indices = np.array(range(len(set_of))) # we will use this in the next step.\n",
    "\n",
    "    return set_of\n"
   ]
  },
  {
   "cell_type": "code",
   "execution_count": 6,
   "id": "6a1ad4f3",
   "metadata": {},
   "outputs": [],
   "source": [
    "tense_true = np.load(r\"D:\\Kidney Unet\\tensors\\KU\\KU_101934_2_96_L_K.npy\")\n",
    "tense_pred = np.load(r\"D:\\Kidney Unet\\tensors\\KU\\KU_101934_2_96_L_ALL_INST_80-20_Prediction.npy\")"
   ]
  },
  {
   "cell_type": "code",
   "execution_count": 7,
   "id": "407a3305",
   "metadata": {},
   "outputs": [
    {
     "data": {
      "image/png": "[encoded data removed]",
      "text/plain": [
       "<Figure size 640x480 with 4 Axes>"
      ]
     },
     "metadata": {},
     "output_type": "display_data"
    }
   ],
   "source": [
    "fig, axes = plt.subplots(2, 2)\n",
    "\n",
    "# Plot an image in each subplot\n",
    "axes[0, 0].imshow(tense_true[:,:,50],cmap = 'gray')\n",
    "axes[0, 1].imshow(tense_pred[:,:,50],cmap = 'gray')\n",
    "axes[1, 0].imshow(tense_true[:,:,80],cmap = 'gray')\n",
    "axes[1, 1].imshow(tense_pred[:,:,80],cmap = 'gray')\n",
    "\n",
    "# Show the figure\n",
    "plt.show()"
   ]
  },
  {
   "cell_type": "code",
   "execution_count": 8,
   "id": "e9becd94",
   "metadata": {},
   "outputs": [],
   "source": [
    "out = iou(tense_true, tense_pred, smooth=1.)"
   ]
  },
  {
   "cell_type": "code",
   "execution_count": 9,
   "id": "66d62290",
   "metadata": {},
   "outputs": [
    {
     "name": "stdout",
     "output_type": "stream",
     "text": [
      "tf.Tensor(0.8802445177450904, shape=(), dtype=float64)\n"
     ]
    }
   ],
   "source": [
    "print(out)"
   ]
  },
  {
   "cell_type": "code",
   "execution_count": 14,
   "id": "572c587a",
   "metadata": {},
   "outputs": [],
   "source": [
    "out1 = jaccard_distance_loss(tense_true, tense_pred, smooth=1)"
   ]
  },
  {
   "cell_type": "code",
   "execution_count": 15,
   "id": "d18a01c2",
   "metadata": {},
   "outputs": [
    {
     "name": "stdout",
     "output_type": "stream",
     "text": [
      "tf.Tensor(0.11975548225490984, shape=(), dtype=float64)\n"
     ]
    }
   ],
   "source": [
    "print(out1)"
   ]
  },
  {
   "cell_type": "code",
   "execution_count": 12,
   "id": "126ef0b8",
   "metadata": {},
   "outputs": [],
   "source": [
    "out12 = jaccard_coef(tense_true, tense_pred)"
   ]
  },
  {
   "cell_type": "code",
   "execution_count": 13,
   "id": "c2250e0b",
   "metadata": {},
   "outputs": [
    {
     "name": "stdout",
     "output_type": "stream",
     "text": [
      "tf.Tensor(0.8802445177450902, shape=(), dtype=float64)\n"
     ]
    }
   ],
   "source": [
    "print(out12)"
   ]
  },
  {
   "cell_type": "code",
   "execution_count": 16,
   "id": "de05ca15",
   "metadata": {},
   "outputs": [],
   "source": [
    "def bbox(array, point, radius):\n",
    "    a = array[np.where(np.logical_and(array[:, 0] >= point[0] - radius, array[:, 0] <= point[0] + radius))]\n",
    "    b = a[np.where(np.logical_and(a[:, 1] >= point[1] - radius, a[:, 1] <= point[1] + radius))]\n",
    "    c = b[np.where(np.logical_and(b[:, 2] >= point[2] - radius, b[:, 2] <= point[2] + radius))]\n",
    "    return c\n",
    "\n",
    "def hausdorff(surface_a, surface_b):\n",
    "\n",
    "    # Taking two arrays as input file, the function is searching for the Hausdorff distane of \"surface_a\" to \"surface_b\"\n",
    "    dists = []\n",
    "\n",
    "    l = len(surface_a)\n",
    "\n",
    "    for i in range(l):\n",
    "\n",
    "        # walking through all the points of surface_a\n",
    "        dist_min = 1000.0\n",
    "        radius = 0\n",
    "        b_mod = np.empty(shape=(0, 0, 0))\n",
    "\n",
    "        # increasing the cube size around the point until the cube contains at least 1 point\n",
    "        while b_mod.shape[0] == 0:\n",
    "            b_mod = bbox(surface_b, surface_a[i], radius)\n",
    "            radius += 1\n",
    "\n",
    "        # to avoid getting false result (point is close to the edge, but along an axis another one is closer),\n",
    "        # increasing the size of the cube\n",
    "        b_mod = bbox(surface_b, surface_a[i], radius * math.sqrt(3))\n",
    "\n",
    "        for j in range(len(b_mod)):\n",
    "            # walking through the small number of points to find the minimum distance\n",
    "            dist = np.linalg.norm(surface_a[i] - b_mod[j])\n",
    "            if dist_min > dist:\n",
    "                dist_min = dist\n",
    "\n",
    "        dists.append(dist_min)\n",
    "\n",
    "    return np.max(dists)"
   ]
  },
  {
   "cell_type": "code",
   "execution_count": 61,
   "id": "22e55103",
   "metadata": {},
   "outputs": [],
   "source": [
    "#print(tense_true)\n",
    "#out5 = hausdorff(tense_true, tense_pred)"
   ]
  },
  {
   "cell_type": "code",
   "execution_count": 18,
   "id": "3fa2b2e4",
   "metadata": {},
   "outputs": [],
   "source": [
    "import scipy\n",
    "from scipy.spatial.distance import directed_hausdorff\n",
    "import numpy as np\n",
    "#out6 = scipy.spatial.distance.directed_hausdorff(tense_true, tense_pred, seed=0)\n",
    "#print(out6)"
   ]
  },
  {
   "cell_type": "code",
   "execution_count": 19,
   "id": "678c6af9",
   "metadata": {},
   "outputs": [],
   "source": [
    "from skimage import metrics\n",
    "met = metrics.hausdorff_distance(tense_true[:,:,50], tense_pred[:,:,50])\n",
    "hausdorff_point_a, hausdorff_point_b = metrics.hausdorff_pair(tense_true[:,:,50], tense_pred[:,:,50])"
   ]
  },
  {
   "cell_type": "code",
   "execution_count": 20,
   "id": "3b722962",
   "metadata": {},
   "outputs": [
    {
     "name": "stdout",
     "output_type": "stream",
     "text": [
      "[223 237] 325.41972896553153 [223 237]\n"
     ]
    }
   ],
   "source": [
    "print(hausdorff_point_a, met,hausdorff_point_a)"
   ]
  },
  {
   "cell_type": "code",
   "execution_count": 23,
   "id": "6dcb85b5",
   "metadata": {},
   "outputs": [],
   "source": [
    "import numpy as np\n",
    "from scipy.ndimage import morphology\n",
    "\n",
    "def surfd(input1, input2, sampling=1, connectivity=1):\n",
    "    \n",
    "    input_1 = np.atleast_1d(input1.astype(np.bool))\n",
    "    input_2 = np.atleast_1d(input2.astype(np.bool))\n",
    "    \n",
    "\n",
    "    conn = morphology.generate_binary_structure(input_1.ndim, connectivity)\n",
    "\n",
    "    S = input_1 - morphology.binary_erosion(input_1, conn)\n",
    "    Sprime = input_2 - morphology.binary_erosion(input_2, conn)\n",
    "\n",
    "    \n",
    "    dta = morphology.distance_transform_edt(~S,sampling)\n",
    "    dtb = morphology.distance_transform_edt(~Sprime,sampling)\n",
    "    \n",
    "    sds = np.concatenate([np.ravel(dta[Sprime!=0]), np.ravel(dtb[S!=0])])\n",
    "       \n",
    "    \n",
    "    return sds"
   ]
  },
  {
   "cell_type": "code",
   "execution_count": 24,
   "id": "441d920e",
   "metadata": {},
   "outputs": [],
   "source": [
    "tense_true = np.load(r\"D:\\Kidney Unet\\tensors\\KU\\KU_101934_2_96_L_K.npy\")\n",
    "tense_pred = np.load(r\"D:\\Kidney Unet\\tensors\\KU\\KU_101934_2_96_L_ALL_INST_80-20_Prediction.npy\")"
   ]
  },
  {
   "cell_type": "code",
   "execution_count": 25,
   "id": "9486b2f8",
   "metadata": {},
   "outputs": [],
   "source": [
    "#surface_distance = surfd(tense_true, tense_pred, [1,1,1],1)"
   ]
  },
  {
   "cell_type": "code",
   "execution_count": 26,
   "id": "9248cb2b",
   "metadata": {},
   "outputs": [],
   "source": [
    "def surfd2(input1, input2, sampling=1, connectivity=1):\n",
    "\n",
    "    input_1 = np.atleast_1d(input1.astype(np.bool))\n",
    "    input_2 = np.atleast_1d(input2.astype(np.bool))\n",
    "    conn = morphology.generate_binary_structure(input_1.ndim, connectivity)\n",
    "    S = (input_1.astype('uint8') - (morphology.binary_erosion(input_1, conn).astype('uint8'))).astype('bool')\n",
    "    Sprime = (input_2.astype('uint8') - (morphology.binary_erosion(input_2, conn))).astype('uint8')\n",
    "\n",
    "    # S = input_1 - morphology.binary_erosion(input_1, conn)\n",
    "    # Sprime = input_2 - morphology.binary_erosion(input_2, conn)\n",
    "\n",
    "    dta = morphology.distance_transform_edt(~S,sampling)\n",
    "    dtb = morphology.distance_transform_edt(~Sprime,sampling)\n",
    "\n",
    "    sds = np.concatenate([np.ravel(dta[Sprime!=0]), np.ravel(dtb[S!=0])])\n",
    "\n",
    "    return sds"
   ]
  },
  {
   "cell_type": "code",
   "execution_count": 27,
   "id": "fa2e44b0",
   "metadata": {},
   "outputs": [
    {
     "name": "stderr",
     "output_type": "stream",
     "text": [
      "<ipython-input-26-05a60eb9bade>:3: DeprecationWarning: `np.bool` is a deprecated alias for the builtin `bool`. To silence this warning, use `bool` by itself. Doing this will not modify any behavior and is safe. If you specifically wanted the numpy scalar type, use `np.bool_` here.\n",
      "Deprecated in NumPy 1.20; for more details and guidance: https://numpy.org/devdocs/release/1.20.0-notes.html#deprecations\n",
      "  input_1 = np.atleast_1d(input1.astype(np.bool))\n",
      "<ipython-input-26-05a60eb9bade>:4: DeprecationWarning: `np.bool` is a deprecated alias for the builtin `bool`. To silence this warning, use `bool` by itself. Doing this will not modify any behavior and is safe. If you specifically wanted the numpy scalar type, use `np.bool_` here.\n",
      "Deprecated in NumPy 1.20; for more details and guidance: https://numpy.org/devdocs/release/1.20.0-notes.html#deprecations\n",
      "  input_2 = np.atleast_1d(input2.astype(np.bool))\n",
      "<ipython-input-26-05a60eb9bade>:5: DeprecationWarning: Please use `generate_binary_structure` from the `scipy.ndimage` namespace, the `scipy.ndimage.morphology` namespace is deprecated.\n",
      "  conn = morphology.generate_binary_structure(input_1.ndim, connectivity)\n",
      "<ipython-input-26-05a60eb9bade>:6: DeprecationWarning: Please use `binary_erosion` from the `scipy.ndimage` namespace, the `scipy.ndimage.morphology` namespace is deprecated.\n",
      "  S = (input_1.astype('uint8') - (morphology.binary_erosion(input_1, conn).astype('uint8'))).astype('bool')\n",
      "<ipython-input-26-05a60eb9bade>:7: DeprecationWarning: Please use `binary_erosion` from the `scipy.ndimage` namespace, the `scipy.ndimage.morphology` namespace is deprecated.\n",
      "  Sprime = (input_2.astype('uint8') - (morphology.binary_erosion(input_2, conn))).astype('uint8')\n",
      "<ipython-input-26-05a60eb9bade>:12: DeprecationWarning: Please use `distance_transform_edt` from the `scipy.ndimage` namespace, the `scipy.ndimage.morphology` namespace is deprecated.\n",
      "  dta = morphology.distance_transform_edt(~S,sampling)\n",
      "<ipython-input-26-05a60eb9bade>:13: DeprecationWarning: Please use `distance_transform_edt` from the `scipy.ndimage` namespace, the `scipy.ndimage.morphology` namespace is deprecated.\n",
      "  dtb = morphology.distance_transform_edt(~Sprime,sampling)\n"
     ]
    }
   ],
   "source": [
    "surface_distance = surfd2(tense_true, tense_pred, sampling=1, connectivity=1)"
   ]
  },
  {
   "cell_type": "code",
   "execution_count": 28,
   "id": "299d8216",
   "metadata": {},
   "outputs": [],
   "source": [
    "msd = surface_distance.mean()\n",
    "rms = np.sqrt((surface_distance**2).mean())\n",
    "hd  = surface_distance.max()"
   ]
  },
  {
   "cell_type": "code",
   "execution_count": 29,
   "id": "4d9330c2",
   "metadata": {},
   "outputs": [
    {
     "name": "stdout",
     "output_type": "stream",
     "text": [
      "169.47717053177442\n"
     ]
    }
   ],
   "source": [
    "print(msd)"
   ]
  },
  {
   "cell_type": "code",
   "execution_count": 30,
   "id": "cb6ba465",
   "metadata": {},
   "outputs": [
    {
     "name": "stdout",
     "output_type": "stream",
     "text": [
      "188.51460297358696\n"
     ]
    }
   ],
   "source": [
    "print(rms)"
   ]
  },
  {
   "cell_type": "code",
   "execution_count": 31,
   "id": "dd3f1189",
   "metadata": {},
   "outputs": [
    {
     "name": "stdout",
     "output_type": "stream",
     "text": [
      "432.3297352715864\n"
     ]
    }
   ],
   "source": [
    "print(hd)"
   ]
  },
  {
   "cell_type": "code",
   "execution_count": 32,
   "id": "b6e3d04d",
   "metadata": {},
   "outputs": [],
   "source": [
    "from scipy.spatial.distance import directed_hausdorff\n",
    "\n",
    "# Calculate the directed Hausdorff distance between two 3D point clouds\n",
    "#distance = directed_hausdorff(tense_true[:,:,50], tense_pred[:,:,50])"
   ]
  },
  {
   "cell_type": "code",
   "execution_count": 33,
   "id": "84f4ba2c",
   "metadata": {},
   "outputs": [],
   "source": [
    "def Hausdorff_dist(vol_a,vol_b):\n",
    "    dist_lst = []\n",
    "    for idx in range(len(vol_a)):\n",
    "        dist_min = 1000.0        \n",
    "        for idx2 in range(len(vol_b)):\n",
    "            dist= np.linalg.norm(vol_a[idx]-vol_b[idx2])\n",
    "            if dist_min > dist:\n",
    "                dist_min = dist\n",
    "        dist_lst.append(dist_min)\n",
    "    return np.max(dist_lst)"
   ]
  },
  {
   "cell_type": "code",
   "execution_count": 34,
   "id": "222fcf75",
   "metadata": {},
   "outputs": [],
   "source": [
    "out10 = Hausdorff_dist(tense_true, tense_pred)"
   ]
  },
  {
   "cell_type": "code",
   "execution_count": 35,
   "id": "f0548fe0",
   "metadata": {},
   "outputs": [
    {
     "name": "stdout",
     "output_type": "stream",
     "text": [
      "22.38035128653903\n"
     ]
    }
   ],
   "source": [
    "print(out10)"
   ]
  },
  {
   "cell_type": "markdown",
   "id": "76afb082",
   "metadata": {},
   "source": [
    "# Take code from here down\n",
    "https://github.com/Jingnan-Jia/segmentation_metrics#surface-distance-based-metrics-with-spacing-as-default "
   ]
  },
  {
   "cell_type": "code",
   "execution_count": 1,
   "id": "8f3bd346",
   "metadata": {},
   "outputs": [],
   "source": [
    "# Import packages\n",
    "import medpy\n",
    "import medpy.metric\n",
    "import numpy as np\n",
    "import seg_metrics.seg_metrics as sg\n",
    "import SimpleITK as sitk\n",
    "import matplotlib.pyplot as plt\n",
    "import copy\n",
    "from skimage import measure, morphology\n",
    "from mpl_toolkits.mplot3d.art3d import Poly3DCollection\n",
    "import time\n",
    "import gdown\n",
    "import pandas as pd"
   ]
  },
  {
   "cell_type": "code",
   "execution_count": 44,
   "id": "7d459318",
   "metadata": {},
   "outputs": [
    {
     "name": "stderr",
     "output_type": "stream",
     "text": [
      "Downloading...\n",
      "From: https://drive.google.com/uc?id=1R6rph1_Wc2HfLhzvGkcNt7hgbQiHWZBY\n",
      "To: C:\\Users\\schmi\\EE658\\Kidney-Segmentation-Jupyter\\patients_26_ground_truth.nii.gz\n",
      "100%|██████████████████████████████████████████| 1.17M/1.17M [00:00<00:00, 16.6MB/s]\n",
      "Downloading...\n",
      "From: https://drive.google.com/uc?id=1cShgX96WgK_j4EbfR4wN2RLgcyVR4ca0\n",
      "To: C:\\Users\\schmi\\EE658\\Kidney-Segmentation-Jupyter\\patients_26_segmentation.nii.gz\n",
      "100%|██████████████████████████████████████████| 5.05M/5.05M [00:00<00:00, 33.0MB/s]\n"
     ]
    }
   ],
   "source": [
    "#gdth_url_id = \"1R6rph1_Wc2HfLhzvGkcNt7hgbQiHWZBY\"\n",
    "#pred_url_id = \"1cShgX96WgK_j4EbfR4wN2RLgcyVR4ca0\"\n",
    "#gdth_fpath = \"patients_26_ground_truth.nii.gz\"\n",
    "#pred_fpath = \"patients_26_segmentation.nii.gz\"\n",
    "\n",
    "#gdown.download(id=gdth_url_id, output=gdth_fpath, quiet=False)\n",
    "#gdown.download(id=pred_url_id, output=pred_fpath, quiet=False)\n",
    "\n",
    "# Read images and convert it to numpy array.\n",
    "#gdth_img = sitk.ReadImage(gdth_fpath)\n",
    "#gdth_np = sitk.GetArrayFromImage(gdth_img)\n",
    "\n",
    "#pred_img = sitk.ReadImage(pred_fpath)\n",
    "#pred_np = sitk.GetArrayFromImage(pred_img)  # note: image shape order: (z,y,x)\n",
    "\n",
    "#spacing = np.array(list(reversed(pred_img.GetSpacing())))"
   ]
  },
  {
   "cell_type": "code",
   "execution_count": 47,
   "id": "634da490",
   "metadata": {},
   "outputs": [
    {
     "name": "stdout",
     "output_type": "stream",
     "text": [
      "[1 1 1]\n"
     ]
    }
   ],
   "source": [
    "print(spacing)\n",
    "spacing = np.array([1,1,1]) "
   ]
  },
  {
   "cell_type": "code",
   "execution_count": 2,
   "id": "7f352dac",
   "metadata": {},
   "outputs": [],
   "source": [
    "tense_true = np.load(r\"D:\\Kidney Unet\\tensors\\KU\\KU_101934_2_96_L_K.npy\")\n",
    "tense_pred = np.load(r\"D:\\Kidney Unet\\tensors\\KU\\KU_101934_2_96_L_ALL_INST_80-20_Prediction.npy\")"
   ]
  },
  {
   "cell_type": "code",
   "execution_count": 16,
   "id": "66295af2",
   "metadata": {},
   "outputs": [
    {
     "name": "stderr",
     "output_type": "stream",
     "text": [
      "1it [00:04,  4.08s/it]\n"
     ]
    }
   ],
   "source": [
    "labels = [1]\n",
    "gdth_file = tense_true\n",
    "pred_file = tense_pred\n",
    "csv_file = 'metrics.csv'\n",
    "spacing = np.array([1,1,1]) \n",
    "#spacing = np.array(list(reversed(tense_pred.GetSpacing()))) \n",
    "\n",
    "metrics = sg.write_metrics(labels=labels,  # exclude background if needed\n",
    "                  gdth_img=tense_true,\n",
    "                  pred_img=tense_pred,\n",
    "                  csv_file=csv_file,  # save results to the csv_file \n",
    "                  spacing=spacing,   # assign spacing\n",
    "                  metrics=['hd', 'hd95', 'msd', 'dice', 'jaccard'])\n",
    "df = pd.DataFrame(metrics[0])"
   ]
  },
  {
   "cell_type": "code",
   "execution_count": null,
   "id": "56083016",
   "metadata": {},
   "outputs": [],
   "source": []
  },
  {
   "cell_type": "code",
   "execution_count": 36,
   "id": "cc9cd0aa",
   "metadata": {},
   "outputs": [
    {
     "name": "stdout",
     "output_type": "stream",
     "text": [
      "   label      dice   jaccard         hd       msd  hd95\n",
      "0      1  0.937917  0.883093  26.476404  1.138458   4.0\n"
     ]
    },
    {
     "ename": "AttributeError",
     "evalue": "'list' object has no attribute 'type'",
     "output_type": "error",
     "traceback": [
      "\u001b[1;31m---------------------------------------------------------------------------\u001b[0m",
      "\u001b[1;31mAttributeError\u001b[0m                            Traceback (most recent call last)",
      "Input \u001b[1;32mIn [36]\u001b[0m, in \u001b[0;36m<cell line: 2>\u001b[1;34m()\u001b[0m\n\u001b[0;32m      1\u001b[0m \u001b[38;5;28mprint\u001b[39m(df)\n\u001b[1;32m----> 2\u001b[0m \u001b[38;5;28mprint\u001b[39m(\u001b[43mmetrics\u001b[49m\u001b[38;5;241;43m.\u001b[39;49m\u001b[43mtype\u001b[49m)\n",
      "\u001b[1;31mAttributeError\u001b[0m: 'list' object has no attribute 'type'"
     ]
    }
   ],
   "source": [
    "print(df)\n",
    "print(metrics)"
   ]
  },
  {
   "cell_type": "code",
   "execution_count": 17,
   "id": "f6e70093",
   "metadata": {},
   "outputs": [
    {
     "name": "stdout",
     "output_type": "stream",
     "text": [
      "       0\n",
      "0    pat\n",
      "1  model\n",
      "['pat', 'model']\n"
     ]
    }
   ],
   "source": [
    "patient = 'pat'\n",
    "model = 'model'\n",
    "new = [patient, model]\n",
    "df2 = pd.DataFrame(new)\n",
    "data = pd.DataFrame(new).T\n",
    "print(df2)\n",
    "print(new)"
   ]
  },
  {
   "cell_type": "code",
   "execution_count": 18,
   "id": "fa68fa63",
   "metadata": {},
   "outputs": [
    {
     "name": "stdout",
     "output_type": "stream",
     "text": [
      "     0      1\n",
      "0  pat  model\n"
     ]
    }
   ],
   "source": [
    "print(data)"
   ]
  },
  {
   "cell_type": "code",
   "execution_count": 20,
   "id": "7dbfbde7",
   "metadata": {},
   "outputs": [
    {
     "name": "stdout",
     "output_type": "stream",
     "text": [
      "     0      1  label      dice   jaccard         hd       msd  hd95\n",
      "0  pat  model      1  0.937917  0.883093  26.476404  1.138458   4.0\n"
     ]
    }
   ],
   "source": [
    "df1 = pd.concat([data, df], axis=1)\n",
    "print(df1)"
   ]
  },
  {
   "cell_type": "code",
   "execution_count": 32,
   "id": "2dcd2b20",
   "metadata": {},
   "outputs": [
    {
     "name": "stdout",
     "output_type": "stream",
     "text": [
      "{'label': [1], 'dice': [0.9379174930060118], 'jaccard': [0.8830928735099869], 'hd': [26.476404190063477], 'msd': [1.1384584982193744], 'hd95': [4.0]}\n"
     ]
    }
   ],
   "source": [
    "metrics2 = metrics[0]\n",
    "data2 = pd.DataFrame(new).T\n",
    "print(metrics2)\n",
    "metricsD = pd.DataFrame(metrics[0])"
   ]
  },
  {
   "cell_type": "code",
   "execution_count": 33,
   "id": "830aee74",
   "metadata": {},
   "outputs": [
    {
     "name": "stderr",
     "output_type": "stream",
     "text": [
      "<ipython-input-33-eec138b12561>:1: FutureWarning: The frame.append method is deprecated and will be removed from pandas in a future version. Use pandas.concat instead.\n",
      "  df3 = df1.append(pd.concat([data2, metricsD], axis=1))\n"
     ]
    }
   ],
   "source": [
    "df3 = df1.append(pd.concat([data2, metricsD], axis=1))"
   ]
  },
  {
   "cell_type": "code",
   "execution_count": 34,
   "id": "5ba5ca9c",
   "metadata": {},
   "outputs": [
    {
     "name": "stdout",
     "output_type": "stream",
     "text": [
      "     0      1  label      dice   jaccard         hd       msd  hd95\n",
      "0  pat  model      1  0.937917  0.883093  26.476404  1.138458   4.0\n",
      "0  pat  model      1  0.937917  0.883093  26.476404  1.138458   4.0\n"
     ]
    }
   ],
   "source": [
    "print(df3)"
   ]
  },
  {
   "cell_type": "code",
   "execution_count": 53,
   "id": "95a507d3",
   "metadata": {},
   "outputs": [],
   "source": [
    "def dice_coef(y_true, y_pred):\n",
    "    y_true_f = K.flatten(y_true)\n",
    "    y_pred_f = K.flatten(y_pred)\n",
    "    intersection = K.sum(y_true_f * y_pred_f)\n",
    "    return (2. * intersection + smooth) / (K.sum(y_true_f) + K.sum(y_pred_f) + smooth)"
   ]
  },
  {
   "cell_type": "code",
   "execution_count": 60,
   "id": "6baea14d",
   "metadata": {},
   "outputs": [
    {
     "name": "stdout",
     "output_type": "stream",
     "text": [
      "tf.Tensor(0.9363084793664377, shape=(), dtype=float64)\n"
     ]
    }
   ],
   "source": [
    "out = dice_coef(tense_true,tense_pred)\n",
    "print(out)"
   ]
  },
  {
   "cell_type": "code",
   "execution_count": 59,
   "id": "7bc2fb93",
   "metadata": {},
   "outputs": [
    {
     "name": "stdout",
     "output_type": "stream",
     "text": [
      "tf.Tensor(0.8802445177450902, shape=(), dtype=float64)\n"
     ]
    }
   ],
   "source": [
    "out1 = jaccard_coef(tense_true, tense_pred)\n",
    "print(out1)"
   ]
  },
  {
   "cell_type": "code",
   "execution_count": null,
   "id": "25f5aa7b",
   "metadata": {},
   "outputs": [],
   "source": [
    "results = []\n",
    "for i in range(len(pred_list)):\n",
    "    prediction = np.load(filepath_tensors + '\\\\'+ pred_list[i])\n",
    "    true = np.load(filepath_tensors + '\\\\'+pred_list[i][:-23]+'C.npy')\n",
    "    #dice_calc = dice_coef(true,prediction)\n",
    "    metrics = sg.write_metrics(labels=labels,  # exclude background if needed\n",
    "                  gdth_img=tense_true,\n",
    "                  pred_img=tense_pred,\n",
    "                  csv_file=csv_file,  # save results to the csv_file \n",
    "                  spacing=spacing,   # assign spacing\n",
    "                  metrics=['hd', 'hd95', 'msd', 'dice', 'jaccard'])\n",
    "    model = pred_list[i][-23:-10]\n",
    "    patient = pred_list[i][:-23]\n",
    "    new_calc = [patient, model]\n",
    "    results.append(new_calc)\n",
    "    met = pd.DataFrame(metrics[0])\n",
    "    label = pd.DataFrame(new_calc).T\n",
    "    df = df.append(pd.concat([label, met], axis=1))"
   ]
  },
  {
   "cell_type": "code",
   "execution_count": 37,
   "id": "240322d8",
   "metadata": {},
   "outputs": [
    {
     "data": {
      "text/plain": [
       "list"
      ]
     },
     "execution_count": 37,
     "metadata": {},
     "output_type": "execute_result"
    }
   ],
   "source": [
    "type(metrics)"
   ]
  },
  {
   "cell_type": "code",
   "execution_count": 40,
   "id": "9c86651d",
   "metadata": {},
   "outputs": [
    {
     "data": {
      "text/plain": [
       "{'label': [1],\n",
       " 'dice': [0.9379174930060118],\n",
       " 'jaccard': [0.8830928735099869],\n",
       " 'hd': [26.476404190063477],\n",
       " 'msd': [1.1384584982193744],\n",
       " 'hd95': [4.0]}"
      ]
     },
     "execution_count": 40,
     "metadata": {},
     "output_type": "execute_result"
    }
   ],
   "source": [
    "metrics[0]"
   ]
  },
  {
   "cell_type": "code",
   "execution_count": null,
   "id": "80fdec9b",
   "metadata": {},
   "outputs": [],
   "source": []
  }
 ],
 "metadata": {
  "kernelspec": {
   "display_name": "TF23",
   "language": "python",
   "name": "tf23"
  },
  "language_info": {
   "codemirror_mode": {
    "name": "ipython",
    "version": 3
   },
   "file_extension": ".py",
   "mimetype": "text/x-python",
   "name": "python",
   "nbconvert_exporter": "python",
   "pygments_lexer": "ipython3",
   "version": "3.8.5"
  }
 },
 "nbformat": 4,
 "nbformat_minor": 5
}
