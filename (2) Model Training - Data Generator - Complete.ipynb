{
 "cells": [
  {
   "cell_type": "markdown",
   "id": "df9f41aa",
   "metadata": {},
   "source": [
    "# This code will train the model and save weights  using a data generator"
   ]
  },
  {
   "cell_type": "markdown",
   "id": "af1d7deb",
   "metadata": {},
   "source": [
    "First Import libraries"
   ]
  },
  {
   "cell_type": "code",
   "execution_count": 1,
   "id": "ead55dba",
   "metadata": {},
   "outputs": [
    {
     "name": "stdout",
     "output_type": "stream",
     "text": [
      "-----------------------------------------\n",
      "keras-unet init: TF version is >= 2.0.0 - using `tf.keras` instead of `Keras`\n",
      "-----------------------------------------\n"
     ]
    }
   ],
   "source": [
    "import os\n",
    "import numpy as np\n",
    "import keras\n",
    "import tensorflow\n",
    "from sklearn.model_selection import train_test_split\n",
    "import nibabel as nib\n",
    "import tensorflow as tf\n",
    "from tensorflow.python.keras.utils.data_utils import Sequence\n",
    "from keras.utils import np_utils\n",
    "from tensorflow.keras.utils import to_categorical\n",
    "import matplotlib.pyplot as plt\n",
    "from skimage import measure\n",
    "from skimage.transform import resize\n",
    "from keras_unet.metrics import dice_coef\n",
    "from keras_unet.models import custom_unet\n",
    "from keras_unet.losses import jaccard_distance\n",
    "from sklearn.model_selection import train_test_split\n",
    "from PIL import Image\n",
    "from PIL import ImageOps\n",
    "import fnmatch\n",
    "import nibabel as nib\n",
    "import shutil"
   ]
  },
  {
   "cell_type": "code",
   "execution_count": 2,
   "id": "4b653625",
   "metadata": {},
   "outputs": [
    {
     "data": {
      "text/plain": [
       "[PhysicalDevice(name='/physical_device:GPU:0', device_type='GPU')]"
      ]
     },
     "execution_count": 2,
     "metadata": {},
     "output_type": "execute_result"
    }
   ],
   "source": [
    "from tensorflow.python.client import device_lib\n",
    "tensorflow.config.list_physical_devices('GPU')"
   ]
  },
  {
   "cell_type": "markdown",
   "id": "4479fed1",
   "metadata": {},
   "source": [
    "Define our Data Generator and other functions to be used later"
   ]
  },
  {
   "cell_type": "code",
   "execution_count": 3,
   "id": "5130d9f6",
   "metadata": {},
   "outputs": [],
   "source": [
    "from Data_Gen import DataGenerator "
   ]
  },
  {
   "cell_type": "code",
   "execution_count": 39,
   "id": "5bd16faa",
   "metadata": {},
   "outputs": [],
   "source": [
    "test_image = np.load(r\"C:\\Users\\UAB\\Kidney-Segmentation-Jupyter\\data\\KU_105005_0_84_L_50_M.npy\")\n",
    "test_label = np.load(r\"C:\\Users\\UAB\\Kidney-Segmentation-Jupyter\\data\\KU_105005_0_84_L_50_K.npy\")"
   ]
  },
  {
   "cell_type": "code",
   "execution_count": 40,
   "id": "10b7bac9",
   "metadata": {},
   "outputs": [
    {
     "data": {
      "text/plain": [
       "(512, 512)"
      ]
     },
     "execution_count": 40,
     "metadata": {},
     "output_type": "execute_result"
    }
   ],
   "source": [
    "test_image.shape"
   ]
  },
  {
   "cell_type": "code",
   "execution_count": 41,
   "id": "40d3a9fb",
   "metadata": {},
   "outputs": [
    {
     "data": {
      "text/plain": [
       "1.0"
      ]
     },
     "execution_count": 41,
     "metadata": {},
     "output_type": "execute_result"
    }
   ],
   "source": [
    "test_label.shape\n",
    "test_label.max()"
   ]
  },
  {
   "cell_type": "code",
   "execution_count": 4,
   "id": "bbce0c39",
   "metadata": {},
   "outputs": [],
   "source": [
    "def gather_set(data_path, phrase):\n",
    "    set_of = []\n",
    "    path = data_path + '\\\\'\n",
    "    for f in os.listdir(data_path):\n",
    "      if phrase in f:\n",
    "        set_of.append(f)\n",
    "      else:\n",
    "        continue\n",
    "    #set_of = np.array(set_of)\n",
    "\n",
    "    indices = np.array(range(len(set_of))) # we will use this in the next step.\n",
    "\n",
    "    return set_of"
   ]
  },
  {
   "cell_type": "code",
   "execution_count": 5,
   "id": "f825451d",
   "metadata": {},
   "outputs": [],
   "source": [
    "def gather_set_and_path(data_path, phrase):\n",
    "    set_of = []\n",
    "    path = data_path + '\\\\'\n",
    "    for f in os.listdir(data_path):\n",
    "      if phrase in f:\n",
    "        set_of.append(str(data_path+f))\n",
    "      else:\n",
    "        continue\n",
    "    #set_of = np.array(set_of)\n",
    "\n",
    "    indices = np.array(range(len(set_of))) # we will use this in the next step.\n",
    "\n",
    "    return set_of"
   ]
  },
  {
   "cell_type": "markdown",
   "id": "7cbe24c3",
   "metadata": {},
   "source": [
    "Define the paths where images and segmentations are located. Gather into groups and arrange into a dictionary that can be split up for training, testing, and validation for the model\n",
    "\n",
    "## Expected Dimmentions\n",
    "\n",
    "Image: (512,512) range: 0:255\n",
    "\n",
    "Label: (512,512) range: 0:1"
   ]
  },
  {
   "cell_type": "code",
   "execution_count": 6,
   "id": "a5640bb7",
   "metadata": {},
   "outputs": [
    {
     "name": "stdout",
     "output_type": "stream",
     "text": [
      "67354\n"
     ]
    }
   ],
   "source": [
    "data_path_1 = r\"C:\\Users\\UAB\\Kidney-Segmentation-Jupyter\\data\\\\\"\n",
    "data_path_2 = r\"C:\\Users\\UAB\\data\\Mayo\\data\\\\\"\n",
    "data_path_3 = r\"C:\\Users\\UAB\\data\\Emory\\data\\\\\"\n",
    "data_path_4 = r\"C:\\Users\\UAB\\data\\UAB\\data\\\\\"\n",
    "\n",
    "images_1 = gather_set_and_path(data_path_1, '_M')\n",
    "images_2 = gather_set_and_path(data_path_2, '_M')\n",
    "images_3 = gather_set_and_path(data_path_3, '_M')\n",
    "images_4 = gather_set_and_path(data_path_4, '_M')\n",
    "\n",
    "\n",
    "images = images_1+images_2+images_3+images_4\n",
    "\n",
    "print(len(images))\n",
    "\n"
   ]
  },
  {
   "cell_type": "code",
   "execution_count": 7,
   "id": "4561eb39",
   "metadata": {},
   "outputs": [
    {
     "name": "stdout",
     "output_type": "stream",
     "text": [
      "26262\n",
      "21037\n",
      "18974\n",
      "1081\n"
     ]
    }
   ],
   "source": [
    "print(len(images_1))\n",
    "print(len(images_2))\n",
    "print(len(images_3))\n",
    "print(len(images_4))\n"
   ]
  },
  {
   "cell_type": "code",
   "execution_count": 8,
   "id": "4e5e293b",
   "metadata": {},
   "outputs": [
    {
     "name": "stdout",
     "output_type": "stream",
     "text": [
      "C:\\Users\\UAB\\data\\Emory\\data\\\\EM_295106_2_120_L_47_M.npy\n"
     ]
    },
    {
     "data": {
      "text/plain": [
       "<matplotlib.image.AxesImage at 0x25163eca2b0>"
      ]
     },
     "execution_count": 8,
     "metadata": {},
     "output_type": "execute_result"
    },
    {
     "data": {
      "image/png": "[encoded data removed]",
      "text/plain": [
       "<Figure size 640x480 with 1 Axes>"
      ]
     },
     "metadata": {},
     "output_type": "display_data"
    }
   ],
   "source": [
    "%matplotlib inline\n",
    "print(images[-1500])\n",
    "image = np.load(images[-1500])\n",
    "plt.imshow(image, cmap='gray')\n",
    " \n"
   ]
  },
  {
   "cell_type": "code",
   "execution_count": 9,
   "id": "fda92b79",
   "metadata": {},
   "outputs": [
    {
     "name": "stdout",
     "output_type": "stream",
     "text": [
      "67354\n"
     ]
    }
   ],
   "source": [
    "labels_1 = gather_set_and_path(data_path_1, '_K')\n",
    "labels_2 = gather_set_and_path(data_path_2, '_K')\n",
    "labels_3 = gather_set_and_path(data_path_3, '_K')\n",
    "labels_4 = gather_set_and_path(data_path_4, '_K')\n",
    "\n",
    "labels = labels_1 + labels_2 + labels_3 + labels_4\n",
    "print(len(labels))\n"
   ]
  },
  {
   "cell_type": "code",
   "execution_count": 10,
   "id": "22de95ad",
   "metadata": {},
   "outputs": [
    {
     "name": "stdout",
     "output_type": "stream",
     "text": [
      "(512, 512)\n",
      "(512, 512)\n"
     ]
    }
   ],
   "source": [
    "test_img = np.load(images[100])\n",
    "print(test_img.shape)\n",
    "test_lab = np.load(labels[100])\n",
    "print(test_lab.shape)\n"
   ]
  },
  {
   "cell_type": "markdown",
   "id": "325bbedb",
   "metadata": {},
   "source": [
    "## Define Image and Label ID for data generator\n",
    "\n",
    "Here the \"test train split\" will need to be replaced so we have the whole patient in one or the other\"\n"
   ]
  },
  {
   "cell_type": "code",
   "execution_count": 30,
   "id": "6251de22",
   "metadata": {},
   "outputs": [],
   "source": [
    "#d = {}\n",
    "#for i in images:\n",
    "#    if i not in d:\n",
    "#        d[i] = len(d)\n",
    "\n",
    "#labels_mapping = list(map(d.get, images))\n",
    "#print(labels_mapping)\n",
    "\n",
    "#labels = {images[i]:labels_mapping[i] for i in range(len(images))}"
   ]
  },
  {
   "cell_type": "markdown",
   "id": "68495280",
   "metadata": {},
   "source": [
    "Image separation for entire patient in training or validation - use with single set of images\n"
   ]
  },
  {
   "cell_type": "code",
   "execution_count": 12,
   "id": "dbf10728",
   "metadata": {},
   "outputs": [],
   "source": [
    "#from sklearn.model_selection import train_test_split\n",
    "\n",
    "\n",
    "#id_list = []   \n",
    "#for i in range(len(images)):\n",
    "#    image_name = images[i]\n",
    "#    unique_id =  image_name[0:8]\n",
    "#    id_list.append(unique_id)\n",
    "\n",
    "#unique_ids = list(set(id_list))\n",
    "#train, val = train_test_split(unique_ids, train_size = 0.8)\n",
    "\n",
    "#train_list = [image for image in images if image[0:8] in train]\n",
    "#val_list = [image for image in images if image[0:8] in val] \n",
    "\n",
    "#partition = {'train':train_list, 'validation':val_list}"
   ]
  },
  {
   "cell_type": "markdown",
   "id": "cac6d568",
   "metadata": {},
   "source": [
    "## Use for crossfold validation:"
   ]
  },
  {
   "cell_type": "code",
   "execution_count": 49,
   "id": "dcc3248c",
   "metadata": {},
   "outputs": [],
   "source": [
    "d = {}\n",
    "for i in images:\n",
    "    if i not in d:\n",
    "        d[i] = len(d)\n",
    "\n",
    "labels_mapping = list(map(d.get, images))\n",
    "#print(labels_mapping)\n",
    "\n",
    "labels = {images[i]:labels_mapping[i] for i in range(len(images))}"
   ]
  },
  {
   "cell_type": "code",
   "execution_count": 11,
   "id": "f6984d9c",
   "metadata": {},
   "outputs": [],
   "source": [
    "train_sets = ['MA_', 'KU_', \"EM_\"]\n",
    "val_sets = [\"UB_\"]\n",
    "\n",
    "train_list = []\n",
    "for i in range(len(images)):\n",
    "    if any(phrase in images[i] for phrase in train_sets):\n",
    "        train_list.append(images[i])\n"
   ]
  },
  {
   "cell_type": "code",
   "execution_count": 12,
   "id": "69b5ee6a",
   "metadata": {},
   "outputs": [
    {
     "name": "stdout",
     "output_type": "stream",
     "text": [
      "C:\\Users\\UAB\\Kidney-Segmentation-Jupyter\\data\\\\KU_101934_1_96_R_13_M.npy\n"
     ]
    }
   ],
   "source": [
    "print(train_list[100])"
   ]
  },
  {
   "cell_type": "code",
   "execution_count": 13,
   "id": "14b766a5",
   "metadata": {},
   "outputs": [],
   "source": [
    "val_list = [] \n",
    "for i in range(len(images)):\n",
    "    if any(phrase in images[i] for phrase in val_sets):\n",
    "        val_list.append(images[i])\n"
   ]
  },
  {
   "cell_type": "code",
   "execution_count": 14,
   "id": "68ef4983",
   "metadata": {},
   "outputs": [
    {
     "name": "stdout",
     "output_type": "stream",
     "text": [
      "C:\\Users\\UAB\\data\\UAB\\data\\\\UB_419258_0_11_L_9_M.npy\n"
     ]
    }
   ],
   "source": [
    "print(val_list[100])"
   ]
  },
  {
   "cell_type": "code",
   "execution_count": 15,
   "id": "975fa011",
   "metadata": {},
   "outputs": [
    {
     "name": "stdout",
     "output_type": "stream",
     "text": [
      "66273\n",
      "1081\n"
     ]
    }
   ],
   "source": [
    "partition = {'train':train_list, 'validation':val_list}\n",
    "print(len(train_list))\n",
    "print(len(val_list))"
   ]
  },
  {
   "cell_type": "markdown",
   "id": "421286ae",
   "metadata": {},
   "source": [
    "Create our data generators "
   ]
  },
  {
   "cell_type": "code",
   "execution_count": 16,
   "id": "46b84ee7",
   "metadata": {},
   "outputs": [],
   "source": [
    "params = {'dim': (512,512),\n",
    "          'batch_size': 32,\n",
    "          'n_classes': 2,\n",
    "          'n_channels': 1,\n",
    "          'shuffle': True}\n",
    "training_generator = DataGenerator(partition['train'], labels, **params)\n",
    "validation_generator = DataGenerator(partition['validation'], labels, **params)"
   ]
  },
  {
   "cell_type": "code",
   "execution_count": 18,
   "id": "ec9cbe50",
   "metadata": {
    "scrolled": true
   },
   "outputs": [
    {
     "name": "stdout",
     "output_type": "stream",
     "text": [
      "(32, 512, 512, 1) (32, 512, 512, 2)\n"
     ]
    }
   ],
   "source": [
    "X,y = training_generator[8]\n",
    "print(X.shape, y.shape)"
   ]
  },
  {
   "cell_type": "markdown",
   "id": "173ff990",
   "metadata": {},
   "source": [
    "## View output"
   ]
  },
  {
   "cell_type": "code",
   "execution_count": 19,
   "id": "d45b529d",
   "metadata": {},
   "outputs": [
    {
     "name": "stdout",
     "output_type": "stream",
     "text": [
      "(512, 512) 96.0 0.0\n"
     ]
    },
    {
     "data": {
      "text/plain": [
       "<matplotlib.image.AxesImage at 0x25163595310>"
      ]
     },
     "execution_count": 19,
     "metadata": {},
     "output_type": "execute_result"
    },
    {
     "data": {
      "image/png": "[encoded data removed]",
      "text/plain": [
       "<Figure size 640x480 with 1 Axes>"
      ]
     },
     "metadata": {},
     "output_type": "display_data"
    }
   ],
   "source": [
    "X_batch = X[20,:,:,:]\n",
    "X_batch.shape\n",
    "X_img = X_batch[:,:,0]\n",
    "print(X_img.shape, X_img.max(), X_img.min())\n",
    "\n",
    "import matplotlib.pyplot as plt\n",
    "%matplotlib inline\n",
    "plt.imshow(X_img, cmap=\"gray\")"
   ]
  },
  {
   "cell_type": "code",
   "execution_count": 20,
   "id": "a93acd97",
   "metadata": {},
   "outputs": [
    {
     "name": "stdout",
     "output_type": "stream",
     "text": [
      "(512, 512) 1.0 0.0\n"
     ]
    },
    {
     "data": {
      "text/plain": [
       "<Figure size 640x480 with 0 Axes>"
      ]
     },
     "metadata": {},
     "output_type": "display_data"
    },
    {
     "data": {
      "image/png": "[encoded data removed]",
      "text/plain": [
       "<Figure size 640x480 with 2 Axes>"
      ]
     },
     "metadata": {},
     "output_type": "display_data"
    }
   ],
   "source": [
    "y_batch = y[20,:,:,:]\n",
    "y_batch.shape\n",
    "y_img_0 = y_batch[:,:,0]\n",
    "y_img_1 = y_batch[:,:,1]\n",
    "print(y_img_0.shape, y_img_0.max(), y_img_0.min())\n",
    "\n",
    "\n",
    "plt.figure()\n",
    "f, axarr = plt.subplots(1,2)\n",
    "axarr[0].imshow(y_img_0, cmap=\"gray\")\n",
    "axarr[0].title.set_text('First Axis')\n",
    "axarr[1].imshow(y_img_1, cmap='gray')\n",
    "axarr[1].title.set_text('Second Axis')"
   ]
  },
  {
   "cell_type": "code",
   "execution_count": 97,
   "id": "dc64dfef",
   "metadata": {},
   "outputs": [
    {
     "name": "stdout",
     "output_type": "stream",
     "text": [
      "(32, 512, 512, 1)\n",
      "(32, 512, 512, 2)\n"
     ]
    }
   ],
   "source": [
    "X1, y1 = training_generator[20]\n",
    "print(X1.shape)\n",
    "print(y1.shape)"
   ]
  },
  {
   "cell_type": "code",
   "execution_count": 98,
   "id": "73c38a92",
   "metadata": {},
   "outputs": [],
   "source": [
    "#params = {'dim': (512,512),\n",
    "         # 'batch_size': 30,\n",
    "         # 'n_classes': 2,\n",
    "        #  'n_channels': 1,\n",
    "        #  'shuffle': True}\n",
    "#training_generator_2 = DataGenerator(partition['train'], labels, **params)\n",
    "#validation_generator_2 = DataGenerator(partition['validation'], labels, **params)"
   ]
  },
  {
   "cell_type": "code",
   "execution_count": 21,
   "id": "84ce4c11",
   "metadata": {},
   "outputs": [],
   "source": [
    "model = custom_unet(input_shape=(512,512,1), num_classes=2)\n",
    "#model.summary()"
   ]
  },
  {
   "cell_type": "code",
   "execution_count": 22,
   "id": "2f604f0b",
   "metadata": {},
   "outputs": [],
   "source": [
    "# define the checkpoint\n",
    "from keras.callbacks import ModelCheckpoint\n",
    "filepath = \"UNET_MA_KU_EM_train_UB_val.h5\"\n",
    "checkpoint = ModelCheckpoint(filepath, monitor='loss', verbose=1, save_best_only=True, mode='min')\n",
    "callbacks_list = [checkpoint]"
   ]
  },
  {
   "cell_type": "code",
   "execution_count": 23,
   "id": "6c38ba48",
   "metadata": {},
   "outputs": [],
   "source": [
    "model.compile(\n",
    "  optimizer=tf.keras.optimizers.Adam(learning_rate=3e-4),\n",
    "  loss=jaccard_distance,\n",
    "  metrics=[dice_coef])"
   ]
  },
  {
   "cell_type": "code",
   "execution_count": 24,
   "id": "81680cd8",
   "metadata": {},
   "outputs": [
    {
     "name": "stdout",
     "output_type": "stream",
     "text": [
      "Epoch 1/10\n",
      "2071/2071 [==============================] - 762s 362ms/step - loss: 0.1736 - dice_coef: 0.9134 - val_loss: 0.0148 - val_dice_coef: 0.9925\n",
      "Epoch 2/10\n",
      "2071/2071 [==============================] - 758s 366ms/step - loss: 0.0109 - dice_coef: 0.9945 - val_loss: 0.0103 - val_dice_coef: 0.9948\n",
      "Epoch 3/10\n",
      "2071/2071 [==============================] - 766s 370ms/step - loss: 0.0057 - dice_coef: 0.9971 - val_loss: 0.0101 - val_dice_coef: 0.9949\n",
      "Epoch 4/10\n",
      "2071/2071 [==============================] - 764s 369ms/step - loss: 0.0045 - dice_coef: 0.9977 - val_loss: 0.0085 - val_dice_coef: 0.9957\n",
      "Epoch 5/10\n",
      "2071/2071 [==============================] - 763s 368ms/step - loss: 0.0039 - dice_coef: 0.9980 - val_loss: 0.0111 - val_dice_coef: 0.9943\n",
      "Epoch 6/10\n",
      "2071/2071 [==============================] - 762s 367ms/step - loss: 0.0036 - dice_coef: 0.9982 - val_loss: 0.0092 - val_dice_coef: 0.9953\n",
      "Epoch 7/10\n",
      "2071/2071 [==============================] - 761s 367ms/step - loss: 0.0033 - dice_coef: 0.9983 - val_loss: 0.0081 - val_dice_coef: 0.9959\n",
      "Epoch 8/10\n",
      "2071/2071 [==============================] - 761s 367ms/step - loss: 0.0031 - dice_coef: 0.9984 - val_loss: 0.0091 - val_dice_coef: 0.9953\n",
      "Epoch 9/10\n",
      "2071/2071 [==============================] - 761s 367ms/step - loss: 0.0030 - dice_coef: 0.9985 - val_loss: 0.0079 - val_dice_coef: 0.9960\n",
      "Epoch 10/10\n",
      "2071/2071 [==============================] - 762s 368ms/step - loss: 0.0028 - dice_coef: 0.9986 - val_loss: 0.0081 - val_dice_coef: 0.9958\n"
     ]
    }
   ],
   "source": [
    "# Train model on dataset\n",
    "history = model.fit(training_generator, epochs = 10,\n",
    "                    validation_data = validation_generator,\n",
    "                    use_multiprocessing=False,\n",
    "                    workers=6, batch_size = 32)"
   ]
  },
  {
   "cell_type": "code",
   "execution_count": 103,
   "id": "f63e7e21",
   "metadata": {},
   "outputs": [
    {
     "data": {
      "image/png": "[encoded data removed]",
      "text/plain": [
       "<Figure size 640x480 with 1 Axes>"
      ]
     },
     "metadata": {},
     "output_type": "display_data"
    }
   ],
   "source": [
    "%matplotlib inline\n",
    "plt.plot(range(len(history.history['loss'])), history.history['loss'], '-') #TODO: plot the training loss learning curve\n",
    "plt.plot(range(len(history.history['val_loss'])), history.history['val_loss'], '-') #TODO: plot the validation loss learning curve\n",
    "plt.xlabel('epoch')\n",
    "plt.xlabel('Jaccard loss')\n",
    "\n",
    "plt.show()"
   ]
  },
  {
   "cell_type": "code",
   "execution_count": 104,
   "id": "b50acca1",
   "metadata": {},
   "outputs": [
    {
     "data": {
      "text/plain": [
       "Text(0.5, 0, 'Dice coefficient')"
      ]
     },
     "execution_count": 104,
     "metadata": {},
     "output_type": "execute_result"
    },
    {
     "data": {
      "image/png": "[encoded data removed]",
      "text/plain": [
       "<Figure size 640x480 with 1 Axes>"
      ]
     },
     "metadata": {},
     "output_type": "display_data"
    }
   ],
   "source": [
    "plt.plot(range(len(history.history['dice_coef'])), history.history['dice_coef'], '-') #TODO: plot the training dice_coef learning curve\n",
    "\n",
    "plt.plot(range(len(history.history['val_dice_coef'])), history.history['val_dice_coef'], '-') #TODO: plot the validation dice_coef learning curve\n",
    "plt.xlabel('epoch')\n",
    "plt.xlabel('Dice coefficient')"
   ]
  },
  {
   "cell_type": "code",
   "execution_count": 105,
   "id": "41168688",
   "metadata": {},
   "outputs": [],
   "source": [
    "from keras.models import Sequential, load_model\n",
    "model.save( \"UNET_MA_KU_UB_train_EM_val.h5\")    "
   ]
  },
  {
   "cell_type": "code",
   "execution_count": null,
   "id": "50c44dc6",
   "metadata": {},
   "outputs": [],
   "source": []
  }
 ],
 "metadata": {
  "kernelspec": {
   "display_name": "TF23",
   "language": "python",
   "name": "tf23"
  },
  "language_info": {
   "codemirror_mode": {
    "name": "ipython",
    "version": 3
   },
   "file_extension": ".py",
   "mimetype": "text/x-python",
   "name": "python",
   "nbconvert_exporter": "python",
   "pygments_lexer": "ipython3",
   "version": "3.8.5"
  }
 },
 "nbformat": 4,
 "nbformat_minor": 5
}
