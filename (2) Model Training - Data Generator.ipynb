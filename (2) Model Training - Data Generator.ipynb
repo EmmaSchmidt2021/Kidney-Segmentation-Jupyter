{
 "cells": [
  {
   "cell_type": "markdown",
   "id": "df9f41aa",
   "metadata": {},
   "source": [
    "# This code will train the model and save weights  using a data generator"
   ]
  },
  {
   "cell_type": "markdown",
   "id": "af1d7deb",
   "metadata": {},
   "source": [
    "First Import libraries"
   ]
  },
  {
   "cell_type": "code",
   "execution_count": 2,
   "id": "ead55dba",
   "metadata": {},
   "outputs": [],
   "source": [
    "import os\n",
    "import numpy as np\n",
    "import keras\n",
    "import tensorflow\n",
    "from sklearn.model_selection import train_test_split\n",
    "import nibabel as nib\n",
    "import tensorflow as tf\n",
    "from tensorflow.python.keras.utils.data_utils import Sequence\n",
    "from keras.utils import np_utils\n",
    "from tensorflow.keras.utils import to_categorical\n",
    "import matplotlib.pyplot as plt\n",
    "from skimage import measure\n",
    "from skimage.transform import resize\n",
    "from keras_unet.metrics import dice_coef\n",
    "from keras_unet.models import custom_unet\n",
    "from keras_unet.losses import jaccard_distance\n",
    "from sklearn.model_selection import train_test_split\n",
    "from PIL import Image\n",
    "from PIL import ImageOps\n",
    "import fnmatch\n",
    "import nibabel as nib\n",
    "import shutil"
   ]
  },
  {
   "cell_type": "markdown",
   "id": "4479fed1",
   "metadata": {},
   "source": [
    "Define our Data Generator and other functions to be used later"
   ]
  },
  {
   "cell_type": "code",
   "execution_count": 15,
   "id": "5130d9f6",
   "metadata": {},
   "outputs": [],
   "source": [
    "class DataGenerator(tensorflow.keras.utils.Sequence):\n",
    "    'Generates data for Keras'\n",
    "    def __init__(self, list_IDs, labels, batch_size=12, dim=(512,512), n_channels=1,\n",
    "                 n_classes=2, shuffle=True):\n",
    "        'Initialization'\n",
    "        self.dim = dim\n",
    "        self.batch_size = batch_size\n",
    "        self.labels = labels\n",
    "        self.list_IDs = list_IDs\n",
    "        self.n_channels = n_channels\n",
    "        self.n_classes = n_classes\n",
    "        self.shuffle = shuffle\n",
    "        self.on_epoch_end()\n",
    "\n",
    "    def __len__(self):\n",
    "        'Denotes the number of batches per epoch'\n",
    "        return int(np.floor(len(self.list_IDs) / self.batch_size))\n",
    "    #we have rounded the number of total options (list_IDs)/batch size \n",
    "    #to get an integer for the length\n",
    "\n",
    "    def __getitem__(self, index):\n",
    "        'Generate one batch of data'\n",
    "        # Generate indexes of the batch\n",
    "        indexes = self.indexes[index*self.batch_size:(index+1)*self.batch_size]\n",
    "        print(\"indexes are as follows:\"+str(indexes))\n",
    "        #index*batch_size:index+1*batch size - block off a section the size of batchsize\n",
    "\n",
    "        # Find list of IDs\n",
    "        list_IDs_temp = [self.list_IDs[k] for k in indexes]\n",
    "        print(\"list IDs are as follows:\"+str(list_IDs_temp))\n",
    "        \n",
    "        \n",
    "        \n",
    "\n",
    "        # Generate data\n",
    "        X, y = self.__data_generation(list_IDs_temp)\n",
    "\n",
    "        return X, y\n",
    "\n",
    "    def on_epoch_end(self):\n",
    "        'Updates indexes after each epoch'\n",
    "        self.indexes = np.arange(len(self.list_IDs))\n",
    "        if self.shuffle == True:\n",
    "            np.random.shuffle(self.indexes)\n",
    "\n",
    "    def __data_generation(self, list_IDs_temp):\n",
    "        'Generates data containing batch_size samples' # X : (n_samples, *dim, n_channels)\n",
    "        # Initialization\n",
    "        X = np.empty((self.batch_size, *self.dim, self.n_channels))\n",
    "        # X shape should be (12,(512,512,1),1)\n",
    "        y = np.empty((self.batch_size, *self.dim))\n",
    "        # y shape should be (12,(512,512,1),1)\n",
    "\n",
    "        # Generate data\n",
    "        for i, ID in enumerate(list_IDs_temp):\n",
    "            # Store sample\n",
    "            #X[i,] = np.load('data/' + ID + '.npy')\n",
    "            \n",
    "            im_f_name = 'data\\\\' + ID\n",
    "            lbl_f_name = im_f_name.replace('M.npy', 'K.npy')\n",
    "            \n",
    "            im = np.load(im_f_name)\n",
    "            lbl = np.load(lbl_f_name)\n",
    "            \n",
    "            X[i, ...,0] = im[..., 0]\n",
    "            y[i, ...] = lbl[..., 0]\n",
    "            # Store class\n",
    "            #y[i,] = np.load(self.labels[ID])\n",
    "            #y[i] = self.labels[ID]\n",
    "            #print(y.shape)\n",
    "\n",
    "        return X, to_categorical(y, num_classes=self.n_classes)\n",
    "\n"
   ]
  },
  {
   "cell_type": "code",
   "execution_count": 11,
   "id": "5bd16faa",
   "metadata": {},
   "outputs": [],
   "source": [
    "test_image = np.load(r\"C:\\Users\\UAB\\Kidney-Segmentation-Jupyter\\data\\101934_1_96_L_20_M.npy\")\n",
    "test_label = np.load(r\"C:\\Users\\UAB\\Kidney-Segmentation-Jupyter\\data\\101934_1_96_L_20_K.npy\")"
   ]
  },
  {
   "cell_type": "code",
   "execution_count": 12,
   "id": "10b7bac9",
   "metadata": {},
   "outputs": [
    {
     "data": {
      "text/plain": [
       "(512, 512, 1)"
      ]
     },
     "execution_count": 12,
     "metadata": {},
     "output_type": "execute_result"
    }
   ],
   "source": [
    "test_image.shape"
   ]
  },
  {
   "cell_type": "code",
   "execution_count": 14,
   "id": "40d3a9fb",
   "metadata": {},
   "outputs": [
    {
     "data": {
      "text/plain": [
       "1"
      ]
     },
     "execution_count": 14,
     "metadata": {},
     "output_type": "execute_result"
    }
   ],
   "source": [
    "test_label.shape\n",
    "test_label.max()"
   ]
  },
  {
   "cell_type": "code",
   "execution_count": 4,
   "id": "bbce0c39",
   "metadata": {},
   "outputs": [],
   "source": [
    "def gather_set(data_path, phrase):\n",
    "    set_of = []\n",
    "    path = data_path + '\\\\'\n",
    "    for f in os.listdir(data_path):\n",
    "      if phrase in f:\n",
    "        set_of.append(f)\n",
    "      else:\n",
    "        continue\n",
    "    #set_of = np.array(set_of)\n",
    "\n",
    "    indices = np.array(range(len(set_of))) # we will use this in the next step.\n",
    "\n",
    "    return set_of"
   ]
  },
  {
   "cell_type": "markdown",
   "id": "7cbe24c3",
   "metadata": {},
   "source": [
    "Define the paths where images and segmentations are located. Gather into groups and arrange into a dictionary that can be split up for training, testing, and validation for the model"
   ]
  },
  {
   "cell_type": "code",
   "execution_count": 5,
   "id": "a5640bb7",
   "metadata": {},
   "outputs": [
    {
     "name": "stdout",
     "output_type": "stream",
     "text": [
      "['101934_1_96_L_0_M.npy', '101934_1_96_L_10_M.npy'] ['101934_1_96_L_0_K.npy', '101934_1_96_L_10_K.npy']\n"
     ]
    }
   ],
   "source": [
    "data_path = r\"C:\\Users\\UAB\\Kidney-Segmentation-Jupyter\\data\\\\\"\n",
    "\n",
    "images = gather_set(data_path, '_M.')\n",
    "labels = gather_set(data_path, '_K')\n",
    "print(images[0:2], labels[0:2])\n"
   ]
  },
  {
   "cell_type": "code",
   "execution_count": 6,
   "id": "22de95ad",
   "metadata": {},
   "outputs": [
    {
     "name": "stdout",
     "output_type": "stream",
     "text": [
      "(512, 512, 1)\n",
      "(512, 512, 1)\n"
     ]
    }
   ],
   "source": [
    "test_img = np.load(data_path + images[1])\n",
    "print(test_img.shape)\n",
    "test_lab = np.load(data_path + labels[1])\n",
    "print(test_lab.shape)\n"
   ]
  },
  {
   "cell_type": "code",
   "execution_count": 7,
   "id": "6251de22",
   "metadata": {},
   "outputs": [],
   "source": [
    "d = {}\n",
    "for i in images:\n",
    "    if i not in d:\n",
    "        d[i] = len(d)\n",
    "\n",
    "labels_mapping = list(map(d.get, images))\n",
    "#print(labels_mapping)\n",
    "\n",
    "labels = {images[i]:labels_mapping[i] for i in range(len(images))}"
   ]
  },
  {
   "cell_type": "code",
   "execution_count": 8,
   "id": "06c6602c",
   "metadata": {},
   "outputs": [],
   "source": [
    "from sklearn.model_selection import train_test_split\n",
    "train, val = train_test_split(list(labels.keys()),train_size = 0.8)\n",
    "partition = {'train':train, 'validation':val}\n",
    "\n",
    "#print(partition)\n",
    "#print(labels)"
   ]
  },
  {
   "cell_type": "markdown",
   "id": "421286ae",
   "metadata": {},
   "source": [
    "Create our data generators "
   ]
  },
  {
   "cell_type": "code",
   "execution_count": 18,
   "id": "deef1ed7",
   "metadata": {},
   "outputs": [],
   "source": [
    "params = {'dim': (512,512),\n",
    "          'batch_size': 12,\n",
    "          'n_classes': 2,\n",
    "          'n_channels': 1,\n",
    "          'shuffle': True}\n",
    "training_generator = DataGenerator(partition['train'], labels, **params)\n",
    "validation_generator = DataGenerator(partition['validation'], labels, **params)"
   ]
  },
  {
   "cell_type": "code",
   "execution_count": 19,
   "id": "e1a809f2",
   "metadata": {},
   "outputs": [
    {
     "name": "stdout",
     "output_type": "stream",
     "text": [
      "indexes are as follows:[161 215 169 221  85 124 219 104 188 109 116 168]\n",
      "list IDs are as follows:['101934_1_96_L_57_M.npy', '101934_2_96_L_42_M.npy', '101934_1_96_L_4_M.npy', '101934_1_96_R_41_M.npy', '101934_2_96_L_48_M.npy', '101934_2_96_L_20_M.npy', '101934_1_96_R_48_M.npy', '101934_1_96_R_45_M.npy', '101934_1_96_R_83_M.npy', '101934_1_96_R_10_M.npy', '101934_1_96_R_30_M.npy', '101934_2_96_L_87_M.npy']\n"
     ]
    }
   ],
   "source": [
    "X, y = training_generator[0]"
   ]
  },
  {
   "cell_type": "code",
   "execution_count": 23,
   "id": "85d4ef66",
   "metadata": {},
   "outputs": [
    {
     "data": {
      "text/plain": [
       "(12, 512, 512, 2)"
      ]
     },
     "execution_count": 23,
     "metadata": {},
     "output_type": "execute_result"
    }
   ],
   "source": [
    "#X.shape\n",
    "y.shape"
   ]
  },
  {
   "cell_type": "code",
   "execution_count": 25,
   "id": "84ce4c11",
   "metadata": {},
   "outputs": [],
   "source": [
    "model = custom_unet(input_shape=(512,512,1))\n"
   ]
  },
  {
   "cell_type": "code",
   "execution_count": 26,
   "id": "2f604f0b",
   "metadata": {},
   "outputs": [],
   "source": [
    "# define the checkpoint\n",
    "from keras.callbacks import ModelCheckpoint\n",
    "filepath = \"data_gen_test.h5\"\n",
    "checkpoint = ModelCheckpoint(filepath, monitor='loss', verbose=1, save_best_only=True, mode='min')\n",
    "callbacks_list = [checkpoint]"
   ]
  },
  {
   "cell_type": "code",
   "execution_count": 27,
   "id": "6c38ba48",
   "metadata": {},
   "outputs": [],
   "source": [
    "model.compile(\n",
    "  optimizer=tf.keras.optimizers.Adam(learning_rate=3e-4),\n",
    "  loss=jaccard_distance,\n",
    "  metrics=[dice_coef])"
   ]
  },
  {
   "cell_type": "code",
   "execution_count": null,
   "id": "81680cd8",
   "metadata": {},
   "outputs": [
    {
     "name": "stdout",
     "output_type": "stream",
     "text": [
      "indexes are as follows:[161 215 169 221  85 124 219 104 188 109 116 168]\n",
      "list IDs are as follows:['101934_1_96_L_57_M.npy', '101934_2_96_L_42_M.npy', '101934_1_96_L_4_M.npy', '101934_1_96_R_41_M.npy', '101934_2_96_L_48_M.npy', '101934_2_96_L_20_M.npy', '101934_1_96_R_48_M.npy', '101934_1_96_R_45_M.npy', '101934_1_96_R_83_M.npy', '101934_1_96_R_10_M.npy', '101934_1_96_R_30_M.npy', '101934_2_96_L_87_M.npy']\n"
     ]
    }
   ],
   "source": [
    "# Train model on dataset\n",
    "model.fit(training_generator,\n",
    "                    validation_data = validation_generator,\n",
    "                    use_multiprocessing=True,\n",
    "                    workers=6)"
   ]
  },
  {
   "cell_type": "code",
   "execution_count": null,
   "id": "1655cf48",
   "metadata": {},
   "outputs": [],
   "source": [
    "new_list = list(labels.items())\n",
    "print(new_list[189])"
   ]
  },
  {
   "cell_type": "code",
   "execution_count": null,
   "id": "edf9669e",
   "metadata": {},
   "outputs": [],
   "source": [
    "print(new_list[189][0])\n",
    "problem_child = np.load(data_path + '\\\\' +new_list[189][0])"
   ]
  },
  {
   "cell_type": "code",
   "execution_count": null,
   "id": "767c47e4",
   "metadata": {},
   "outputs": [],
   "source": [
    "print(problem_child.shape)"
   ]
  },
  {
   "cell_type": "code",
   "execution_count": null,
   "id": "a882dbd8",
   "metadata": {},
   "outputs": [],
   "source": []
  }
 ],
 "metadata": {
  "kernelspec": {
   "display_name": "TF23",
   "language": "python",
   "name": "tf23"
  },
  "language_info": {
   "codemirror_mode": {
    "name": "ipython",
    "version": 3
   },
   "file_extension": ".py",
   "mimetype": "text/x-python",
   "name": "python",
   "nbconvert_exporter": "python",
   "pygments_lexer": "ipython3",
   "version": "3.8.5"
  }
 },
 "nbformat": 4,
 "nbformat_minor": 5
}
